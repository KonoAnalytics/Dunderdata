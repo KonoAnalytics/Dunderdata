{
 "cells": [
  {
   "cell_type": "markdown",
   "metadata": {},
   "source": [
    "# Tidy Practice\n",
    "\n",
    "### Objectives\n",
    "After this lesson you should be able to...\n",
    "+ Explain what tidy data is\n",
    "+ Spot messy data\n",
    "+ Identify the type of messy data\n",
    "+ Transform any messy dataset into a tidy data set\n",
    "+ Transform any messy dataset into one ready for machine learning\n",
    "+ Know the difference between tidy data and data prepared for machine learning\n",
    "+ Use the reshaping functions/methods: **`melt, stack, unstack, pivot, pivot_table`**\n",
    "+ Know the primary purpose of **`melt, stack, unstack, pivot, pivot_table`**\n",
    "+ Go back and forth between multiple levels of grouped data\n",
    "+ Handle missing values in a variety of ways\n",
    "+ Use the **`str`** accessor methods\n",
    "+ Talk to data owners to get more information\n",
    "+ Follow the guideline for creating clean datasets\n",
    "+ Tidy real datasets\n",
    "\n",
    "### Prepare for this lesson by...\n",
    "+ Read Hadley Wickham's paper on [tidy data](http://vita.had.co.nz/papers/tidy-data.pdf)\n",
    "+ Watch Hadley Wickham's talk on [tidy data](https://vimeo.com/33727555)\n",
    "+ Watch Jeff Leek's video on [tidy data](https://www.youtube.com/watch?v=whDilsFoLVY)\n",
    "+ Read the [reshaping pandas documentation page](http://pandas.pydata.org/pandas-docs/stable/reshaping.html)\n",
    "+ Read the entire page [working with text data](http://pandas.pydata.org/pandas-docs/stable/text.html)\n",
    "\n",
    "### Introduction\n",
    "The previous notebook focused on one particular type of messy dataset. A dataset where the column names are actually values and not variables. This was illustrated with the simple dataset of counts of fruits. **`stack`** or **`melt`** will quickly tidy these basic datasets, but often is the case that datasets are much more manipulation to make them tidy."
   ]
  },
  {
   "cell_type": "code",
   "execution_count": 2,
   "metadata": {
    "collapsed": true
   },
   "outputs": [],
   "source": [
    "import pandas as pd\n",
    "import numpy as np"
   ]
  },
  {
   "cell_type": "code",
   "execution_count": 3,
   "metadata": {
    "collapsed": false
   },
   "outputs": [
    {
     "data": {
      "text/html": [
       "<div>\n",
       "<table border=\"1\" class=\"dataframe\">\n",
       "  <thead>\n",
       "    <tr style=\"text-align: right;\">\n",
       "      <th></th>\n",
       "      <th>Apple</th>\n",
       "      <th>Orange</th>\n",
       "      <th>Banana</th>\n",
       "    </tr>\n",
       "  </thead>\n",
       "  <tbody>\n",
       "    <tr>\n",
       "      <th>Ted</th>\n",
       "      <td>12</td>\n",
       "      <td>10</td>\n",
       "      <td>40</td>\n",
       "    </tr>\n",
       "    <tr>\n",
       "      <th>Penelope</th>\n",
       "      <td>9</td>\n",
       "      <td>7</td>\n",
       "      <td>12</td>\n",
       "    </tr>\n",
       "    <tr>\n",
       "      <th>Niko</th>\n",
       "      <td>0</td>\n",
       "      <td>14</td>\n",
       "      <td>190</td>\n",
       "    </tr>\n",
       "  </tbody>\n",
       "</table>\n",
       "</div>"
      ],
      "text/plain": [
       "          Apple  Orange  Banana\n",
       "Ted          12      10      40\n",
       "Penelope      9       7      12\n",
       "Niko          0      14     190"
      ]
     },
     "execution_count": 3,
     "metadata": {},
     "output_type": "execute_result"
    }
   ],
   "source": [
    "# looks so nice and clean!\n",
    "df = pd.DataFrame(data=[[12, 10, 40], [9, 7, 12], [0, 14, 190]], \n",
    "                  columns=['Apple', 'Orange', 'Banana'],\n",
    "                  index=['Ted', 'Penelope', 'Niko'])\n",
    "df"
   ]
  },
  {
   "cell_type": "markdown",
   "metadata": {},
   "source": [
    "### Most Common Messy Data Problems\n",
    "Again, we will rely upon Hadley's paper to describe the most common problems that appear in messy datasets. We will tackle all of these and a few more.\n",
    "+ Column headers are values, not variable names.\n",
    "+ Multiple variables are stored in one column.\n",
    "+ Variables are stored in both rows and columns.\n",
    "+ Multiple types of observational units are stored in the same table.\n",
    "+ A single observational unit is stored in multiple tables"
   ]
  },
  {
   "cell_type": "markdown",
   "metadata": {},
   "source": [
    "# Multiple variables are stored in one column\n",
    "A tidy data set needs values of a single variable stored in one column. There are a few flavors of this type.\n",
    "\n",
    "### Column names are values in the column\n",
    "Column names will appear directly as values in a single column and the value of these variables will be in another column.\n",
    "\n",
    "Notice below how the **`Value`** column has both numeric and string data types and the **`Info`** column isn't a variable at all but column names."
   ]
  },
  {
   "cell_type": "code",
   "execution_count": 4,
   "metadata": {
    "collapsed": false
   },
   "outputs": [
    {
     "data": {
      "text/html": [
       "<div>\n",
       "<table border=\"1\" class=\"dataframe\">\n",
       "  <thead>\n",
       "    <tr style=\"text-align: right;\">\n",
       "      <th></th>\n",
       "      <th>Name</th>\n",
       "      <th>Info</th>\n",
       "      <th>Value</th>\n",
       "    </tr>\n",
       "  </thead>\n",
       "  <tbody>\n",
       "    <tr>\n",
       "      <th>0</th>\n",
       "      <td>Ted</td>\n",
       "      <td>Age</td>\n",
       "      <td>10</td>\n",
       "    </tr>\n",
       "    <tr>\n",
       "      <th>1</th>\n",
       "      <td>Penelope</td>\n",
       "      <td>Age</td>\n",
       "      <td>15</td>\n",
       "    </tr>\n",
       "    <tr>\n",
       "      <th>2</th>\n",
       "      <td>Niko</td>\n",
       "      <td>Age</td>\n",
       "      <td>20</td>\n",
       "    </tr>\n",
       "    <tr>\n",
       "      <th>3</th>\n",
       "      <td>Ted</td>\n",
       "      <td>Salary</td>\n",
       "      <td>3</td>\n",
       "    </tr>\n",
       "    <tr>\n",
       "      <th>4</th>\n",
       "      <td>Penelope</td>\n",
       "      <td>Salary</td>\n",
       "      <td>4</td>\n",
       "    </tr>\n",
       "    <tr>\n",
       "      <th>5</th>\n",
       "      <td>Niko</td>\n",
       "      <td>Salary</td>\n",
       "      <td>5</td>\n",
       "    </tr>\n",
       "    <tr>\n",
       "      <th>6</th>\n",
       "      <td>Ted</td>\n",
       "      <td>Hair Color</td>\n",
       "      <td>Brown</td>\n",
       "    </tr>\n",
       "    <tr>\n",
       "      <th>7</th>\n",
       "      <td>Penelope</td>\n",
       "      <td>Hair Color</td>\n",
       "      <td>Pink</td>\n",
       "    </tr>\n",
       "    <tr>\n",
       "      <th>8</th>\n",
       "      <td>Niko</td>\n",
       "      <td>Hair Color</td>\n",
       "      <td>Red</td>\n",
       "    </tr>\n",
       "  </tbody>\n",
       "</table>\n",
       "</div>"
      ],
      "text/plain": [
       "       Name        Info  Value\n",
       "0       Ted         Age     10\n",
       "1  Penelope         Age     15\n",
       "2      Niko         Age     20\n",
       "3       Ted      Salary      3\n",
       "4  Penelope      Salary      4\n",
       "5      Niko      Salary      5\n",
       "6       Ted  Hair Color  Brown\n",
       "7  Penelope  Hair Color   Pink\n",
       "8      Niko  Hair Color    Red"
      ]
     },
     "execution_count": 4,
     "metadata": {},
     "output_type": "execute_result"
    }
   ],
   "source": [
    "df = pd.DataFrame(data={'Name': ['Ted', 'Penelope', 'Niko'] * 3,\n",
    "                        'Info': ['Age'] * 3 + ['Salary'] * 3 + ['Hair Color'] * 3, \n",
    "                        'Value': [10, 15, 20, 3, 4, 5, 'Brown', 'Pink','Red']},\n",
    "                 columns=['Name', 'Info', 'Value'])\n",
    "df"
   ]
  },
  {
   "cell_type": "markdown",
   "metadata": {},
   "source": [
    "### The fix\n",
    "This dataset is 'overly stacked', so pivoting it (which normally creates a messy dataset) will make it tidy. Both **`pivot`** and **`unstack`** will make this work."
   ]
  },
  {
   "cell_type": "code",
   "execution_count": 5,
   "metadata": {
    "collapsed": false
   },
   "outputs": [
    {
     "data": {
      "text/html": [
       "<div>\n",
       "<table border=\"1\" class=\"dataframe\">\n",
       "  <thead>\n",
       "    <tr style=\"text-align: right;\">\n",
       "      <th>Info</th>\n",
       "      <th>Age</th>\n",
       "      <th>Hair Color</th>\n",
       "      <th>Salary</th>\n",
       "    </tr>\n",
       "    <tr>\n",
       "      <th>Name</th>\n",
       "      <th></th>\n",
       "      <th></th>\n",
       "      <th></th>\n",
       "    </tr>\n",
       "  </thead>\n",
       "  <tbody>\n",
       "    <tr>\n",
       "      <th>Niko</th>\n",
       "      <td>20</td>\n",
       "      <td>Red</td>\n",
       "      <td>5</td>\n",
       "    </tr>\n",
       "    <tr>\n",
       "      <th>Penelope</th>\n",
       "      <td>15</td>\n",
       "      <td>Pink</td>\n",
       "      <td>4</td>\n",
       "    </tr>\n",
       "    <tr>\n",
       "      <th>Ted</th>\n",
       "      <td>10</td>\n",
       "      <td>Brown</td>\n",
       "      <td>3</td>\n",
       "    </tr>\n",
       "  </tbody>\n",
       "</table>\n",
       "</div>"
      ],
      "text/plain": [
       "Info     Age Hair Color Salary\n",
       "Name                          \n",
       "Niko      20        Red      5\n",
       "Penelope  15       Pink      4\n",
       "Ted       10      Brown      3"
      ]
     },
     "execution_count": 5,
     "metadata": {},
     "output_type": "execute_result"
    }
   ],
   "source": [
    "df.pivot(index='Name', columns='Info', values='Value')"
   ]
  },
  {
   "cell_type": "code",
   "execution_count": 10,
   "metadata": {
    "collapsed": false
   },
   "outputs": [
    {
     "data": {
      "text/html": [
       "<div>\n",
       "<table border=\"1\" class=\"dataframe\">\n",
       "  <thead>\n",
       "    <tr>\n",
       "      <th></th>\n",
       "      <th colspan=\"3\" halign=\"left\">Value</th>\n",
       "    </tr>\n",
       "    <tr>\n",
       "      <th>Info</th>\n",
       "      <th>Age</th>\n",
       "      <th>Hair Color</th>\n",
       "      <th>Salary</th>\n",
       "    </tr>\n",
       "    <tr>\n",
       "      <th>Name</th>\n",
       "      <th></th>\n",
       "      <th></th>\n",
       "      <th></th>\n",
       "    </tr>\n",
       "  </thead>\n",
       "  <tbody>\n",
       "    <tr>\n",
       "      <th>Niko</th>\n",
       "      <td>20</td>\n",
       "      <td>Red</td>\n",
       "      <td>5</td>\n",
       "    </tr>\n",
       "    <tr>\n",
       "      <th>Penelope</th>\n",
       "      <td>15</td>\n",
       "      <td>Pink</td>\n",
       "      <td>4</td>\n",
       "    </tr>\n",
       "    <tr>\n",
       "      <th>Ted</th>\n",
       "      <td>10</td>\n",
       "      <td>Brown</td>\n",
       "      <td>3</td>\n",
       "    </tr>\n",
       "  </tbody>\n",
       "</table>\n",
       "</div>"
      ],
      "text/plain": [
       "         Value                  \n",
       "Info       Age Hair Color Salary\n",
       "Name                            \n",
       "Niko        20        Red      5\n",
       "Penelope    15       Pink      4\n",
       "Ted         10      Brown      3"
      ]
     },
     "execution_count": 10,
     "metadata": {},
     "output_type": "execute_result"
    }
   ],
   "source": [
    "# can also use unstack\n",
    "df.set_index(['Name', 'Info']).unstack()"
   ]
  },
  {
   "cell_type": "code",
   "execution_count": 36,
   "metadata": {
    "collapsed": false
   },
   "outputs": [
    {
     "data": {
      "text/html": [
       "<div>\n",
       "<table border=\"1\" class=\"dataframe\">\n",
       "  <thead>\n",
       "    <tr style=\"text-align: right;\">\n",
       "      <th></th>\n",
       "      <th>Age</th>\n",
       "      <th>Hair Color</th>\n",
       "      <th>Salary</th>\n",
       "    </tr>\n",
       "  </thead>\n",
       "  <tbody>\n",
       "    <tr>\n",
       "      <th>Niko</th>\n",
       "      <td>20</td>\n",
       "      <td>Red</td>\n",
       "      <td>5</td>\n",
       "    </tr>\n",
       "    <tr>\n",
       "      <th>Penelope</th>\n",
       "      <td>15</td>\n",
       "      <td>Pink</td>\n",
       "      <td>4</td>\n",
       "    </tr>\n",
       "    <tr>\n",
       "      <th>Ted</th>\n",
       "      <td>10</td>\n",
       "      <td>Brown</td>\n",
       "      <td>3</td>\n",
       "    </tr>\n",
       "  </tbody>\n",
       "</table>\n",
       "</div>"
      ],
      "text/plain": [
       "         Age Hair Color Salary\n",
       "Niko      20        Red      5\n",
       "Penelope  15       Pink      4\n",
       "Ted       10      Brown      3"
      ]
     },
     "execution_count": 36,
     "metadata": {},
     "output_type": "execute_result"
    }
   ],
   "source": [
    "# lots of extra nusaince names: Value, Info, Name still remain\n",
    "# squeeze forces the one column dataframe to be a Series so unstack doesn't create a multi-index\n",
    "# rename_axis removes 'Info' and 'Name' level names\n",
    "df.set_index(['Name', 'Info'])\\\n",
    "  .squeeze()\\\n",
    "  .rename_axis([None, None])\\\n",
    "  .unstack()"
   ]
  },
  {
   "cell_type": "markdown",
   "metadata": {},
   "source": [
    "### Two or more values are stored in the same cell\n",
    "Two or more values (of the same variable or different) variable can be stored in the same cell in a DataFrame. You will need to extract the desired quantities. These values will usually be strings. \n",
    "\n",
    "### Using the `str` accessor to extract values\n",
    "pandas provides a `str` accessor with a couple dozen methods, each with the ability to extract different pieces of information from these strings. "
   ]
  },
  {
   "cell_type": "code",
   "execution_count": 77,
   "metadata": {
    "collapsed": false
   },
   "outputs": [
    {
     "data": {
      "text/html": [
       "<div>\n",
       "<table border=\"1\" class=\"dataframe\">\n",
       "  <thead>\n",
       "    <tr style=\"text-align: right;\">\n",
       "      <th></th>\n",
       "      <th>City</th>\n",
       "      <th>Geolocation</th>\n",
       "    </tr>\n",
       "  </thead>\n",
       "  <tbody>\n",
       "    <tr>\n",
       "      <th>0</th>\n",
       "      <td>Houston</td>\n",
       "      <td>(29.7604° N, 95.3698° W)</td>\n",
       "    </tr>\n",
       "    <tr>\n",
       "      <th>1</th>\n",
       "      <td>Dallas</td>\n",
       "      <td>32.7767° N, 96.7970° W</td>\n",
       "    </tr>\n",
       "    <tr>\n",
       "      <th>2</th>\n",
       "      <td>Austin</td>\n",
       "      <td>30.2672° N, 97.7431° W</td>\n",
       "    </tr>\n",
       "  </tbody>\n",
       "</table>\n",
       "</div>"
      ],
      "text/plain": [
       "      City               Geolocation\n",
       "0  Houston  (29.7604° N, 95.3698° W)\n",
       "1   Dallas    32.7767° N, 96.7970° W\n",
       "2   Austin    30.2672° N, 97.7431° W"
      ]
     },
     "execution_count": 77,
     "metadata": {},
     "output_type": "execute_result"
    }
   ],
   "source": [
    "df = pd.DataFrame({'City':['Houston', 'Dallas', 'Austin'], \n",
    "                   'Geolocation':['(29.7604° N, 95.3698° W)', '32.7767° N, 96.7970° W', '30.2672° N, 97.7431° W']})\n",
    "df"
   ]
  },
  {
   "cell_type": "markdown",
   "metadata": {},
   "source": [
    "**`str`** is available only to Series objects. Most of methods are self explanatory. Let's see several examples on the **`City`** column"
   ]
  },
  {
   "cell_type": "code",
   "execution_count": 81,
   "metadata": {
    "collapsed": false
   },
   "outputs": [
    {
     "data": {
      "text/plain": [
       "0    7\n",
       "1    6\n",
       "2    6\n",
       "Name: City, dtype: int64"
      ]
     },
     "execution_count": 81,
     "metadata": {},
     "output_type": "execute_result"
    }
   ],
   "source": [
    "# get the length of each value\n",
    "df.City.str.len()"
   ]
  },
  {
   "cell_type": "code",
   "execution_count": 88,
   "metadata": {
    "collapsed": false
   },
   "outputs": [
    {
     "data": {
      "text/plain": [
       "0    HOUSTON\n",
       "1     DALLAS\n",
       "2     AUSTIN\n",
       "Name: City, dtype: object"
      ]
     },
     "execution_count": 88,
     "metadata": {},
     "output_type": "execute_result"
    }
   ],
   "source": [
    "# make all uppercase\n",
    "df.City.str.upper()"
   ]
  },
  {
   "cell_type": "code",
   "execution_count": 89,
   "metadata": {
    "collapsed": false
   },
   "outputs": [
    {
     "data": {
      "text/plain": [
       "0    Houston\n",
       "1     Dallas\n",
       "2     Austin\n",
       "Name: City, dtype: object"
      ]
     },
     "execution_count": 89,
     "metadata": {},
     "output_type": "execute_result"
    }
   ],
   "source": [
    "# make title case after uppercase\n",
    "df.City.str.upper().str.title()"
   ]
  },
  {
   "cell_type": "code",
   "execution_count": 91,
   "metadata": {
    "collapsed": false
   },
   "outputs": [
    {
     "data": {
      "text/plain": [
       "0    s\n",
       "1    l\n",
       "2    t\n",
       "Name: City, dtype: object"
      ]
     },
     "execution_count": 91,
     "metadata": {},
     "output_type": "execute_result"
    }
   ],
   "source": [
    "# get the 4th character\n",
    "df.City.str.get(3)"
   ]
  },
  {
   "cell_type": "code",
   "execution_count": 94,
   "metadata": {
    "collapsed": false
   },
   "outputs": [
    {
     "data": {
      "text/html": [
       "<div>\n",
       "<table border=\"1\" class=\"dataframe\">\n",
       "  <thead>\n",
       "    <tr style=\"text-align: right;\">\n",
       "      <th></th>\n",
       "      <th>0</th>\n",
       "      <th>1</th>\n",
       "    </tr>\n",
       "  </thead>\n",
       "  <tbody>\n",
       "    <tr>\n",
       "      <th>0</th>\n",
       "      <td>Hou</td>\n",
       "      <td>ton</td>\n",
       "    </tr>\n",
       "    <tr>\n",
       "      <th>1</th>\n",
       "      <td>Dalla</td>\n",
       "      <td></td>\n",
       "    </tr>\n",
       "    <tr>\n",
       "      <th>2</th>\n",
       "      <td>Au</td>\n",
       "      <td>tin</td>\n",
       "    </tr>\n",
       "  </tbody>\n",
       "</table>\n",
       "</div>"
      ],
      "text/plain": [
       "       0    1\n",
       "0    Hou  ton\n",
       "1  Dalla     \n",
       "2     Au  tin"
      ]
     },
     "execution_count": 94,
     "metadata": {},
     "output_type": "execute_result"
    }
   ],
   "source": [
    "# split strings by a letter and expand each split into its own column\n",
    "df.City.str.split('s', expand=True)"
   ]
  },
  {
   "cell_type": "markdown",
   "metadata": {},
   "source": [
    "### Extracting coordinates\n",
    "The **`Geolocation`** column has quite a lot of information packed into it. We will parse it into 4 separate variables\n",
    "+ latitude \n",
    "+ latitude direction\n",
    "+ longitude\n",
    "+ longitude direction"
   ]
  },
  {
   "cell_type": "code",
   "execution_count": 95,
   "metadata": {
    "collapsed": false
   },
   "outputs": [
    {
     "data": {
      "text/plain": [
       "0    29.7604° N, 95.3698° W\n",
       "1    32.7767° N, 96.7970° W\n",
       "2    30.2672° N, 97.7431° W\n",
       "Name: Geolocation, dtype: object"
      ]
     },
     "execution_count": 95,
     "metadata": {},
     "output_type": "execute_result"
    }
   ],
   "source": [
    "# strip off parentheses from ends\n",
    "df.Geolocation.str.strip('()')"
   ]
  },
  {
   "cell_type": "code",
   "execution_count": 116,
   "metadata": {
    "collapsed": false
   },
   "outputs": [
    {
     "data": {
      "text/html": [
       "<div>\n",
       "<table border=\"1\" class=\"dataframe\">\n",
       "  <thead>\n",
       "    <tr style=\"text-align: right;\">\n",
       "      <th></th>\n",
       "      <th>0</th>\n",
       "      <th>1</th>\n",
       "    </tr>\n",
       "  </thead>\n",
       "  <tbody>\n",
       "    <tr>\n",
       "      <th>0</th>\n",
       "      <td>29.7604° N</td>\n",
       "      <td>95.3698° W</td>\n",
       "    </tr>\n",
       "    <tr>\n",
       "      <th>1</th>\n",
       "      <td>32.7767° N</td>\n",
       "      <td>96.7970° W</td>\n",
       "    </tr>\n",
       "    <tr>\n",
       "      <th>2</th>\n",
       "      <td>30.2672° N</td>\n",
       "      <td>97.7431° W</td>\n",
       "    </tr>\n",
       "  </tbody>\n",
       "</table>\n",
       "</div>"
      ],
      "text/plain": [
       "            0            1\n",
       "0  29.7604° N   95.3698° W\n",
       "1  32.7767° N   96.7970° W\n",
       "2  30.2672° N   97.7431° W"
      ]
     },
     "execution_count": 116,
     "metadata": {},
     "output_type": "execute_result"
    }
   ],
   "source": [
    "# split on a comma\n",
    "geo_split = df.Geolocation.str.strip('()')\\\n",
    "              .str.split(',', expand=True)\n",
    "geo_split"
   ]
  },
  {
   "cell_type": "code",
   "execution_count": 141,
   "metadata": {
    "collapsed": false
   },
   "outputs": [],
   "source": [
    "lat = geo_split[0].str.split(' ', expand=True)\n",
    "long = geo_split[1].str.split(' ', expand=True)"
   ]
  },
  {
   "cell_type": "code",
   "execution_count": 142,
   "metadata": {
    "collapsed": false
   },
   "outputs": [
    {
     "data": {
      "text/html": [
       "<div>\n",
       "<table border=\"1\" class=\"dataframe\">\n",
       "  <thead>\n",
       "    <tr style=\"text-align: right;\">\n",
       "      <th></th>\n",
       "      <th>0</th>\n",
       "      <th>1</th>\n",
       "    </tr>\n",
       "  </thead>\n",
       "  <tbody>\n",
       "    <tr>\n",
       "      <th>0</th>\n",
       "      <td>29.7604°</td>\n",
       "      <td>N</td>\n",
       "    </tr>\n",
       "    <tr>\n",
       "      <th>1</th>\n",
       "      <td>32.7767°</td>\n",
       "      <td>N</td>\n",
       "    </tr>\n",
       "    <tr>\n",
       "      <th>2</th>\n",
       "      <td>30.2672°</td>\n",
       "      <td>N</td>\n",
       "    </tr>\n",
       "  </tbody>\n",
       "</table>\n",
       "</div>"
      ],
      "text/plain": [
       "          0  1\n",
       "0  29.7604°  N\n",
       "1  32.7767°  N\n",
       "2  30.2672°  N"
      ]
     },
     "execution_count": 142,
     "metadata": {},
     "output_type": "execute_result"
    }
   ],
   "source": [
    "lat"
   ]
  },
  {
   "cell_type": "code",
   "execution_count": 143,
   "metadata": {
    "collapsed": false
   },
   "outputs": [
    {
     "data": {
      "text/html": [
       "<div>\n",
       "<table border=\"1\" class=\"dataframe\">\n",
       "  <thead>\n",
       "    <tr style=\"text-align: right;\">\n",
       "      <th></th>\n",
       "      <th>latitude</th>\n",
       "      <th>latitude direction</th>\n",
       "    </tr>\n",
       "  </thead>\n",
       "  <tbody>\n",
       "    <tr>\n",
       "      <th>0</th>\n",
       "      <td>29.7604°</td>\n",
       "      <td>N</td>\n",
       "    </tr>\n",
       "    <tr>\n",
       "      <th>1</th>\n",
       "      <td>32.7767°</td>\n",
       "      <td>N</td>\n",
       "    </tr>\n",
       "    <tr>\n",
       "      <th>2</th>\n",
       "      <td>30.2672°</td>\n",
       "      <td>N</td>\n",
       "    </tr>\n",
       "  </tbody>\n",
       "</table>\n",
       "</div>"
      ],
      "text/plain": [
       "   latitude latitude direction\n",
       "0  29.7604°                  N\n",
       "1  32.7767°                  N\n",
       "2  30.2672°                  N"
      ]
     },
     "execution_count": 143,
     "metadata": {},
     "output_type": "execute_result"
    }
   ],
   "source": [
    "# give meaningful columns\n",
    "lat.columns = ['latitude', 'latitude direction']\n",
    "lat"
   ]
  },
  {
   "cell_type": "code",
   "execution_count": 144,
   "metadata": {
    "collapsed": false
   },
   "outputs": [
    {
     "data": {
      "text/html": [
       "<div>\n",
       "<table border=\"1\" class=\"dataframe\">\n",
       "  <thead>\n",
       "    <tr style=\"text-align: right;\">\n",
       "      <th></th>\n",
       "      <th>0</th>\n",
       "      <th>1</th>\n",
       "      <th>2</th>\n",
       "    </tr>\n",
       "  </thead>\n",
       "  <tbody>\n",
       "    <tr>\n",
       "      <th>0</th>\n",
       "      <td></td>\n",
       "      <td>95.3698°</td>\n",
       "      <td>W</td>\n",
       "    </tr>\n",
       "    <tr>\n",
       "      <th>1</th>\n",
       "      <td></td>\n",
       "      <td>96.7970°</td>\n",
       "      <td>W</td>\n",
       "    </tr>\n",
       "    <tr>\n",
       "      <th>2</th>\n",
       "      <td></td>\n",
       "      <td>97.7431°</td>\n",
       "      <td>W</td>\n",
       "    </tr>\n",
       "  </tbody>\n",
       "</table>\n",
       "</div>"
      ],
      "text/plain": [
       "  0         1  2\n",
       "0    95.3698°  W\n",
       "1    96.7970°  W\n",
       "2    97.7431°  W"
      ]
     },
     "execution_count": 144,
     "metadata": {},
     "output_type": "execute_result"
    }
   ],
   "source": [
    "long"
   ]
  },
  {
   "cell_type": "code",
   "execution_count": 145,
   "metadata": {
    "collapsed": false
   },
   "outputs": [
    {
     "data": {
      "text/html": [
       "<div>\n",
       "<table border=\"1\" class=\"dataframe\">\n",
       "  <thead>\n",
       "    <tr style=\"text-align: right;\">\n",
       "      <th></th>\n",
       "      <th>longitude</th>\n",
       "      <th>longitude direction</th>\n",
       "    </tr>\n",
       "  </thead>\n",
       "  <tbody>\n",
       "    <tr>\n",
       "      <th>0</th>\n",
       "      <td>95.3698°</td>\n",
       "      <td>W</td>\n",
       "    </tr>\n",
       "    <tr>\n",
       "      <th>1</th>\n",
       "      <td>96.7970°</td>\n",
       "      <td>W</td>\n",
       "    </tr>\n",
       "    <tr>\n",
       "      <th>2</th>\n",
       "      <td>97.7431°</td>\n",
       "      <td>W</td>\n",
       "    </tr>\n",
       "  </tbody>\n",
       "</table>\n",
       "</div>"
      ],
      "text/plain": [
       "  longitude longitude direction\n",
       "0  95.3698°                   W\n",
       "1  96.7970°                   W\n",
       "2  97.7431°                   W"
      ]
     },
     "execution_count": 145,
     "metadata": {},
     "output_type": "execute_result"
    }
   ],
   "source": [
    "# an extra column. lets drop it\n",
    "long = long.drop(0, axis=1)\n",
    "long.columns = ['longitude', 'longitude direction']\n",
    "long"
   ]
  },
  {
   "cell_type": "code",
   "execution_count": 158,
   "metadata": {
    "collapsed": false
   },
   "outputs": [],
   "source": [
    "# use regex to replace non digit/decimals with nothing\n",
    "long['longitude'] = long.longitude.str.replace('[^0-9.]+', '')\n",
    "lat['latitude'] = lat.latitude.str.replace('[^0-9.]+', '')"
   ]
  },
  {
   "cell_type": "code",
   "execution_count": 159,
   "metadata": {
    "collapsed": false
   },
   "outputs": [
    {
     "data": {
      "text/html": [
       "<div>\n",
       "<table border=\"1\" class=\"dataframe\">\n",
       "  <thead>\n",
       "    <tr style=\"text-align: right;\">\n",
       "      <th></th>\n",
       "      <th>longitude</th>\n",
       "      <th>longitude direction</th>\n",
       "    </tr>\n",
       "  </thead>\n",
       "  <tbody>\n",
       "    <tr>\n",
       "      <th>0</th>\n",
       "      <td>95.3698</td>\n",
       "      <td>W</td>\n",
       "    </tr>\n",
       "    <tr>\n",
       "      <th>1</th>\n",
       "      <td>96.7970</td>\n",
       "      <td>W</td>\n",
       "    </tr>\n",
       "    <tr>\n",
       "      <th>2</th>\n",
       "      <td>97.7431</td>\n",
       "      <td>W</td>\n",
       "    </tr>\n",
       "  </tbody>\n",
       "</table>\n",
       "</div>"
      ],
      "text/plain": [
       "  longitude longitude direction\n",
       "0   95.3698                   W\n",
       "1   96.7970                   W\n",
       "2   97.7431                   W"
      ]
     },
     "execution_count": 159,
     "metadata": {},
     "output_type": "execute_result"
    }
   ],
   "source": [
    "long"
   ]
  },
  {
   "cell_type": "code",
   "execution_count": 160,
   "metadata": {
    "collapsed": false
   },
   "outputs": [
    {
     "data": {
      "text/html": [
       "<div>\n",
       "<table border=\"1\" class=\"dataframe\">\n",
       "  <thead>\n",
       "    <tr style=\"text-align: right;\">\n",
       "      <th></th>\n",
       "      <th>latitude</th>\n",
       "      <th>latitude direction</th>\n",
       "    </tr>\n",
       "  </thead>\n",
       "  <tbody>\n",
       "    <tr>\n",
       "      <th>0</th>\n",
       "      <td>29.7604</td>\n",
       "      <td>N</td>\n",
       "    </tr>\n",
       "    <tr>\n",
       "      <th>1</th>\n",
       "      <td>32.7767</td>\n",
       "      <td>N</td>\n",
       "    </tr>\n",
       "    <tr>\n",
       "      <th>2</th>\n",
       "      <td>30.2672</td>\n",
       "      <td>N</td>\n",
       "    </tr>\n",
       "  </tbody>\n",
       "</table>\n",
       "</div>"
      ],
      "text/plain": [
       "  latitude latitude direction\n",
       "0  29.7604                  N\n",
       "1  32.7767                  N\n",
       "2  30.2672                  N"
      ]
     },
     "execution_count": 160,
     "metadata": {},
     "output_type": "execute_result"
    }
   ],
   "source": [
    "lat"
   ]
  },
  {
   "cell_type": "code",
   "execution_count": 162,
   "metadata": {
    "collapsed": false
   },
   "outputs": [
    {
     "data": {
      "text/plain": [
       "longitude              object\n",
       "longitude direction    object\n",
       "dtype: object"
      ]
     },
     "execution_count": 162,
     "metadata": {},
     "output_type": "execute_result"
    }
   ],
   "source": [
    "# data types are not right. Lets change lat and long to numeric\n",
    "long.dtypes"
   ]
  },
  {
   "cell_type": "code",
   "execution_count": 167,
   "metadata": {
    "collapsed": false
   },
   "outputs": [
    {
     "data": {
      "text/plain": [
       "latitude              float64\n",
       "latitude direction     object\n",
       "dtype: object"
      ]
     },
     "execution_count": 167,
     "metadata": {},
     "output_type": "execute_result"
    }
   ],
   "source": [
    "lat['latitude'] = pd.to_numeric(lat['latitude'])\n",
    "long['longitude'] = pd.to_numeric(long['longitude'])\n",
    "lat.dtypes"
   ]
  },
  {
   "cell_type": "code",
   "execution_count": 172,
   "metadata": {
    "collapsed": false
   },
   "outputs": [
    {
     "data": {
      "text/html": [
       "<div>\n",
       "<table border=\"1\" class=\"dataframe\">\n",
       "  <thead>\n",
       "    <tr style=\"text-align: right;\">\n",
       "      <th></th>\n",
       "      <th>City</th>\n",
       "      <th>latitude</th>\n",
       "      <th>latitude direction</th>\n",
       "      <th>longitude</th>\n",
       "      <th>longitude direction</th>\n",
       "    </tr>\n",
       "  </thead>\n",
       "  <tbody>\n",
       "    <tr>\n",
       "      <th>0</th>\n",
       "      <td>Houston</td>\n",
       "      <td>29.7604</td>\n",
       "      <td>N</td>\n",
       "      <td>95.3698</td>\n",
       "      <td>W</td>\n",
       "    </tr>\n",
       "    <tr>\n",
       "      <th>1</th>\n",
       "      <td>Dallas</td>\n",
       "      <td>32.7767</td>\n",
       "      <td>N</td>\n",
       "      <td>96.7970</td>\n",
       "      <td>W</td>\n",
       "    </tr>\n",
       "    <tr>\n",
       "      <th>2</th>\n",
       "      <td>Austin</td>\n",
       "      <td>30.2672</td>\n",
       "      <td>N</td>\n",
       "      <td>97.7431</td>\n",
       "      <td>W</td>\n",
       "    </tr>\n",
       "  </tbody>\n",
       "</table>\n",
       "</div>"
      ],
      "text/plain": [
       "      City  latitude latitude direction  longitude longitude direction\n",
       "0  Houston   29.7604                  N    95.3698                   W\n",
       "1   Dallas   32.7767                  N    96.7970                   W\n",
       "2   Austin   30.2672                  N    97.7431                   W"
      ]
     },
     "execution_count": 172,
     "metadata": {},
     "output_type": "execute_result"
    }
   ],
   "source": [
    "# concatenate city column from original DataFrame with \n",
    "# two new transformed DataFrames\n",
    "df_final = pd.concat([df['City'], lat, long], axis=1)\n",
    "df_final"
   ]
  },
  {
   "cell_type": "markdown",
   "metadata": {},
   "source": [
    "### Mini Summary of `str`\n",
    "+ `str` is very powerful and works directly with text column data\n",
    "+ `str` only works with Series\n",
    "+ You will have to learn regular expressions to make `str` more useful\n",
    "+ Messy datasets with multiple values in a single cell of data need `str` functionality to tidy them up\n",
    "+ see the **`extract`** method "
   ]
  },
  {
   "cell_type": "markdown",
   "metadata": {},
   "source": [
    "### Variables are stored in both rows and columns\n",
    "A more difficult situation occurs when variables are stored down a column and across the column names. Pivoting and melting may have to be used together to make it tidy. Let's take a look at the example below. \n",
    "\n",
    "The **`Property`** column has names of variables. The years in the columns are all values of variables. There are a few ways to tidy this set."
   ]
  },
  {
   "cell_type": "code",
   "execution_count": 2,
   "metadata": {
    "collapsed": false
   },
   "outputs": [
    {
     "data": {
      "text/html": [
       "<div>\n",
       "<table border=\"1\" class=\"dataframe\">\n",
       "  <thead>\n",
       "    <tr style=\"text-align: right;\">\n",
       "      <th></th>\n",
       "      <th>Group</th>\n",
       "      <th>Property</th>\n",
       "      <th>2012</th>\n",
       "      <th>2013</th>\n",
       "      <th>2014</th>\n",
       "      <th>2015</th>\n",
       "      <th>2016</th>\n",
       "    </tr>\n",
       "  </thead>\n",
       "  <tbody>\n",
       "    <tr>\n",
       "      <th>0</th>\n",
       "      <td>A</td>\n",
       "      <td>Pressure</td>\n",
       "      <td>928</td>\n",
       "      <td>873</td>\n",
       "      <td>814</td>\n",
       "      <td>973</td>\n",
       "      <td>870</td>\n",
       "    </tr>\n",
       "    <tr>\n",
       "      <th>1</th>\n",
       "      <td>A</td>\n",
       "      <td>Temperature</td>\n",
       "      <td>1026</td>\n",
       "      <td>1038</td>\n",
       "      <td>1009</td>\n",
       "      <td>1036</td>\n",
       "      <td>1042</td>\n",
       "    </tr>\n",
       "    <tr>\n",
       "      <th>2</th>\n",
       "      <td>A</td>\n",
       "      <td>Flow</td>\n",
       "      <td>819</td>\n",
       "      <td>806</td>\n",
       "      <td>861</td>\n",
       "      <td>882</td>\n",
       "      <td>856</td>\n",
       "    </tr>\n",
       "    <tr>\n",
       "      <th>3</th>\n",
       "      <td>B</td>\n",
       "      <td>Pressure</td>\n",
       "      <td>817</td>\n",
       "      <td>877</td>\n",
       "      <td>914</td>\n",
       "      <td>806</td>\n",
       "      <td>942</td>\n",
       "    </tr>\n",
       "    <tr>\n",
       "      <th>4</th>\n",
       "      <td>B</td>\n",
       "      <td>Temperature</td>\n",
       "      <td>1008</td>\n",
       "      <td>1041</td>\n",
       "      <td>1009</td>\n",
       "      <td>1002</td>\n",
       "      <td>1013</td>\n",
       "    </tr>\n",
       "    <tr>\n",
       "      <th>5</th>\n",
       "      <td>B</td>\n",
       "      <td>Flow</td>\n",
       "      <td>887</td>\n",
       "      <td>899</td>\n",
       "      <td>837</td>\n",
       "      <td>824</td>\n",
       "      <td>873</td>\n",
       "    </tr>\n",
       "  </tbody>\n",
       "</table>\n",
       "</div>"
      ],
      "text/plain": [
       "  Group     Property  2012  2013  2014  2015  2016\n",
       "0     A     Pressure   928   873   814   973   870\n",
       "1     A  Temperature  1026  1038  1009  1036  1042\n",
       "2     A         Flow   819   806   861   882   856\n",
       "3     B     Pressure   817   877   914   806   942\n",
       "4     B  Temperature  1008  1041  1009  1002  1013\n",
       "5     B         Flow   887   899   837   824   873"
      ]
     },
     "execution_count": 2,
     "metadata": {},
     "output_type": "execute_result"
    }
   ],
   "source": [
    "import pandas as pd\n",
    "import numpy as np\n",
    "df = pd.read_csv('data/temp_flow_pressure.csv')\n",
    "df"
   ]
  },
  {
   "cell_type": "code",
   "execution_count": 3,
   "metadata": {
    "collapsed": false
   },
   "outputs": [
    {
     "data": {
      "text/html": [
       "<div>\n",
       "<table border=\"1\" class=\"dataframe\">\n",
       "  <thead>\n",
       "    <tr style=\"text-align: right;\">\n",
       "      <th></th>\n",
       "      <th>Group</th>\n",
       "      <th>Property</th>\n",
       "      <th>Year</th>\n",
       "      <th>value</th>\n",
       "    </tr>\n",
       "  </thead>\n",
       "  <tbody>\n",
       "    <tr>\n",
       "      <th>0</th>\n",
       "      <td>A</td>\n",
       "      <td>Pressure</td>\n",
       "      <td>2012</td>\n",
       "      <td>928</td>\n",
       "    </tr>\n",
       "    <tr>\n",
       "      <th>1</th>\n",
       "      <td>A</td>\n",
       "      <td>Temperature</td>\n",
       "      <td>2012</td>\n",
       "      <td>1026</td>\n",
       "    </tr>\n",
       "    <tr>\n",
       "      <th>2</th>\n",
       "      <td>A</td>\n",
       "      <td>Flow</td>\n",
       "      <td>2012</td>\n",
       "      <td>819</td>\n",
       "    </tr>\n",
       "    <tr>\n",
       "      <th>3</th>\n",
       "      <td>B</td>\n",
       "      <td>Pressure</td>\n",
       "      <td>2012</td>\n",
       "      <td>817</td>\n",
       "    </tr>\n",
       "    <tr>\n",
       "      <th>4</th>\n",
       "      <td>B</td>\n",
       "      <td>Temperature</td>\n",
       "      <td>2012</td>\n",
       "      <td>1008</td>\n",
       "    </tr>\n",
       "  </tbody>\n",
       "</table>\n",
       "</div>"
      ],
      "text/plain": [
       "  Group     Property  Year  value\n",
       "0     A     Pressure  2012    928\n",
       "1     A  Temperature  2012   1026\n",
       "2     A         Flow  2012    819\n",
       "3     B     Pressure  2012    817\n",
       "4     B  Temperature  2012   1008"
      ]
     },
     "execution_count": 3,
     "metadata": {},
     "output_type": "execute_result"
    }
   ],
   "source": [
    "# melt the years and then pivot the columns\n",
    "df_melt = pd.melt(df, \n",
    "                  id_vars=['Group', 'Property'], \n",
    "                  value_vars=['2012', '2013', '2014', '2015', '2016'],\n",
    "                  var_name='Year')\n",
    "df_melt.head()"
   ]
  },
  {
   "cell_type": "code",
   "execution_count": 4,
   "metadata": {
    "collapsed": false
   },
   "outputs": [
    {
     "data": {
      "text/html": [
       "<div>\n",
       "<table border=\"1\" class=\"dataframe\">\n",
       "  <thead>\n",
       "    <tr style=\"text-align: right;\">\n",
       "      <th></th>\n",
       "      <th>Property</th>\n",
       "      <th>Flow</th>\n",
       "      <th>Pressure</th>\n",
       "      <th>Temperature</th>\n",
       "    </tr>\n",
       "    <tr>\n",
       "      <th>Group</th>\n",
       "      <th>Year</th>\n",
       "      <th></th>\n",
       "      <th></th>\n",
       "      <th></th>\n",
       "    </tr>\n",
       "  </thead>\n",
       "  <tbody>\n",
       "    <tr>\n",
       "      <th rowspan=\"5\" valign=\"top\">A</th>\n",
       "      <th>2012</th>\n",
       "      <td>819</td>\n",
       "      <td>928</td>\n",
       "      <td>1026</td>\n",
       "    </tr>\n",
       "    <tr>\n",
       "      <th>2013</th>\n",
       "      <td>806</td>\n",
       "      <td>873</td>\n",
       "      <td>1038</td>\n",
       "    </tr>\n",
       "    <tr>\n",
       "      <th>2014</th>\n",
       "      <td>861</td>\n",
       "      <td>814</td>\n",
       "      <td>1009</td>\n",
       "    </tr>\n",
       "    <tr>\n",
       "      <th>2015</th>\n",
       "      <td>882</td>\n",
       "      <td>973</td>\n",
       "      <td>1036</td>\n",
       "    </tr>\n",
       "    <tr>\n",
       "      <th>2016</th>\n",
       "      <td>856</td>\n",
       "      <td>870</td>\n",
       "      <td>1042</td>\n",
       "    </tr>\n",
       "    <tr>\n",
       "      <th rowspan=\"5\" valign=\"top\">B</th>\n",
       "      <th>2012</th>\n",
       "      <td>887</td>\n",
       "      <td>817</td>\n",
       "      <td>1008</td>\n",
       "    </tr>\n",
       "    <tr>\n",
       "      <th>2013</th>\n",
       "      <td>899</td>\n",
       "      <td>877</td>\n",
       "      <td>1041</td>\n",
       "    </tr>\n",
       "    <tr>\n",
       "      <th>2014</th>\n",
       "      <td>837</td>\n",
       "      <td>914</td>\n",
       "      <td>1009</td>\n",
       "    </tr>\n",
       "    <tr>\n",
       "      <th>2015</th>\n",
       "      <td>824</td>\n",
       "      <td>806</td>\n",
       "      <td>1002</td>\n",
       "    </tr>\n",
       "    <tr>\n",
       "      <th>2016</th>\n",
       "      <td>873</td>\n",
       "      <td>942</td>\n",
       "      <td>1013</td>\n",
       "    </tr>\n",
       "  </tbody>\n",
       "</table>\n",
       "</div>"
      ],
      "text/plain": [
       "Property    Flow  Pressure  Temperature\n",
       "Group Year                             \n",
       "A     2012   819       928         1026\n",
       "      2013   806       873         1038\n",
       "      2014   861       814         1009\n",
       "      2015   882       973         1036\n",
       "      2016   856       870         1042\n",
       "B     2012   887       817         1008\n",
       "      2013   899       877         1041\n",
       "      2014   837       914         1009\n",
       "      2015   824       806         1002\n",
       "      2016   873       942         1013"
      ]
     },
     "execution_count": 4,
     "metadata": {},
     "output_type": "execute_result"
    }
   ],
   "source": [
    "# you must use pivot_table instead of pivot because\n",
    "# pivot does not allow multiple columns in the index\n",
    "df_tidy = df_melt.pivot_table(index=['Group', 'Year'], columns='Property', values='value')\n",
    "df_tidy"
   ]
  },
  {
   "cell_type": "code",
   "execution_count": 5,
   "metadata": {
    "collapsed": false
   },
   "outputs": [
    {
     "data": {
      "text/html": [
       "<div>\n",
       "<table border=\"1\" class=\"dataframe\">\n",
       "  <thead>\n",
       "    <tr style=\"text-align: right;\">\n",
       "      <th></th>\n",
       "      <th>Group</th>\n",
       "      <th>Year</th>\n",
       "      <th>Flow</th>\n",
       "      <th>Pressure</th>\n",
       "      <th>Temperature</th>\n",
       "    </tr>\n",
       "  </thead>\n",
       "  <tbody>\n",
       "    <tr>\n",
       "      <th>0</th>\n",
       "      <td>A</td>\n",
       "      <td>2012</td>\n",
       "      <td>819</td>\n",
       "      <td>928</td>\n",
       "      <td>1026</td>\n",
       "    </tr>\n",
       "    <tr>\n",
       "      <th>1</th>\n",
       "      <td>A</td>\n",
       "      <td>2013</td>\n",
       "      <td>806</td>\n",
       "      <td>873</td>\n",
       "      <td>1038</td>\n",
       "    </tr>\n",
       "    <tr>\n",
       "      <th>2</th>\n",
       "      <td>A</td>\n",
       "      <td>2014</td>\n",
       "      <td>861</td>\n",
       "      <td>814</td>\n",
       "      <td>1009</td>\n",
       "    </tr>\n",
       "    <tr>\n",
       "      <th>3</th>\n",
       "      <td>A</td>\n",
       "      <td>2015</td>\n",
       "      <td>882</td>\n",
       "      <td>973</td>\n",
       "      <td>1036</td>\n",
       "    </tr>\n",
       "    <tr>\n",
       "      <th>4</th>\n",
       "      <td>A</td>\n",
       "      <td>2016</td>\n",
       "      <td>856</td>\n",
       "      <td>870</td>\n",
       "      <td>1042</td>\n",
       "    </tr>\n",
       "    <tr>\n",
       "      <th>5</th>\n",
       "      <td>B</td>\n",
       "      <td>2012</td>\n",
       "      <td>887</td>\n",
       "      <td>817</td>\n",
       "      <td>1008</td>\n",
       "    </tr>\n",
       "    <tr>\n",
       "      <th>6</th>\n",
       "      <td>B</td>\n",
       "      <td>2013</td>\n",
       "      <td>899</td>\n",
       "      <td>877</td>\n",
       "      <td>1041</td>\n",
       "    </tr>\n",
       "    <tr>\n",
       "      <th>7</th>\n",
       "      <td>B</td>\n",
       "      <td>2014</td>\n",
       "      <td>837</td>\n",
       "      <td>914</td>\n",
       "      <td>1009</td>\n",
       "    </tr>\n",
       "    <tr>\n",
       "      <th>8</th>\n",
       "      <td>B</td>\n",
       "      <td>2015</td>\n",
       "      <td>824</td>\n",
       "      <td>806</td>\n",
       "      <td>1002</td>\n",
       "    </tr>\n",
       "    <tr>\n",
       "      <th>9</th>\n",
       "      <td>B</td>\n",
       "      <td>2016</td>\n",
       "      <td>873</td>\n",
       "      <td>942</td>\n",
       "      <td>1013</td>\n",
       "    </tr>\n",
       "  </tbody>\n",
       "</table>\n",
       "</div>"
      ],
      "text/plain": [
       "  Group  Year  Flow  Pressure  Temperature\n",
       "0     A  2012   819       928         1026\n",
       "1     A  2013   806       873         1038\n",
       "2     A  2014   861       814         1009\n",
       "3     A  2015   882       973         1036\n",
       "4     A  2016   856       870         1042\n",
       "5     B  2012   887       817         1008\n",
       "6     B  2013   899       877         1041\n",
       "7     B  2014   837       914         1009\n",
       "8     B  2015   824       806         1002\n",
       "9     B  2016   873       942         1013"
      ]
     },
     "execution_count": 5,
     "metadata": {},
     "output_type": "execute_result"
    }
   ],
   "source": [
    "# get rid of level name and move out of the index as columns\n",
    "df_tidy.rename_axis(None, axis=1).reset_index()"
   ]
  },
  {
   "cell_type": "code",
   "execution_count": 204,
   "metadata": {
    "collapsed": false
   },
   "outputs": [
    {
     "data": {
      "text/html": [
       "<div>\n",
       "<table border=\"1\" class=\"dataframe\">\n",
       "  <thead>\n",
       "    <tr style=\"text-align: right;\">\n",
       "      <th></th>\n",
       "      <th>Group</th>\n",
       "      <th>Year</th>\n",
       "      <th>Flow</th>\n",
       "      <th>Pressure</th>\n",
       "      <th>Temperature</th>\n",
       "    </tr>\n",
       "  </thead>\n",
       "  <tbody>\n",
       "    <tr>\n",
       "      <th>0</th>\n",
       "      <td>A</td>\n",
       "      <td>2012</td>\n",
       "      <td>819</td>\n",
       "      <td>928</td>\n",
       "      <td>1026</td>\n",
       "    </tr>\n",
       "    <tr>\n",
       "      <th>1</th>\n",
       "      <td>A</td>\n",
       "      <td>2013</td>\n",
       "      <td>806</td>\n",
       "      <td>873</td>\n",
       "      <td>1038</td>\n",
       "    </tr>\n",
       "    <tr>\n",
       "      <th>2</th>\n",
       "      <td>A</td>\n",
       "      <td>2014</td>\n",
       "      <td>861</td>\n",
       "      <td>814</td>\n",
       "      <td>1009</td>\n",
       "    </tr>\n",
       "    <tr>\n",
       "      <th>3</th>\n",
       "      <td>A</td>\n",
       "      <td>2015</td>\n",
       "      <td>882</td>\n",
       "      <td>973</td>\n",
       "      <td>1036</td>\n",
       "    </tr>\n",
       "    <tr>\n",
       "      <th>4</th>\n",
       "      <td>A</td>\n",
       "      <td>2016</td>\n",
       "      <td>856</td>\n",
       "      <td>870</td>\n",
       "      <td>1042</td>\n",
       "    </tr>\n",
       "    <tr>\n",
       "      <th>5</th>\n",
       "      <td>B</td>\n",
       "      <td>2012</td>\n",
       "      <td>887</td>\n",
       "      <td>817</td>\n",
       "      <td>1008</td>\n",
       "    </tr>\n",
       "    <tr>\n",
       "      <th>6</th>\n",
       "      <td>B</td>\n",
       "      <td>2013</td>\n",
       "      <td>899</td>\n",
       "      <td>877</td>\n",
       "      <td>1041</td>\n",
       "    </tr>\n",
       "    <tr>\n",
       "      <th>7</th>\n",
       "      <td>B</td>\n",
       "      <td>2014</td>\n",
       "      <td>837</td>\n",
       "      <td>914</td>\n",
       "      <td>1009</td>\n",
       "    </tr>\n",
       "    <tr>\n",
       "      <th>8</th>\n",
       "      <td>B</td>\n",
       "      <td>2015</td>\n",
       "      <td>824</td>\n",
       "      <td>806</td>\n",
       "      <td>1002</td>\n",
       "    </tr>\n",
       "    <tr>\n",
       "      <th>9</th>\n",
       "      <td>B</td>\n",
       "      <td>2016</td>\n",
       "      <td>873</td>\n",
       "      <td>942</td>\n",
       "      <td>1013</td>\n",
       "    </tr>\n",
       "  </tbody>\n",
       "</table>\n",
       "</div>"
      ],
      "text/plain": [
       "  Group  Year  Flow  Pressure  Temperature\n",
       "0     A  2012   819       928         1026\n",
       "1     A  2013   806       873         1038\n",
       "2     A  2014   861       814         1009\n",
       "3     A  2015   882       973         1036\n",
       "4     A  2016   856       870         1042\n",
       "5     B  2012   887       817         1008\n",
       "6     B  2013   899       877         1041\n",
       "7     B  2014   837       914         1009\n",
       "8     B  2015   824       806         1002\n",
       "9     B  2016   873       942         1013"
      ]
     },
     "execution_count": 204,
     "metadata": {},
     "output_type": "execute_result"
    }
   ],
   "source": [
    "# the transformation is also possible with stack and unstack\n",
    "df.set_index(['Group', 'Property'])\\\n",
    "  .stack()\\\n",
    "  .unstack('Property')\\\n",
    "  .rename_axis(['Group', 'Year'])\\\n",
    "  .rename_axis(None, axis=1)\\\n",
    "  .reset_index()"
   ]
  },
  {
   "cell_type": "markdown",
   "metadata": {},
   "source": [
    "# Case Study: My Brothers Keeper Data\n",
    "[data.gov](www.data.gov) is an excellent place to find interesting and messy (occasionally tidy) datasets. This case study will examine the [My Brothers Keeper](https://catalog.data.gov/dataset/my-brothers-keeper-key-statistical-indicators-on-boys-and-men-of-color) dataset.\n",
    "\n",
    "'MBK is an interagency effort to improve measurably the expected educational and life outcomes for and address the persistent opportunity gaps faced by boys and young men of color'"
   ]
  },
  {
   "cell_type": "code",
   "execution_count": 623,
   "metadata": {
    "collapsed": false
   },
   "outputs": [
    {
     "data": {
      "text/html": [
       "<div>\n",
       "<table border=\"1\" class=\"dataframe\">\n",
       "  <thead>\n",
       "    <tr style=\"text-align: right;\">\n",
       "      <th></th>\n",
       "      <th>Race/ethnicity</th>\n",
       "      <th>Year</th>\n",
       "      <th>Rate of birth to women ages 18-19</th>\n",
       "      <th>Distribution of male children born to women ages 18-19</th>\n",
       "      <th>Distribution of female children born to women ages 18-19</th>\n",
       "      <th>Rate of birth to women ages 20-24</th>\n",
       "      <th>Distribution of male children born to women ages 20-24</th>\n",
       "      <th>Distribution of female children born to women ages 20-24</th>\n",
       "    </tr>\n",
       "  </thead>\n",
       "  <tbody>\n",
       "    <tr>\n",
       "      <th>0</th>\n",
       "      <td>White, non-Hispanic</td>\n",
       "      <td>2000</td>\n",
       "      <td>57.5</td>\n",
       "      <td>51.5%</td>\n",
       "      <td>48.5%</td>\n",
       "      <td>91.2</td>\n",
       "      <td>51.2%</td>\n",
       "      <td>48.8%</td>\n",
       "    </tr>\n",
       "    <tr>\n",
       "      <th>1</th>\n",
       "      <td>White, non-Hispanic</td>\n",
       "      <td>2001</td>\n",
       "      <td>54.7</td>\n",
       "      <td>51.3%</td>\n",
       "      <td>48.7%</td>\n",
       "      <td>87.0</td>\n",
       "      <td>51.2%</td>\n",
       "      <td>48.8%</td>\n",
       "    </tr>\n",
       "    <tr>\n",
       "      <th>2</th>\n",
       "      <td>White, non-Hispanic</td>\n",
       "      <td>2002</td>\n",
       "      <td>52.0</td>\n",
       "      <td>51.1%</td>\n",
       "      <td>48.9%</td>\n",
       "      <td>84.7</td>\n",
       "      <td>51.4%</td>\n",
       "      <td>48.6%</td>\n",
       "    </tr>\n",
       "    <tr>\n",
       "      <th>3</th>\n",
       "      <td>White, non-Hispanic</td>\n",
       "      <td>2003</td>\n",
       "      <td>50.0</td>\n",
       "      <td>51.4%</td>\n",
       "      <td>48.6%</td>\n",
       "      <td>84.1</td>\n",
       "      <td>51.3%</td>\n",
       "      <td>48.7%</td>\n",
       "    </tr>\n",
       "    <tr>\n",
       "      <th>4</th>\n",
       "      <td>White, non-Hispanic</td>\n",
       "      <td>2004</td>\n",
       "      <td>48.6</td>\n",
       "      <td>51.2%</td>\n",
       "      <td>48.8%</td>\n",
       "      <td>83.0</td>\n",
       "      <td>51.2%</td>\n",
       "      <td>48.8%</td>\n",
       "    </tr>\n",
       "  </tbody>\n",
       "</table>\n",
       "</div>"
      ],
      "text/plain": [
       "       Race/ethnicity   Year  Rate of birth to women ages 18-19  \\\n",
       "0  White, non-Hispanic  2000                               57.5   \n",
       "1  White, non-Hispanic  2001                               54.7   \n",
       "2  White, non-Hispanic  2002                               52.0   \n",
       "3  White, non-Hispanic  2003                               50.0   \n",
       "4  White, non-Hispanic  2004                               48.6   \n",
       "\n",
       "  Distribution of male children born to women ages 18-19  \\\n",
       "0                                              51.5%       \n",
       "1                                              51.3%       \n",
       "2                                              51.1%       \n",
       "3                                              51.4%       \n",
       "4                                              51.2%       \n",
       "\n",
       "  Distribution of female children born to women ages 18-19  \\\n",
       "0                                              48.5%         \n",
       "1                                              48.7%         \n",
       "2                                              48.9%         \n",
       "3                                              48.6%         \n",
       "4                                              48.8%         \n",
       "\n",
       "   Rate of birth to women ages 20-24  \\\n",
       "0                               91.2   \n",
       "1                               87.0   \n",
       "2                               84.7   \n",
       "3                               84.1   \n",
       "4                               83.0   \n",
       "\n",
       "  Distribution of male children born to women ages 20-24  \\\n",
       "0                                              51.2%       \n",
       "1                                              51.2%       \n",
       "2                                              51.4%       \n",
       "3                                              51.3%       \n",
       "4                                              51.2%       \n",
       "\n",
       "  Distribution of female children born to women ages 20-24  \n",
       "0                                              48.8%        \n",
       "1                                              48.8%        \n",
       "2                                              48.6%        \n",
       "3                                              48.7%        \n",
       "4                                              48.8%        "
      ]
     },
     "execution_count": 623,
     "metadata": {},
     "output_type": "execute_result"
    }
   ],
   "source": [
    "df = pd.read_csv('data/my_brothers_keeper.csv')\n",
    "\n",
    "df.head()"
   ]
  },
  {
   "cell_type": "code",
   "execution_count": 624,
   "metadata": {
    "collapsed": false
   },
   "outputs": [
    {
     "name": "stdout",
     "output_type": "stream",
     "text": [
      "<class 'pandas.core.frame.DataFrame'>\n",
      "RangeIndex: 65 entries, 0 to 64\n",
      "Data columns (total 8 columns):\n",
      "Race/ethnicity                                              65 non-null object\n",
      "Year                                                        65 non-null int64\n",
      "Rate of birth to women ages 18-19                           65 non-null float64\n",
      "Distribution of male children born to women ages 18-19      65 non-null object\n",
      "Distribution of female children born to women ages 18-19    65 non-null object\n",
      "Rate of birth to women ages 20-24                           65 non-null float64\n",
      "Distribution of male children born to women ages 20-24      65 non-null object\n",
      "Distribution of female children born to women ages 20-24    65 non-null object\n",
      "dtypes: float64(2), int64(1), object(5)\n",
      "memory usage: 4.1+ KB\n"
     ]
    }
   ],
   "source": [
    "df.info()"
   ]
  },
  {
   "cell_type": "code",
   "execution_count": 625,
   "metadata": {
    "collapsed": false
   },
   "outputs": [
    {
     "data": {
      "text/plain": [
       "(65, 8)"
      ]
     },
     "execution_count": 625,
     "metadata": {},
     "output_type": "execute_result"
    }
   ],
   "source": [
    "df.shape"
   ]
  },
  {
   "cell_type": "markdown",
   "metadata": {},
   "source": [
    "### Extra spaces in the column names\n",
    "When I was first exploring this data set, I attempted to select the first column but got hit with a **`KeyError`** informing me that the column didn't exist. This was odd as I typed the column name in verbatim. But when I examined the columns I noticed an extra space."
   ]
  },
  {
   "cell_type": "code",
   "execution_count": 626,
   "metadata": {
    "collapsed": false
   },
   "outputs": [
    {
     "data": {
      "text/plain": [
       "Index(['Race/ethnicity ', 'Year', 'Rate of birth to women ages 18-19',\n",
       "       'Distribution of male children born to women ages 18-19',\n",
       "       'Distribution of female children born to women ages 18-19',\n",
       "       'Rate of birth to women ages 20-24',\n",
       "       'Distribution of male children born to women ages 20-24',\n",
       "       'Distribution of female children born to women ages 20-24'],\n",
       "      dtype='object')"
      ]
     },
     "execution_count": 626,
     "metadata": {},
     "output_type": "execute_result"
    }
   ],
   "source": [
    "# notice extra space 'Race/ethnicity '\n",
    "df.columns"
   ]
  },
  {
   "cell_type": "markdown",
   "metadata": {},
   "source": [
    "### Strip characters\n",
    "The **`.str`** accessor provides the **`strip`** method which removes from the beginning and end of the string the passed values. The default is to remove empty spaces."
   ]
  },
  {
   "cell_type": "code",
   "execution_count": 627,
   "metadata": {
    "collapsed": false
   },
   "outputs": [
    {
     "data": {
      "text/plain": [
       "Index(['Race/ethnicity', 'Year', 'Rate of birth to women ages 18-19',\n",
       "       'Distribution of male children born to women ages 18-19',\n",
       "       'Distribution of female children born to women ages 18-19',\n",
       "       'Rate of birth to women ages 20-24',\n",
       "       'Distribution of male children born to women ages 20-24',\n",
       "       'Distribution of female children born to women ages 20-24'],\n",
       "      dtype='object')"
      ]
     },
     "execution_count": 627,
     "metadata": {},
     "output_type": "execute_result"
    }
   ],
   "source": [
    "# remove any spaces\n",
    "df.columns = df.columns.str.strip()\n",
    "df.columns"
   ]
  },
  {
   "cell_type": "markdown",
   "metadata": {},
   "source": [
    "### Variables as column names\n",
    "It appears that there are some variables in the column names which violates one of the tidy data principles. Both age and possibly gender are stored in the column names.\n",
    "\n",
    "There are also appears to be two other variables: **`birth rate`** and **`percentage male/female`**.\n",
    "\n",
    "### Split data into two Data Frames\n",
    "Because it appears that both the `Rate` (**`birth_rate`**) columns and the `Distribution`(**`percentage male/female`**) columns need to be melted, we will split them up into two separate Data Frames and combine the results at the end.\n",
    "\n",
    "The Race/ethnicity and Year columns are put into the index to label the rows. This index will be used to join the DataFrames back together later."
   ]
  },
  {
   "cell_type": "code",
   "execution_count": 628,
   "metadata": {
    "collapsed": false
   },
   "outputs": [],
   "source": [
    "# create two new data frames. \n",
    "percent = df.set_index(['Race/ethnicity', 'Year']).filter(like='Distribution')\n",
    "rate = df.set_index(['Race/ethnicity', 'Year']).filter(like='Rate')"
   ]
  },
  {
   "cell_type": "code",
   "execution_count": 629,
   "metadata": {
    "collapsed": false
   },
   "outputs": [
    {
     "data": {
      "text/html": [
       "<div>\n",
       "<table border=\"1\" class=\"dataframe\">\n",
       "  <thead>\n",
       "    <tr style=\"text-align: right;\">\n",
       "      <th></th>\n",
       "      <th></th>\n",
       "      <th>Distribution of male children born to women ages 18-19</th>\n",
       "      <th>Distribution of female children born to women ages 18-19</th>\n",
       "      <th>Distribution of male children born to women ages 20-24</th>\n",
       "      <th>Distribution of female children born to women ages 20-24</th>\n",
       "    </tr>\n",
       "    <tr>\n",
       "      <th>Race/ethnicity</th>\n",
       "      <th>Year</th>\n",
       "      <th></th>\n",
       "      <th></th>\n",
       "      <th></th>\n",
       "      <th></th>\n",
       "    </tr>\n",
       "  </thead>\n",
       "  <tbody>\n",
       "    <tr>\n",
       "      <th rowspan=\"5\" valign=\"top\">White, non-Hispanic</th>\n",
       "      <th>2000</th>\n",
       "      <td>51.5%</td>\n",
       "      <td>48.5%</td>\n",
       "      <td>51.2%</td>\n",
       "      <td>48.8%</td>\n",
       "    </tr>\n",
       "    <tr>\n",
       "      <th>2001</th>\n",
       "      <td>51.3%</td>\n",
       "      <td>48.7%</td>\n",
       "      <td>51.2%</td>\n",
       "      <td>48.8%</td>\n",
       "    </tr>\n",
       "    <tr>\n",
       "      <th>2002</th>\n",
       "      <td>51.1%</td>\n",
       "      <td>48.9%</td>\n",
       "      <td>51.4%</td>\n",
       "      <td>48.6%</td>\n",
       "    </tr>\n",
       "    <tr>\n",
       "      <th>2003</th>\n",
       "      <td>51.4%</td>\n",
       "      <td>48.6%</td>\n",
       "      <td>51.3%</td>\n",
       "      <td>48.7%</td>\n",
       "    </tr>\n",
       "    <tr>\n",
       "      <th>2004</th>\n",
       "      <td>51.2%</td>\n",
       "      <td>48.8%</td>\n",
       "      <td>51.2%</td>\n",
       "      <td>48.8%</td>\n",
       "    </tr>\n",
       "  </tbody>\n",
       "</table>\n",
       "</div>"
      ],
      "text/plain": [
       "                         Distribution of male children born to women ages 18-19  \\\n",
       "Race/ethnicity      Year                                                          \n",
       "White, non-Hispanic 2000                                              51.5%       \n",
       "                    2001                                              51.3%       \n",
       "                    2002                                              51.1%       \n",
       "                    2003                                              51.4%       \n",
       "                    2004                                              51.2%       \n",
       "\n",
       "                         Distribution of female children born to women ages 18-19  \\\n",
       "Race/ethnicity      Year                                                            \n",
       "White, non-Hispanic 2000                                              48.5%         \n",
       "                    2001                                              48.7%         \n",
       "                    2002                                              48.9%         \n",
       "                    2003                                              48.6%         \n",
       "                    2004                                              48.8%         \n",
       "\n",
       "                         Distribution of male children born to women ages 20-24  \\\n",
       "Race/ethnicity      Year                                                          \n",
       "White, non-Hispanic 2000                                              51.2%       \n",
       "                    2001                                              51.2%       \n",
       "                    2002                                              51.4%       \n",
       "                    2003                                              51.3%       \n",
       "                    2004                                              51.2%       \n",
       "\n",
       "                         Distribution of female children born to women ages 20-24  \n",
       "Race/ethnicity      Year                                                           \n",
       "White, non-Hispanic 2000                                              48.8%        \n",
       "                    2001                                              48.8%        \n",
       "                    2002                                              48.6%        \n",
       "                    2003                                              48.7%        \n",
       "                    2004                                              48.8%        "
      ]
     },
     "execution_count": 629,
     "metadata": {},
     "output_type": "execute_result"
    }
   ],
   "source": [
    "percent.head()"
   ]
  },
  {
   "cell_type": "code",
   "execution_count": 630,
   "metadata": {
    "collapsed": false
   },
   "outputs": [
    {
     "data": {
      "text/html": [
       "<div>\n",
       "<table border=\"1\" class=\"dataframe\">\n",
       "  <thead>\n",
       "    <tr style=\"text-align: right;\">\n",
       "      <th></th>\n",
       "      <th></th>\n",
       "      <th>Rate of birth to women ages 18-19</th>\n",
       "      <th>Rate of birth to women ages 20-24</th>\n",
       "    </tr>\n",
       "    <tr>\n",
       "      <th>Race/ethnicity</th>\n",
       "      <th>Year</th>\n",
       "      <th></th>\n",
       "      <th></th>\n",
       "    </tr>\n",
       "  </thead>\n",
       "  <tbody>\n",
       "    <tr>\n",
       "      <th rowspan=\"5\" valign=\"top\">White, non-Hispanic</th>\n",
       "      <th>2000</th>\n",
       "      <td>57.5</td>\n",
       "      <td>91.2</td>\n",
       "    </tr>\n",
       "    <tr>\n",
       "      <th>2001</th>\n",
       "      <td>54.7</td>\n",
       "      <td>87.0</td>\n",
       "    </tr>\n",
       "    <tr>\n",
       "      <th>2002</th>\n",
       "      <td>52.0</td>\n",
       "      <td>84.7</td>\n",
       "    </tr>\n",
       "    <tr>\n",
       "      <th>2003</th>\n",
       "      <td>50.0</td>\n",
       "      <td>84.1</td>\n",
       "    </tr>\n",
       "    <tr>\n",
       "      <th>2004</th>\n",
       "      <td>48.6</td>\n",
       "      <td>83.0</td>\n",
       "    </tr>\n",
       "  </tbody>\n",
       "</table>\n",
       "</div>"
      ],
      "text/plain": [
       "                          Rate of birth to women ages 18-19  \\\n",
       "Race/ethnicity      Year                                      \n",
       "White, non-Hispanic 2000                               57.5   \n",
       "                    2001                               54.7   \n",
       "                    2002                               52.0   \n",
       "                    2003                               50.0   \n",
       "                    2004                               48.6   \n",
       "\n",
       "                          Rate of birth to women ages 20-24  \n",
       "Race/ethnicity      Year                                     \n",
       "White, non-Hispanic 2000                               91.2  \n",
       "                    2001                               87.0  \n",
       "                    2002                               84.7  \n",
       "                    2003                               84.1  \n",
       "                    2004                               83.0  "
      ]
     },
     "execution_count": 630,
     "metadata": {},
     "output_type": "execute_result"
    }
   ],
   "source": [
    "rate.head()"
   ]
  },
  {
   "cell_type": "markdown",
   "metadata": {},
   "source": [
    "### Stack data\n",
    "To get all the percentages in one column we will use the **`stack`** method."
   ]
  },
  {
   "cell_type": "code",
   "execution_count": 631,
   "metadata": {
    "collapsed": false
   },
   "outputs": [],
   "source": [
    "percent_stacked = percent.stack()"
   ]
  },
  {
   "cell_type": "code",
   "execution_count": 632,
   "metadata": {
    "collapsed": false
   },
   "outputs": [
    {
     "data": {
      "text/plain": [
       "Race/ethnicity       Year                                                          \n",
       "White, non-Hispanic  2000  Distribution of male children born to women ages 18-19      51.5%\n",
       "                           Distribution of female children born to women ages 18-19    48.5%\n",
       "                           Distribution of male children born to women ages 20-24      51.2%\n",
       "                           Distribution of female children born to women ages 20-24    48.8%\n",
       "                     2001  Distribution of male children born to women ages 18-19      51.3%\n",
       "                           Distribution of female children born to women ages 18-19    48.7%\n",
       "                           Distribution of male children born to women ages 20-24      51.2%\n",
       "                           Distribution of female children born to women ages 20-24    48.8%\n",
       "                     2002  Distribution of male children born to women ages 18-19      51.1%\n",
       "                           Distribution of female children born to women ages 18-19    48.9%\n",
       "dtype: object"
      ]
     },
     "execution_count": 632,
     "metadata": {},
     "output_type": "execute_result"
    }
   ],
   "source": [
    "percent_stacked.head(10)"
   ]
  },
  {
   "cell_type": "markdown",
   "metadata": {},
   "source": [
    "### Extracting age\n",
    "We can extract from the variables gender and age from the new innermost index level. To do this we will need to take advantage of the **`str`** accessor which is available for both the Index and the Series. Specifically, we will use the **`str.extract`** method to extract the age group.\n",
    "\n",
    "We will use a regular expression to find two numbers followed by a dash followed by two numbers again."
   ]
  },
  {
   "cell_type": "code",
   "execution_count": 633,
   "metadata": {
    "collapsed": false
   },
   "outputs": [
    {
     "data": {
      "text/plain": [
       "Index(['Distribution of male children born to women ages 18-19',\n",
       "       'Distribution of female children born to women ages 18-19',\n",
       "       'Distribution of male children born to women ages 20-24',\n",
       "       'Distribution of female children born to women ages 20-24',\n",
       "       'Distribution of male children born to women ages 18-19',\n",
       "       'Distribution of female children born to women ages 18-19',\n",
       "       'Distribution of male children born to women ages 20-24',\n",
       "       'Distribution of female children born to women ages 20-24',\n",
       "       'Distribution of male children born to women ages 18-19',\n",
       "       'Distribution of female children born to women ages 18-19'],\n",
       "      dtype='object')"
      ]
     },
     "execution_count": 633,
     "metadata": {},
     "output_type": "execute_result"
    }
   ],
   "source": [
    "# get the innermost level\n",
    "percent_levels = percent_stacked.index.get_level_values(-1)\n",
    "\n",
    "percent_levels[:10]"
   ]
  },
  {
   "cell_type": "code",
   "execution_count": 634,
   "metadata": {
    "collapsed": false
   },
   "outputs": [
    {
     "data": {
      "text/plain": [
       "Index(['18-19', '18-19', '20-24', '20-24', '18-19', '18-19', '20-24', '20-24',\n",
       "       '18-19', '18-19'],\n",
       "      dtype='object', name='Age Group')"
      ]
     },
     "execution_count": 634,
     "metadata": {},
     "output_type": "execute_result"
    }
   ],
   "source": [
    "# regex to find age grop\n",
    "age_group = percent_levels.str.extract('(\\d{2}-\\d{2})', expand=False).rename('Age Group')\n",
    "\n",
    "age_group[:10]"
   ]
  },
  {
   "cell_type": "code",
   "execution_count": 635,
   "metadata": {
    "collapsed": false
   },
   "outputs": [
    {
     "data": {
      "text/plain": [
       "Index(['18-19', '18-19', '20-24', '20-24', '18-19', '18-19', '20-24', '20-24',\n",
       "       '18-19', '18-19',\n",
       "       ...\n",
       "       '20-24', '20-24', '18-19', '18-19', '20-24', '20-24', '18-19', '18-19',\n",
       "       '20-24', '20-24'],\n",
       "      dtype='object', length=260)"
      ]
     },
     "execution_count": 635,
     "metadata": {},
     "output_type": "execute_result"
    }
   ],
   "source": [
    "# another way of extracting it, using get item selection syntax\n",
    "percent_stacked.index.get_level_values(-1).str[-5:]"
   ]
  },
  {
   "cell_type": "markdown",
   "metadata": {},
   "source": [
    "### Extracting Gender\n",
    "Gender is extracted similarly using another regular expression. The basics of regular expressions are good to know but its unlikely you'll remember how they work unless you deal with text data frequently. Learn to google for what you need.\n",
    "\n",
    "The gender is the third word so googling for `find third word regex` lead me to [this page](http://stackoverflow.com/questions/23691664/how-to-extract-nth-word-using-regular-expression) which yielded the correct answer."
   ]
  },
  {
   "cell_type": "code",
   "execution_count": 636,
   "metadata": {
    "collapsed": false
   },
   "outputs": [
    {
     "data": {
      "text/plain": [
       "Index(['male', 'female', 'male', 'female', 'male', 'female', 'male', 'female',\n",
       "       'male', 'female',\n",
       "       ...\n",
       "       'male', 'female', 'male', 'female', 'male', 'female', 'male', 'female',\n",
       "       'male', 'female'],\n",
       "      dtype='object', length=260)"
      ]
     },
     "execution_count": 636,
     "metadata": {},
     "output_type": "execute_result"
    }
   ],
   "source": [
    "# complex regex to return 3rd word\n",
    "gender = percent_levels.str.extract('(?:\\S+\\s+){2}(\\S+)', expand=False)\n",
    "\n",
    "gender"
   ]
  },
  {
   "cell_type": "markdown",
   "metadata": {},
   "source": [
    "### Remove old index level\n",
    "The innermost index level is now useless. We have extracted the relevant information - gender and age. We can drop an index level with the **`droplevel`** index method."
   ]
  },
  {
   "cell_type": "code",
   "execution_count": 637,
   "metadata": {
    "collapsed": true
   },
   "outputs": [],
   "source": [
    "percent_stacked.index = percent_stacked.index.droplevel(-1)"
   ]
  },
  {
   "cell_type": "markdown",
   "metadata": {},
   "source": [
    "### Add age group to index\n",
    "The **`rate`** DataFrame also has age so we will append it to the index to make the join possible later."
   ]
  },
  {
   "cell_type": "code",
   "execution_count": 638,
   "metadata": {
    "collapsed": false
   },
   "outputs": [],
   "source": [
    "df_percent = percent_stacked.to_frame('Gender Percentage').set_index(age_group, append=True)"
   ]
  },
  {
   "cell_type": "code",
   "execution_count": 639,
   "metadata": {
    "collapsed": false
   },
   "outputs": [
    {
     "data": {
      "text/html": [
       "<div>\n",
       "<table border=\"1\" class=\"dataframe\">\n",
       "  <thead>\n",
       "    <tr style=\"text-align: right;\">\n",
       "      <th></th>\n",
       "      <th></th>\n",
       "      <th></th>\n",
       "      <th>Gender Percentage</th>\n",
       "    </tr>\n",
       "    <tr>\n",
       "      <th>Race/ethnicity</th>\n",
       "      <th>Year</th>\n",
       "      <th>Age Group</th>\n",
       "      <th></th>\n",
       "    </tr>\n",
       "  </thead>\n",
       "  <tbody>\n",
       "    <tr>\n",
       "      <th rowspan=\"5\" valign=\"top\">White, non-Hispanic</th>\n",
       "      <th rowspan=\"4\" valign=\"top\">2000</th>\n",
       "      <th>18-19</th>\n",
       "      <td>51.5%</td>\n",
       "    </tr>\n",
       "    <tr>\n",
       "      <th>18-19</th>\n",
       "      <td>48.5%</td>\n",
       "    </tr>\n",
       "    <tr>\n",
       "      <th>20-24</th>\n",
       "      <td>51.2%</td>\n",
       "    </tr>\n",
       "    <tr>\n",
       "      <th>20-24</th>\n",
       "      <td>48.8%</td>\n",
       "    </tr>\n",
       "    <tr>\n",
       "      <th>2001</th>\n",
       "      <th>18-19</th>\n",
       "      <td>51.3%</td>\n",
       "    </tr>\n",
       "  </tbody>\n",
       "</table>\n",
       "</div>"
      ],
      "text/plain": [
       "                                   Gender Percentage\n",
       "Race/ethnicity      Year Age Group                  \n",
       "White, non-Hispanic 2000 18-19                 51.5%\n",
       "                         18-19                 48.5%\n",
       "                         20-24                 51.2%\n",
       "                         20-24                 48.8%\n",
       "                    2001 18-19                 51.3%"
      ]
     },
     "execution_count": 639,
     "metadata": {},
     "output_type": "execute_result"
    }
   ],
   "source": [
    "df_percent.head()"
   ]
  },
  {
   "cell_type": "markdown",
   "metadata": {},
   "source": [
    "### Convert percentage to numeric\n",
    "The percentage sign in the Gender Percentage column is preventing the column from becoming a numeric. Lets strip that percentage sign and then convert"
   ]
  },
  {
   "cell_type": "code",
   "execution_count": 640,
   "metadata": {
    "collapsed": false
   },
   "outputs": [],
   "source": [
    "df_percent['Gender Percentage'] = pd.to_numeric(df_percent['Gender Percentage'].str.strip('%'))"
   ]
  },
  {
   "cell_type": "code",
   "execution_count": 641,
   "metadata": {
    "collapsed": false
   },
   "outputs": [
    {
     "name": "stdout",
     "output_type": "stream",
     "text": [
      "<class 'pandas.core.frame.DataFrame'>\n",
      "MultiIndex: 260 entries, (White, non-Hispanic, 2000, 18-19) to (Asian and Pacific Islander, 2012, 20-24)\n",
      "Data columns (total 1 columns):\n",
      "Gender Percentage    260 non-null float64\n",
      "dtypes: float64(1)\n",
      "memory usage: 3.1+ KB\n"
     ]
    }
   ],
   "source": [
    "# confirm numeric\n",
    "df_percent.info()"
   ]
  },
  {
   "cell_type": "markdown",
   "metadata": {},
   "source": [
    "### Add gender column\n",
    "Since gender is specific to this **`percent`** DataFrame we will add as a column."
   ]
  },
  {
   "cell_type": "code",
   "execution_count": 642,
   "metadata": {
    "collapsed": false
   },
   "outputs": [],
   "source": [
    "df_percent['Gender'] = gender"
   ]
  },
  {
   "cell_type": "code",
   "execution_count": 643,
   "metadata": {
    "collapsed": false
   },
   "outputs": [
    {
     "data": {
      "text/html": [
       "<div>\n",
       "<table border=\"1\" class=\"dataframe\">\n",
       "  <thead>\n",
       "    <tr style=\"text-align: right;\">\n",
       "      <th></th>\n",
       "      <th></th>\n",
       "      <th></th>\n",
       "      <th>Gender Percentage</th>\n",
       "      <th>Gender</th>\n",
       "    </tr>\n",
       "    <tr>\n",
       "      <th>Race/ethnicity</th>\n",
       "      <th>Year</th>\n",
       "      <th>Age Group</th>\n",
       "      <th></th>\n",
       "      <th></th>\n",
       "    </tr>\n",
       "  </thead>\n",
       "  <tbody>\n",
       "    <tr>\n",
       "      <th rowspan=\"10\" valign=\"top\">White, non-Hispanic</th>\n",
       "      <th rowspan=\"4\" valign=\"top\">2000</th>\n",
       "      <th>18-19</th>\n",
       "      <td>51.5</td>\n",
       "      <td>male</td>\n",
       "    </tr>\n",
       "    <tr>\n",
       "      <th>18-19</th>\n",
       "      <td>48.5</td>\n",
       "      <td>female</td>\n",
       "    </tr>\n",
       "    <tr>\n",
       "      <th>20-24</th>\n",
       "      <td>51.2</td>\n",
       "      <td>male</td>\n",
       "    </tr>\n",
       "    <tr>\n",
       "      <th>20-24</th>\n",
       "      <td>48.8</td>\n",
       "      <td>female</td>\n",
       "    </tr>\n",
       "    <tr>\n",
       "      <th rowspan=\"4\" valign=\"top\">2001</th>\n",
       "      <th>18-19</th>\n",
       "      <td>51.3</td>\n",
       "      <td>male</td>\n",
       "    </tr>\n",
       "    <tr>\n",
       "      <th>18-19</th>\n",
       "      <td>48.7</td>\n",
       "      <td>female</td>\n",
       "    </tr>\n",
       "    <tr>\n",
       "      <th>20-24</th>\n",
       "      <td>51.2</td>\n",
       "      <td>male</td>\n",
       "    </tr>\n",
       "    <tr>\n",
       "      <th>20-24</th>\n",
       "      <td>48.8</td>\n",
       "      <td>female</td>\n",
       "    </tr>\n",
       "    <tr>\n",
       "      <th rowspan=\"2\" valign=\"top\">2002</th>\n",
       "      <th>18-19</th>\n",
       "      <td>51.1</td>\n",
       "      <td>male</td>\n",
       "    </tr>\n",
       "    <tr>\n",
       "      <th>18-19</th>\n",
       "      <td>48.9</td>\n",
       "      <td>female</td>\n",
       "    </tr>\n",
       "  </tbody>\n",
       "</table>\n",
       "</div>"
      ],
      "text/plain": [
       "                                    Gender Percentage  Gender\n",
       "Race/ethnicity      Year Age Group                           \n",
       "White, non-Hispanic 2000 18-19                   51.5    male\n",
       "                         18-19                   48.5  female\n",
       "                         20-24                   51.2    male\n",
       "                         20-24                   48.8  female\n",
       "                    2001 18-19                   51.3    male\n",
       "                         18-19                   48.7  female\n",
       "                         20-24                   51.2    male\n",
       "                         20-24                   48.8  female\n",
       "                    2002 18-19                   51.1    male\n",
       "                         18-19                   48.9  female"
      ]
     },
     "execution_count": 643,
     "metadata": {},
     "output_type": "execute_result"
    }
   ],
   "source": [
    "df_percent.head(10)"
   ]
  },
  {
   "cell_type": "markdown",
   "metadata": {},
   "source": [
    "### Take similar approach with `rate`\n",
    "We can take a similar approach with the **`rate`** DataFrame which is outputted again below. Only the age group and not gender are found in the column names."
   ]
  },
  {
   "cell_type": "code",
   "execution_count": 644,
   "metadata": {
    "collapsed": false
   },
   "outputs": [
    {
     "data": {
      "text/html": [
       "<div>\n",
       "<table border=\"1\" class=\"dataframe\">\n",
       "  <thead>\n",
       "    <tr style=\"text-align: right;\">\n",
       "      <th></th>\n",
       "      <th></th>\n",
       "      <th>Rate of birth to women ages 18-19</th>\n",
       "      <th>Rate of birth to women ages 20-24</th>\n",
       "    </tr>\n",
       "    <tr>\n",
       "      <th>Race/ethnicity</th>\n",
       "      <th>Year</th>\n",
       "      <th></th>\n",
       "      <th></th>\n",
       "    </tr>\n",
       "  </thead>\n",
       "  <tbody>\n",
       "    <tr>\n",
       "      <th rowspan=\"5\" valign=\"top\">White, non-Hispanic</th>\n",
       "      <th>2000</th>\n",
       "      <td>57.5</td>\n",
       "      <td>91.2</td>\n",
       "    </tr>\n",
       "    <tr>\n",
       "      <th>2001</th>\n",
       "      <td>54.7</td>\n",
       "      <td>87.0</td>\n",
       "    </tr>\n",
       "    <tr>\n",
       "      <th>2002</th>\n",
       "      <td>52.0</td>\n",
       "      <td>84.7</td>\n",
       "    </tr>\n",
       "    <tr>\n",
       "      <th>2003</th>\n",
       "      <td>50.0</td>\n",
       "      <td>84.1</td>\n",
       "    </tr>\n",
       "    <tr>\n",
       "      <th>2004</th>\n",
       "      <td>48.6</td>\n",
       "      <td>83.0</td>\n",
       "    </tr>\n",
       "  </tbody>\n",
       "</table>\n",
       "</div>"
      ],
      "text/plain": [
       "                          Rate of birth to women ages 18-19  \\\n",
       "Race/ethnicity      Year                                      \n",
       "White, non-Hispanic 2000                               57.5   \n",
       "                    2001                               54.7   \n",
       "                    2002                               52.0   \n",
       "                    2003                               50.0   \n",
       "                    2004                               48.6   \n",
       "\n",
       "                          Rate of birth to women ages 20-24  \n",
       "Race/ethnicity      Year                                     \n",
       "White, non-Hispanic 2000                               91.2  \n",
       "                    2001                               87.0  \n",
       "                    2002                               84.7  \n",
       "                    2003                               84.1  \n",
       "                    2004                               83.0  "
      ]
     },
     "execution_count": 644,
     "metadata": {},
     "output_type": "execute_result"
    }
   ],
   "source": [
    "rate.head()"
   ]
  },
  {
   "cell_type": "markdown",
   "metadata": {},
   "source": [
    "### stack and get new index levels"
   ]
  },
  {
   "cell_type": "code",
   "execution_count": 645,
   "metadata": {
    "collapsed": false
   },
   "outputs": [],
   "source": [
    "rate_stacked = rate.stack()\n",
    "rate_levels = rate_stacked.index.get_level_values(-1)"
   ]
  },
  {
   "cell_type": "markdown",
   "metadata": {},
   "source": [
    "### Get age group"
   ]
  },
  {
   "cell_type": "code",
   "execution_count": 646,
   "metadata": {
    "collapsed": false
   },
   "outputs": [
    {
     "data": {
      "text/plain": [
       "Index(['18-19', '20-24', '18-19', '20-24', '18-19'], dtype='object', name='Age Group')"
      ]
     },
     "execution_count": 646,
     "metadata": {},
     "output_type": "execute_result"
    }
   ],
   "source": [
    "age_group = rate_levels.str.extract('(\\d{2}-\\d{2})', expand=False).rename('Age Group')\n",
    "age_group[:5]"
   ]
  },
  {
   "cell_type": "markdown",
   "metadata": {},
   "source": [
    "### Remove useless index level"
   ]
  },
  {
   "cell_type": "code",
   "execution_count": 647,
   "metadata": {
    "collapsed": false
   },
   "outputs": [
    {
     "data": {
      "text/plain": [
       "Race/ethnicity       Year\n",
       "White, non-Hispanic  2000    57.5\n",
       "                     2000    91.2\n",
       "                     2001    54.7\n",
       "                     2001    87.0\n",
       "                     2002    52.0\n",
       "dtype: float64"
      ]
     },
     "execution_count": 647,
     "metadata": {},
     "output_type": "execute_result"
    }
   ],
   "source": [
    "rate_stacked.reset_index(level=-1, drop=True, inplace=True)\n",
    "\n",
    "rate_stacked.head()"
   ]
  },
  {
   "cell_type": "markdown",
   "metadata": {},
   "source": [
    "### Add age group to index\n",
    "The index needs to be the same as the **`percent`** DataFrame to align properly."
   ]
  },
  {
   "cell_type": "code",
   "execution_count": 648,
   "metadata": {
    "collapsed": false
   },
   "outputs": [],
   "source": [
    "df_rate = rate_stacked.to_frame('Birth Rate').set_index([age_group], append=True)"
   ]
  },
  {
   "cell_type": "markdown",
   "metadata": {},
   "source": [
    "### See `final` tables"
   ]
  },
  {
   "cell_type": "code",
   "execution_count": 649,
   "metadata": {
    "collapsed": false
   },
   "outputs": [
    {
     "data": {
      "text/html": [
       "<div>\n",
       "<table border=\"1\" class=\"dataframe\">\n",
       "  <thead>\n",
       "    <tr style=\"text-align: right;\">\n",
       "      <th></th>\n",
       "      <th></th>\n",
       "      <th></th>\n",
       "      <th>Birth Rate</th>\n",
       "    </tr>\n",
       "    <tr>\n",
       "      <th>Race/ethnicity</th>\n",
       "      <th>Year</th>\n",
       "      <th>Age Group</th>\n",
       "      <th></th>\n",
       "    </tr>\n",
       "  </thead>\n",
       "  <tbody>\n",
       "    <tr>\n",
       "      <th rowspan=\"10\" valign=\"top\">White, non-Hispanic</th>\n",
       "      <th rowspan=\"2\" valign=\"top\">2000</th>\n",
       "      <th>18-19</th>\n",
       "      <td>57.5</td>\n",
       "    </tr>\n",
       "    <tr>\n",
       "      <th>20-24</th>\n",
       "      <td>91.2</td>\n",
       "    </tr>\n",
       "    <tr>\n",
       "      <th rowspan=\"2\" valign=\"top\">2001</th>\n",
       "      <th>18-19</th>\n",
       "      <td>54.7</td>\n",
       "    </tr>\n",
       "    <tr>\n",
       "      <th>20-24</th>\n",
       "      <td>87.0</td>\n",
       "    </tr>\n",
       "    <tr>\n",
       "      <th rowspan=\"2\" valign=\"top\">2002</th>\n",
       "      <th>18-19</th>\n",
       "      <td>52.0</td>\n",
       "    </tr>\n",
       "    <tr>\n",
       "      <th>20-24</th>\n",
       "      <td>84.7</td>\n",
       "    </tr>\n",
       "    <tr>\n",
       "      <th rowspan=\"2\" valign=\"top\">2003</th>\n",
       "      <th>18-19</th>\n",
       "      <td>50.0</td>\n",
       "    </tr>\n",
       "    <tr>\n",
       "      <th>20-24</th>\n",
       "      <td>84.1</td>\n",
       "    </tr>\n",
       "    <tr>\n",
       "      <th rowspan=\"2\" valign=\"top\">2004</th>\n",
       "      <th>18-19</th>\n",
       "      <td>48.6</td>\n",
       "    </tr>\n",
       "    <tr>\n",
       "      <th>20-24</th>\n",
       "      <td>83.0</td>\n",
       "    </tr>\n",
       "  </tbody>\n",
       "</table>\n",
       "</div>"
      ],
      "text/plain": [
       "                                    Birth Rate\n",
       "Race/ethnicity      Year Age Group            \n",
       "White, non-Hispanic 2000 18-19            57.5\n",
       "                         20-24            91.2\n",
       "                    2001 18-19            54.7\n",
       "                         20-24            87.0\n",
       "                    2002 18-19            52.0\n",
       "                         20-24            84.7\n",
       "                    2003 18-19            50.0\n",
       "                         20-24            84.1\n",
       "                    2004 18-19            48.6\n",
       "                         20-24            83.0"
      ]
     },
     "execution_count": 649,
     "metadata": {},
     "output_type": "execute_result"
    }
   ],
   "source": [
    "df_rate.head(10)"
   ]
  },
  {
   "cell_type": "code",
   "execution_count": 650,
   "metadata": {
    "collapsed": false
   },
   "outputs": [
    {
     "data": {
      "text/html": [
       "<div>\n",
       "<table border=\"1\" class=\"dataframe\">\n",
       "  <thead>\n",
       "    <tr style=\"text-align: right;\">\n",
       "      <th></th>\n",
       "      <th></th>\n",
       "      <th></th>\n",
       "      <th>Gender Percentage</th>\n",
       "      <th>Gender</th>\n",
       "    </tr>\n",
       "    <tr>\n",
       "      <th>Race/ethnicity</th>\n",
       "      <th>Year</th>\n",
       "      <th>Age Group</th>\n",
       "      <th></th>\n",
       "      <th></th>\n",
       "    </tr>\n",
       "  </thead>\n",
       "  <tbody>\n",
       "    <tr>\n",
       "      <th rowspan=\"10\" valign=\"top\">White, non-Hispanic</th>\n",
       "      <th rowspan=\"4\" valign=\"top\">2000</th>\n",
       "      <th>18-19</th>\n",
       "      <td>51.5</td>\n",
       "      <td>male</td>\n",
       "    </tr>\n",
       "    <tr>\n",
       "      <th>18-19</th>\n",
       "      <td>48.5</td>\n",
       "      <td>female</td>\n",
       "    </tr>\n",
       "    <tr>\n",
       "      <th>20-24</th>\n",
       "      <td>51.2</td>\n",
       "      <td>male</td>\n",
       "    </tr>\n",
       "    <tr>\n",
       "      <th>20-24</th>\n",
       "      <td>48.8</td>\n",
       "      <td>female</td>\n",
       "    </tr>\n",
       "    <tr>\n",
       "      <th rowspan=\"4\" valign=\"top\">2001</th>\n",
       "      <th>18-19</th>\n",
       "      <td>51.3</td>\n",
       "      <td>male</td>\n",
       "    </tr>\n",
       "    <tr>\n",
       "      <th>18-19</th>\n",
       "      <td>48.7</td>\n",
       "      <td>female</td>\n",
       "    </tr>\n",
       "    <tr>\n",
       "      <th>20-24</th>\n",
       "      <td>51.2</td>\n",
       "      <td>male</td>\n",
       "    </tr>\n",
       "    <tr>\n",
       "      <th>20-24</th>\n",
       "      <td>48.8</td>\n",
       "      <td>female</td>\n",
       "    </tr>\n",
       "    <tr>\n",
       "      <th rowspan=\"2\" valign=\"top\">2002</th>\n",
       "      <th>18-19</th>\n",
       "      <td>51.1</td>\n",
       "      <td>male</td>\n",
       "    </tr>\n",
       "    <tr>\n",
       "      <th>18-19</th>\n",
       "      <td>48.9</td>\n",
       "      <td>female</td>\n",
       "    </tr>\n",
       "  </tbody>\n",
       "</table>\n",
       "</div>"
      ],
      "text/plain": [
       "                                    Gender Percentage  Gender\n",
       "Race/ethnicity      Year Age Group                           \n",
       "White, non-Hispanic 2000 18-19                   51.5    male\n",
       "                         18-19                   48.5  female\n",
       "                         20-24                   51.2    male\n",
       "                         20-24                   48.8  female\n",
       "                    2001 18-19                   51.3    male\n",
       "                         18-19                   48.7  female\n",
       "                         20-24                   51.2    male\n",
       "                         20-24                   48.8  female\n",
       "                    2002 18-19                   51.1    male\n",
       "                         18-19                   48.9  female"
      ]
     },
     "execution_count": 650,
     "metadata": {},
     "output_type": "execute_result"
    }
   ],
   "source": [
    "df_percent.head(10)"
   ]
  },
  {
   "cell_type": "markdown",
   "metadata": {},
   "source": [
    "### Add `Birth Rate` to final with Automatic index alignment\n",
    "The following command looks very simple but obscures lots of detail"
   ]
  },
  {
   "cell_type": "code",
   "execution_count": 651,
   "metadata": {
    "collapsed": true
   },
   "outputs": [],
   "source": [
    "df_final = df_percent.copy()\n",
    "df_final['Birth Rate'] = df_rate['Birth Rate']"
   ]
  },
  {
   "cell_type": "code",
   "execution_count": 652,
   "metadata": {
    "collapsed": false
   },
   "outputs": [
    {
     "data": {
      "text/html": [
       "<div>\n",
       "<table border=\"1\" class=\"dataframe\">\n",
       "  <thead>\n",
       "    <tr style=\"text-align: right;\">\n",
       "      <th></th>\n",
       "      <th>Race/ethnicity</th>\n",
       "      <th>Year</th>\n",
       "      <th>Age Group</th>\n",
       "      <th>Gender Percentage</th>\n",
       "      <th>Gender</th>\n",
       "      <th>Birth Rate</th>\n",
       "    </tr>\n",
       "  </thead>\n",
       "  <tbody>\n",
       "    <tr>\n",
       "      <th>0</th>\n",
       "      <td>White, non-Hispanic</td>\n",
       "      <td>2000</td>\n",
       "      <td>18-19</td>\n",
       "      <td>51.5</td>\n",
       "      <td>male</td>\n",
       "      <td>57.5</td>\n",
       "    </tr>\n",
       "    <tr>\n",
       "      <th>1</th>\n",
       "      <td>White, non-Hispanic</td>\n",
       "      <td>2000</td>\n",
       "      <td>18-19</td>\n",
       "      <td>48.5</td>\n",
       "      <td>female</td>\n",
       "      <td>57.5</td>\n",
       "    </tr>\n",
       "    <tr>\n",
       "      <th>2</th>\n",
       "      <td>White, non-Hispanic</td>\n",
       "      <td>2000</td>\n",
       "      <td>20-24</td>\n",
       "      <td>51.2</td>\n",
       "      <td>male</td>\n",
       "      <td>91.2</td>\n",
       "    </tr>\n",
       "    <tr>\n",
       "      <th>3</th>\n",
       "      <td>White, non-Hispanic</td>\n",
       "      <td>2000</td>\n",
       "      <td>20-24</td>\n",
       "      <td>48.8</td>\n",
       "      <td>female</td>\n",
       "      <td>91.2</td>\n",
       "    </tr>\n",
       "    <tr>\n",
       "      <th>4</th>\n",
       "      <td>White, non-Hispanic</td>\n",
       "      <td>2001</td>\n",
       "      <td>18-19</td>\n",
       "      <td>51.3</td>\n",
       "      <td>male</td>\n",
       "      <td>54.7</td>\n",
       "    </tr>\n",
       "  </tbody>\n",
       "</table>\n",
       "</div>"
      ],
      "text/plain": [
       "        Race/ethnicity  Year Age Group  Gender Percentage  Gender  Birth Rate\n",
       "0  White, non-Hispanic  2000     18-19               51.5    male        57.5\n",
       "1  White, non-Hispanic  2000     18-19               48.5  female        57.5\n",
       "2  White, non-Hispanic  2000     20-24               51.2    male        91.2\n",
       "3  White, non-Hispanic  2000     20-24               48.8  female        91.2\n",
       "4  White, non-Hispanic  2001     18-19               51.3    male        54.7"
      ]
     },
     "execution_count": 652,
     "metadata": {},
     "output_type": "execute_result"
    }
   ],
   "source": [
    "# get final table\n",
    "df_final = df_final.reset_index()\n",
    "\n",
    "df_final.head()"
   ]
  },
  {
   "cell_type": "markdown",
   "metadata": {},
   "source": [
    "### Not quite tidy\n",
    "This DataFrame no longer has variables in the column names but has many repeated values. Repeated values can be moved out into their own table and replaced with a **`key`** that uniquely identifies them. \n",
    "\n",
    "For instance, we could have kept the **`rate`** and **`percent`** DataFrames separate. Let's do this and add a key so they can easily join one another."
   ]
  },
  {
   "cell_type": "markdown",
   "metadata": {},
   "source": [
    "### Drop duplicates before getting keys"
   ]
  },
  {
   "cell_type": "code",
   "execution_count": 682,
   "metadata": {
    "collapsed": true
   },
   "outputs": [],
   "source": [
    "unique_index = df_percent.index.drop_duplicates()"
   ]
  },
  {
   "cell_type": "code",
   "execution_count": 683,
   "metadata": {
    "collapsed": false
   },
   "outputs": [],
   "source": [
    "df_key = pd.DataFrame(index = unique_index, data=list(range(len(unique_index))), columns=['key'])"
   ]
  },
  {
   "cell_type": "code",
   "execution_count": 684,
   "metadata": {
    "collapsed": false
   },
   "outputs": [
    {
     "data": {
      "text/html": [
       "<div>\n",
       "<table border=\"1\" class=\"dataframe\">\n",
       "  <thead>\n",
       "    <tr style=\"text-align: right;\">\n",
       "      <th></th>\n",
       "      <th></th>\n",
       "      <th></th>\n",
       "      <th>key</th>\n",
       "    </tr>\n",
       "    <tr>\n",
       "      <th>Race/ethnicity</th>\n",
       "      <th>Year</th>\n",
       "      <th>Age Group</th>\n",
       "      <th></th>\n",
       "    </tr>\n",
       "  </thead>\n",
       "  <tbody>\n",
       "    <tr>\n",
       "      <th rowspan=\"5\" valign=\"top\">White, non-Hispanic</th>\n",
       "      <th rowspan=\"2\" valign=\"top\">2000</th>\n",
       "      <th>18-19</th>\n",
       "      <td>0</td>\n",
       "    </tr>\n",
       "    <tr>\n",
       "      <th>20-24</th>\n",
       "      <td>1</td>\n",
       "    </tr>\n",
       "    <tr>\n",
       "      <th rowspan=\"2\" valign=\"top\">2001</th>\n",
       "      <th>18-19</th>\n",
       "      <td>2</td>\n",
       "    </tr>\n",
       "    <tr>\n",
       "      <th>20-24</th>\n",
       "      <td>3</td>\n",
       "    </tr>\n",
       "    <tr>\n",
       "      <th>2002</th>\n",
       "      <th>18-19</th>\n",
       "      <td>4</td>\n",
       "    </tr>\n",
       "  </tbody>\n",
       "</table>\n",
       "</div>"
      ],
      "text/plain": [
       "                                    key\n",
       "Race/ethnicity      Year Age Group     \n",
       "White, non-Hispanic 2000 18-19        0\n",
       "                         20-24        1\n",
       "                    2001 18-19        2\n",
       "                         20-24        3\n",
       "                    2002 18-19        4"
      ]
     },
     "execution_count": 684,
     "metadata": {},
     "output_type": "execute_result"
    }
   ],
   "source": [
    "df_key.head()"
   ]
  },
  {
   "cell_type": "markdown",
   "metadata": {},
   "source": [
    "### add key to percent table"
   ]
  },
  {
   "cell_type": "code",
   "execution_count": 694,
   "metadata": {
    "collapsed": false
   },
   "outputs": [],
   "source": [
    "df_percent_key = df_percent.copy()\n",
    "df_percent_key['key'] = df_key"
   ]
  },
  {
   "cell_type": "code",
   "execution_count": 695,
   "metadata": {
    "collapsed": false
   },
   "outputs": [
    {
     "data": {
      "text/html": [
       "<div>\n",
       "<table border=\"1\" class=\"dataframe\">\n",
       "  <thead>\n",
       "    <tr style=\"text-align: right;\">\n",
       "      <th></th>\n",
       "      <th></th>\n",
       "      <th></th>\n",
       "      <th>Gender Percentage</th>\n",
       "      <th>Gender</th>\n",
       "      <th>key</th>\n",
       "    </tr>\n",
       "    <tr>\n",
       "      <th>Race/ethnicity</th>\n",
       "      <th>Year</th>\n",
       "      <th>Age Group</th>\n",
       "      <th></th>\n",
       "      <th></th>\n",
       "      <th></th>\n",
       "    </tr>\n",
       "  </thead>\n",
       "  <tbody>\n",
       "    <tr>\n",
       "      <th rowspan=\"10\" valign=\"top\">White, non-Hispanic</th>\n",
       "      <th rowspan=\"4\" valign=\"top\">2000</th>\n",
       "      <th>18-19</th>\n",
       "      <td>51.5</td>\n",
       "      <td>male</td>\n",
       "      <td>0</td>\n",
       "    </tr>\n",
       "    <tr>\n",
       "      <th>18-19</th>\n",
       "      <td>48.5</td>\n",
       "      <td>female</td>\n",
       "      <td>0</td>\n",
       "    </tr>\n",
       "    <tr>\n",
       "      <th>20-24</th>\n",
       "      <td>51.2</td>\n",
       "      <td>male</td>\n",
       "      <td>1</td>\n",
       "    </tr>\n",
       "    <tr>\n",
       "      <th>20-24</th>\n",
       "      <td>48.8</td>\n",
       "      <td>female</td>\n",
       "      <td>1</td>\n",
       "    </tr>\n",
       "    <tr>\n",
       "      <th rowspan=\"4\" valign=\"top\">2001</th>\n",
       "      <th>18-19</th>\n",
       "      <td>51.3</td>\n",
       "      <td>male</td>\n",
       "      <td>2</td>\n",
       "    </tr>\n",
       "    <tr>\n",
       "      <th>18-19</th>\n",
       "      <td>48.7</td>\n",
       "      <td>female</td>\n",
       "      <td>2</td>\n",
       "    </tr>\n",
       "    <tr>\n",
       "      <th>20-24</th>\n",
       "      <td>51.2</td>\n",
       "      <td>male</td>\n",
       "      <td>3</td>\n",
       "    </tr>\n",
       "    <tr>\n",
       "      <th>20-24</th>\n",
       "      <td>48.8</td>\n",
       "      <td>female</td>\n",
       "      <td>3</td>\n",
       "    </tr>\n",
       "    <tr>\n",
       "      <th rowspan=\"2\" valign=\"top\">2002</th>\n",
       "      <th>18-19</th>\n",
       "      <td>51.1</td>\n",
       "      <td>male</td>\n",
       "      <td>4</td>\n",
       "    </tr>\n",
       "    <tr>\n",
       "      <th>18-19</th>\n",
       "      <td>48.9</td>\n",
       "      <td>female</td>\n",
       "      <td>4</td>\n",
       "    </tr>\n",
       "  </tbody>\n",
       "</table>\n",
       "</div>"
      ],
      "text/plain": [
       "                                    Gender Percentage  Gender  key\n",
       "Race/ethnicity      Year Age Group                                \n",
       "White, non-Hispanic 2000 18-19                   51.5    male    0\n",
       "                         18-19                   48.5  female    0\n",
       "                         20-24                   51.2    male    1\n",
       "                         20-24                   48.8  female    1\n",
       "                    2001 18-19                   51.3    male    2\n",
       "                         18-19                   48.7  female    2\n",
       "                         20-24                   51.2    male    3\n",
       "                         20-24                   48.8  female    3\n",
       "                    2002 18-19                   51.1    male    4\n",
       "                         18-19                   48.9  female    4"
      ]
     },
     "execution_count": 695,
     "metadata": {},
     "output_type": "execute_result"
    }
   ],
   "source": [
    "df_percent_key.head(10)"
   ]
  },
  {
   "cell_type": "markdown",
   "metadata": {},
   "source": [
    "### Add key to rate table"
   ]
  },
  {
   "cell_type": "code",
   "execution_count": 702,
   "metadata": {
    "collapsed": true
   },
   "outputs": [],
   "source": [
    "df_rate_key = df_rate.copy()\n",
    "df_rate_key['key'] = df_key"
   ]
  },
  {
   "cell_type": "code",
   "execution_count": 703,
   "metadata": {
    "collapsed": false
   },
   "outputs": [
    {
     "data": {
      "text/html": [
       "<div>\n",
       "<table border=\"1\" class=\"dataframe\">\n",
       "  <thead>\n",
       "    <tr style=\"text-align: right;\">\n",
       "      <th></th>\n",
       "      <th></th>\n",
       "      <th></th>\n",
       "      <th>Birth Rate</th>\n",
       "      <th>key</th>\n",
       "    </tr>\n",
       "    <tr>\n",
       "      <th>Race/ethnicity</th>\n",
       "      <th>Year</th>\n",
       "      <th>Age Group</th>\n",
       "      <th></th>\n",
       "      <th></th>\n",
       "    </tr>\n",
       "  </thead>\n",
       "  <tbody>\n",
       "    <tr>\n",
       "      <th rowspan=\"10\" valign=\"top\">White, non-Hispanic</th>\n",
       "      <th rowspan=\"2\" valign=\"top\">2000</th>\n",
       "      <th>18-19</th>\n",
       "      <td>57.5</td>\n",
       "      <td>0</td>\n",
       "    </tr>\n",
       "    <tr>\n",
       "      <th>20-24</th>\n",
       "      <td>91.2</td>\n",
       "      <td>1</td>\n",
       "    </tr>\n",
       "    <tr>\n",
       "      <th rowspan=\"2\" valign=\"top\">2001</th>\n",
       "      <th>18-19</th>\n",
       "      <td>54.7</td>\n",
       "      <td>2</td>\n",
       "    </tr>\n",
       "    <tr>\n",
       "      <th>20-24</th>\n",
       "      <td>87.0</td>\n",
       "      <td>3</td>\n",
       "    </tr>\n",
       "    <tr>\n",
       "      <th rowspan=\"2\" valign=\"top\">2002</th>\n",
       "      <th>18-19</th>\n",
       "      <td>52.0</td>\n",
       "      <td>4</td>\n",
       "    </tr>\n",
       "    <tr>\n",
       "      <th>20-24</th>\n",
       "      <td>84.7</td>\n",
       "      <td>5</td>\n",
       "    </tr>\n",
       "    <tr>\n",
       "      <th rowspan=\"2\" valign=\"top\">2003</th>\n",
       "      <th>18-19</th>\n",
       "      <td>50.0</td>\n",
       "      <td>6</td>\n",
       "    </tr>\n",
       "    <tr>\n",
       "      <th>20-24</th>\n",
       "      <td>84.1</td>\n",
       "      <td>7</td>\n",
       "    </tr>\n",
       "    <tr>\n",
       "      <th rowspan=\"2\" valign=\"top\">2004</th>\n",
       "      <th>18-19</th>\n",
       "      <td>48.6</td>\n",
       "      <td>8</td>\n",
       "    </tr>\n",
       "    <tr>\n",
       "      <th>20-24</th>\n",
       "      <td>83.0</td>\n",
       "      <td>9</td>\n",
       "    </tr>\n",
       "  </tbody>\n",
       "</table>\n",
       "</div>"
      ],
      "text/plain": [
       "                                    Birth Rate  key\n",
       "Race/ethnicity      Year Age Group                 \n",
       "White, non-Hispanic 2000 18-19            57.5    0\n",
       "                         20-24            91.2    1\n",
       "                    2001 18-19            54.7    2\n",
       "                         20-24            87.0    3\n",
       "                    2002 18-19            52.0    4\n",
       "                         20-24            84.7    5\n",
       "                    2003 18-19            50.0    6\n",
       "                         20-24            84.1    7\n",
       "                    2004 18-19            48.6    8\n",
       "                         20-24            83.0    9"
      ]
     },
     "execution_count": 703,
     "metadata": {},
     "output_type": "execute_result"
    }
   ],
   "source": [
    "df_rate_key.head(10)"
   ]
  },
  {
   "cell_type": "markdown",
   "metadata": {},
   "source": [
    "### Drop index from rate and percent table\n",
    "The key has replaced the index and is no longer needed."
   ]
  },
  {
   "cell_type": "code",
   "execution_count": 704,
   "metadata": {
    "collapsed": false
   },
   "outputs": [],
   "source": [
    "df_percent_key = df_percent_key.reset_index(drop=True)\n",
    "df_rate_key = df_rate_key.reset_index(drop=True)"
   ]
  },
  {
   "cell_type": "code",
   "execution_count": 705,
   "metadata": {
    "collapsed": false
   },
   "outputs": [
    {
     "data": {
      "text/html": [
       "<div>\n",
       "<table border=\"1\" class=\"dataframe\">\n",
       "  <thead>\n",
       "    <tr style=\"text-align: right;\">\n",
       "      <th></th>\n",
       "      <th>Gender Percentage</th>\n",
       "      <th>Gender</th>\n",
       "      <th>key</th>\n",
       "    </tr>\n",
       "  </thead>\n",
       "  <tbody>\n",
       "    <tr>\n",
       "      <th>0</th>\n",
       "      <td>51.5</td>\n",
       "      <td>male</td>\n",
       "      <td>0</td>\n",
       "    </tr>\n",
       "    <tr>\n",
       "      <th>1</th>\n",
       "      <td>48.5</td>\n",
       "      <td>female</td>\n",
       "      <td>0</td>\n",
       "    </tr>\n",
       "    <tr>\n",
       "      <th>2</th>\n",
       "      <td>51.2</td>\n",
       "      <td>male</td>\n",
       "      <td>1</td>\n",
       "    </tr>\n",
       "    <tr>\n",
       "      <th>3</th>\n",
       "      <td>48.8</td>\n",
       "      <td>female</td>\n",
       "      <td>1</td>\n",
       "    </tr>\n",
       "    <tr>\n",
       "      <th>4</th>\n",
       "      <td>51.3</td>\n",
       "      <td>male</td>\n",
       "      <td>2</td>\n",
       "    </tr>\n",
       "  </tbody>\n",
       "</table>\n",
       "</div>"
      ],
      "text/plain": [
       "   Gender Percentage  Gender  key\n",
       "0               51.5    male    0\n",
       "1               48.5  female    0\n",
       "2               51.2    male    1\n",
       "3               48.8  female    1\n",
       "4               51.3    male    2"
      ]
     },
     "execution_count": 705,
     "metadata": {},
     "output_type": "execute_result"
    }
   ],
   "source": [
    "df_percent_key.head()"
   ]
  },
  {
   "cell_type": "code",
   "execution_count": 707,
   "metadata": {
    "collapsed": false
   },
   "outputs": [
    {
     "data": {
      "text/html": [
       "<div>\n",
       "<table border=\"1\" class=\"dataframe\">\n",
       "  <thead>\n",
       "    <tr style=\"text-align: right;\">\n",
       "      <th></th>\n",
       "      <th>Birth Rate</th>\n",
       "      <th>key</th>\n",
       "    </tr>\n",
       "  </thead>\n",
       "  <tbody>\n",
       "    <tr>\n",
       "      <th>0</th>\n",
       "      <td>57.5</td>\n",
       "      <td>0</td>\n",
       "    </tr>\n",
       "    <tr>\n",
       "      <th>1</th>\n",
       "      <td>91.2</td>\n",
       "      <td>1</td>\n",
       "    </tr>\n",
       "    <tr>\n",
       "      <th>2</th>\n",
       "      <td>54.7</td>\n",
       "      <td>2</td>\n",
       "    </tr>\n",
       "    <tr>\n",
       "      <th>3</th>\n",
       "      <td>87.0</td>\n",
       "      <td>3</td>\n",
       "    </tr>\n",
       "    <tr>\n",
       "      <th>4</th>\n",
       "      <td>52.0</td>\n",
       "      <td>4</td>\n",
       "    </tr>\n",
       "  </tbody>\n",
       "</table>\n",
       "</div>"
      ],
      "text/plain": [
       "   Birth Rate  key\n",
       "0        57.5    0\n",
       "1        91.2    1\n",
       "2        54.7    2\n",
       "3        87.0    3\n",
       "4        52.0    4"
      ]
     },
     "execution_count": 707,
     "metadata": {},
     "output_type": "execute_result"
    }
   ],
   "source": [
    "df_rate_key.head()"
   ]
  },
  {
   "cell_type": "code",
   "execution_count": 710,
   "metadata": {
    "collapsed": false
   },
   "outputs": [
    {
     "data": {
      "text/html": [
       "<div>\n",
       "<table border=\"1\" class=\"dataframe\">\n",
       "  <thead>\n",
       "    <tr style=\"text-align: right;\">\n",
       "      <th></th>\n",
       "      <th>Race/ethnicity</th>\n",
       "      <th>Year</th>\n",
       "      <th>Age Group</th>\n",
       "      <th>key</th>\n",
       "    </tr>\n",
       "  </thead>\n",
       "  <tbody>\n",
       "    <tr>\n",
       "      <th>0</th>\n",
       "      <td>White, non-Hispanic</td>\n",
       "      <td>2000</td>\n",
       "      <td>18-19</td>\n",
       "      <td>0</td>\n",
       "    </tr>\n",
       "    <tr>\n",
       "      <th>1</th>\n",
       "      <td>White, non-Hispanic</td>\n",
       "      <td>2000</td>\n",
       "      <td>20-24</td>\n",
       "      <td>1</td>\n",
       "    </tr>\n",
       "    <tr>\n",
       "      <th>2</th>\n",
       "      <td>White, non-Hispanic</td>\n",
       "      <td>2001</td>\n",
       "      <td>18-19</td>\n",
       "      <td>2</td>\n",
       "    </tr>\n",
       "    <tr>\n",
       "      <th>3</th>\n",
       "      <td>White, non-Hispanic</td>\n",
       "      <td>2001</td>\n",
       "      <td>20-24</td>\n",
       "      <td>3</td>\n",
       "    </tr>\n",
       "    <tr>\n",
       "      <th>4</th>\n",
       "      <td>White, non-Hispanic</td>\n",
       "      <td>2002</td>\n",
       "      <td>18-19</td>\n",
       "      <td>4</td>\n",
       "    </tr>\n",
       "  </tbody>\n",
       "</table>\n",
       "</div>"
      ],
      "text/plain": [
       "        Race/ethnicity  Year Age Group  key\n",
       "0  White, non-Hispanic  2000     18-19    0\n",
       "1  White, non-Hispanic  2000     20-24    1\n",
       "2  White, non-Hispanic  2001     18-19    2\n",
       "3  White, non-Hispanic  2001     20-24    3\n",
       "4  White, non-Hispanic  2002     18-19    4"
      ]
     },
     "execution_count": 710,
     "metadata": {},
     "output_type": "execute_result"
    }
   ],
   "source": [
    "df_key.reset_index().head()"
   ]
  },
  {
   "cell_type": "markdown",
   "metadata": {},
   "source": [
    "### Is gender really a variable?\n",
    "It looks like gender might not be its own variable after all"
   ]
  },
  {
   "cell_type": "code",
   "execution_count": 717,
   "metadata": {
    "collapsed": false
   },
   "outputs": [
    {
     "data": {
      "text/html": [
       "<div>\n",
       "<table border=\"1\" class=\"dataframe\">\n",
       "  <thead>\n",
       "    <tr style=\"text-align: right;\">\n",
       "      <th></th>\n",
       "      <th>Race/ethnicity</th>\n",
       "      <th>Year</th>\n",
       "      <th>Age Group</th>\n",
       "      <th>Gender Percentage</th>\n",
       "      <th>Gender</th>\n",
       "      <th>Birth Rate</th>\n",
       "    </tr>\n",
       "  </thead>\n",
       "  <tbody>\n",
       "    <tr>\n",
       "      <th>0</th>\n",
       "      <td>White, non-Hispanic</td>\n",
       "      <td>2000</td>\n",
       "      <td>18-19</td>\n",
       "      <td>51.5</td>\n",
       "      <td>male</td>\n",
       "      <td>57.5</td>\n",
       "    </tr>\n",
       "    <tr>\n",
       "      <th>1</th>\n",
       "      <td>White, non-Hispanic</td>\n",
       "      <td>2000</td>\n",
       "      <td>18-19</td>\n",
       "      <td>48.5</td>\n",
       "      <td>female</td>\n",
       "      <td>57.5</td>\n",
       "    </tr>\n",
       "    <tr>\n",
       "      <th>2</th>\n",
       "      <td>White, non-Hispanic</td>\n",
       "      <td>2000</td>\n",
       "      <td>20-24</td>\n",
       "      <td>51.2</td>\n",
       "      <td>male</td>\n",
       "      <td>91.2</td>\n",
       "    </tr>\n",
       "    <tr>\n",
       "      <th>3</th>\n",
       "      <td>White, non-Hispanic</td>\n",
       "      <td>2000</td>\n",
       "      <td>20-24</td>\n",
       "      <td>48.8</td>\n",
       "      <td>female</td>\n",
       "      <td>91.2</td>\n",
       "    </tr>\n",
       "    <tr>\n",
       "      <th>4</th>\n",
       "      <td>White, non-Hispanic</td>\n",
       "      <td>2001</td>\n",
       "      <td>18-19</td>\n",
       "      <td>51.3</td>\n",
       "      <td>male</td>\n",
       "      <td>54.7</td>\n",
       "    </tr>\n",
       "    <tr>\n",
       "      <th>5</th>\n",
       "      <td>White, non-Hispanic</td>\n",
       "      <td>2001</td>\n",
       "      <td>18-19</td>\n",
       "      <td>48.7</td>\n",
       "      <td>female</td>\n",
       "      <td>54.7</td>\n",
       "    </tr>\n",
       "    <tr>\n",
       "      <th>6</th>\n",
       "      <td>White, non-Hispanic</td>\n",
       "      <td>2001</td>\n",
       "      <td>20-24</td>\n",
       "      <td>51.2</td>\n",
       "      <td>male</td>\n",
       "      <td>87.0</td>\n",
       "    </tr>\n",
       "    <tr>\n",
       "      <th>7</th>\n",
       "      <td>White, non-Hispanic</td>\n",
       "      <td>2001</td>\n",
       "      <td>20-24</td>\n",
       "      <td>48.8</td>\n",
       "      <td>female</td>\n",
       "      <td>87.0</td>\n",
       "    </tr>\n",
       "    <tr>\n",
       "      <th>8</th>\n",
       "      <td>White, non-Hispanic</td>\n",
       "      <td>2002</td>\n",
       "      <td>18-19</td>\n",
       "      <td>51.1</td>\n",
       "      <td>male</td>\n",
       "      <td>52.0</td>\n",
       "    </tr>\n",
       "    <tr>\n",
       "      <th>9</th>\n",
       "      <td>White, non-Hispanic</td>\n",
       "      <td>2002</td>\n",
       "      <td>18-19</td>\n",
       "      <td>48.9</td>\n",
       "      <td>female</td>\n",
       "      <td>52.0</td>\n",
       "    </tr>\n",
       "  </tbody>\n",
       "</table>\n",
       "</div>"
      ],
      "text/plain": [
       "        Race/ethnicity  Year Age Group  Gender Percentage  Gender  Birth Rate\n",
       "0  White, non-Hispanic  2000     18-19               51.5    male        57.5\n",
       "1  White, non-Hispanic  2000     18-19               48.5  female        57.5\n",
       "2  White, non-Hispanic  2000     20-24               51.2    male        91.2\n",
       "3  White, non-Hispanic  2000     20-24               48.8  female        91.2\n",
       "4  White, non-Hispanic  2001     18-19               51.3    male        54.7\n",
       "5  White, non-Hispanic  2001     18-19               48.7  female        54.7\n",
       "6  White, non-Hispanic  2001     20-24               51.2    male        87.0\n",
       "7  White, non-Hispanic  2001     20-24               48.8  female        87.0\n",
       "8  White, non-Hispanic  2002     18-19               51.1    male        52.0\n",
       "9  White, non-Hispanic  2002     18-19               48.9  female        52.0"
      ]
     },
     "execution_count": 717,
     "metadata": {},
     "output_type": "execute_result"
    }
   ],
   "source": [
    "df_final.head(10)"
   ]
  },
  {
   "cell_type": "code",
   "execution_count": 718,
   "metadata": {
    "collapsed": false
   },
   "outputs": [
    {
     "data": {
      "text/html": [
       "<div>\n",
       "<table border=\"1\" class=\"dataframe\">\n",
       "  <thead>\n",
       "    <tr style=\"text-align: right;\">\n",
       "      <th>Gender</th>\n",
       "      <th>Race/ethnicity</th>\n",
       "      <th>Year</th>\n",
       "      <th>Age Group</th>\n",
       "      <th>Birth Rate</th>\n",
       "      <th>female</th>\n",
       "      <th>male</th>\n",
       "    </tr>\n",
       "  </thead>\n",
       "  <tbody>\n",
       "    <tr>\n",
       "      <th>0</th>\n",
       "      <td>American Indian/Alaska Native</td>\n",
       "      <td>2000</td>\n",
       "      <td>18-19</td>\n",
       "      <td>97.1</td>\n",
       "      <td>50.0</td>\n",
       "      <td>50.0</td>\n",
       "    </tr>\n",
       "    <tr>\n",
       "      <th>1</th>\n",
       "      <td>American Indian/Alaska Native</td>\n",
       "      <td>2000</td>\n",
       "      <td>20-24</td>\n",
       "      <td>117.2</td>\n",
       "      <td>48.6</td>\n",
       "      <td>51.4</td>\n",
       "    </tr>\n",
       "    <tr>\n",
       "      <th>2</th>\n",
       "      <td>American Indian/Alaska Native</td>\n",
       "      <td>2001</td>\n",
       "      <td>18-19</td>\n",
       "      <td>92.7</td>\n",
       "      <td>50.5</td>\n",
       "      <td>49.5</td>\n",
       "    </tr>\n",
       "    <tr>\n",
       "      <th>3</th>\n",
       "      <td>American Indian/Alaska Native</td>\n",
       "      <td>2001</td>\n",
       "      <td>20-24</td>\n",
       "      <td>113.8</td>\n",
       "      <td>49.3</td>\n",
       "      <td>50.7</td>\n",
       "    </tr>\n",
       "    <tr>\n",
       "      <th>4</th>\n",
       "      <td>American Indian/Alaska Native</td>\n",
       "      <td>2002</td>\n",
       "      <td>18-19</td>\n",
       "      <td>85.3</td>\n",
       "      <td>49.0</td>\n",
       "      <td>51.0</td>\n",
       "    </tr>\n",
       "    <tr>\n",
       "      <th>5</th>\n",
       "      <td>American Indian/Alaska Native</td>\n",
       "      <td>2002</td>\n",
       "      <td>20-24</td>\n",
       "      <td>110.7</td>\n",
       "      <td>49.7</td>\n",
       "      <td>50.3</td>\n",
       "    </tr>\n",
       "    <tr>\n",
       "      <th>6</th>\n",
       "      <td>American Indian/Alaska Native</td>\n",
       "      <td>2003</td>\n",
       "      <td>18-19</td>\n",
       "      <td>82.1</td>\n",
       "      <td>49.1</td>\n",
       "      <td>50.9</td>\n",
       "    </tr>\n",
       "    <tr>\n",
       "      <th>7</th>\n",
       "      <td>American Indian/Alaska Native</td>\n",
       "      <td>2003</td>\n",
       "      <td>20-24</td>\n",
       "      <td>107.0</td>\n",
       "      <td>49.0</td>\n",
       "      <td>51.0</td>\n",
       "    </tr>\n",
       "    <tr>\n",
       "      <th>8</th>\n",
       "      <td>American Indian/Alaska Native</td>\n",
       "      <td>2004</td>\n",
       "      <td>18-19</td>\n",
       "      <td>79.9</td>\n",
       "      <td>48.7</td>\n",
       "      <td>51.3</td>\n",
       "    </tr>\n",
       "    <tr>\n",
       "      <th>9</th>\n",
       "      <td>American Indian/Alaska Native</td>\n",
       "      <td>2004</td>\n",
       "      <td>20-24</td>\n",
       "      <td>105.4</td>\n",
       "      <td>49.5</td>\n",
       "      <td>50.5</td>\n",
       "    </tr>\n",
       "  </tbody>\n",
       "</table>\n",
       "</div>"
      ],
      "text/plain": [
       "Gender                 Race/ethnicity  Year Age Group  Birth Rate  female  \\\n",
       "0       American Indian/Alaska Native  2000     18-19        97.1    50.0   \n",
       "1       American Indian/Alaska Native  2000     20-24       117.2    48.6   \n",
       "2       American Indian/Alaska Native  2001     18-19        92.7    50.5   \n",
       "3       American Indian/Alaska Native  2001     20-24       113.8    49.3   \n",
       "4       American Indian/Alaska Native  2002     18-19        85.3    49.0   \n",
       "5       American Indian/Alaska Native  2002     20-24       110.7    49.7   \n",
       "6       American Indian/Alaska Native  2003     18-19        82.1    49.1   \n",
       "7       American Indian/Alaska Native  2003     20-24       107.0    49.0   \n",
       "8       American Indian/Alaska Native  2004     18-19        79.9    48.7   \n",
       "9       American Indian/Alaska Native  2004     20-24       105.4    49.5   \n",
       "\n",
       "Gender  male  \n",
       "0       50.0  \n",
       "1       51.4  \n",
       "2       49.5  \n",
       "3       50.7  \n",
       "4       51.0  \n",
       "5       50.3  \n",
       "6       50.9  \n",
       "7       51.0  \n",
       "8       51.3  \n",
       "9       50.5  "
      ]
     },
     "execution_count": 718,
     "metadata": {},
     "output_type": "execute_result"
    }
   ],
   "source": [
    "df_final.pivot_table(index=['Race/ethnicity', 'Year', 'Age Group', 'Birth Rate'], \n",
    "                     columns='Gender', \n",
    "                     values='Gender Percentage').reset_index().head(10)"
   ]
  },
  {
   "cell_type": "markdown",
   "metadata": {
    "collapsed": true
   },
   "source": [
    "### Problem 1\n",
    "<span  style=\"color:green; font-size:16px\">Make the following dataset tidy but putting all the `HOUR` columns into a single column</span>"
   ]
  },
  {
   "cell_type": "code",
   "execution_count": 229,
   "metadata": {
    "collapsed": false
   },
   "outputs": [
    {
     "data": {
      "text/html": [
       "<div>\n",
       "<table border=\"1\" class=\"dataframe\">\n",
       "  <thead>\n",
       "    <tr style=\"text-align: right;\">\n",
       "      <th></th>\n",
       "      <th>ASID</th>\n",
       "      <th>BORDER</th>\n",
       "      <th>HOUR1</th>\n",
       "      <th>HOUR2</th>\n",
       "    </tr>\n",
       "  </thead>\n",
       "  <tbody>\n",
       "    <tr>\n",
       "      <th>0</th>\n",
       "      <td>21</td>\n",
       "      <td>GERMANY</td>\n",
       "      <td>2</td>\n",
       "      <td>3</td>\n",
       "    </tr>\n",
       "    <tr>\n",
       "      <th>1</th>\n",
       "      <td>32</td>\n",
       "      <td>FRANCE</td>\n",
       "      <td>2</td>\n",
       "      <td>3</td>\n",
       "    </tr>\n",
       "    <tr>\n",
       "      <th>2</th>\n",
       "      <td>99</td>\n",
       "      <td>ITALY</td>\n",
       "      <td>2</td>\n",
       "      <td>3</td>\n",
       "    </tr>\n",
       "    <tr>\n",
       "      <th>3</th>\n",
       "      <td>77</td>\n",
       "      <td>USA</td>\n",
       "      <td>4</td>\n",
       "      <td>5</td>\n",
       "    </tr>\n",
       "    <tr>\n",
       "      <th>4</th>\n",
       "      <td>66</td>\n",
       "      <td>CANADA</td>\n",
       "      <td>4</td>\n",
       "      <td>5</td>\n",
       "    </tr>\n",
       "    <tr>\n",
       "      <th>5</th>\n",
       "      <td>55</td>\n",
       "      <td>MEXICO</td>\n",
       "      <td>4</td>\n",
       "      <td>5</td>\n",
       "    </tr>\n",
       "    <tr>\n",
       "      <th>6</th>\n",
       "      <td>44</td>\n",
       "      <td>INDIA</td>\n",
       "      <td>6</td>\n",
       "      <td>7</td>\n",
       "    </tr>\n",
       "    <tr>\n",
       "      <th>7</th>\n",
       "      <td>88</td>\n",
       "      <td>CHINA</td>\n",
       "      <td>6</td>\n",
       "      <td>7</td>\n",
       "    </tr>\n",
       "    <tr>\n",
       "      <th>8</th>\n",
       "      <td>111</td>\n",
       "      <td>JAPAN</td>\n",
       "      <td>6</td>\n",
       "      <td>7</td>\n",
       "    </tr>\n",
       "  </tbody>\n",
       "</table>\n",
       "</div>"
      ],
      "text/plain": [
       "   ASID   BORDER  HOUR1  HOUR2\n",
       "0    21  GERMANY      2      3\n",
       "1    32   FRANCE      2      3\n",
       "2    99    ITALY      2      3\n",
       "3    77      USA      4      5\n",
       "4    66   CANADA      4      5\n",
       "5    55   MEXICO      4      5\n",
       "6    44    INDIA      6      7\n",
       "7    88    CHINA      6      7\n",
       "8   111    JAPAN      6      7"
      ]
     },
     "execution_count": 229,
     "metadata": {},
     "output_type": "execute_result"
    }
   ],
   "source": [
    "df = pd.read_csv('data/country_hour_price.csv')\n",
    "df"
   ]
  },
  {
   "cell_type": "markdown",
   "metadata": {
    "collapsed": true
   },
   "source": [
    "### Problem 2\n",
    "<span  style=\"color:green; font-size:16px\">Tidy the dataset Impaired_Driving_Death_Rate.csv</span>"
   ]
  },
  {
   "cell_type": "code",
   "execution_count": null,
   "metadata": {
    "collapsed": true
   },
   "outputs": [],
   "source": [
    "# your code here"
   ]
  },
  {
   "cell_type": "markdown",
   "metadata": {},
   "source": [
    "### Problem 3\n",
    "<span  style=\"color:green; font-size:16px\">Choose from one of the many files in the **data** directory and make it tidy.</span>"
   ]
  },
  {
   "cell_type": "code",
   "execution_count": 719,
   "metadata": {
    "collapsed": true
   },
   "outputs": [],
   "source": [
    "# your code here"
   ]
  },
  {
   "cell_type": "code",
   "execution_count": null,
   "metadata": {
    "collapsed": true
   },
   "outputs": [],
   "source": []
  }
 ],
 "metadata": {
  "kernelspec": {
   "display_name": "Python 3",
   "language": "python",
   "name": "python3"
  },
  "language_info": {
   "codemirror_mode": {
    "name": "ipython",
    "version": 3
   },
   "file_extension": ".py",
   "mimetype": "text/x-python",
   "name": "python",
   "nbconvert_exporter": "python",
   "pygments_lexer": "ipython3",
   "version": "3.6.0"
  }
 },
 "nbformat": 4,
 "nbformat_minor": 2
}
