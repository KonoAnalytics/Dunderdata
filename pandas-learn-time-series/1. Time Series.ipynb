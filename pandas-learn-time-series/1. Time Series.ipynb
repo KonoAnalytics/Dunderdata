{
 "cells": [
  {
   "cell_type": "markdown",
   "metadata": {},
   "source": [
    "# Time Series\n",
    "\n",
    "### Objectives\n",
    "#### For datetime module\n",
    "+ Know the 4 main objects in the standard datetime module - **`date, time, datetime, timedelta`**\n",
    "+ A **`date`** refers to only month, day, year\n",
    "+ A **`time`** refer to only hours, minutes, seconds and parts of a second\n",
    "+ A **`datetime`** refers to a combination of date and time\n",
    "+ A **`timedelta`** is in units of days, hours\n",
    "+ Know how to create an instance of each of these 4 classes\n",
    "+ Milliseconds are $10^{-3}$, microseconds are $10^{-6}$ and nanoseconds are $10^{-9}$\n",
    "+ The datetime module only has microsecond precision\n",
    "+ NumPy has nanosecond precision\n",
    "+ Python epoch is Jan 1, 1970 where time equals 0\n",
    "+ strftime - (string format time) takes a datetime object and converts it to a string\n",
    "+ strptime - (string parse time) takes a string and converts it to a datetime object\n",
    "\n",
    "#### For pandas\n",
    "+ pd.Timestamp replaces datetime, date, time\n",
    "+ pd.Timestamp is extremely flexible and intelligent. Can convert many different inputs to timestamps\n",
    "+ Be aware of the many additional attributes and methods for Timestamp objects\n",
    "+ Convert a single value to a Timestamp with the **`to_datetime`** function. \n",
    "+ Convert an entire Series to Timestamps with **`to_datetime`**\n",
    "+ Use the **`date_range`** function to create a **`DatetimeIndex`** object of many Timestamps\n",
    "+ Know how to use offset aliases\n",
    "+ **`resample`** is the same as groupby but creates independent groups based on periods of time\n",
    "+ Use aggregate and transform on resample objects\n",
    "+ **`rolling`** the the same as groupby but creates indpendent groups of the same size.\n",
    "\n",
    "### Prepare for this lesson by\n",
    "+ Reading the [datetime documentation](https://docs.python.org/3/library/datetime.html)\n",
    "+ Read the [time series pandas documentation](http://pandas.pydata.org/pandas-docs/stable/timeseries.html)\n",
    "\n",
    "## Introduction\n",
    "pandas roots lay in analyzing financial time series data. The author, Wes McKinney was not satisfied with the available tools at the time and decided to build pandas to support his own needs at the hedge fund he was working at. Broadly speaking, time series data is simply points of data gathered over time. Most typically the time is evenly spaced between each data point. pandas has excellent functionality with regards to manipulating dates, aggregating over different time periods, sampling different periods of time and much more."
   ]
  },
  {
   "cell_type": "markdown",
   "metadata": {},
   "source": [
    "# Date vs Time vs Datetime\n",
    "In Python, there is a distinction that needs to be made between date, time and datetime. They all three mean different things and though many functions can use these types of times interchangeably its important to know the difference.\n",
    "* **date** - Just the Month, Day and Year. So 2016-01-01 would represent January 1, 2016 and be considered a 'date'\n",
    "* **time** - Just the Hours, minutes, seconds and parts of a second (milli/micro/nano). 5 hours, 45 minutes and 6.74234 seconds for example\n",
    "* **datetime** - A combination of the above two. Has both date (Year, Month, Day) and time (Hour, Minute, Second) components"
   ]
  },
  {
   "cell_type": "markdown",
   "metadata": {},
   "source": [
    "# Python's date and time functionality\n",
    "Before jumping into pandas datetime functionality we will look at an important standard library, the [datetime library](https://docs.python.org/3.5/library/datetime.html) which contains many powerful (but not powerful enough) functions to support date, time and datetime manipulation."
   ]
  },
  {
   "cell_type": "code",
   "execution_count": 1,
   "metadata": {
    "collapsed": true
   },
   "outputs": [],
   "source": [
    "# this is a standard library so it comes shipped with your python installation. no need to conda install\n",
    "# bring into our namespace\n",
    "import datetime"
   ]
  },
  {
   "cell_type": "markdown",
   "metadata": {},
   "source": [
    "## Create a date, a time and a datetime"
   ]
  },
  {
   "cell_type": "code",
   "execution_count": 2,
   "metadata": {
    "collapsed": false
   },
   "outputs": [
    {
     "name": "stdout",
     "output_type": "stream",
     "text": [
      "date is  2016-04-11\n",
      "time is 10:54:32.034512\n",
      "datetime is 2016-04-11 10:54:32.034512\n"
     ]
    }
   ],
   "source": [
    "# date takes three parameters for the year, month and day\n",
    "my_date = datetime.date(2016, 4, 11)\n",
    "print(\"date is \", my_date)\n",
    "\n",
    "# time takes four parameters: hour, minute, second, microsecond\n",
    "my_time = datetime.time(10, 54, 32, 34512)\n",
    "print(\"time is\", my_time)\n",
    "\n",
    "# datetime takes parameters for all of the above\n",
    "my_datetime = datetime.datetime(2016, 4, 11, 10, 54, 32, 34512)\n",
    "print(\"datetime is\", my_datetime)"
   ]
  },
  {
   "cell_type": "code",
   "execution_count": 3,
   "metadata": {
    "collapsed": false
   },
   "outputs": [
    {
     "data": {
      "text/plain": [
       "(datetime.date(2016, 4, 11),\n",
       " datetime.time(10, 54, 32, 34512),\n",
       " datetime.datetime(2016, 4, 11, 10, 54, 32, 34512))"
      ]
     },
     "execution_count": 3,
     "metadata": {},
     "output_type": "execute_result"
    }
   ],
   "source": [
    "# The print function makes the above ouput look pretty. \n",
    "# Below we just display the objects in the raw form\n",
    "my_date, my_time, my_datetime"
   ]
  },
  {
   "cell_type": "code",
   "execution_count": 4,
   "metadata": {
    "collapsed": false
   },
   "outputs": [
    {
     "data": {
      "text/plain": [
       "(datetime.date, datetime.time, datetime.datetime)"
      ]
     },
     "execution_count": 4,
     "metadata": {},
     "output_type": "execute_result"
    }
   ],
   "source": [
    "# What type are these objects?\n",
    "type(my_date), type(my_time), type(my_datetime)"
   ]
  },
  {
   "cell_type": "code",
   "execution_count": 5,
   "metadata": {
    "collapsed": false
   },
   "outputs": [
    {
     "name": "stdout",
     "output_type": "stream",
     "text": [
      "Today's date is 2017-03-17\n",
      "Today's time is 09:20:40.319129\n",
      "Today's datetime is 2017-03-17 09:20:40.319129\n"
     ]
    }
   ],
   "source": [
    "# get today's date and datetime\n",
    "print(\"Today's date is\", datetime.date.today())\n",
    "print(\"Today's time is\", datetime.datetime.today().time())\n",
    "print(\"Today's datetime is\", datetime.datetime.today())"
   ]
  },
  {
   "cell_type": "code",
   "execution_count": 6,
   "metadata": {
    "collapsed": false
   },
   "outputs": [
    {
     "data": {
      "text/plain": [
       "(11, 4, 2016)"
      ]
     },
     "execution_count": 6,
     "metadata": {},
     "output_type": "execute_result"
    }
   ],
   "source": [
    "# Get certain properties of date, time, and datetime\n",
    "my_date.day, my_date.month, my_date.year"
   ]
  },
  {
   "cell_type": "code",
   "execution_count": 7,
   "metadata": {
    "collapsed": false
   },
   "outputs": [
    {
     "data": {
      "text/plain": [
       "0"
      ]
     },
     "execution_count": 7,
     "metadata": {},
     "output_type": "execute_result"
    }
   ],
   "source": [
    "# What day of the weekday is it? April 11, 2016 was a monday. \n",
    "# Monday = 0 Sunday = 6\n",
    "my_date.weekday()"
   ]
  },
  {
   "cell_type": "code",
   "execution_count": 8,
   "metadata": {
    "collapsed": false
   },
   "outputs": [
    {
     "data": {
      "text/plain": [
       "(2016, 10, 34512)"
      ]
     },
     "execution_count": 8,
     "metadata": {},
     "output_type": "execute_result"
    }
   ],
   "source": [
    "# properties of datetime\n",
    "my_datetime.year, my_datetime.hour, my_datetime.microsecond"
   ]
  },
  {
   "cell_type": "markdown",
   "metadata": {},
   "source": [
    "## Converting strings to datetime and datetime to string\n",
    "There are two functions, **strftime** and **strptime** which are excellent tools for converting strings to datetime and vice-versa\n",
    "* **strftime** - stands for **string format time** and is really a method acting on a date, datetime or time object and converts that object into a string. It's one argument is the format you want the string to be\n",
    "* **strptime** - stands for **string parse time** and takes two arguments. The time as a string and the format also a string that tells the function what format the time is in.\n",
    "\n",
    "[The documentation is going to be very helpful](https://docs.python.org/3.5/library/datetime.html#strftime-and-strptime-behavior) here as the formats used in strftime and strptime use something called **directives** to determine the string that matches up with the date and time. "
   ]
  },
  {
   "cell_type": "markdown",
   "metadata": {},
   "source": [
    "### `strfttime`\n",
    "Lets start with strftime and convert date, datetime and time into strings. A directive is preceded immediately by a %. You may insert other characters between each directive"
   ]
  },
  {
   "cell_type": "code",
   "execution_count": 9,
   "metadata": {
    "collapsed": false
   },
   "outputs": [
    {
     "data": {
      "text/plain": [
       "'2016-04-11'"
      ]
     },
     "execution_count": 9,
     "metadata": {},
     "output_type": "execute_result"
    }
   ],
   "source": [
    "# Convert directly into a string of your choice. Lookup directives online\n",
    "my_date.strftime(\"%Y-%m-%d\")"
   ]
  },
  {
   "cell_type": "code",
   "execution_count": 10,
   "metadata": {
    "collapsed": false
   },
   "outputs": [
    {
     "data": {
      "text/plain": [
       "'Remembering back to Monday, April 11, 2016.... What a fantastic day that was.'"
      ]
     },
     "execution_count": 10,
     "metadata": {},
     "output_type": "execute_result"
    }
   ],
   "source": [
    "# Another more involved directive\n",
    "my_date.strftime(\"Remembering back to %A, %B %d, %Y.... What a fantastic day that was.\")"
   ]
  },
  {
   "cell_type": "code",
   "execution_count": 128,
   "metadata": {
    "collapsed": false
   },
   "outputs": [
    {
     "ename": "TypeError",
     "evalue": "timezone() argument 1 must be datetime.timedelta, not datetime.date",
     "output_type": "error",
     "traceback": [
      "\u001b[0;31m---------------------------------------------------------------------------\u001b[0m",
      "\u001b[0;31mTypeError\u001b[0m                                 Traceback (most recent call last)",
      "\u001b[0;32m<ipython-input-128-d33bdda2787a>\u001b[0m in \u001b[0;36m<module>\u001b[0;34m()\u001b[0m\n\u001b[0;32m----> 1\u001b[0;31m \u001b[0mmy_timezone\u001b[0m \u001b[1;33m=\u001b[0m \u001b[0mdatetime\u001b[0m\u001b[1;33m.\u001b[0m\u001b[0mtimezone\u001b[0m\u001b[1;33m(\u001b[0m\u001b[0mmy_date\u001b[0m\u001b[1;33m)\u001b[0m\u001b[1;33m\u001b[0m\u001b[0m\n\u001b[0m",
      "\u001b[0;31mTypeError\u001b[0m: timezone() argument 1 must be datetime.timedelta, not datetime.date"
     ]
    }
   ],
   "source": [
    "my_timezone = datetime.timezone(my_date)"
   ]
  },
  {
   "cell_type": "markdown",
   "metadata": {},
   "source": [
    "### `strptime`\n",
    "This takes a string and a directives and converts it to a python datetime object."
   ]
  },
  {
   "cell_type": "code",
   "execution_count": 11,
   "metadata": {
    "collapsed": false
   },
   "outputs": [
    {
     "data": {
      "text/plain": [
       "datetime.datetime(2016, 1, 5, 0, 0)"
      ]
     },
     "execution_count": 11,
     "metadata": {},
     "output_type": "execute_result"
    }
   ],
   "source": [
    "datetime.datetime.strptime(\"2016-01-05\", \"%Y-%m-%d\")"
   ]
  },
  {
   "cell_type": "code",
   "execution_count": 12,
   "metadata": {
    "collapsed": false
   },
   "outputs": [
    {
     "data": {
      "text/plain": [
       "datetime.datetime(2016, 1, 10, 5, 42)"
      ]
     },
     "execution_count": 12,
     "metadata": {},
     "output_type": "execute_result"
    }
   ],
   "source": [
    "# an example where month, day, year, minute and hour are smashed together\n",
    "datestring = \"011020160542\"\n",
    "datetime.datetime.strptime(datestring, \"%m%d%Y%H%M\")"
   ]
  },
  {
   "cell_type": "markdown",
   "metadata": {},
   "source": [
    "# Date and Datetime addition\n",
    "It's possible to add an amount of time to a date or datetime object using the timedelta function. timedelta simply produces some amount of time measured in days, seconds and microseconds. You can then use this object to add to date or datetime objects.\n",
    "\n",
    "**`timedelta`** objects are constructed with the following definition: \n",
    "\n",
    "**`timedelta(days=0, seconds=0, microseconds=0, milliseconds=0, minutes=0, hours=0, weeks=0)`**"
   ]
  },
  {
   "cell_type": "code",
   "execution_count": 13,
   "metadata": {
    "collapsed": false
   },
   "outputs": [],
   "source": [
    "# timedelta can take many arguments\n",
    "# days, seconds, microseconds, milliseconds, minutes, hours, weeks=\n",
    "my_timedelta = datetime.timedelta(seconds = 5000) "
   ]
  },
  {
   "cell_type": "code",
   "execution_count": 14,
   "metadata": {
    "collapsed": false
   },
   "outputs": [
    {
     "data": {
      "text/plain": [
       "datetime.datetime(2016, 4, 11, 12, 17, 52, 34512)"
      ]
     },
     "execution_count": 14,
     "metadata": {},
     "output_type": "execute_result"
    }
   ],
   "source": [
    "# add to datetime\n",
    "my_datetime + my_timedelta"
   ]
  },
  {
   "cell_type": "code",
   "execution_count": 15,
   "metadata": {
    "collapsed": false
   },
   "outputs": [
    {
     "data": {
      "text/plain": [
       "datetime.datetime(2016, 4, 11, 10, 54, 32, 34512)"
      ]
     },
     "execution_count": 15,
     "metadata": {},
     "output_type": "execute_result"
    }
   ],
   "source": [
    "# original\n",
    "my_datetime"
   ]
  },
  {
   "cell_type": "code",
   "execution_count": 16,
   "metadata": {
    "collapsed": false
   },
   "outputs": [
    {
     "data": {
      "text/plain": [
       "datetime.date(2016, 4, 11)"
      ]
     },
     "execution_count": 16,
     "metadata": {},
     "output_type": "execute_result"
    }
   ],
   "source": [
    "# add to date\n",
    "my_date + my_timedelta"
   ]
  },
  {
   "cell_type": "code",
   "execution_count": 17,
   "metadata": {
    "collapsed": false
   },
   "outputs": [
    {
     "data": {
      "text/plain": [
       "datetime.date(2016, 4, 11)"
      ]
     },
     "execution_count": 17,
     "metadata": {},
     "output_type": "execute_result"
    }
   ],
   "source": [
    "# original date. Nothing changed since 5000 seconds wasn't long enough to make an extra day\n",
    "my_date"
   ]
  },
  {
   "cell_type": "code",
   "execution_count": 18,
   "metadata": {
    "collapsed": false
   },
   "outputs": [
    {
     "data": {
      "text/plain": [
       "datetime.date(2016, 4, 16)"
      ]
     },
     "execution_count": 18,
     "metadata": {},
     "output_type": "execute_result"
    }
   ],
   "source": [
    "# now there is a change\n",
    "my_date + datetime.timedelta(days = 5)"
   ]
  },
  {
   "cell_type": "code",
   "execution_count": 19,
   "metadata": {
    "collapsed": false
   },
   "outputs": [],
   "source": [
    "# add weeks\n",
    "a = my_datetime + datetime.timedelta(weeks = 72, days = 4, hours = 44)"
   ]
  },
  {
   "cell_type": "code",
   "execution_count": 20,
   "metadata": {
    "collapsed": false
   },
   "outputs": [
    {
     "name": "stdout",
     "output_type": "stream",
     "text": [
      "datetime.datetime(2017, 9, 3, 6, 54, 32, 34512)\n",
      "2017-09-03 06:54:32.034512\n"
     ]
    }
   ],
   "source": [
    "# the difference between the underlying string representation and the print function\n",
    "print(a.__repr__())\n",
    "print(a)"
   ]
  },
  {
   "cell_type": "code",
   "execution_count": 21,
   "metadata": {
    "collapsed": false
   },
   "outputs": [
    {
     "data": {
      "text/plain": [
       "datetime.timedelta(509, 72000)"
      ]
     },
     "execution_count": 21,
     "metadata": {},
     "output_type": "execute_result"
    }
   ],
   "source": [
    "datetime.timedelta(weeks = 72, days = 4, hours = 44)"
   ]
  },
  {
   "cell_type": "markdown",
   "metadata": {},
   "source": [
    "### dateutil.relativedelta\n",
    "An upgrade to the **`timedelta`** class exists with the **`relativedelta`** class from the extension package **`dateutil`**. Check [this stackoverflow](http://stackoverflow.com/questions/12433233/what-is-the-difference-between-datetime-timedelta-and-dateutil-relativedelta) post for more detail."
   ]
  },
  {
   "cell_type": "markdown",
   "metadata": {},
   "source": [
    "# Here comes pandas\n",
    "One of the limitations of the datetime object is that it 'only' gives precision to microseconds (a millionth of a second). Instead of the datetime object, pandas uses numpy's datetime64 and timedelta64 objects which give precision down to the nanosecond (a billionth of a second). These new objects are called **Timestamp** and **Timedelta**."
   ]
  },
  {
   "cell_type": "code",
   "execution_count": 22,
   "metadata": {
    "collapsed": true
   },
   "outputs": [],
   "source": [
    "# import pandas in to begin\n",
    "import pandas as pd\n",
    "import numpy as np"
   ]
  },
  {
   "cell_type": "markdown",
   "metadata": {},
   "source": [
    "### pandas Timestamp replaces datetime's date, time and datetime objects\n",
    "There are no separate classes of objects for date, time and datetime in pandas. The **`Timestamp`** represents a single moment in time. **`Timedelta`** on the other hand is analagous to **`datetime`**'s **`timedelta`** class and is used for adding and subtracting time from **`Timestamp`** objects."
   ]
  },
  {
   "cell_type": "markdown",
   "metadata": {},
   "source": [
    "### Two main ways to create Timestamps\n",
    "* pd.Timestamp - Turns strings, ints/floats (since epoch) and datetime objects into Timestamps\n",
    "* pd.to_datetime - Same arguments as **`pd.Timestamp`** but much greater power with arguments for turning strings into Timestamps. Able to convert entire pandas Series into timestamps.\n",
    "\n",
    "### pd.Timestamp examples\n",
    "**`pd.Timestamp`** is extremely flexible and intelligent and create timestamps and a wide variety of ways."
   ]
  },
  {
   "cell_type": "code",
   "execution_count": 23,
   "metadata": {
    "collapsed": false
   },
   "outputs": [
    {
     "data": {
      "text/plain": [
       "Timestamp('2012-12-21 05:10:08.895123')"
      ]
     },
     "execution_count": 23,
     "metadata": {},
     "output_type": "execute_result"
    }
   ],
   "source": [
    "pd.Timestamp(year=2012, month=12, day=21, hour=5, minute=10, second=8, microsecond=895123)"
   ]
  },
  {
   "cell_type": "code",
   "execution_count": 24,
   "metadata": {
    "collapsed": false
   },
   "outputs": [
    {
     "data": {
      "text/plain": [
       "Timestamp('2016-01-10 00:00:00')"
      ]
     },
     "execution_count": 24,
     "metadata": {},
     "output_type": "execute_result"
    }
   ],
   "source": [
    "# create with string\n",
    "pd.Timestamp('2016/1/10')"
   ]
  },
  {
   "cell_type": "code",
   "execution_count": 25,
   "metadata": {
    "collapsed": false
   },
   "outputs": [
    {
     "data": {
      "text/plain": [
       "Timestamp('2014-05-10 00:00:00')"
      ]
     },
     "execution_count": 25,
     "metadata": {},
     "output_type": "execute_result"
    }
   ],
   "source": [
    "# intelligentlt parses a mix of - and /\n",
    "pd.Timestamp('2014-5/10')"
   ]
  },
  {
   "cell_type": "code",
   "execution_count": 26,
   "metadata": {
    "collapsed": false
   },
   "outputs": [
    {
     "data": {
      "text/plain": [
       "Timestamp('2019-01-03 20:45:33')"
      ]
     },
     "execution_count": 26,
     "metadata": {},
     "output_type": "execute_result"
    }
   ],
   "source": [
    "# more intelligence\n",
    "pd.Timestamp('Jan 3, 2019 20:45.56')"
   ]
  },
  {
   "cell_type": "code",
   "execution_count": 27,
   "metadata": {
    "collapsed": false
   },
   "outputs": [
    {
     "data": {
      "text/plain": [
       "Timestamp('2016-01-05 05:34:43.123456789')"
      ]
     },
     "execution_count": 27,
     "metadata": {},
     "output_type": "execute_result"
    }
   ],
   "source": [
    "# create a timestamp with nanoseconds\n",
    "# the 'T' in the middle separates the date from the time\n",
    "\n",
    "pd.Timestamp('2016-01-05T05:34:43.123456789')"
   ]
  },
  {
   "cell_type": "markdown",
   "metadata": {},
   "source": [
    "### epoch\n",
    "Python uses the UNIX epoch of Jan 1, 1970. This is officially second 0. By passing a number to **`pd.Timestamp`**, it will convert it to a proper timestamp. The default **`unit`** for the given number is nanoseconds (ns). You can change it to:\n",
    "+ microseconds(us)\n",
    "+ milliseconds(ms)\n",
    "+ seconds(s)\n",
    "+ hours(h)\n",
    "+ days(d)"
   ]
  },
  {
   "cell_type": "code",
   "execution_count": 28,
   "metadata": {
    "collapsed": false
   },
   "outputs": [
    {
     "data": {
      "text/plain": [
       "Timestamp('1970-01-01 00:01:40')"
      ]
     },
     "execution_count": 28,
     "metadata": {},
     "output_type": "execute_result"
    }
   ],
   "source": [
    "# number of seconds passed the epoch\n",
    "pd.Timestamp(100, unit='s')"
   ]
  },
  {
   "cell_type": "code",
   "execution_count": 29,
   "metadata": {
    "collapsed": false
   },
   "outputs": [
    {
     "data": {
      "text/plain": [
       "Timestamp('1970-01-05 04:00:00')"
      ]
     },
     "execution_count": 29,
     "metadata": {},
     "output_type": "execute_result"
    }
   ],
   "source": [
    "# number of hours\n",
    "pd.Timestamp(100, unit='h')"
   ]
  },
  {
   "cell_type": "markdown",
   "metadata": {},
   "source": [
    "### Using datetime objects"
   ]
  },
  {
   "cell_type": "code",
   "execution_count": 30,
   "metadata": {
    "collapsed": false
   },
   "outputs": [
    {
     "data": {
      "text/plain": [
       "Timestamp('2016-05-01 06:00:00')"
      ]
     },
     "execution_count": 30,
     "metadata": {},
     "output_type": "execute_result"
    }
   ],
   "source": [
    "# can pass in datetime objects to\n",
    "pd.Timestamp(datetime.datetime(2016, 5, 1, 6))"
   ]
  },
  {
   "cell_type": "code",
   "execution_count": 31,
   "metadata": {
    "collapsed": false
   },
   "outputs": [
    {
     "data": {
      "text/plain": [
       "Timestamp('2012-01-01 00:00:00')"
      ]
     },
     "execution_count": 31,
     "metadata": {},
     "output_type": "execute_result"
    }
   ],
   "source": [
    "pd.Timestamp(datetime.date(2012, 1, 1))"
   ]
  },
  {
   "cell_type": "markdown",
   "metadata": {},
   "source": [
    "### Timestamp attributes\n",
    "There are a few more additional attributes that pandas **`Timestamp`** objects have compared to their **`datetime`** counterparts."
   ]
  },
  {
   "cell_type": "code",
   "execution_count": 32,
   "metadata": {
    "collapsed": true
   },
   "outputs": [],
   "source": [
    "# create a timestamp and get some of its attributes\n",
    "my_timestamp = pd.Timestamp('Jan 3, 2019 20:45.56')"
   ]
  },
  {
   "cell_type": "code",
   "execution_count": 33,
   "metadata": {
    "collapsed": false
   },
   "outputs": [
    {
     "data": {
      "text/plain": [
       "(3, 3, 31, False, 45)"
      ]
     },
     "execution_count": 33,
     "metadata": {},
     "output_type": "execute_result"
    }
   ],
   "source": [
    "# a few of the attributes\n",
    "(\n",
    "    my_timestamp.day,\n",
    "    my_timestamp.dayofweek,\n",
    "    my_timestamp.days_in_month,\n",
    "    my_timestamp.is_month_start,\n",
    "    my_timestamp.minute\n",
    ")"
   ]
  },
  {
   "cell_type": "markdown",
   "metadata": {},
   "source": [
    "### Using `pd.to_datetime` to create a single Timestamp\n",
    "pd.to_datetime is a relatively new function to pandas and has even more functionality for converting objects to Timestamps. It can also convert entire Series of data to timestamps but the following examples will only convert scalar values."
   ]
  },
  {
   "cell_type": "code",
   "execution_count": 34,
   "metadata": {
    "collapsed": false
   },
   "outputs": [
    {
     "data": {
      "text/plain": [
       "Timestamp('2016-01-05 00:00:00')"
      ]
     },
     "execution_count": 34,
     "metadata": {},
     "output_type": "execute_result"
    }
   ],
   "source": [
    "# Switch month and year. to_datetime has addtional functionality. Check arguments for more\n",
    "pd.to_datetime('05-01-2016', dayfirst=True)"
   ]
  },
  {
   "cell_type": "code",
   "execution_count": 35,
   "metadata": {
    "collapsed": false
   },
   "outputs": [
    {
     "data": {
      "text/plain": [
       "Timestamp('2016-01-05 00:00:00')"
      ]
     },
     "execution_count": 35,
     "metadata": {},
     "output_type": "execute_result"
    }
   ],
   "source": [
    "# use same directives as datetime objects for more complex arrangements of dates\n",
    "pd.to_datetime(\"01-a2016-bbb05\", format=\"%m-a%Y-bbb%d\")"
   ]
  },
  {
   "cell_type": "markdown",
   "metadata": {},
   "source": [
    "### Going back to datetime\n",
    "Timestamp objects have a couple methods to convert back to a datetime object or a numpy datetime64 object which forms the base for pandas Timestamp object."
   ]
  },
  {
   "cell_type": "code",
   "execution_count": 36,
   "metadata": {
    "collapsed": false
   },
   "outputs": [
    {
     "data": {
      "text/plain": [
       "datetime.datetime(2019, 1, 3, 20, 45, 33)"
      ]
     },
     "execution_count": 36,
     "metadata": {},
     "output_type": "execute_result"
    }
   ],
   "source": [
    "# convert to datetime. Nanoseconds get chopped off\n",
    "my_timestamp.to_pydatetime()"
   ]
  },
  {
   "cell_type": "code",
   "execution_count": 37,
   "metadata": {
    "collapsed": false
   },
   "outputs": [
    {
     "data": {
      "text/plain": [
       "numpy.datetime64('2019-01-03T20:45:33.000000000')"
      ]
     },
     "execution_count": 37,
     "metadata": {},
     "output_type": "execute_result"
    }
   ],
   "source": [
    "# its already datetime64 but to explicity make it a numpy object\n",
    "my_timestamp.to_datetime64()"
   ]
  },
  {
   "cell_type": "code",
   "execution_count": 38,
   "metadata": {
    "collapsed": false
   },
   "outputs": [
    {
     "data": {
      "text/plain": [
       "pandas.tslib.Timestamp"
      ]
     },
     "execution_count": 38,
     "metadata": {},
     "output_type": "execute_result"
    }
   ],
   "source": [
    "# check timestamp type\n",
    "type(my_timestamp)"
   ]
  },
  {
   "cell_type": "markdown",
   "metadata": {},
   "source": [
    "## Timestamp addition/subtraction with Timedelta64\n",
    "The Timedelta64 object works similary to timedelta from the datetime library."
   ]
  },
  {
   "cell_type": "code",
   "execution_count": 39,
   "metadata": {
    "collapsed": false
   },
   "outputs": [
    {
     "data": {
      "text/plain": [
       "Timedelta('45 days 00:00:00.000000')"
      ]
     },
     "execution_count": 39,
     "metadata": {},
     "output_type": "execute_result"
    }
   ],
   "source": [
    "my_timedelta64 = pd.Timedelta(weeks = 5, days = 10, nanoseconds = 190)\n",
    "my_timedelta64"
   ]
  },
  {
   "cell_type": "code",
   "execution_count": 40,
   "metadata": {
    "collapsed": false
   },
   "outputs": [
    {
     "data": {
      "text/plain": [
       "Timestamp('2019-02-17 20:45:33.000000190')"
      ]
     },
     "execution_count": 40,
     "metadata": {},
     "output_type": "execute_result"
    }
   ],
   "source": [
    "# add the time delta\n",
    "my_timestamp + my_timedelta64"
   ]
  },
  {
   "cell_type": "code",
   "execution_count": 41,
   "metadata": {
    "collapsed": false
   },
   "outputs": [
    {
     "data": {
      "text/plain": [
       "Timestamp('2006-09-08 20:45:32.999981')"
      ]
     },
     "execution_count": 41,
     "metadata": {},
     "output_type": "execute_result"
    }
   ],
   "source": [
    "# subtract a multiple of the time delta\n",
    "my_timestamp - 100 * my_timedelta64"
   ]
  },
  {
   "cell_type": "markdown",
   "metadata": {},
   "source": [
    "## Creating date ranges with pd.date_range\n",
    "Creating single dates is usually not what you will be doing in pandas. The **date_range** function gives you the ability to create very precise and varied ranges of Timestamps. The **`date_range`** function formally creates a **`DatetimeIndex`** object (and not a list or a range) which is naturally meant to be stored as a pandas index in a Series or DataFrame. You can also assign to a column of a DataFrame and similarly as the values of a Series. The data type will be **`datetime64`**.\n",
    "\n",
    "A couple common ways of making a range of dates are outlined below\n",
    "* Supply the start and end dates along with a frequency\n",
    "* Supply exactly one of start or end date and then give the number of periods and frequency\n",
    "\n",
    "Start and end dates can be strings or datetime/Timestamp objects"
   ]
  },
  {
   "cell_type": "code",
   "execution_count": 42,
   "metadata": {
    "collapsed": false
   },
   "outputs": [
    {
     "data": {
      "text/plain": [
       "DatetimeIndex(['2016-01-01', '2016-01-02', '2016-01-03', '2016-01-04',\n",
       "               '2016-01-05', '2016-01-06', '2016-01-07', '2016-01-08',\n",
       "               '2016-01-09', '2016-01-10',\n",
       "               ...\n",
       "               '2016-05-22', '2016-05-23', '2016-05-24', '2016-05-25',\n",
       "               '2016-05-26', '2016-05-27', '2016-05-28', '2016-05-29',\n",
       "               '2016-05-30', '2016-05-31'],\n",
       "              dtype='datetime64[ns]', length=152, freq='D')"
      ]
     },
     "execution_count": 42,
     "metadata": {},
     "output_type": "execute_result"
    }
   ],
   "source": [
    "# give start and end dates and generate each day\n",
    "# notice that the type of each object is datetime64 and there arer 152 days and the frequency is days\n",
    "# Also notice the type of the whole range is of DatetimeIndex and not a list. pandas does some extra work to\n",
    "# make the DatetimeIndex faster and more powerful than a list\n",
    "pd.date_range(start=\"2016-01-01\", end=\"2016-05-31\", freq='D')"
   ]
  },
  {
   "cell_type": "code",
   "execution_count": 43,
   "metadata": {
    "collapsed": false
   },
   "outputs": [
    {
     "data": {
      "text/plain": [
       "DatetimeIndex(['2016-01-01', '2016-01-04', '2016-01-05', '2016-01-06',\n",
       "               '2016-01-07', '2016-01-08', '2016-01-11', '2016-01-12',\n",
       "               '2016-01-13', '2016-01-14',\n",
       "               ...\n",
       "               '2016-05-18', '2016-05-19', '2016-05-20', '2016-05-23',\n",
       "               '2016-05-24', '2016-05-25', '2016-05-26', '2016-05-27',\n",
       "               '2016-05-30', '2016-05-31'],\n",
       "              dtype='datetime64[ns]', length=108, freq='B')"
      ]
     },
     "execution_count": 43,
     "metadata": {},
     "output_type": "execute_result"
    }
   ],
   "source": [
    "# Do the same range except only do business days\n",
    "pd.date_range(start=\"2016-01-01\", end=\"2016-05-31\", freq='B')"
   ]
  },
  {
   "cell_type": "markdown",
   "metadata": {},
   "source": [
    "## Where are these frequencies coming from?\n",
    "Those frequencies are called [offset aliases](http://pandas.pydata.org/pandas-docs/stable/timeseries.html#offset-aliases) and determine at what intervals the date range will output. The table below shows all the possible offsets and their aliases (what you will use).\n",
    "\n",
    "<table border=\"1\" class=\"docutils\">\n",
    "<colgroup>\n",
    "<col width=\"13%\" />\n",
    "<col width=\"87%\" />\n",
    "</colgroup>\n",
    "<thead valign=\"bottom\">\n",
    "<tr class=\"row-odd\"><th class=\"head\">Alias</th>\n",
    "<th class=\"head\">Description</th>\n",
    "</tr>\n",
    "</thead>\n",
    "<tbody valign=\"top\">\n",
    "<tr class=\"row-even\"><td>B</td>\n",
    "<td>business day frequency</td>\n",
    "</tr>\n",
    "<tr class=\"row-odd\"><td>C</td>\n",
    "<td>custom business day frequency (experimental)</td>\n",
    "</tr>\n",
    "<tr class=\"row-even\"><td>D</td>\n",
    "<td>calendar day frequency</td>\n",
    "</tr>\n",
    "<tr class=\"row-odd\"><td>W</td>\n",
    "<td>weekly frequency</td>\n",
    "</tr>\n",
    "<tr class=\"row-even\"><td>M</td>\n",
    "<td>month end frequency</td>\n",
    "</tr>\n",
    "<tr class=\"row-odd\"><td>BM</td>\n",
    "<td>business month end frequency</td>\n",
    "</tr>\n",
    "<tr class=\"row-even\"><td>CBM</td>\n",
    "<td>custom business month end frequency</td>\n",
    "</tr>\n",
    "<tr class=\"row-odd\"><td>MS</td>\n",
    "<td>month start frequency</td>\n",
    "</tr>\n",
    "<tr class=\"row-even\"><td>BMS</td>\n",
    "<td>business month start frequency</td>\n",
    "</tr>\n",
    "<tr class=\"row-odd\"><td>CBMS</td>\n",
    "<td>custom business month start frequency</td>\n",
    "</tr>\n",
    "<tr class=\"row-even\"><td>Q</td>\n",
    "<td>quarter end frequency</td>\n",
    "</tr>\n",
    "<tr class=\"row-odd\"><td>BQ</td>\n",
    "<td>business quarter endfrequency</td>\n",
    "</tr>\n",
    "<tr class=\"row-even\"><td>QS</td>\n",
    "<td>quarter start frequency</td>\n",
    "</tr>\n",
    "<tr class=\"row-odd\"><td>BQS</td>\n",
    "<td>business quarter start frequency</td>\n",
    "</tr>\n",
    "<tr class=\"row-even\"><td>A</td>\n",
    "<td>year end frequency</td>\n",
    "</tr>\n",
    "<tr class=\"row-odd\"><td>BA</td>\n",
    "<td>business year end frequency</td>\n",
    "</tr>\n",
    "<tr class=\"row-even\"><td>AS</td>\n",
    "<td>year start frequency</td>\n",
    "</tr>\n",
    "<tr class=\"row-odd\"><td>BAS</td>\n",
    "<td>business year start frequency</td>\n",
    "</tr>\n",
    "<tr class=\"row-even\"><td>BH</td>\n",
    "<td>business hour frequency</td>\n",
    "</tr>\n",
    "<tr class=\"row-odd\"><td>H</td>\n",
    "<td>hourly frequency</td>\n",
    "</tr>\n",
    "<tr class=\"row-even\"><td>T, min</td>\n",
    "<td>minutely frequency</td>\n",
    "</tr>\n",
    "<tr class=\"row-odd\"><td>S</td>\n",
    "<td>secondly frequency</td>\n",
    "</tr>\n",
    "<tr class=\"row-even\"><td>L, ms</td>\n",
    "<td>milliseconds</td>\n",
    "</tr>\n",
    "<tr class=\"row-odd\"><td>U, us</td>\n",
    "<td>microseconds</td>\n",
    "</tr>\n",
    "<tr class=\"row-even\"><td>N</td>\n",
    "<td>nanoseconds</td>\n",
    "</tr>\n",
    "</tbody>\n",
    "</table>"
   ]
  },
  {
   "cell_type": "code",
   "execution_count": 44,
   "metadata": {
    "collapsed": false
   },
   "outputs": [
    {
     "data": {
      "text/plain": [
       "DatetimeIndex(['2016-01-29', '2016-02-29', '2016-03-31', '2016-04-29',\n",
       "               '2016-05-31'],\n",
       "              dtype='datetime64[ns]', freq='BM')"
      ]
     },
     "execution_count": 44,
     "metadata": {},
     "output_type": "execute_result"
    }
   ],
   "source": [
    "# Do the same thing except for business end of month\n",
    "# only 5 months here\n",
    "pd.date_range(start=\"2016-01-01\", end=\"2016-05-31\", freq='BM')"
   ]
  },
  {
   "cell_type": "code",
   "execution_count": 130,
   "metadata": {
    "collapsed": false
   },
   "outputs": [
    {
     "data": {
      "text/plain": [
       "DatetimeIndex(['2016-01-06', '2016-02-10', '2016-03-16', '2016-04-20',\n",
       "               '2016-05-25'],\n",
       "              dtype='datetime64[ns]', freq='5W-WED')"
      ]
     },
     "execution_count": 130,
     "metadata": {},
     "output_type": "execute_result"
    }
   ],
   "source": [
    "pd.date_range(start=\"2016-01-01\", end=\"2016-05-31\", freq='5W-WED')  #all dates are wednesdays, go for five weeks, \"anchored offset\""
   ]
  },
  {
   "cell_type": "code",
   "execution_count": 45,
   "metadata": {
    "collapsed": false
   },
   "outputs": [
    {
     "data": {
      "text/plain": [
       "DatetimeIndex(['2016-01-10', '2016-01-17', '2016-01-24', '2016-01-31',\n",
       "               '2016-02-07', '2016-02-14', '2016-02-21', '2016-02-28',\n",
       "               '2016-03-06', '2016-03-13'],\n",
       "              dtype='datetime64[ns]', freq='W-SUN')"
      ]
     },
     "execution_count": 45,
     "metadata": {},
     "output_type": "execute_result"
    }
   ],
   "source": [
    "# use the periods argument to specify how many dates you want.\n",
    "# Specify only one of either start or end date\n",
    "pd.date_range(start=\"2016-01-10\", periods=10, freq='W')"
   ]
  },
  {
   "cell_type": "markdown",
   "metadata": {},
   "source": [
    "## An actual time series\n",
    "So far we have been playing around with standard Python and pandas date functionality without any data attached to the dates. We will now begin to explore slicing a Series of time series data."
   ]
  },
  {
   "cell_type": "code",
   "execution_count": 131,
   "metadata": {
    "collapsed": false
   },
   "outputs": [],
   "source": [
    "# get a year and a half of business day data\n",
    "idx = pd.date_range(start='2014-01-01', end='2015-06-30', freq='B') #B is business days\n",
    "s = pd.Series(data=np.random.rand(len(idx)), index=idx)"
   ]
  },
  {
   "cell_type": "code",
   "execution_count": 132,
   "metadata": {
    "collapsed": false
   },
   "outputs": [
    {
     "data": {
      "text/plain": [
       "2014-01-01    0.924684\n",
       "2014-01-02    0.658706\n",
       "2014-01-03    0.578052\n",
       "2014-01-06    0.679835\n",
       "2014-01-07    0.035350\n",
       "2014-01-08    0.514609\n",
       "2014-01-09    0.489039\n",
       "2014-01-10    0.523587\n",
       "2014-01-13    0.373466\n",
       "2014-01-14    0.672690\n",
       "2014-01-15    0.856123\n",
       "2014-01-16    0.082237\n",
       "2014-01-17    0.455906\n",
       "2014-01-20    0.941498\n",
       "2014-01-21    0.265372\n",
       "Freq: B, dtype: float64"
      ]
     },
     "execution_count": 132,
     "metadata": {},
     "output_type": "execute_result"
    }
   ],
   "source": [
    "s.head(15)"
   ]
  },
  {
   "cell_type": "markdown",
   "metadata": {},
   "source": [
    "## Intelligent slicing with [ ]\n",
    "We have a series of random data with a DatetimeIndex. It was stressed that using the brackets [] with series is not good practice but when you have a DatetimeIndex we can relax this as the index is not going to be ambiguous."
   ]
  },
  {
   "cell_type": "code",
   "execution_count": 48,
   "metadata": {
    "collapsed": false
   },
   "outputs": [
    {
     "data": {
      "text/plain": [
       "0.92749176106919617"
      ]
     },
     "execution_count": 48,
     "metadata": {},
     "output_type": "execute_result"
    }
   ],
   "source": [
    "# Get a single date with []\n",
    "s['2014-01-17']"
   ]
  },
  {
   "cell_type": "code",
   "execution_count": 49,
   "metadata": {
    "collapsed": false
   },
   "outputs": [
    {
     "data": {
      "text/plain": [
       "2014-01-20    0.036597\n",
       "2014-01-21    0.768213\n",
       "2014-01-22    0.097266\n",
       "2014-01-23    0.227016\n",
       "2014-01-24    0.293888\n",
       "2014-01-27    0.251900\n",
       "2014-01-28    0.445646\n",
       "2014-01-29    0.031862\n",
       "2014-01-30    0.305452\n",
       "2014-01-31    0.392871\n",
       "2014-02-03    0.959165\n",
       "2014-02-04    0.049955\n",
       "2014-02-05    0.799157\n",
       "Freq: B, dtype: float64"
      ]
     },
     "execution_count": 49,
     "metadata": {},
     "output_type": "execute_result"
    }
   ],
   "source": [
    "# Get a range of dates by using slice notation\n",
    "# since january 18th is not in the series it simply doesn't return a value for it\n",
    "s['2014-01-18':'2014-02-5']"
   ]
  },
  {
   "cell_type": "code",
   "execution_count": 50,
   "metadata": {
    "collapsed": false
   },
   "outputs": [
    {
     "data": {
      "text/plain": [
       "2015-02-02    0.640812\n",
       "2015-02-03    0.494334\n",
       "2015-02-04    0.268162\n",
       "2015-02-05    0.911440\n",
       "2015-02-06    0.306842\n",
       "2015-02-09    0.690014\n",
       "2015-02-10    0.817288\n",
       "2015-02-11    0.137627\n",
       "2015-02-12    0.542062\n",
       "2015-02-13    0.891472\n",
       "2015-02-16    0.402934\n",
       "2015-02-17    0.749885\n",
       "2015-02-18    0.065545\n",
       "2015-02-19    0.112574\n",
       "2015-02-20    0.758200\n",
       "2015-02-23    0.455357\n",
       "2015-02-24    0.142524\n",
       "2015-02-25    0.653033\n",
       "2015-02-26    0.461854\n",
       "2015-02-27    0.437054\n",
       "Freq: B, dtype: float64"
      ]
     },
     "execution_count": 50,
     "metadata": {},
     "output_type": "execute_result"
    }
   ],
   "source": [
    "# get an entire month\n",
    "s['2015-02']"
   ]
  },
  {
   "cell_type": "code",
   "execution_count": 51,
   "metadata": {
    "collapsed": false
   },
   "outputs": [
    {
     "data": {
      "text/plain": [
       "2014-12-18    0.188835\n",
       "2014-12-19    0.146477\n",
       "2014-12-22    0.058646\n",
       "2014-12-23    0.452481\n",
       "2014-12-24    0.253815\n",
       "2014-12-25    0.468950\n",
       "2014-12-26    0.646987\n",
       "2014-12-29    0.953018\n",
       "2014-12-30    0.853961\n",
       "2014-12-31    0.040594\n",
       "Freq: B, dtype: float64"
      ]
     },
     "execution_count": 51,
     "metadata": {},
     "output_type": "execute_result"
    }
   ],
   "source": [
    "# get an entire year\n",
    "s['2014'].tail(10)"
   ]
  },
  {
   "cell_type": "code",
   "execution_count": 52,
   "metadata": {
    "collapsed": false
   },
   "outputs": [
    {
     "data": {
      "text/plain": [
       "2014-01-20    0.036597\n",
       "2014-01-21    0.768213\n",
       "2014-01-22    0.097266\n",
       "2014-01-23    0.227016\n",
       "2014-01-24    0.293888\n",
       "2014-01-27    0.251900\n",
       "2014-01-28    0.445646\n",
       "2014-01-29    0.031862\n",
       "2014-01-30    0.305452\n",
       "2014-01-31    0.392871\n",
       "2014-02-03    0.959165\n",
       "2014-02-04    0.049955\n",
       "2014-02-05    0.799157\n",
       "Freq: B, dtype: float64"
      ]
     },
     "execution_count": 52,
     "metadata": {},
     "output_type": "execute_result"
    }
   ],
   "source": [
    "# .loc will do the same thing\n",
    "s.loc['2014-01-18':'2014-02-5']"
   ]
  },
  {
   "cell_type": "markdown",
   "metadata": {},
   "source": [
    "## Shifting a Series up or down\n",
    "The **shift** and **tshift** methods can shift a Series up or down. **`shift`** moves the **values** of the Series up or down the exact number that it was passed. **`tshift`**  shifts the **index** of the Series up or down based on the **frequency** of the **DatetimeIndex** object. "
   ]
  },
  {
   "cell_type": "code",
   "execution_count": 53,
   "metadata": {
    "collapsed": false
   },
   "outputs": [
    {
     "data": {
      "text/plain": [
       "2014-01-01    0.878435\n",
       "2014-01-02    0.955676\n",
       "2014-01-03    0.360992\n",
       "2014-01-06    0.114185\n",
       "2014-01-07    0.631229\n",
       "2014-01-08    0.619441\n",
       "2014-01-09    0.384373\n",
       "2014-01-10    0.702924\n",
       "2014-01-13    0.574975\n",
       "2014-01-14    0.666973\n",
       "Freq: B, dtype: float64"
      ]
     },
     "execution_count": 53,
     "metadata": {},
     "output_type": "execute_result"
    }
   ],
   "source": [
    "# original series\n",
    "s.head(10)"
   ]
  },
  {
   "cell_type": "code",
   "execution_count": 54,
   "metadata": {
    "collapsed": false
   },
   "outputs": [
    {
     "data": {
      "text/plain": [
       "2014-01-01         NaN\n",
       "2014-01-02         NaN\n",
       "2014-01-03         NaN\n",
       "2014-01-06         NaN\n",
       "2014-01-07         NaN\n",
       "2014-01-08    0.878435\n",
       "2014-01-09    0.955676\n",
       "2014-01-10    0.360992\n",
       "2014-01-13    0.114185\n",
       "2014-01-14    0.631229\n",
       "Freq: B, dtype: float64"
      ]
     },
     "execution_count": 54,
     "metadata": {},
     "output_type": "execute_result"
    }
   ],
   "source": [
    "# use shift to shift the values up 5 days\n",
    "# the index stays the same and missing values appear where there is no previous data\n",
    "s.shift(5).head(10)"
   ]
  },
  {
   "cell_type": "code",
   "execution_count": 55,
   "metadata": {
    "collapsed": false
   },
   "outputs": [
    {
     "data": {
      "text/plain": [
       "2015-06-17    0.690160\n",
       "2015-06-18    0.583555\n",
       "2015-06-19    0.252383\n",
       "2015-06-22    0.727220\n",
       "2015-06-23    0.027900\n",
       "2015-06-24    0.127065\n",
       "2015-06-25    0.985698\n",
       "2015-06-26         NaN\n",
       "2015-06-29         NaN\n",
       "2015-06-30         NaN\n",
       "Freq: B, dtype: float64"
      ]
     },
     "execution_count": 55,
     "metadata": {},
     "output_type": "execute_result"
    }
   ],
   "source": [
    "# down shift 3 days\n",
    "# by looking at the tail we see that the last three values are missing\n",
    "s.shift(-3).tail(10)"
   ]
  },
  {
   "cell_type": "code",
   "execution_count": 133,
   "metadata": {
    "collapsed": false
   },
   "outputs": [
    {
     "data": {
      "text/plain": [
       "2014-01-01    0.679835\n",
       "2014-01-02    0.035350\n",
       "2014-01-03    0.514609\n",
       "2014-01-06    0.489039\n",
       "2014-01-07    0.523587\n",
       "2014-01-08    0.373466\n",
       "2014-01-09    0.672690\n",
       "2014-01-10    0.856123\n",
       "2014-01-13    0.082237\n",
       "2014-01-14    0.455906\n",
       "Freq: B, dtype: float64"
      ]
     },
     "execution_count": 133,
     "metadata": {},
     "output_type": "execute_result"
    }
   ],
   "source": [
    "s.shift(-3).head(10) # when you shift, you shift data out (lose it)  shift works for any series or index"
   ]
  },
  {
   "cell_type": "markdown",
   "metadata": {},
   "source": [
    "### `tshift`\n",
    "Be careful, **`tshift`** moves by frequency."
   ]
  },
  {
   "cell_type": "code",
   "execution_count": 56,
   "metadata": {
    "collapsed": false
   },
   "outputs": [
    {
     "data": {
      "text/plain": [
       "2014-01-06    0.878435\n",
       "2014-01-07    0.955676\n",
       "2014-01-08    0.360992\n",
       "2014-01-09    0.114185\n",
       "2014-01-10    0.631229\n",
       "Freq: B, dtype: float64"
      ]
     },
     "execution_count": 56,
     "metadata": {},
     "output_type": "execute_result"
    }
   ],
   "source": [
    "# This will shift 3 BUSINESS days or whatever the original frequency was. \n",
    "# notice how only the index was changed\n",
    "s.tshift(3).head()"
   ]
  },
  {
   "cell_type": "code",
   "execution_count": 57,
   "metadata": {
    "collapsed": false
   },
   "outputs": [
    {
     "data": {
      "text/plain": [
       "2014-01-04    0.878435\n",
       "2014-01-05    0.955676\n",
       "2014-01-06    0.360992\n",
       "2014-01-09    0.114185\n",
       "2014-01-10    0.631229\n",
       "Freq: B, dtype: float64"
      ]
     },
     "execution_count": 57,
     "metadata": {},
     "output_type": "execute_result"
    }
   ],
   "source": [
    "# Shift three normal days\n",
    "# notice how the index is different than the series ouput above\n",
    "s.tshift(3, freq='D').head()"
   ]
  },
  {
   "cell_type": "markdown",
   "metadata": {},
   "source": [
    "## Sampling a particular frequency of your time series data\n",
    "Occasionally during a time series analysis you would want to grab a small, regular repeating fraction of your data. Every friday, or every other tuesday or every end of business quarter. The **asfreq** method allows for this flexibility and coupled with **anchored offsets** provides some nifty time slices can be grabbed."
   ]
  },
  {
   "cell_type": "code",
   "execution_count": 58,
   "metadata": {
    "collapsed": false
   },
   "outputs": [
    {
     "data": {
      "text/plain": [
       "2014-01-31    0.392871\n",
       "2014-02-28    0.031827\n",
       "2014-03-31    0.880056\n",
       "2014-04-30    0.283933\n",
       "2014-05-30    0.642194\n",
       "2014-06-30    0.127116\n",
       "2014-07-31    0.889257\n",
       "2014-08-29    0.753736\n",
       "2014-09-30    0.018655\n",
       "2014-10-31    0.818122\n",
       "2014-11-28    0.926780\n",
       "2014-12-31    0.040594\n",
       "2015-01-30    0.208749\n",
       "2015-02-27    0.437054\n",
       "2015-03-31    0.833645\n",
       "2015-04-30    0.381400\n",
       "2015-05-29    0.169390\n",
       "2015-06-30    0.985698\n",
       "Freq: BM, dtype: float64"
      ]
     },
     "execution_count": 58,
     "metadata": {},
     "output_type": "execute_result"
    }
   ],
   "source": [
    "# keep using the same time series from above and grab the end of each business month\n",
    "# note how pandas automatically picks the last business day and not last day of each month for you\n",
    "# this is called \"down sampling\"  BM = \"Business Month End\".  BS = \"Business Start Month\"\n",
    "# Upsampling is to select from original data more frequently \n",
    "s.asfreq(freq='BM')"
   ]
  },
  {
   "cell_type": "markdown",
   "metadata": {},
   "source": [
    "### Using Anchored offsets\n",
    "[An anchored offset](http://pandas.pydata.org/pandas-docs/stable/timeseries.html#anchored-offsets) allows for a particular frequency to be anchored to a specific day/month. It is most commonly used with frequencies in weeks to determine the start or end of that week"
   ]
  },
  {
   "cell_type": "code",
   "execution_count": 59,
   "metadata": {
    "collapsed": false
   },
   "outputs": [
    {
     "data": {
      "text/plain": [
       "2014-01-05   NaN\n",
       "2014-01-12   NaN\n",
       "2014-01-19   NaN\n",
       "2014-01-26   NaN\n",
       "2014-02-02   NaN\n",
       "2014-02-09   NaN\n",
       "2014-02-16   NaN\n",
       "2014-02-23   NaN\n",
       "2014-03-02   NaN\n",
       "2014-03-09   NaN\n",
       "Freq: W-SUN, dtype: float64"
      ]
     },
     "execution_count": 59,
     "metadata": {},
     "output_type": "execute_result"
    }
   ],
   "source": [
    "# get one data per week\n",
    "# But which one does pandas default to?\n",
    "# Look closely at the bottom. Freq: W-SUN means it gets the value of the series for each sunday in the week\n",
    "# Since this data has only business days, they will all return as NaN for Sunday\n",
    "s.asfreq(\"W\").head(10)"
   ]
  },
  {
   "cell_type": "code",
   "execution_count": 60,
   "metadata": {
    "collapsed": false
   },
   "outputs": [
    {
     "data": {
      "text/plain": [
       "2014-01-03    0.360992\n",
       "2014-01-10    0.702924\n",
       "2014-01-17    0.927492\n",
       "2014-01-24    0.293888\n",
       "2014-01-31    0.392871\n",
       "2014-02-07    0.896021\n",
       "2014-02-14    0.516043\n",
       "2014-02-21    0.604347\n",
       "2014-02-28    0.031827\n",
       "2014-03-07    0.388849\n",
       "Freq: W-FRI, dtype: float64"
      ]
     },
     "execution_count": 60,
     "metadata": {},
     "output_type": "execute_result"
    }
   ],
   "source": [
    "# lets fix this by getting the value of friday for each week\n",
    "s.asfreq('W-FRI').head(10)"
   ]
  },
  {
   "cell_type": "code",
   "execution_count": 61,
   "metadata": {
    "collapsed": false
   },
   "outputs": [
    {
     "data": {
      "text/plain": [
       "2014-01-01    0.878435\n",
       "2014-01-22    0.097266\n",
       "2014-02-12    0.064294\n",
       "2014-03-05    0.511359\n",
       "2014-03-26    0.088786\n",
       "2014-04-16    0.832184\n",
       "2014-05-07    0.164137\n",
       "2014-05-28    0.609976\n",
       "2014-06-18    0.464429\n",
       "2014-07-09    0.865308\n",
       "2014-07-30    0.068209\n",
       "2014-08-20    0.122413\n",
       "2014-09-10    0.366117\n",
       "2014-10-01    0.683190\n",
       "2014-10-22    0.471621\n",
       "2014-11-12    0.273339\n",
       "2014-12-03    0.157574\n",
       "2014-12-24    0.253815\n",
       "2015-01-14    0.954778\n",
       "2015-02-04    0.268162\n",
       "2015-02-25    0.653033\n",
       "2015-03-18    0.975272\n",
       "2015-04-08    0.104166\n",
       "2015-04-29    0.981014\n",
       "2015-05-20    0.789527\n",
       "2015-06-10    0.321127\n",
       "Freq: 3W-WED, dtype: float64"
      ]
     },
     "execution_count": 61,
     "metadata": {},
     "output_type": "execute_result"
    }
   ],
   "source": [
    "# How about every third Wednesday?\n",
    "# pretty amazing\n",
    "s.asfreq('3W-WED')"
   ]
  },
  {
   "cell_type": "code",
   "execution_count": 62,
   "metadata": {
    "collapsed": false
   },
   "outputs": [
    {
     "data": {
      "text/plain": [
       "2014-01-01 00:00:00    0.878435\n",
       "2014-01-01 05:00:00         NaN\n",
       "2014-01-01 10:00:00         NaN\n",
       "2014-01-01 15:00:00         NaN\n",
       "2014-01-01 20:00:00         NaN\n",
       "2014-01-02 01:00:00         NaN\n",
       "2014-01-02 06:00:00         NaN\n",
       "2014-01-02 11:00:00         NaN\n",
       "2014-01-02 16:00:00         NaN\n",
       "2014-01-02 21:00:00         NaN\n",
       "2014-01-03 02:00:00         NaN\n",
       "2014-01-03 07:00:00         NaN\n",
       "2014-01-03 12:00:00         NaN\n",
       "2014-01-03 17:00:00         NaN\n",
       "2014-01-03 22:00:00         NaN\n",
       "Freq: 5H, dtype: float64"
      ]
     },
     "execution_count": 62,
     "metadata": {},
     "output_type": "execute_result"
    }
   ],
   "source": [
    "# How about every 5 hours?\n",
    "# most of these dates don't correspond with data\n",
    "s.asfreq('5H').head(15)"
   ]
  },
  {
   "cell_type": "markdown",
   "metadata": {},
   "source": [
    "# 'Resampling' - grouping data over certain time frequencies\n",
    "Resampling is a very confusing word. It is used exactly like the **`groupby`** method to perform a calculation on certain independent subsets of data. The groups for **`resample`** are simply chunks of time instead of unique combinations of column values.\n",
    "\n",
    "### Aggregating\n",
    "Many times, it will be necessary to aggregate time series data over a certain regular interval of time. Aggregating meaning that a function will be applied to an interval of a time series to produce a single number. Summing the total values over a month, or finding the mean of every 2 week period, or finding the max value over each year, etc... pandas uses the confusing (in my opinion) term 'resampling' to denote this aggregation over a time period."
   ]
  },
  {
   "cell_type": "code",
   "execution_count": 135,
   "metadata": {
    "collapsed": false
   },
   "outputs": [
    {
     "data": {
      "text/plain": [
       "2014-01-01    0.924684\n",
       "2014-01-02    0.658706\n",
       "2014-01-03    0.578052\n",
       "2014-01-06    0.679835\n",
       "2014-01-07    0.035350\n",
       "2014-01-08    0.514609\n",
       "2014-01-09    0.489039\n",
       "2014-01-10    0.523587\n",
       "2014-01-13    0.373466\n",
       "2014-01-14    0.672690\n",
       "Freq: B, dtype: float64"
      ]
     },
     "execution_count": 135,
     "metadata": {},
     "output_type": "execute_result"
    }
   ],
   "source": [
    "s.head(10)"
   ]
  },
  {
   "cell_type": "code",
   "execution_count": 136,
   "metadata": {
    "collapsed": false
   },
   "outputs": [
    {
     "data": {
      "text/plain": [
       "2014-01-05    0.924684\n",
       "2014-01-12    0.679835\n",
       "2014-01-19    0.856123\n",
       "2014-01-26    0.941498\n",
       "2014-02-02    0.717879\n",
       "Freq: W-SUN, dtype: float64"
      ]
     },
     "execution_count": 136,
     "metadata": {},
     "output_type": "execute_result"
    }
   ],
   "source": [
    "# get the max value each week\n",
    "s.resample('W').max().head()"
   ]
  },
  {
   "cell_type": "code",
   "execution_count": 64,
   "metadata": {
    "collapsed": false
   },
   "outputs": [
    {
     "data": {
      "text/plain": [
       "2014-01-05    0.955676\n",
       "2014-01-12    0.702924\n",
       "2014-01-19    0.927492\n",
       "2014-01-26    0.768213\n",
       "2014-02-02    0.445646\n",
       "Freq: W-SUN, dtype: float64"
      ]
     },
     "execution_count": 64,
     "metadata": {},
     "output_type": "execute_result"
    }
   ],
   "source": [
    "# can explicity use agg method\n",
    "s.resample('W').agg(np.max).head()"
   ]
  },
  {
   "cell_type": "code",
   "execution_count": 65,
   "metadata": {
    "collapsed": false
   },
   "outputs": [
    {
     "data": {
      "text/plain": [
       "2014-01-31    0.458069\n",
       "2014-02-28    0.539552\n",
       "2014-03-31    0.493618\n",
       "2014-04-30    0.419645\n",
       "2014-05-31    0.550129\n",
       "2014-06-30    0.573762\n",
       "2014-07-31    0.489686\n",
       "2014-08-31    0.532744\n",
       "2014-09-30    0.386748\n",
       "2014-10-31    0.469604\n",
       "2014-11-30    0.532239\n",
       "2014-12-31    0.436556\n",
       "2015-01-31    0.502209\n",
       "2015-02-28    0.496951\n",
       "2015-03-31    0.524905\n",
       "2015-04-30    0.608929\n",
       "2015-05-31    0.462219\n",
       "2015-06-30    0.476363\n",
       "Freq: M, dtype: float64"
      ]
     },
     "execution_count": 65,
     "metadata": {},
     "output_type": "execute_result"
    }
   ],
   "source": [
    "# get the mean each month\n",
    "s.resample('M').mean()"
   ]
  },
  {
   "cell_type": "code",
   "execution_count": 66,
   "metadata": {
    "collapsed": false
   },
   "outputs": [
    {
     "data": {
      "text/plain": [
       "2014-01-31    0.458069\n",
       "2014-02-28    0.539552\n",
       "2014-03-31    0.493618\n",
       "2014-04-30    0.419645\n",
       "2014-05-30    0.550129\n",
       "2014-06-30    0.573762\n",
       "2014-07-31    0.489686\n",
       "2014-08-29    0.532744\n",
       "2014-09-30    0.386748\n",
       "2014-10-31    0.469604\n",
       "2014-11-28    0.532239\n",
       "2014-12-31    0.436556\n",
       "2015-01-30    0.502209\n",
       "2015-02-27    0.496951\n",
       "2015-03-31    0.524905\n",
       "2015-04-30    0.608929\n",
       "2015-05-29    0.462219\n",
       "2015-06-30    0.476363\n",
       "Freq: BM, dtype: float64"
      ]
     },
     "execution_count": 66,
     "metadata": {},
     "output_type": "execute_result"
    }
   ],
   "source": [
    "# Get the mean each business month \n",
    "s.resample('BM').mean()"
   ]
  },
  {
   "cell_type": "code",
   "execution_count": 67,
   "metadata": {
    "collapsed": false
   },
   "outputs": [
    {
     "data": {
      "text/plain": [
       "True"
      ]
     },
     "execution_count": 67,
     "metadata": {},
     "output_type": "execute_result"
    }
   ],
   "source": [
    "# the last two examples give the same exact values\n",
    "(s.resample('BM').mean().values == s.resample('M').mean().values).all()"
   ]
  },
  {
   "cell_type": "code",
   "execution_count": 68,
   "metadata": {
    "collapsed": false
   },
   "outputs": [
    {
     "data": {
      "text/plain": [
       "2014-12-31    0.998519\n",
       "2015-12-31    0.989190\n",
       "Freq: A-DEC, dtype: float64"
      ]
     },
     "execution_count": 68,
     "metadata": {},
     "output_type": "execute_result"
    }
   ],
   "source": [
    "# get max over a year\n",
    "s.resample('A').max()"
   ]
  },
  {
   "cell_type": "code",
   "execution_count": 137,
   "metadata": {
    "collapsed": false
   },
   "outputs": [
    {
     "data": {
      "text/html": [
       "<div>\n",
       "<table border=\"1\" class=\"dataframe\">\n",
       "  <thead>\n",
       "    <tr style=\"text-align: right;\">\n",
       "      <th></th>\n",
       "      <th>max</th>\n",
       "      <th>min</th>\n",
       "      <th>mean</th>\n",
       "      <th>std</th>\n",
       "    </tr>\n",
       "  </thead>\n",
       "  <tbody>\n",
       "    <tr>\n",
       "      <th>2014-01-01</th>\n",
       "      <td>0.924684</td>\n",
       "      <td>0.035350</td>\n",
       "      <td>0.550483</td>\n",
       "      <td>0.250821</td>\n",
       "    </tr>\n",
       "    <tr>\n",
       "      <th>2014-01-11</th>\n",
       "      <td>0.941498</td>\n",
       "      <td>0.082237</td>\n",
       "      <td>0.563653</td>\n",
       "      <td>0.322409</td>\n",
       "    </tr>\n",
       "    <tr>\n",
       "      <th>2014-01-21</th>\n",
       "      <td>0.717879</td>\n",
       "      <td>0.029485</td>\n",
       "      <td>0.475767</td>\n",
       "      <td>0.251193</td>\n",
       "    </tr>\n",
       "    <tr>\n",
       "      <th>2014-01-31</th>\n",
       "      <td>0.841956</td>\n",
       "      <td>0.001252</td>\n",
       "      <td>0.377445</td>\n",
       "      <td>0.346338</td>\n",
       "    </tr>\n",
       "    <tr>\n",
       "      <th>2014-02-10</th>\n",
       "      <td>0.793398</td>\n",
       "      <td>0.295194</td>\n",
       "      <td>0.465859</td>\n",
       "      <td>0.205367</td>\n",
       "    </tr>\n",
       "  </tbody>\n",
       "</table>\n",
       "</div>"
      ],
      "text/plain": [
       "                 max       min      mean       std\n",
       "2014-01-01  0.924684  0.035350  0.550483  0.250821\n",
       "2014-01-11  0.941498  0.082237  0.563653  0.322409\n",
       "2014-01-21  0.717879  0.029485  0.475767  0.251193\n",
       "2014-01-31  0.841956  0.001252  0.377445  0.346338\n",
       "2014-02-10  0.793398  0.295194  0.465859  0.205367"
      ]
     },
     "execution_count": 137,
     "metadata": {},
     "output_type": "execute_result"
    }
   ],
   "source": [
    "# use many aggregate functions\n",
    "s.resample('10D').agg(['max', 'min', 'mean', 'std']).head()"
   ]
  },
  {
   "cell_type": "markdown",
   "metadata": {},
   "source": [
    "### Upsampling\n",
    "'Upsampling' refers to choosing intervals of time for the **`resample`** that is less than the frequency of the index. For instance, resampling every 6 hours for a DatetimeIndex with a 1 day frequency. \n",
    "\n",
    "We can fill in the missing values in a number of different ways."
   ]
  },
  {
   "cell_type": "code",
   "execution_count": 70,
   "metadata": {
    "collapsed": false
   },
   "outputs": [],
   "source": [
    "# sample every 6 hours\n",
    "# first save a sa resmaple object\n",
    "\n",
    "r = s.resample('6H')"
   ]
  },
  {
   "cell_type": "markdown",
   "metadata": {},
   "source": [
    "### as_freq after resample\n",
    "The **`as_freq`** method of a **`Resampler`** object (the formal name for the object assigned to **`s.resample('6H')`** simply displays the raw data."
   ]
  },
  {
   "cell_type": "code",
   "execution_count": 71,
   "metadata": {
    "collapsed": false
   },
   "outputs": [
    {
     "data": {
      "text/plain": [
       "2014-01-01 00:00:00    0.878435\n",
       "2014-01-01 06:00:00         NaN\n",
       "2014-01-01 12:00:00         NaN\n",
       "2014-01-01 18:00:00         NaN\n",
       "2014-01-02 00:00:00    0.955676\n",
       "2014-01-02 06:00:00         NaN\n",
       "2014-01-02 12:00:00         NaN\n",
       "2014-01-02 18:00:00         NaN\n",
       "2014-01-03 00:00:00    0.360992\n",
       "2014-01-03 06:00:00         NaN\n",
       "2014-01-03 12:00:00         NaN\n",
       "2014-01-03 18:00:00         NaN\n",
       "2014-01-04 00:00:00         NaN\n",
       "2014-01-04 06:00:00         NaN\n",
       "2014-01-04 12:00:00         NaN\n",
       "Freq: 6H, dtype: float64"
      ]
     },
     "execution_count": 71,
     "metadata": {},
     "output_type": "execute_result"
    }
   ],
   "source": [
    "# view the raw resample before aggregation\n",
    "# lots of missing values as only time 00:00:00 will have any values\n",
    "\n",
    "r.asfreq().head(15)"
   ]
  },
  {
   "cell_type": "code",
   "execution_count": 138,
   "metadata": {
    "collapsed": false
   },
   "outputs": [
    {
     "ename": "NameError",
     "evalue": "name 'NaN' is not defined",
     "output_type": "error",
     "traceback": [
      "\u001b[0;31m---------------------------------------------------------------------------\u001b[0m",
      "\u001b[0;31mNameError\u001b[0m                                 Traceback (most recent call last)",
      "\u001b[0;32m<ipython-input-138-40f983901809>\u001b[0m in \u001b[0;36m<module>\u001b[0;34m()\u001b[0m\n\u001b[0;32m----> 1\u001b[0;31m \u001b[0mNaN\u001b[0m \u001b[1;33m==\u001b[0m \u001b[0mNaN\u001b[0m\u001b[1;33m\u001b[0m\u001b[0m\n\u001b[0m",
      "\u001b[0;31mNameError\u001b[0m: name 'NaN' is not defined"
     ]
    }
   ],
   "source": [
    "NaN == NaN"
   ]
  },
  {
   "cell_type": "markdown",
   "metadata": {},
   "source": [
    "### Fill in missing values with interpolate and ffill/bfill"
   ]
  },
  {
   "cell_type": "code",
   "execution_count": 72,
   "metadata": {
    "collapsed": false
   },
   "outputs": [
    {
     "data": {
      "text/plain": [
       "2014-01-01 00:00:00    0.878435\n",
       "2014-01-01 06:00:00    0.897745\n",
       "2014-01-01 12:00:00    0.917055\n",
       "2014-01-01 18:00:00    0.936366\n",
       "2014-01-02 00:00:00    0.955676\n",
       "2014-01-02 06:00:00    0.807005\n",
       "2014-01-02 12:00:00    0.658334\n",
       "2014-01-02 18:00:00    0.509663\n",
       "2014-01-03 00:00:00    0.360992\n",
       "2014-01-03 06:00:00    0.340425\n",
       "2014-01-03 12:00:00    0.319858\n",
       "2014-01-03 18:00:00    0.299290\n",
       "2014-01-04 00:00:00    0.278723\n",
       "2014-01-04 06:00:00    0.258156\n",
       "2014-01-04 12:00:00    0.237589\n",
       "Freq: 6H, dtype: float64"
      ]
     },
     "execution_count": 72,
     "metadata": {},
     "output_type": "execute_result"
    }
   ],
   "source": [
    "# linearly interpolate values from one known value to the next\n",
    "r.interpolate().head(15)"
   ]
  },
  {
   "cell_type": "code",
   "execution_count": 73,
   "metadata": {
    "collapsed": false
   },
   "outputs": [
    {
     "data": {
      "text/plain": [
       "2014-01-01 00:00:00    0.878435\n",
       "2014-01-01 06:00:00    0.878435\n",
       "2014-01-01 12:00:00    0.878435\n",
       "2014-01-01 18:00:00    0.878435\n",
       "2014-01-02 00:00:00    0.955676\n",
       "2014-01-02 06:00:00    0.955676\n",
       "2014-01-02 12:00:00    0.955676\n",
       "2014-01-02 18:00:00    0.955676\n",
       "2014-01-03 00:00:00    0.360992\n",
       "2014-01-03 06:00:00    0.360992\n",
       "2014-01-03 12:00:00    0.360992\n",
       "2014-01-03 18:00:00    0.360992\n",
       "2014-01-04 00:00:00    0.360992\n",
       "2014-01-04 06:00:00    0.360992\n",
       "2014-01-04 12:00:00    0.360992\n",
       "Freq: 6H, dtype: float64"
      ]
     },
     "execution_count": 73,
     "metadata": {},
     "output_type": "execute_result"
    }
   ],
   "source": [
    "r.ffill().head(15)"
   ]
  },
  {
   "cell_type": "code",
   "execution_count": 74,
   "metadata": {
    "collapsed": false
   },
   "outputs": [
    {
     "data": {
      "text/plain": [
       "2014-01-01 00:00:00    0.878435\n",
       "2014-01-01 06:00:00    0.955676\n",
       "2014-01-01 12:00:00    0.955676\n",
       "2014-01-01 18:00:00    0.955676\n",
       "2014-01-02 00:00:00    0.955676\n",
       "2014-01-02 06:00:00    0.360992\n",
       "2014-01-02 12:00:00    0.360992\n",
       "2014-01-02 18:00:00    0.360992\n",
       "2014-01-03 00:00:00    0.360992\n",
       "2014-01-03 06:00:00    0.114185\n",
       "2014-01-03 12:00:00    0.114185\n",
       "2014-01-03 18:00:00    0.114185\n",
       "2014-01-04 00:00:00    0.114185\n",
       "2014-01-04 06:00:00    0.114185\n",
       "2014-01-04 12:00:00    0.114185\n",
       "Freq: 6H, dtype: float64"
      ]
     },
     "execution_count": 74,
     "metadata": {},
     "output_type": "execute_result"
    }
   ],
   "source": [
    "r.bfill().head(15)"
   ]
  },
  {
   "cell_type": "code",
   "execution_count": 148,
   "metadata": {
    "collapsed": false
   },
   "outputs": [
    {
     "data": {
      "text/plain": [
       "2014-01-01 00:00:00    0.924684\n",
       "2014-01-01 06:00:00    0.924684\n",
       "2014-01-01 12:00:00    0.924684\n",
       "2014-01-01 18:00:00    0.924684\n",
       "2014-01-02 00:00:00    0.658706\n",
       "2014-01-02 06:00:00    0.791695\n",
       "2014-01-02 12:00:00    0.791695\n",
       "2014-01-02 18:00:00    0.791695\n",
       "2014-01-03 00:00:00    0.578052\n",
       "2014-01-03 06:00:00    0.720481\n",
       "2014-01-03 12:00:00    0.720481\n",
       "2014-01-03 18:00:00    0.720481\n",
       "2014-01-04 00:00:00    0.720481\n",
       "2014-01-04 06:00:00    0.720481\n",
       "2014-01-04 12:00:00    0.720481\n",
       "2014-01-04 18:00:00    0.720481\n",
       "2014-01-05 00:00:00    0.720481\n",
       "2014-01-05 06:00:00    0.720481\n",
       "2014-01-05 12:00:00    0.720481\n",
       "2014-01-05 18:00:00    0.720481\n",
       "2014-01-06 00:00:00    0.679835\n",
       "2014-01-06 06:00:00    0.710319\n",
       "2014-01-06 12:00:00    0.710319\n",
       "2014-01-06 18:00:00    0.710319\n",
       "2014-01-07 00:00:00    0.035350\n",
       "2014-01-07 06:00:00    0.575325\n",
       "2014-01-07 12:00:00    0.575325\n",
       "2014-01-07 18:00:00    0.575325\n",
       "2014-01-08 00:00:00    0.514609\n",
       "2014-01-08 06:00:00    0.565206\n",
       "                         ...   \n",
       "2015-06-22 18:00:00    0.520532\n",
       "2015-06-23 00:00:00    0.021173\n",
       "2015-06-23 06:00:00    0.519235\n",
       "2015-06-23 12:00:00    0.519235\n",
       "2015-06-23 18:00:00    0.519235\n",
       "2015-06-24 00:00:00    0.762924\n",
       "2015-06-24 06:00:00    0.519866\n",
       "2015-06-24 12:00:00    0.519866\n",
       "2015-06-24 18:00:00    0.519866\n",
       "2015-06-25 00:00:00    0.281412\n",
       "2015-06-25 06:00:00    0.519250\n",
       "2015-06-25 12:00:00    0.519250\n",
       "2015-06-25 18:00:00    0.519250\n",
       "2015-06-26 00:00:00    0.321527\n",
       "2015-06-26 06:00:00    0.518740\n",
       "2015-06-26 12:00:00    0.518740\n",
       "2015-06-26 18:00:00    0.518740\n",
       "2015-06-27 00:00:00    0.518740\n",
       "2015-06-27 06:00:00    0.518740\n",
       "2015-06-27 12:00:00    0.518740\n",
       "2015-06-27 18:00:00    0.518740\n",
       "2015-06-28 00:00:00    0.518740\n",
       "2015-06-28 06:00:00    0.518740\n",
       "2015-06-28 12:00:00    0.518740\n",
       "2015-06-28 18:00:00    0.518740\n",
       "2015-06-29 00:00:00    0.650151\n",
       "2015-06-29 06:00:00    0.519078\n",
       "2015-06-29 12:00:00    0.519078\n",
       "2015-06-29 18:00:00    0.519078\n",
       "2015-06-30 00:00:00    0.953047\n",
       "Freq: 6H, dtype: float64"
      ]
     },
     "execution_count": 148,
     "metadata": {},
     "output_type": "execute_result"
    }
   ],
   "source": [
    "# fill in NA with cumulative sum\n",
    "s6 = s.asfreq('6H')\n",
    "s6_cumsum = s6.fillna(0).cumsum()\n",
    "s6_cumcount = s6.notnull().cumsum()\n",
    "s6_cumsum / s6_cumcount\n",
    "s6.fillna(s6_cumsum / s6_cumcount)"
   ]
  },
  {
   "cell_type": "code",
   "execution_count": 177,
   "metadata": {
    "collapsed": false
   },
   "outputs": [
    {
     "data": {
      "text/plain": [
       "2014-01-06    0.679835\n",
       "2014-01-07    0.035350\n",
       "2014-01-08    0.514609\n",
       "2014-01-09    0.489039\n",
       "2014-01-10    0.523587\n",
       "2014-02-06    0.102956\n",
       "2014-02-07    0.603182\n",
       "2014-02-10    0.351908\n",
       "2014-02-11    0.768913\n",
       "2014-02-12    0.500394\n",
       "2014-03-06    0.562658\n",
       "2014-03-07    0.632821\n",
       "2014-03-10    0.605649\n",
       "2014-03-11    0.536574\n",
       "2014-03-12    0.922099\n",
       "2014-04-07    0.893153\n",
       "2014-04-08    0.819145\n",
       "2014-04-09    0.133634\n",
       "2014-04-10    0.986431\n",
       "2014-04-11    0.737425\n",
       "dtype: float64"
      ]
     },
     "execution_count": 177,
     "metadata": {},
     "output_type": "execute_result"
    }
   ],
   "source": [
    "# days between 5 and 13\n",
    "s[(s.index.day > 5) & (s.index.day < 13)].head(20)\n"
   ]
  },
  {
   "cell_type": "code",
   "execution_count": 75,
   "metadata": {
    "collapsed": false
   },
   "outputs": [
    {
     "data": {
      "text/html": [
       "<div>\n",
       "<table border=\"1\" class=\"dataframe\">\n",
       "  <thead>\n",
       "    <tr style=\"text-align: right;\">\n",
       "      <th></th>\n",
       "      <th>mean</th>\n",
       "      <th>max</th>\n",
       "      <th>std</th>\n",
       "      <th>&lt;lambda&gt;</th>\n",
       "    </tr>\n",
       "  </thead>\n",
       "  <tbody>\n",
       "    <tr>\n",
       "      <th>2014-01-05</th>\n",
       "      <td>0.731701</td>\n",
       "      <td>0.955676</td>\n",
       "      <td>0.323358</td>\n",
       "      <td>0.594684</td>\n",
       "    </tr>\n",
       "    <tr>\n",
       "      <th>2014-01-26</th>\n",
       "      <td>0.460850</td>\n",
       "      <td>0.927492</td>\n",
       "      <td>0.275075</td>\n",
       "      <td>0.890894</td>\n",
       "    </tr>\n",
       "    <tr>\n",
       "      <th>2014-02-16</th>\n",
       "      <td>0.448357</td>\n",
       "      <td>0.959165</td>\n",
       "      <td>0.312510</td>\n",
       "      <td>0.927303</td>\n",
       "    </tr>\n",
       "    <tr>\n",
       "      <th>2014-03-09</th>\n",
       "      <td>0.497595</td>\n",
       "      <td>0.966873</td>\n",
       "      <td>0.247721</td>\n",
       "      <td>0.935046</td>\n",
       "    </tr>\n",
       "    <tr>\n",
       "      <th>2014-03-30</th>\n",
       "      <td>0.501028</td>\n",
       "      <td>0.959431</td>\n",
       "      <td>0.341320</td>\n",
       "      <td>0.906105</td>\n",
       "    </tr>\n",
       "    <tr>\n",
       "      <th>2014-04-20</th>\n",
       "      <td>0.441310</td>\n",
       "      <td>0.880056</td>\n",
       "      <td>0.298919</td>\n",
       "      <td>0.825833</td>\n",
       "    </tr>\n",
       "    <tr>\n",
       "      <th>2014-05-11</th>\n",
       "      <td>0.518122</td>\n",
       "      <td>0.945492</td>\n",
       "      <td>0.330718</td>\n",
       "      <td>0.928736</td>\n",
       "    </tr>\n",
       "    <tr>\n",
       "      <th>2014-06-01</th>\n",
       "      <td>0.521573</td>\n",
       "      <td>0.998519</td>\n",
       "      <td>0.329925</td>\n",
       "      <td>0.968128</td>\n",
       "    </tr>\n",
       "    <tr>\n",
       "      <th>2014-06-22</th>\n",
       "      <td>0.610583</td>\n",
       "      <td>0.995014</td>\n",
       "      <td>0.310752</td>\n",
       "      <td>0.958005</td>\n",
       "    </tr>\n",
       "    <tr>\n",
       "      <th>2014-07-13</th>\n",
       "      <td>0.548708</td>\n",
       "      <td>0.893295</td>\n",
       "      <td>0.266583</td>\n",
       "      <td>0.766179</td>\n",
       "    </tr>\n",
       "    <tr>\n",
       "      <th>2014-08-03</th>\n",
       "      <td>0.421160</td>\n",
       "      <td>0.969459</td>\n",
       "      <td>0.302529</td>\n",
       "      <td>0.922515</td>\n",
       "    </tr>\n",
       "    <tr>\n",
       "      <th>2014-08-24</th>\n",
       "      <td>0.501585</td>\n",
       "      <td>0.969101</td>\n",
       "      <td>0.350057</td>\n",
       "      <td>0.967650</td>\n",
       "    </tr>\n",
       "    <tr>\n",
       "      <th>2014-09-14</th>\n",
       "      <td>0.496555</td>\n",
       "      <td>0.968515</td>\n",
       "      <td>0.299740</td>\n",
       "      <td>0.937616</td>\n",
       "    </tr>\n",
       "    <tr>\n",
       "      <th>2014-10-05</th>\n",
       "      <td>0.348797</td>\n",
       "      <td>0.976798</td>\n",
       "      <td>0.325354</td>\n",
       "      <td>0.961297</td>\n",
       "    </tr>\n",
       "    <tr>\n",
       "      <th>2014-10-26</th>\n",
       "      <td>0.461193</td>\n",
       "      <td>0.928332</td>\n",
       "      <td>0.285737</td>\n",
       "      <td>0.892706</td>\n",
       "    </tr>\n",
       "  </tbody>\n",
       "</table>\n",
       "</div>"
      ],
      "text/plain": [
       "                mean       max       std  <lambda>\n",
       "2014-01-05  0.731701  0.955676  0.323358  0.594684\n",
       "2014-01-26  0.460850  0.927492  0.275075  0.890894\n",
       "2014-02-16  0.448357  0.959165  0.312510  0.927303\n",
       "2014-03-09  0.497595  0.966873  0.247721  0.935046\n",
       "2014-03-30  0.501028  0.959431  0.341320  0.906105\n",
       "2014-04-20  0.441310  0.880056  0.298919  0.825833\n",
       "2014-05-11  0.518122  0.945492  0.330718  0.928736\n",
       "2014-06-01  0.521573  0.998519  0.329925  0.968128\n",
       "2014-06-22  0.610583  0.995014  0.310752  0.958005\n",
       "2014-07-13  0.548708  0.893295  0.266583  0.766179\n",
       "2014-08-03  0.421160  0.969459  0.302529  0.922515\n",
       "2014-08-24  0.501585  0.969101  0.350057  0.967650\n",
       "2014-09-14  0.496555  0.968515  0.299740  0.937616\n",
       "2014-10-05  0.348797  0.976798  0.325354  0.961297\n",
       "2014-10-26  0.461193  0.928332  0.285737  0.892706"
      ]
     },
     "execution_count": 75,
     "metadata": {},
     "output_type": "execute_result"
    }
   ],
   "source": [
    "# Aggregate by every 3rd week and use the 'agg' method to find many different aggregates\n",
    "s.resample('3W').agg(['mean', 'max', 'std', lambda x: x.max() - x.min()]).head(15)"
   ]
  },
  {
   "cell_type": "markdown",
   "metadata": {},
   "source": [
    "### `transform` with resample objects"
   ]
  },
  {
   "cell_type": "code",
   "execution_count": 76,
   "metadata": {
    "collapsed": false
   },
   "outputs": [
    {
     "data": {
      "text/plain": [
       "2014-01-01    1.492574\n",
       "2014-01-02    1.766832\n",
       "2014-01-03   -0.344687\n",
       "2014-01-06   -1.221014\n",
       "2014-01-07    0.614831\n",
       "2014-01-08    0.572976\n",
       "2014-01-09   -0.261671\n",
       "2014-01-10    0.869397\n",
       "2014-01-13    0.415092\n",
       "2014-01-14    0.741745\n",
       "2014-01-15    0.512233\n",
       "2014-01-16   -0.682503\n",
       "2014-01-17    1.666759\n",
       "2014-01-20   -1.496502\n",
       "2014-01-21    1.101216\n",
       "Freq: B, dtype: float64"
      ]
     },
     "execution_count": 76,
     "metadata": {},
     "output_type": "execute_result"
    }
   ],
   "source": [
    "# normalize every month of data\n",
    "s.resample('M').transform(lambda x: (x - x.mean())/x.std()).head(15)"
   ]
  },
  {
   "cell_type": "markdown",
   "metadata": {},
   "source": [
    "# Rolling Window Calculations\n",
    "Often in time series analysis a continuous rolling window of time will be desired. This is similar to resampling except that each time period has its own window and so the same number of time periods will be returned when a calculation is performed on that window of data.\n",
    "\n",
    "### Get real stock market data\n",
    "We will use **pandas_datareader** to grab some stock market data."
   ]
  },
  {
   "cell_type": "code",
   "execution_count": 77,
   "metadata": {
    "collapsed": true
   },
   "outputs": [],
   "source": [
    "from pandas_datareader.data import DataReader"
   ]
  },
  {
   "cell_type": "code",
   "execution_count": 78,
   "metadata": {
    "collapsed": false
   },
   "outputs": [
    {
     "data": {
      "text/html": [
       "<div>\n",
       "<table border=\"1\" class=\"dataframe\">\n",
       "  <thead>\n",
       "    <tr style=\"text-align: right;\">\n",
       "      <th></th>\n",
       "      <th>Open</th>\n",
       "      <th>High</th>\n",
       "      <th>Low</th>\n",
       "      <th>Close</th>\n",
       "      <th>Volume</th>\n",
       "    </tr>\n",
       "    <tr>\n",
       "      <th>Date</th>\n",
       "      <th></th>\n",
       "      <th></th>\n",
       "      <th></th>\n",
       "      <th></th>\n",
       "      <th></th>\n",
       "    </tr>\n",
       "  </thead>\n",
       "  <tbody>\n",
       "    <tr>\n",
       "      <th>2012-01-03</th>\n",
       "      <td>58.49</td>\n",
       "      <td>58.93</td>\n",
       "      <td>58.43</td>\n",
       "      <td>58.75</td>\n",
       "      <td>75564699</td>\n",
       "    </tr>\n",
       "    <tr>\n",
       "      <th>2012-01-04</th>\n",
       "      <td>58.57</td>\n",
       "      <td>59.24</td>\n",
       "      <td>58.47</td>\n",
       "      <td>59.06</td>\n",
       "      <td>65061108</td>\n",
       "    </tr>\n",
       "    <tr>\n",
       "      <th>2012-01-05</th>\n",
       "      <td>59.28</td>\n",
       "      <td>59.79</td>\n",
       "      <td>58.95</td>\n",
       "      <td>59.72</td>\n",
       "      <td>67816805</td>\n",
       "    </tr>\n",
       "    <tr>\n",
       "      <th>2012-01-06</th>\n",
       "      <td>59.97</td>\n",
       "      <td>60.39</td>\n",
       "      <td>59.89</td>\n",
       "      <td>60.34</td>\n",
       "      <td>79596412</td>\n",
       "    </tr>\n",
       "    <tr>\n",
       "      <th>2012-01-09</th>\n",
       "      <td>60.79</td>\n",
       "      <td>61.11</td>\n",
       "      <td>60.19</td>\n",
       "      <td>60.25</td>\n",
       "      <td>98505792</td>\n",
       "    </tr>\n",
       "    <tr>\n",
       "      <th>2012-01-10</th>\n",
       "      <td>60.84</td>\n",
       "      <td>60.86</td>\n",
       "      <td>60.21</td>\n",
       "      <td>60.46</td>\n",
       "      <td>64581762</td>\n",
       "    </tr>\n",
       "    <tr>\n",
       "      <th>2012-01-11</th>\n",
       "      <td>60.38</td>\n",
       "      <td>60.41</td>\n",
       "      <td>59.90</td>\n",
       "      <td>60.36</td>\n",
       "      <td>53798059</td>\n",
       "    </tr>\n",
       "    <tr>\n",
       "      <th>2012-01-12</th>\n",
       "      <td>60.33</td>\n",
       "      <td>60.41</td>\n",
       "      <td>59.82</td>\n",
       "      <td>60.20</td>\n",
       "      <td>53180911</td>\n",
       "    </tr>\n",
       "    <tr>\n",
       "      <th>2012-01-13</th>\n",
       "      <td>59.96</td>\n",
       "      <td>60.06</td>\n",
       "      <td>59.81</td>\n",
       "      <td>59.97</td>\n",
       "      <td>56539749</td>\n",
       "    </tr>\n",
       "    <tr>\n",
       "      <th>2012-01-17</th>\n",
       "      <td>60.60</td>\n",
       "      <td>60.86</td>\n",
       "      <td>60.42</td>\n",
       "      <td>60.67</td>\n",
       "      <td>60724055</td>\n",
       "    </tr>\n",
       "  </tbody>\n",
       "</table>\n",
       "</div>"
      ],
      "text/plain": [
       "             Open   High    Low  Close    Volume\n",
       "Date                                            \n",
       "2012-01-03  58.49  58.93  58.43  58.75  75564699\n",
       "2012-01-04  58.57  59.24  58.47  59.06  65061108\n",
       "2012-01-05  59.28  59.79  58.95  59.72  67816805\n",
       "2012-01-06  59.97  60.39  59.89  60.34  79596412\n",
       "2012-01-09  60.79  61.11  60.19  60.25  98505792\n",
       "2012-01-10  60.84  60.86  60.21  60.46  64581762\n",
       "2012-01-11  60.38  60.41  59.90  60.36  53798059\n",
       "2012-01-12  60.33  60.41  59.82  60.20  53180911\n",
       "2012-01-13  59.96  60.06  59.81  59.97  56539749\n",
       "2012-01-17  60.60  60.86  60.42  60.67  60724055"
      ]
     },
     "execution_count": 78,
     "metadata": {},
     "output_type": "execute_result"
    }
   ],
   "source": [
    "# general form for DataReader\n",
    "# get apple stock from 2012 til present\n",
    "aapl = DataReader('AAPL', data_source='google', start='2012-01-01')\n",
    "aapl.head(10)"
   ]
  },
  {
   "cell_type": "code",
   "execution_count": 79,
   "metadata": {
    "collapsed": false
   },
   "outputs": [
    {
     "data": {
      "text/html": [
       "<div>\n",
       "<table border=\"1\" class=\"dataframe\">\n",
       "  <thead>\n",
       "    <tr style=\"text-align: right;\">\n",
       "      <th></th>\n",
       "      <th>AAPL</th>\n",
       "      <th>GOOG</th>\n",
       "      <th>HOS</th>\n",
       "      <th>SLB</th>\n",
       "    </tr>\n",
       "    <tr>\n",
       "      <th>Date</th>\n",
       "      <th></th>\n",
       "      <th></th>\n",
       "      <th></th>\n",
       "      <th></th>\n",
       "    </tr>\n",
       "  </thead>\n",
       "  <tbody>\n",
       "    <tr>\n",
       "      <th>2012-01-03</th>\n",
       "      <td>58.75</td>\n",
       "      <td>332.37</td>\n",
       "      <td>31.46</td>\n",
       "      <td>70.09</td>\n",
       "    </tr>\n",
       "    <tr>\n",
       "      <th>2012-01-04</th>\n",
       "      <td>59.06</td>\n",
       "      <td>333.81</td>\n",
       "      <td>31.76</td>\n",
       "      <td>69.56</td>\n",
       "    </tr>\n",
       "    <tr>\n",
       "      <th>2012-01-05</th>\n",
       "      <td>59.72</td>\n",
       "      <td>329.18</td>\n",
       "      <td>32.21</td>\n",
       "      <td>68.07</td>\n",
       "    </tr>\n",
       "    <tr>\n",
       "      <th>2012-01-06</th>\n",
       "      <td>60.34</td>\n",
       "      <td>324.68</td>\n",
       "      <td>33.80</td>\n",
       "      <td>67.78</td>\n",
       "    </tr>\n",
       "    <tr>\n",
       "      <th>2012-01-09</th>\n",
       "      <td>60.25</td>\n",
       "      <td>310.92</td>\n",
       "      <td>32.78</td>\n",
       "      <td>68.82</td>\n",
       "    </tr>\n",
       "    <tr>\n",
       "      <th>2012-01-10</th>\n",
       "      <td>60.46</td>\n",
       "      <td>311.26</td>\n",
       "      <td>33.59</td>\n",
       "      <td>70.75</td>\n",
       "    </tr>\n",
       "    <tr>\n",
       "      <th>2012-01-11</th>\n",
       "      <td>60.36</td>\n",
       "      <td>312.67</td>\n",
       "      <td>33.29</td>\n",
       "      <td>70.16</td>\n",
       "    </tr>\n",
       "    <tr>\n",
       "      <th>2012-01-12</th>\n",
       "      <td>60.20</td>\n",
       "      <td>314.51</td>\n",
       "      <td>32.98</td>\n",
       "      <td>69.70</td>\n",
       "    </tr>\n",
       "    <tr>\n",
       "      <th>2012-01-13</th>\n",
       "      <td>59.97</td>\n",
       "      <td>312.18</td>\n",
       "      <td>33.53</td>\n",
       "      <td>67.99</td>\n",
       "    </tr>\n",
       "    <tr>\n",
       "      <th>2012-01-17</th>\n",
       "      <td>60.67</td>\n",
       "      <td>313.98</td>\n",
       "      <td>34.21</td>\n",
       "      <td>67.64</td>\n",
       "    </tr>\n",
       "  </tbody>\n",
       "</table>\n",
       "</div>"
      ],
      "text/plain": [
       "             AAPL    GOOG    HOS    SLB\n",
       "Date                                   \n",
       "2012-01-03  58.75  332.37  31.46  70.09\n",
       "2012-01-04  59.06  333.81  31.76  69.56\n",
       "2012-01-05  59.72  329.18  32.21  68.07\n",
       "2012-01-06  60.34  324.68  33.80  67.78\n",
       "2012-01-09  60.25  310.92  32.78  68.82\n",
       "2012-01-10  60.46  311.26  33.59  70.75\n",
       "2012-01-11  60.36  312.67  33.29  70.16\n",
       "2012-01-12  60.20  314.51  32.98  69.70\n",
       "2012-01-13  59.97  312.18  33.53  67.99\n",
       "2012-01-17  60.67  313.98  34.21  67.64"
      ]
     },
     "execution_count": 79,
     "metadata": {},
     "output_type": "execute_result"
    }
   ],
   "source": [
    "# two tech stocks and two oil stocks\n",
    "stocks = ['AAPL', 'GOOG', 'HOS', 'SLB']\n",
    "\n",
    "\n",
    "# Grab 4.5 years of stock closing price data from google finance\n",
    "stock_data = {stock: DataReader(stock, data_source='google', start='2012-01-01')['Close'] for stock in stocks}\n",
    "df = pd.DataFrame(stock_data, columns=stocks)\n",
    "df.head(10)"
   ]
  },
  {
   "cell_type": "code",
   "execution_count": 80,
   "metadata": {
    "collapsed": true
   },
   "outputs": [],
   "source": [
    "# Lets plot this\n",
    "import matplotlib.pyplot as plt\n",
    "%matplotlib inline"
   ]
  },
  {
   "cell_type": "code",
   "execution_count": 81,
   "metadata": {
    "collapsed": true
   },
   "outputs": [],
   "source": [
    "plt.style.use(\"ggplot\")"
   ]
  },
  {
   "cell_type": "code",
   "execution_count": 82,
   "metadata": {
    "collapsed": false
   },
   "outputs": [
    {
     "data": {
      "image/png": "[encoded data removed]",
      "text/plain": [
       "<matplotlib.figure.Figure at 0x1e85079b080>"
      ]
     },
     "metadata": {},
     "output_type": "display_data"
    }
   ],
   "source": [
    "ax = df.plot(subplots=True, figsize=(16,8));"
   ]
  },
  {
   "cell_type": "markdown",
   "metadata": {},
   "source": [
    "### Create a rolling object\n",
    "**rolling** is both a Series and DataFrame method thats main input is the number of time periods to look back at each date before performing the calculation."
   ]
  },
  {
   "cell_type": "code",
   "execution_count": 83,
   "metadata": {
    "collapsed": false
   },
   "outputs": [],
   "source": [
    "# Initialize rolling object by looking back at the last 10 obsrevations\n",
    "r = df.rolling(10)"
   ]
  },
  {
   "cell_type": "code",
   "execution_count": 84,
   "metadata": {
    "collapsed": false
   },
   "outputs": [
    {
     "data": {
      "text/html": [
       "<div>\n",
       "<table border=\"1\" class=\"dataframe\">\n",
       "  <thead>\n",
       "    <tr style=\"text-align: right;\">\n",
       "      <th></th>\n",
       "      <th>AAPL</th>\n",
       "      <th>GOOG</th>\n",
       "      <th>HOS</th>\n",
       "      <th>SLB</th>\n",
       "    </tr>\n",
       "    <tr>\n",
       "      <th>Date</th>\n",
       "      <th></th>\n",
       "      <th></th>\n",
       "      <th></th>\n",
       "      <th></th>\n",
       "    </tr>\n",
       "  </thead>\n",
       "  <tbody>\n",
       "    <tr>\n",
       "      <th>2012-01-03</th>\n",
       "      <td>NaN</td>\n",
       "      <td>NaN</td>\n",
       "      <td>NaN</td>\n",
       "      <td>NaN</td>\n",
       "    </tr>\n",
       "    <tr>\n",
       "      <th>2012-01-04</th>\n",
       "      <td>NaN</td>\n",
       "      <td>NaN</td>\n",
       "      <td>NaN</td>\n",
       "      <td>NaN</td>\n",
       "    </tr>\n",
       "    <tr>\n",
       "      <th>2012-01-05</th>\n",
       "      <td>NaN</td>\n",
       "      <td>NaN</td>\n",
       "      <td>NaN</td>\n",
       "      <td>NaN</td>\n",
       "    </tr>\n",
       "    <tr>\n",
       "      <th>2012-01-06</th>\n",
       "      <td>NaN</td>\n",
       "      <td>NaN</td>\n",
       "      <td>NaN</td>\n",
       "      <td>NaN</td>\n",
       "    </tr>\n",
       "    <tr>\n",
       "      <th>2012-01-09</th>\n",
       "      <td>NaN</td>\n",
       "      <td>NaN</td>\n",
       "      <td>NaN</td>\n",
       "      <td>NaN</td>\n",
       "    </tr>\n",
       "    <tr>\n",
       "      <th>2012-01-10</th>\n",
       "      <td>NaN</td>\n",
       "      <td>NaN</td>\n",
       "      <td>NaN</td>\n",
       "      <td>NaN</td>\n",
       "    </tr>\n",
       "    <tr>\n",
       "      <th>2012-01-11</th>\n",
       "      <td>NaN</td>\n",
       "      <td>NaN</td>\n",
       "      <td>NaN</td>\n",
       "      <td>NaN</td>\n",
       "    </tr>\n",
       "    <tr>\n",
       "      <th>2012-01-12</th>\n",
       "      <td>NaN</td>\n",
       "      <td>NaN</td>\n",
       "      <td>NaN</td>\n",
       "      <td>NaN</td>\n",
       "    </tr>\n",
       "    <tr>\n",
       "      <th>2012-01-13</th>\n",
       "      <td>NaN</td>\n",
       "      <td>NaN</td>\n",
       "      <td>NaN</td>\n",
       "      <td>NaN</td>\n",
       "    </tr>\n",
       "    <tr>\n",
       "      <th>2012-01-17</th>\n",
       "      <td>59.978</td>\n",
       "      <td>319.556</td>\n",
       "      <td>32.961</td>\n",
       "      <td>69.056</td>\n",
       "    </tr>\n",
       "    <tr>\n",
       "      <th>2012-01-18</th>\n",
       "      <td>60.233</td>\n",
       "      <td>317.933</td>\n",
       "      <td>33.330</td>\n",
       "      <td>69.110</td>\n",
       "    </tr>\n",
       "    <tr>\n",
       "      <th>2012-01-19</th>\n",
       "      <td>60.438</td>\n",
       "      <td>316.499</td>\n",
       "      <td>33.702</td>\n",
       "      <td>69.440</td>\n",
       "    </tr>\n",
       "    <tr>\n",
       "      <th>2012-01-20</th>\n",
       "      <td>60.470</td>\n",
       "      <td>312.851</td>\n",
       "      <td>34.053</td>\n",
       "      <td>70.013</td>\n",
       "    </tr>\n",
       "    <tr>\n",
       "      <th>2012-01-23</th>\n",
       "      <td>60.542</td>\n",
       "      <td>309.630</td>\n",
       "      <td>34.249</td>\n",
       "      <td>70.651</td>\n",
       "    </tr>\n",
       "    <tr>\n",
       "      <th>2012-01-24</th>\n",
       "      <td>60.523</td>\n",
       "      <td>307.555</td>\n",
       "      <td>34.541</td>\n",
       "      <td>71.228</td>\n",
       "    </tr>\n",
       "  </tbody>\n",
       "</table>\n",
       "</div>"
      ],
      "text/plain": [
       "              AAPL     GOOG     HOS     SLB\n",
       "Date                                       \n",
       "2012-01-03     NaN      NaN     NaN     NaN\n",
       "2012-01-04     NaN      NaN     NaN     NaN\n",
       "2012-01-05     NaN      NaN     NaN     NaN\n",
       "2012-01-06     NaN      NaN     NaN     NaN\n",
       "2012-01-09     NaN      NaN     NaN     NaN\n",
       "2012-01-10     NaN      NaN     NaN     NaN\n",
       "2012-01-11     NaN      NaN     NaN     NaN\n",
       "2012-01-12     NaN      NaN     NaN     NaN\n",
       "2012-01-13     NaN      NaN     NaN     NaN\n",
       "2012-01-17  59.978  319.556  32.961  69.056\n",
       "2012-01-18  60.233  317.933  33.330  69.110\n",
       "2012-01-19  60.438  316.499  33.702  69.440\n",
       "2012-01-20  60.470  312.851  34.053  70.013\n",
       "2012-01-23  60.542  309.630  34.249  70.651\n",
       "2012-01-24  60.523  307.555  34.541  71.228"
      ]
     },
     "execution_count": 84,
     "metadata": {},
     "output_type": "execute_result"
    }
   ],
   "source": [
    "# Find the rolling mean of the last 10 observations\n",
    "# The first 9 observations are missing since there wasn't 10 historical points yet\n",
    "r.mean().head(15)"
   ]
  },
  {
   "cell_type": "code",
   "execution_count": 85,
   "metadata": {
    "collapsed": false
   },
   "outputs": [
    {
     "data": {
      "text/plain": [
       "AAPL     59.978\n",
       "GOOG    319.556\n",
       "HOS      32.961\n",
       "SLB      69.056\n",
       "dtype: float64"
      ]
     },
     "execution_count": 85,
     "metadata": {},
     "output_type": "execute_result"
    }
   ],
   "source": [
    "# Manually check for correctness\n",
    "# Its correct! The values match\n",
    "df.iloc[:10].mean()"
   ]
  },
  {
   "cell_type": "code",
   "execution_count": 86,
   "metadata": {
    "collapsed": false
   },
   "outputs": [
    {
     "data": {
      "image/png": "[encoded data removed]",
      "text/plain": [
       "<matplotlib.figure.Figure at 0x1e8510d28d0>"
      ]
     },
     "metadata": {},
     "output_type": "display_data"
    }
   ],
   "source": [
    "# plot the rolling mean, max, min with a window of 50\n",
    "axs = df.plot(subplots=True, figsize=(16,20));\n",
    "for i, axes in enumerate(axs):\n",
    "    axes.plot(df.iloc[:, i].rolling(50).mean(), color='black', linestyle=\"--\")\n",
    "    axes.plot(df.iloc[:, i].rolling(50).max(), color='blue', linestyle=\"-\")\n",
    "    axes.plot(df.iloc[:, i].rolling(50).min(), color='blue', linestyle=\"-\")"
   ]
  },
  {
   "cell_type": "markdown",
   "metadata": {},
   "source": [
    "# Two other rolling window methods\n",
    "There exists an exponentially weighted moving window, **ewm** and an expanding moving window, **expanding**. Both of these are Series and DataFrame methods that are used for a similar analysis as the one above."
   ]
  },
  {
   "cell_type": "markdown",
   "metadata": {},
   "source": [
    "# Quick Summary\n",
    "* Know the difference between a date, time, and datetime\n",
    "* Be able to create dates, times, and datetimes in the datetime standard library\n",
    "* Extract important attributes (hour, minute, year, second) from datetime objects\n",
    "* Use strftime to convert a datetime to a string using directives\n",
    "* Use strptime to convert a string to a datetime also using directives\n",
    "* Use timedelta to add/subtract to a datetime object\n",
    "* Know the difference between datetime and datetime64\n",
    "* Nanosecond vs Microsecond\n",
    "* Create a Timestamp in pandas with pd.Timestamp and pd.to_datetime\n",
    "* Create a date range using periods or frequency\n",
    "* Slice a DatetimeIndex with []\n",
    "* Shift a Series with a DatetimeIndex\n",
    "* Be aware of the date offset aliases like 'W' for week and 'BM' for end of business month\n",
    "* Use time series method .asfreq to sample data at regular intervals\n",
    "* Use resampling to aggregate your data over regular intervals\n",
    "* Use anchored offsets (mainly the days of the week) to specificy a more specific interval\n",
    "* Use pandas_datareader to load financial data\n",
    "* Create rolling objects with the rolling Series and DataFrame method"
   ]
  },
  {
   "cell_type": "markdown",
   "metadata": {},
   "source": [
    "## Problem 1\n",
    "<span  style=\"color:green; font-size:16px\">Create a datetime object with values for both the date and time part and extract the date and time into separate variables. Can you add the date and time objects together to get the same datetime object?</span>"
   ]
  },
  {
   "cell_type": "code",
   "execution_count": 180,
   "metadata": {
    "collapsed": false
   },
   "outputs": [
    {
     "name": "stdout",
     "output_type": "stream",
     "text": [
      "date is  2016-04-11 10:11:12.012321\n"
     ]
    }
   ],
   "source": [
    "dt = datetime.datetime(2016, 4, 11,10,11,12,12321)\n",
    "print(\"date is \", dt)"
   ]
  },
  {
   "cell_type": "code",
   "execution_count": 181,
   "metadata": {
    "collapsed": false
   },
   "outputs": [
    {
     "data": {
      "text/plain": [
       "(datetime.time(10, 11, 12, 12321), datetime.date(2016, 4, 11))"
      ]
     },
     "execution_count": 181,
     "metadata": {},
     "output_type": "execute_result"
    }
   ],
   "source": [
    "t = dt.time()\n",
    "d = dt.date()\n",
    "t, d"
   ]
  },
  {
   "cell_type": "markdown",
   "metadata": {},
   "source": [
    "## Problem 2\n",
    "<span  style=\"color:green; font-size:16px\">Create a datetime object from today's date and add to it 6 hours 42 minutes and 123456 microseconds</span>"
   ]
  },
  {
   "cell_type": "code",
   "execution_count": 223,
   "metadata": {
    "collapsed": false
   },
   "outputs": [
    {
     "data": {
      "text/plain": [
       "datetime.datetime(2017, 3, 17, 11, 28, 19, 124132)"
      ]
     },
     "execution_count": 223,
     "metadata": {},
     "output_type": "execute_result"
    }
   ],
   "source": [
    "datetime.datetime.now()"
   ]
  },
  {
   "cell_type": "code",
   "execution_count": 220,
   "metadata": {
    "collapsed": false
   },
   "outputs": [
    {
     "name": "stdout",
     "output_type": "stream",
     "text": [
      "2017-03-23 11:29:32.772777\n"
     ]
    }
   ],
   "source": [
    "today = datetime.datetime.today()\n",
    "my_timedelta = datetime.timedelta(6,42,0,123456)\n",
    "print(today + my_timedelta)\n"
   ]
  },
  {
   "cell_type": "markdown",
   "metadata": {},
   "source": [
    "## Problem 3\n",
    "<span  style=\"color:green; font-size:16px\">Write a list comprehension that contains 100 elements with each element being the current datetime (of the execution of that list comprehension iteration)</span>"
   ]
  },
  {
   "cell_type": "code",
   "execution_count": 255,
   "metadata": {
    "collapsed": false
   },
   "outputs": [
    {
     "data": {
      "text/plain": [
       "(datetime.datetime(2017, 3, 17, 11, 49, 39, 879606),\n",
       " datetime.datetime(2017, 3, 17, 11, 49, 39, 888104))"
      ]
     },
     "execution_count": 255,
     "metadata": {},
     "output_type": "execute_result"
    }
   ],
   "source": [
    "#%%timeit\n",
    "l_times = [datetime.datetime.now() for x in range(10000)]\n",
    "l_times[0],l_times[9999]\n"
   ]
  },
  {
   "cell_type": "markdown",
   "metadata": {},
   "source": [
    "## Problem 4\n",
    "<span  style=\"color:green; font-size:16px\">Put the list from problem 3 into a Series and then find the average difference between iterations. You may have to google how to find the difference between values in a Series.</span>"
   ]
  },
  {
   "cell_type": "code",
   "execution_count": 256,
   "metadata": {
    "collapsed": false
   },
   "outputs": [
    {
     "data": {
      "text/plain": [
       "Timedelta('0 days 00:00:00.000000')"
      ]
     },
     "execution_count": 256,
     "metadata": {},
     "output_type": "execute_result"
    }
   ],
   "source": [
    "l_times = pd.Series(l_times)\n",
    "l_times.diff().mean()"
   ]
  },
  {
   "cell_type": "markdown",
   "metadata": {},
   "source": [
    "## Problem 5\n",
    "<span  style=\"color:green; font-size:16px\">Use the datetime library to convert \"2016bbb12---15\" into a date</span>"
   ]
  },
  {
   "cell_type": "code",
   "execution_count": 262,
   "metadata": {
    "collapsed": false
   },
   "outputs": [
    {
     "data": {
      "text/plain": [
       "datetime.datetime(2016, 12, 15, 0, 0)"
      ]
     },
     "execution_count": 262,
     "metadata": {},
     "output_type": "execute_result"
    }
   ],
   "source": [
    "convert_me = \"2016bbb12---15\"\n",
    "datetime.datetime.strptime(convert_me,\"%Ybbb%m---%d\")\n"
   ]
  },
  {
   "cell_type": "markdown",
   "metadata": {},
   "source": [
    "## Problem 6\n",
    "<span  style=\"color:green; font-size:16px\">Convert the date below to \"On Friday July the 8th, 2016 it was very hot. </span>"
   ]
  },
  {
   "cell_type": "code",
   "execution_count": 280,
   "metadata": {
    "collapsed": false
   },
   "outputs": [
    {
     "data": {
      "text/plain": [
       "'On Friday July the 8th, 2016 it was very hot.'"
      ]
     },
     "execution_count": 280,
     "metadata": {},
     "output_type": "execute_result"
    }
   ],
   "source": [
    "# your code here\n",
    "d = datetime.datetime(2016, 7, 8)\n",
    "datetime.datetime.strftime(d,\"On %A %B the %#dth, %Y it was very hot.\")\n"
   ]
  },
  {
   "cell_type": "markdown",
   "metadata": {},
   "source": [
    "## Problem 7\n",
    "<span  style=\"color:green; font-size:16px\"> Create a pandas Timestamp out of a datetime object</span>"
   ]
  },
  {
   "cell_type": "code",
   "execution_count": 285,
   "metadata": {
    "collapsed": false
   },
   "outputs": [
    {
     "data": {
      "text/plain": [
       "Timestamp('2016-12-15 00:00:00')"
      ]
     },
     "execution_count": 285,
     "metadata": {},
     "output_type": "execute_result"
    }
   ],
   "source": [
    "pddate = pd.Timestamp(datetime.datetime(2016,12,15))\n",
    "pddate"
   ]
  },
  {
   "cell_type": "markdown",
   "metadata": {},
   "source": [
    "## Problem 8\n",
    "<span  style=\"color:green; font-size:16px\"> Using the datetime library, find out how many days you have been alive. Save this to the variable `days_alive`</span>"
   ]
  },
  {
   "cell_type": "code",
   "execution_count": 332,
   "metadata": {
    "collapsed": false
   },
   "outputs": [
    {
     "data": {
      "text/plain": [
       "15653"
      ]
     },
     "execution_count": 332,
     "metadata": {},
     "output_type": "execute_result"
    }
   ],
   "source": [
    "bd = datetime.datetime(1974,5,9)\n",
    "today = datetime.datetime.today()\n",
    "days_alive = (today - bd).days\n",
    "type(days_alive)\n",
    "\n",
    "\n",
    "days_alive = (datetime.datetime.today() - bd)\n",
    "days_alive.days\n"
   ]
  },
  {
   "cell_type": "markdown",
   "metadata": {},
   "source": [
    "## Problem 9\n",
    "<span  style=\"color:green; font-size:16px\">It's possible to divide two timedelta objects together. With that information,  use pd.Timedelta to find out how many nanoseconds you have been alive for.</span>"
   ]
  },
  {
   "cell_type": "code",
   "execution_count": 333,
   "metadata": {
    "collapsed": false
   },
   "outputs": [
    {
     "data": {
      "text/plain": [
       "1.352464577299428e+18"
      ]
     },
     "execution_count": 333,
     "metadata": {},
     "output_type": "execute_result"
    }
   ],
   "source": [
    "pbd = pd.Timestamp(bd)\n",
    "pbnow = pd.Timestamp(datetime.datetime.now())\n",
    "timealive = pbnow-pbd\n",
    "\n",
    "days_alive / pd.Timedelta(nanoseconds=1)\n"
   ]
  },
  {
   "cell_type": "markdown",
   "metadata": {},
   "source": [
    "## Problem 10\n",
    "<span  style=\"color:green; font-size:16px\">What day of the week was October 12, 1492?</span>"
   ]
  },
  {
   "cell_type": "code",
   "execution_count": 346,
   "metadata": {
    "collapsed": false
   },
   "outputs": [
    {
     "data": {
      "text/plain": [
       "'Wednesday'"
      ]
     },
     "execution_count": 346,
     "metadata": {},
     "output_type": "execute_result"
    }
   ],
   "source": [
    "datetime.date(year = 1492,month = 10, day =12).strftime('%A')\n",
    "\n"
   ]
  },
  {
   "cell_type": "markdown",
   "metadata": {},
   "source": [
    "## Problem 11\n",
    "<span  style=\"color:green; font-size:16px\">Create a range of dates using pandas that span at least a couple years without using the `start` argument and using a different frequency than `days`. What is the type of object that was created?</span>"
   ]
  },
  {
   "cell_type": "code",
   "execution_count": 364,
   "metadata": {
    "collapsed": false
   },
   "outputs": [
    {
     "data": {
      "text/plain": [
       "pandas.tseries.index.DatetimeIndex"
      ]
     },
     "execution_count": 364,
     "metadata": {},
     "output_type": "execute_result"
    }
   ],
   "source": [
    "# your code here\n",
    "periods = 200\n",
    "rng = pd.date_range(end='2018-01-19', periods=periods, freq='BM')\n",
    "s = pd.Series(np.random.randn(200))\n",
    "# a DatetimeIndex was created\n",
    "\n",
    "df = pd.DataFrame(rng,s)\n",
    "type(rng)\n",
    "\n"
   ]
  },
  {
   "cell_type": "markdown",
   "metadata": {},
   "source": [
    "## Problem 12\n",
    "<span  style=\"color:green; font-size:16px\">Investigate the DatetimeIndex object you created in problem 11. Use the dot notation along with pressing tab to view many of the methods. Explore several methods including the ones that begin with `is_...`</span>"
   ]
  },
  {
   "cell_type": "code",
   "execution_count": 352,
   "metadata": {
    "collapsed": false
   },
   "outputs": [
    {
     "data": {
      "text/plain": [
       "array([False, False, False, False, False, False, False, False, False,\n",
       "       False, False, False, False, False, False, False, False, False,\n",
       "       False, False, False, False, False, False, False, False, False,\n",
       "       False, False, False, False, False, False, False, False, False,\n",
       "       False, False, False, False, False, False, False, False, False,\n",
       "       False, False, False, False, False, False, False, False, False,\n",
       "       False, False, False, False, False, False, False, False, False,\n",
       "       False, False, False, False, False, False, False, False, False,\n",
       "       False, False, False, False, False, False, False, False, False,\n",
       "       False, False, False, False, False, False, False, False, False,\n",
       "       False, False, False, False, False, False, False, False, False,\n",
       "       False, False, False, False, False, False, False, False, False,\n",
       "       False, False, False, False, False, False, False, False, False,\n",
       "       False, False, False, False, False, False, False, False, False,\n",
       "       False, False, False, False, False, False, False, False, False,\n",
       "       False, False, False, False, False, False, False, False, False,\n",
       "       False, False, False, False, False, False, False, False, False,\n",
       "       False, False, False, False, False, False, False, False, False,\n",
       "       False, False, False, False, False, False, False, False, False,\n",
       "       False, False, False, False, False, False, False, False, False,\n",
       "       False, False, False, False, False, False, False, False, False,\n",
       "       False, False, False, False, False, False, False, False, False,\n",
       "       False, False], dtype=bool)"
      ]
     },
     "execution_count": 352,
     "metadata": {},
     "output_type": "execute_result"
    }
   ],
   "source": [
    "rng.is_month_start"
   ]
  },
  {
   "cell_type": "markdown",
   "metadata": {},
   "source": [
    "## Problem 13\n",
    "<span  style=\"color:green; font-size:16px\">Create a series with the above DatetimeIndex as the index. Fill the index with the cumulative sum of an array of random normal numpy variables. Save this series to variable `s`. It will be used for the next several problems.</span>"
   ]
  },
  {
   "cell_type": "code",
   "execution_count": 365,
   "metadata": {
    "collapsed": false
   },
   "outputs": [
    {
     "data": {
      "text/plain": [
       "0     2001-05-31\n",
       "1     2001-06-29\n",
       "2     2001-07-31\n",
       "3     2001-08-31\n",
       "4     2001-09-28\n",
       "5     2001-10-31\n",
       "6     2001-11-30\n",
       "7     2001-12-31\n",
       "8     2002-01-31\n",
       "9     2002-02-28\n",
       "10    2002-03-29\n",
       "11    2002-04-30\n",
       "12    2002-05-31\n",
       "13    2002-06-28\n",
       "14    2002-07-31\n",
       "15    2002-08-30\n",
       "16    2002-09-30\n",
       "17    2002-10-31\n",
       "18    2002-11-29\n",
       "19    2002-12-31\n",
       "20    2003-01-31\n",
       "21    2003-02-28\n",
       "22    2003-03-31\n",
       "23    2003-04-30\n",
       "24    2003-05-30\n",
       "25    2003-06-30\n",
       "26    2003-07-31\n",
       "27    2003-08-29\n",
       "28    2003-09-30\n",
       "29    2003-10-31\n",
       "         ...    \n",
       "170   2015-07-31\n",
       "171   2015-08-31\n",
       "172   2015-09-30\n",
       "173   2015-10-30\n",
       "174   2015-11-30\n",
       "175   2015-12-31\n",
       "176   2016-01-29\n",
       "177   2016-02-29\n",
       "178   2016-03-31\n",
       "179   2016-04-29\n",
       "180   2016-05-31\n",
       "181   2016-06-30\n",
       "182   2016-07-29\n",
       "183   2016-08-31\n",
       "184   2016-09-30\n",
       "185   2016-10-31\n",
       "186   2016-11-30\n",
       "187   2016-12-30\n",
       "188   2017-01-31\n",
       "189   2017-02-28\n",
       "190   2017-03-31\n",
       "191   2017-04-28\n",
       "192   2017-05-31\n",
       "193   2017-06-30\n",
       "194   2017-07-31\n",
       "195   2017-08-31\n",
       "196   2017-09-29\n",
       "197   2017-10-31\n",
       "198   2017-11-30\n",
       "199   2017-12-29\n",
       "dtype: datetime64[ns]"
      ]
     },
     "execution_count": 365,
     "metadata": {},
     "output_type": "execute_result"
    }
   ],
   "source": [
    "\n",
    "periods = 200\n",
    "rng = pd.date_range(end='2018-01-19', periods=periods, freq='BM')\n",
    "s = pd.Series(rng)\n",
    "s"
   ]
  },
  {
   "cell_type": "markdown",
   "metadata": {},
   "source": [
    "## Problem 14\n",
    "<span  style=\"color:green; font-size:16px\">Slice the series from problem 13 from one date to another by 4</span>"
   ]
  },
  {
   "cell_type": "code",
   "execution_count": 100,
   "metadata": {
    "collapsed": true
   },
   "outputs": [],
   "source": [
    "# your code here"
   ]
  },
  {
   "cell_type": "markdown",
   "metadata": {},
   "source": [
    "## Problem 15\n",
    "<span  style=\"color:green; font-size:16px\">Use the `asfreq` method on the series above to sample using a less frequent date offset. If your offset is currently weeks, take a sample of months or two weeks.</span>"
   ]
  },
  {
   "cell_type": "code",
   "execution_count": 101,
   "metadata": {
    "collapsed": true
   },
   "outputs": [],
   "source": [
    "# your code here"
   ]
  },
  {
   "cell_type": "markdown",
   "metadata": {},
   "source": [
    "## Problem 16\n",
    "<span  style=\"color:green; font-size:16px\">Do the opposite of 16. Use the method `asfreq` to sample a more frequent date offset. Remove the missing values with by utilizing the `pad` argument.</span>"
   ]
  },
  {
   "cell_type": "code",
   "execution_count": 102,
   "metadata": {
    "collapsed": true
   },
   "outputs": [],
   "source": [
    "# your code here"
   ]
  },
  {
   "cell_type": "markdown",
   "metadata": {},
   "source": [
    "## Problem 17\n",
    "<span  style=\"color:green; font-size:16px\">Aggregate your data by using the resample method. Use 5 of your date offsets as the size of your group. Find the median for each group.</span>"
   ]
  },
  {
   "cell_type": "code",
   "execution_count": 103,
   "metadata": {
    "collapsed": true
   },
   "outputs": [],
   "source": [
    "# your code here"
   ]
  },
  {
   "cell_type": "markdown",
   "metadata": {},
   "source": [
    "## Problem 18\n",
    "<span  style=\"color:green; font-size:16px\">Plot the aggregated data along with the original data on the same plot.</span>"
   ]
  },
  {
   "cell_type": "code",
   "execution_count": 104,
   "metadata": {
    "collapsed": true
   },
   "outputs": [],
   "source": [
    "# your code here"
   ]
  },
  {
   "cell_type": "markdown",
   "metadata": {},
   "source": [
    "# Mini-Project: Predicting the Stock Market using Simple Rules\n",
    "In this project we will explore making predictions on the stock market using simple rules. How simple is the rule? What if we had to choose to buy or short some stock every monday and close out our position by selling or buying on Friday based on what happened the week before. If the stock went up the week before we buy on Monday. If it went down the week before we sell.\n",
    "\n",
    "Let's choose a stock and test this theory. After we test this theory, you will come up with your own theory based on a different rule and try and find something that works and then of course implement it in real life."
   ]
  },
  {
   "cell_type": "code",
   "execution_count": 105,
   "metadata": {
    "collapsed": false
   },
   "outputs": [],
   "source": [
    "# first lets get some historical data from McDonalds stock\n",
    "mcd = DataReader('MCD', 'google', start='2012-1-1')['Close']"
   ]
  },
  {
   "cell_type": "code",
   "execution_count": 106,
   "metadata": {
    "collapsed": false
   },
   "outputs": [
    {
     "data": {
      "text/plain": [
       "Date\n",
       "2012-01-03     98.84\n",
       "2012-01-04     99.39\n",
       "2012-01-05     99.83\n",
       "2012-01-06    100.60\n",
       "2012-01-09     99.64\n",
       "2012-01-10     99.70\n",
       "2012-01-11     99.93\n",
       "2012-01-12    100.57\n",
       "2012-01-13    100.35\n",
       "2012-01-17    100.55\n",
       "Name: Close, dtype: float64"
      ]
     },
     "execution_count": 106,
     "metadata": {},
     "output_type": "execute_result"
    }
   ],
   "source": [
    "mcd.head(10)"
   ]
  },
  {
   "cell_type": "code",
   "execution_count": 107,
   "metadata": {
    "collapsed": false
   },
   "outputs": [
    {
     "data": {
      "text/plain": [
       "Date\n",
       "2012-01-06    1.76\n",
       "2012-01-13    0.71\n",
       "2012-01-20    1.19\n",
       "2012-01-27   -2.26\n",
       "2012-02-03    1.32\n",
       "2012-02-10   -0.02\n",
       "2012-02-17    0.34\n",
       "2012-02-24   -0.17\n",
       "2012-03-02   -0.86\n",
       "2012-03-09   -3.10\n",
       "Freq: W-FRI, Name: Close, dtype: float64"
      ]
     },
     "execution_count": 107,
     "metadata": {},
     "output_type": "execute_result"
    }
   ],
   "source": [
    "# take a look at raw gain/loss\n",
    "mcd.resample('W-FRI').agg(lambda x: x[-1] - x[0]).head(10)"
   ]
  },
  {
   "cell_type": "code",
   "execution_count": 108,
   "metadata": {
    "collapsed": false
   },
   "outputs": [
    {
     "data": {
      "text/plain": [
       "Date\n",
       "2012-01-06    1.0\n",
       "2012-01-13    1.0\n",
       "2012-01-20    1.0\n",
       "2012-01-27   -1.0\n",
       "2012-02-03    1.0\n",
       "2012-02-10   -1.0\n",
       "2012-02-17    1.0\n",
       "2012-02-24   -1.0\n",
       "2012-03-02   -1.0\n",
       "2012-03-09   -1.0\n",
       "2012-03-16    1.0\n",
       "2012-03-23   -1.0\n",
       "2012-03-30    1.0\n",
       "2012-04-06    1.0\n",
       "2012-04-13   -1.0\n",
       "Freq: W-FRI, Name: Close, dtype: float64"
      ]
     },
     "execution_count": 108,
     "metadata": {},
     "output_type": "execute_result"
    }
   ],
   "source": [
    "# build a model for the next week\n",
    "model = mcd.resample('W-FRI').agg(lambda x: 1 if x[-1] - x[0] > 0 else -1)\n",
    "model.head(15)"
   ]
  },
  {
   "cell_type": "code",
   "execution_count": 109,
   "metadata": {
    "collapsed": false
   },
   "outputs": [
    {
     "data": {
      "text/plain": [
       "Date\n",
       "2012-01-13    1.0\n",
       "2012-01-20    1.0\n",
       "2012-01-27    1.0\n",
       "2012-02-03   -1.0\n",
       "2012-02-10    1.0\n",
       "2012-02-17   -1.0\n",
       "2012-02-24    1.0\n",
       "2012-03-02   -1.0\n",
       "2012-03-09   -1.0\n",
       "2012-03-16   -1.0\n",
       "2012-03-23    1.0\n",
       "2012-03-30   -1.0\n",
       "2012-04-06    1.0\n",
       "2012-04-13    1.0\n",
       "2012-04-20   -1.0\n",
       "Freq: W-FRI, Name: Close, dtype: float64"
      ]
     },
     "execution_count": 109,
     "metadata": {},
     "output_type": "execute_result"
    }
   ],
   "source": [
    "model1 = model.tshift(1)[:-1]\n",
    "model1.head(15)"
   ]
  },
  {
   "cell_type": "code",
   "execution_count": 110,
   "metadata": {
    "collapsed": false
   },
   "outputs": [
    {
     "data": {
      "text/plain": [
       "Date\n",
       "2012-01-13    0.007075\n",
       "2012-01-20    0.011696\n",
       "2012-01-27   -0.022900\n",
       "2012-02-03    0.013199\n",
       "2012-02-10   -0.000201\n",
       "2012-02-17    0.003400\n",
       "2012-02-24   -0.001695\n",
       "2012-03-02   -0.008643\n",
       "2012-03-09   -0.032012\n",
       "2012-03-16    0.010240\n",
       "2012-03-23   -0.022815\n",
       "2012-03-30    0.011519\n",
       "2012-04-06    0.002636\n",
       "2012-04-13   -0.019697\n",
       "2012-04-20   -0.006671\n",
       "Freq: W-FRI, Name: Close, dtype: float64"
      ]
     },
     "execution_count": 110,
     "metadata": {},
     "output_type": "execute_result"
    }
   ],
   "source": [
    "actual = mcd.resample('W-FRI').agg(lambda x: (x[-1] - x[0]) / x[-1])\n",
    "actual = actual[1:]\n",
    "actual.head(15)"
   ]
  },
  {
   "cell_type": "code",
   "execution_count": 111,
   "metadata": {
    "collapsed": false
   },
   "outputs": [],
   "source": [
    "df = pd.DataFrame({'actual':actual, 'model':model1})"
   ]
  },
  {
   "cell_type": "code",
   "execution_count": 112,
   "metadata": {
    "collapsed": false
   },
   "outputs": [
    {
     "data": {
      "text/html": [
       "<div>\n",
       "<table border=\"1\" class=\"dataframe\">\n",
       "  <thead>\n",
       "    <tr style=\"text-align: right;\">\n",
       "      <th></th>\n",
       "      <th>actual</th>\n",
       "      <th>model</th>\n",
       "    </tr>\n",
       "    <tr>\n",
       "      <th>Date</th>\n",
       "      <th></th>\n",
       "      <th></th>\n",
       "    </tr>\n",
       "  </thead>\n",
       "  <tbody>\n",
       "    <tr>\n",
       "      <th>2012-01-13</th>\n",
       "      <td>0.007075</td>\n",
       "      <td>1.0</td>\n",
       "    </tr>\n",
       "    <tr>\n",
       "      <th>2012-01-20</th>\n",
       "      <td>0.011696</td>\n",
       "      <td>1.0</td>\n",
       "    </tr>\n",
       "    <tr>\n",
       "      <th>2012-01-27</th>\n",
       "      <td>-0.022900</td>\n",
       "      <td>1.0</td>\n",
       "    </tr>\n",
       "    <tr>\n",
       "      <th>2012-02-03</th>\n",
       "      <td>0.013199</td>\n",
       "      <td>-1.0</td>\n",
       "    </tr>\n",
       "    <tr>\n",
       "      <th>2012-02-10</th>\n",
       "      <td>-0.000201</td>\n",
       "      <td>1.0</td>\n",
       "    </tr>\n",
       "  </tbody>\n",
       "</table>\n",
       "</div>"
      ],
      "text/plain": [
       "              actual  model\n",
       "Date                       \n",
       "2012-01-13  0.007075    1.0\n",
       "2012-01-20  0.011696    1.0\n",
       "2012-01-27 -0.022900    1.0\n",
       "2012-02-03  0.013199   -1.0\n",
       "2012-02-10 -0.000201    1.0"
      ]
     },
     "execution_count": 112,
     "metadata": {},
     "output_type": "execute_result"
    }
   ],
   "source": [
    "df.head()"
   ]
  },
  {
   "cell_type": "code",
   "execution_count": 113,
   "metadata": {
    "collapsed": false
   },
   "outputs": [],
   "source": [
    "# calculate differently for short sales\n",
    "true_gain_pct = df.apply(lambda x: 1 + x['actual'] if x['model'] == 1 else 1 / (1 + x['actual']), axis=1)"
   ]
  },
  {
   "cell_type": "code",
   "execution_count": 114,
   "metadata": {
    "collapsed": false
   },
   "outputs": [
    {
     "data": {
      "text/plain": [
       "Date\n",
       "2017-02-17    0.712761\n",
       "2017-02-24    0.716140\n",
       "2017-03-03    0.721235\n",
       "2017-03-10    0.720954\n",
       "2017-03-17    0.718875\n",
       "Freq: W-FRI, dtype: float64"
      ]
     },
     "execution_count": 114,
     "metadata": {},
     "output_type": "execute_result"
    }
   ],
   "source": [
    "# 20% loss!\n",
    "true_gain_pct.cumprod().tail()"
   ]
  },
  {
   "cell_type": "code",
   "execution_count": 115,
   "metadata": {
    "collapsed": true
   },
   "outputs": [],
   "source": [
    "# make a function to do it all at once\n",
    "def one_week_predict(stock):\n",
    "    stock_close = DataReader(stock, 'google', start='2012-1-1')['Close']\n",
    "    model = stock_close.resample('W-FRI').agg(lambda x: 1 if x[-1] - x[0] > 0 else -1)\n",
    "    model = model.tshift(1)[:-1]\n",
    "    actual = stock_close.resample('W-FRI').agg(lambda x: (x[-1] - x[0]) / x[-1])\n",
    "    actual = actual[1:]\n",
    "    df = pd.DataFrame({'actual':actual, 'model':model})\n",
    "    true_gain_pct = df.apply(lambda x: 1 + x['actual'] if x['model'] == 1 else 1 / (1 + x['actual']), axis=1)\n",
    "    return true_gain_pct"
   ]
  },
  {
   "cell_type": "code",
   "execution_count": 116,
   "metadata": {
    "collapsed": true
   },
   "outputs": [],
   "source": [
    "tgp = one_week_predict('csco')"
   ]
  },
  {
   "cell_type": "code",
   "execution_count": 117,
   "metadata": {
    "collapsed": false
   },
   "outputs": [
    {
     "data": {
      "text/plain": [
       "Date\n",
       "2017-02-17    1.214407\n",
       "2017-02-24    1.221130\n",
       "2017-03-03    1.222199\n",
       "2017-03-10    1.224696\n",
       "2017-03-17    1.229347\n",
       "Freq: W-FRI, dtype: float64"
      ]
     },
     "execution_count": 117,
     "metadata": {},
     "output_type": "execute_result"
    }
   ],
   "source": [
    "tgp.cumprod().tail()"
   ]
  },
  {
   "cell_type": "markdown",
   "metadata": {},
   "source": [
    "# Your turn\n",
    "Create your own model with either resample or rolling to make a prediction of what will happen the next week"
   ]
  },
  {
   "cell_type": "code",
   "execution_count": 118,
   "metadata": {
    "collapsed": false
   },
   "outputs": [
    {
     "data": {
      "text/plain": [
       "Date\n",
       "2012-01-13    1.004722\n",
       "2012-01-20    1.031124\n",
       "2012-01-27    0.986196\n",
       "2012-02-03    0.974297\n",
       "2012-02-10    0.985427\n",
       "2012-02-17    0.987348\n",
       "2012-02-24    0.989076\n",
       "2012-03-02    1.021189\n",
       "2012-03-09    0.990000\n",
       "2012-03-16    1.009985\n",
       "2012-03-23    1.018997\n",
       "2012-03-30    1.014657\n",
       "2012-04-06    0.952028\n",
       "2012-04-13    1.005572\n",
       "2012-04-20    0.990547\n",
       "2012-04-27    1.015015\n",
       "2012-05-04    0.945607\n",
       "2012-05-11    1.185345\n",
       "2012-05-18    1.014163\n",
       "2012-05-25    1.021263\n",
       "2012-06-01    1.041096\n",
       "2012-06-08    0.964265\n",
       "2012-06-15    1.036257\n",
       "2012-06-22    0.999416\n",
       "2012-06-29    0.986782\n",
       "2012-07-06    0.981515\n",
       "2012-07-13    1.021290\n",
       "2012-07-20    0.989716\n",
       "2012-07-27    0.975781\n",
       "2012-08-03    0.971480\n",
       "                ...   \n",
       "2016-08-26    0.977549\n",
       "2016-09-02    1.007854\n",
       "2016-09-09    0.966937\n",
       "2016-09-16    1.019841\n",
       "2016-09-23    0.989893\n",
       "2016-09-30    1.020492\n",
       "2016-10-07    0.999047\n",
       "2016-10-14    1.044652\n",
       "2016-10-21    1.002327\n",
       "2016-10-28    0.995768\n",
       "2016-11-04    0.983769\n",
       "2016-11-11    0.986784\n",
       "2016-11-18    0.960570\n",
       "2016-11-25    0.998672\n",
       "2016-12-02    0.977094\n",
       "2016-12-09    0.982674\n",
       "2016-12-16    1.013730\n",
       "2016-12-23    0.992794\n",
       "2016-12-30    1.015457\n",
       "2017-01-06    1.010361\n",
       "2017-01-13    1.003672\n",
       "2017-01-20    0.996359\n",
       "2017-01-27    1.022918\n",
       "2017-02-03    1.015645\n",
       "2017-02-10    1.006665\n",
       "2017-02-17    1.052460\n",
       "2017-02-24    1.005536\n",
       "2017-03-03    1.000875\n",
       "2017-03-10    1.002043\n",
       "2017-03-17    1.003798\n",
       "Freq: W-FRI, Name: Gain, dtype: float64"
      ]
     },
     "execution_count": 118,
     "metadata": {},
     "output_type": "execute_result"
    }
   ],
   "source": [
    "tgp.rename('Gain')"
   ]
  },
  {
   "cell_type": "code",
   "execution_count": null,
   "metadata": {
    "collapsed": true
   },
   "outputs": [],
   "source": []
  }
 ],
 "metadata": {
  "anaconda-cloud": {},
  "kernelspec": {
   "display_name": "Python 3",
   "language": "python",
   "name": "python3"
  },
  "language_info": {
   "codemirror_mode": {
    "name": "ipython",
    "version": 3
   },
   "file_extension": ".py",
   "mimetype": "text/x-python",
   "name": "python",
   "nbconvert_exporter": "python",
   "pygments_lexer": "ipython3",
   "version": "3.6.0"
  }
 },
 "nbformat": 4,
 "nbformat_minor": 0
}
