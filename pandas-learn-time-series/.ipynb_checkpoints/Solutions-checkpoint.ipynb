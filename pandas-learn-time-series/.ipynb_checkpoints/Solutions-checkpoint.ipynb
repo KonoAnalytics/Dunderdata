{
 "cells": [
  {
   "cell_type": "markdown",
   "metadata": {},
   "source": [
    "# Solutions\n",
    "1. [Time Series](#3.-Time-Series)"
   ]
  },
  {
   "cell_type": "code",
   "execution_count": 4,
   "metadata": {
    "collapsed": true
   },
   "outputs": [],
   "source": [
    "import pandas as pd\n",
    "import matplotlib.pyplot as plt\n",
    "import numpy as np\n",
    "import datetime\n",
    "\n",
    "%matplotlib inline\n",
    "plt.style.use(\"ggplot\")"
   ]
  },
  {
   "cell_type": "markdown",
   "metadata": {},
   "source": [
    "# 1. Time Series"
   ]
  },
  {
   "cell_type": "markdown",
   "metadata": {},
   "source": [
    "## Problem 1\n",
    "<span  style=\"color:green; font-size:16px\">Create a datetime object with values for both the date and time part and extract the date and time into separate variables. Can you add the date and time objects together to get the same datetime object?</span>"
   ]
  },
  {
   "cell_type": "code",
   "execution_count": 2,
   "metadata": {
    "collapsed": false
   },
   "outputs": [
    {
     "data": {
      "text/plain": [
       "(datetime.time(5, 42), datetime.date(2016, 5, 6))"
      ]
     },
     "execution_count": 2,
     "metadata": {},
     "output_type": "execute_result"
    }
   ],
   "source": [
    "# your code here\n",
    "dt = datetime.datetime(2016, 5, 6, 5, 42)\n",
    "t = dt.time()\n",
    "d = dt.date()\n",
    "t, d"
   ]
  },
  {
   "cell_type": "code",
   "execution_count": 3,
   "metadata": {
    "collapsed": false
   },
   "outputs": [
    {
     "ename": "TypeError",
     "evalue": "unsupported operand type(s) for +: 'datetime.time' and 'datetime.date'",
     "output_type": "error",
     "traceback": [
      "\u001b[0;31m---------------------------------------------------------------------------\u001b[0m",
      "\u001b[0;31mTypeError\u001b[0m                                 Traceback (most recent call last)",
      "\u001b[0;32m<ipython-input-3-06cc2ebdc692>\u001b[0m in \u001b[0;36m<module>\u001b[0;34m()\u001b[0m\n\u001b[1;32m      1\u001b[0m \u001b[0;31m# different types wont add\u001b[0m\u001b[0;34m\u001b[0m\u001b[0;34m\u001b[0m\u001b[0m\n\u001b[0;32m----> 2\u001b[0;31m \u001b[0mt\u001b[0m \u001b[0;34m+\u001b[0m \u001b[0md\u001b[0m\u001b[0;34m\u001b[0m\u001b[0m\n\u001b[0m",
      "\u001b[0;31mTypeError\u001b[0m: unsupported operand type(s) for +: 'datetime.time' and 'datetime.date'"
     ]
    }
   ],
   "source": [
    "# different types wont add\n",
    "t + d"
   ]
  },
  {
   "cell_type": "markdown",
   "metadata": {},
   "source": [
    "## Problem 2\n",
    "<span  style=\"color:green; font-size:16px\">Create a datetime object and add to it 6 hours 42 minutes and 123456 microseconds</span>"
   ]
  },
  {
   "cell_type": "code",
   "execution_count": 4,
   "metadata": {
    "collapsed": false
   },
   "outputs": [
    {
     "data": {
      "text/plain": [
       "datetime.datetime(2016, 7, 16, 7, 59, 1, 912890)"
      ]
     },
     "execution_count": 4,
     "metadata": {},
     "output_type": "execute_result"
    }
   ],
   "source": [
    "dt = datetime.datetime.today()\n",
    "td = datetime.timedelta(hours=6, minutes=42, microseconds=123456)\n",
    "dt + td"
   ]
  },
  {
   "cell_type": "code",
   "execution_count": 5,
   "metadata": {
    "collapsed": false
   },
   "outputs": [
    {
     "name": "stdout",
     "output_type": "stream",
     "text": [
      "2016-07-16 07:59:01.912890\n"
     ]
    }
   ],
   "source": [
    "print(dt + td)"
   ]
  },
  {
   "cell_type": "markdown",
   "metadata": {},
   "source": [
    "## Problem 3\n",
    "<span  style=\"color:green; font-size:16px\">Write a list comprehension that contains 100 elements with each element being the current datetime (of the execution of that list comprehension iteration)</span>"
   ]
  },
  {
   "cell_type": "code",
   "execution_count": 6,
   "metadata": {
    "collapsed": false
   },
   "outputs": [],
   "source": [
    "# your code here\n",
    "todays_datetimes = [datetime.datetime.today() for i in range(100)]"
   ]
  },
  {
   "cell_type": "markdown",
   "metadata": {},
   "source": [
    "## Problem 4\n",
    "<span  style=\"color:green; font-size:16px\">Put the list from problem 3 into a Series and then find the average difference between iterations. You may have to google how to find the difference between values in a Series.</span>"
   ]
  },
  {
   "cell_type": "code",
   "execution_count": 7,
   "metadata": {
    "collapsed": false
   },
   "outputs": [
    {
     "data": {
      "text/plain": [
       "Timedelta('0 days 00:00:00.000002')"
      ]
     },
     "execution_count": 7,
     "metadata": {},
     "output_type": "execute_result"
    }
   ],
   "source": [
    "# your code here\n",
    "s = pd.Series(todays_datetimes)\n",
    "s.diff().mean()"
   ]
  },
  {
   "cell_type": "markdown",
   "metadata": {},
   "source": [
    "## Problem 5\n",
    "<span  style=\"color:green; font-size:16px\">Use the datetime library to convert \"2016bbb12---15\" into a date</span>"
   ]
  },
  {
   "cell_type": "code",
   "execution_count": 8,
   "metadata": {
    "collapsed": false
   },
   "outputs": [
    {
     "data": {
      "text/plain": [
       "datetime.datetime(2016, 12, 15, 0, 0)"
      ]
     },
     "execution_count": 8,
     "metadata": {},
     "output_type": "execute_result"
    }
   ],
   "source": [
    "# your code here\n",
    "convert_me = \"2016bbb12---15\"\n",
    "datetime.datetime.strptime(convert_me, \"%Ybbb%m---%d\")"
   ]
  },
  {
   "cell_type": "markdown",
   "metadata": {},
   "source": [
    "## Problem 6\n",
    "<span  style=\"color:green; font-size:16px\">Convert the date below to \"On Friday July the 8th, 2016 it was very hot.\" Don't forget the [directives](https://docs.python.org/3.5/library/datetime.html#strftime-and-strptime-behavior)  </span>"
   ]
  },
  {
   "cell_type": "code",
   "execution_count": 9,
   "metadata": {
    "collapsed": false
   },
   "outputs": [
    {
     "data": {
      "text/plain": [
       "'On Friday July the 8th, 2016 it was very hot.'"
      ]
     },
     "execution_count": 9,
     "metadata": {},
     "output_type": "execute_result"
    }
   ],
   "source": [
    "# your code here\n",
    "d = datetime.date(2016, 7, 8)\n",
    "\n",
    "# use a hyphen to remove zero-padding\n",
    "d.strftime(\"On %A %B the %-dth, %Y it was very hot.\")"
   ]
  },
  {
   "cell_type": "markdown",
   "metadata": {},
   "source": [
    "## Problem 7\n",
    "<span  style=\"color:green; font-size:16px\"> Create a pandas Timestamp out of a datetime object</span>"
   ]
  },
  {
   "cell_type": "code",
   "execution_count": 10,
   "metadata": {
    "collapsed": false
   },
   "outputs": [
    {
     "data": {
      "text/plain": [
       "Timestamp('2016-05-12 03:42:56')"
      ]
     },
     "execution_count": 10,
     "metadata": {},
     "output_type": "execute_result"
    }
   ],
   "source": [
    "# your code here\n",
    "ts = pd.Timestamp(datetime.datetime(2016,5, 12, 3, 42, 56))\n",
    "ts"
   ]
  },
  {
   "cell_type": "markdown",
   "metadata": {},
   "source": [
    "## Problem 8\n",
    "<span  style=\"color:green; font-size:16px\"> Using the datetime library, find out how many days you have been alive. Save this to the variable `days_alive`</span>"
   ]
  },
  {
   "cell_type": "code",
   "execution_count": 11,
   "metadata": {
    "collapsed": false
   },
   "outputs": [
    {
     "data": {
      "text/plain": [
       "12819"
      ]
     },
     "execution_count": 11,
     "metadata": {},
     "output_type": "execute_result"
    }
   ],
   "source": [
    "# your code here\n",
    "days_alive = (datetime.datetime.today() - datetime.datetime(1981, 6, 11))\n",
    "days_alive.days"
   ]
  },
  {
   "cell_type": "markdown",
   "metadata": {
    "collapsed": true
   },
   "source": [
    "## Problem 9\n",
    "<span  style=\"color:green; font-size:16px\">It's possible to divide two timedelta objects together. With that information,  use pd.Timedelta to find out how many nanoseconds you have been alive for.</span>"
   ]
  },
  {
   "cell_type": "code",
   "execution_count": 12,
   "metadata": {
    "collapsed": false
   },
   "outputs": [
    {
     "data": {
      "text/plain": [
       "1.107566225564211e+18"
      ]
     },
     "execution_count": 12,
     "metadata": {},
     "output_type": "execute_result"
    }
   ],
   "source": [
    "# your code here\n",
    "days_alive / pd.Timedelta(nanoseconds=1)"
   ]
  },
  {
   "cell_type": "markdown",
   "metadata": {},
   "source": [
    "## Problem 10\n",
    "<span  style=\"color:green; font-size:16px\">What day of the week was October 12, 1492?</span>"
   ]
  },
  {
   "cell_type": "code",
   "execution_count": 13,
   "metadata": {
    "collapsed": false
   },
   "outputs": [
    {
     "data": {
      "text/plain": [
       "'Wednesday'"
      ]
     },
     "execution_count": 13,
     "metadata": {},
     "output_type": "execute_result"
    }
   ],
   "source": [
    "# your code here\n",
    "d = datetime.date(1492, 10, 12)\n",
    "d.strftime('%A')"
   ]
  },
  {
   "cell_type": "code",
   "execution_count": 14,
   "metadata": {
    "collapsed": false
   },
   "outputs": [
    {
     "data": {
      "text/plain": [
       "2"
      ]
     },
     "execution_count": 14,
     "metadata": {},
     "output_type": "execute_result"
    }
   ],
   "source": [
    "# or\n",
    "# 0 is Monday so 2 is wednesday\n",
    "d.weekday()"
   ]
  },
  {
   "cell_type": "markdown",
   "metadata": {},
   "source": [
    "## Problem 11\n",
    "<span  style=\"color:green; font-size:16px\">Create a range of dates using pandas that span at least a couple years without using the `start` argument and using a different frequency than `days`</span>"
   ]
  },
  {
   "cell_type": "code",
   "execution_count": 15,
   "metadata": {
    "collapsed": false
   },
   "outputs": [
    {
     "data": {
      "text/plain": [
       "pandas.tseries.index.DatetimeIndex"
      ]
     },
     "execution_count": 15,
     "metadata": {},
     "output_type": "execute_result"
    }
   ],
   "source": [
    "# your code here\n",
    "rng = pd.date_range(end='2018-01-19', periods=200, freq='BM')\n",
    "\n",
    "# a DatetimeIndex was created\n",
    "type(rng)"
   ]
  },
  {
   "cell_type": "markdown",
   "metadata": {},
   "source": [
    "## Problem 12\n",
    "<span  style=\"color:green; font-size:16px\">Investigate the DatetimeIndex object you created in problem 11. Use the dot notation along with pressing tab to view many of the methods. Explore several methods including the ones that begin with `is_...`</span>"
   ]
  },
  {
   "cell_type": "code",
   "execution_count": 16,
   "metadata": {
    "collapsed": false
   },
   "outputs": [
    {
     "data": {
      "text/plain": [
       "array([31, 29, 31, 31, 28, 31, 30, 31, 31, 28, 29, 30, 31, 28, 31, 30, 30,\n",
       "       31, 29, 31, 31, 28, 31, 30, 30, 30, 31, 29, 30, 31, 28, 31, 30, 27,\n",
       "       31, 30, 31, 30, 30, 31, 30, 29, 30, 31, 31, 28, 31, 29, 31, 30, 29,\n",
       "       31, 30, 31, 30, 30, 31, 28, 31, 28, 31, 30, 31, 31, 29, 31, 30, 29,\n",
       "       31, 28, 30, 30, 31, 29, 31, 31, 28, 31, 30, 31, 31, 29, 31, 30, 30,\n",
       "       30, 31, 29, 30, 31, 28, 31, 30, 27, 31, 30, 29, 30, 31, 31, 30, 30,\n",
       "       30, 31, 29, 26, 31, 30, 31, 30, 30, 31, 30, 29, 30, 31, 31, 28, 31,\n",
       "       29, 31, 30, 29, 31, 30, 31, 30, 30, 31, 29, 30, 30, 31, 29, 31, 31,\n",
       "       28, 31, 30, 31, 31, 28, 29, 30, 31, 28, 31, 30, 30, 31, 29, 31, 31,\n",
       "       28, 31, 30, 30, 30, 31, 29, 30, 31, 28, 31, 30, 27, 31, 30, 29, 30,\n",
       "       31, 31, 30, 30, 30, 31, 29, 29, 31, 29, 31, 30, 29, 31, 30, 31, 30,\n",
       "       30, 31, 28, 31, 28, 31, 30, 31, 31, 29, 31, 30, 29], dtype=int32)"
      ]
     },
     "execution_count": 16,
     "metadata": {},
     "output_type": "execute_result"
    }
   ],
   "source": [
    "# your code here\n",
    "rng.day"
   ]
  },
  {
   "cell_type": "code",
   "execution_count": 17,
   "metadata": {
    "collapsed": false
   },
   "outputs": [
    {
     "data": {
      "text/plain": [
       "array([ True,  True,  True,  True,  True,  True,  True,  True,  True,\n",
       "        True,  True,  True,  True,  True,  True,  True,  True,  True,\n",
       "        True,  True,  True,  True,  True,  True,  True,  True,  True,\n",
       "        True,  True,  True,  True,  True,  True,  True,  True,  True,\n",
       "        True,  True,  True,  True,  True,  True,  True,  True,  True,\n",
       "        True,  True,  True,  True,  True,  True,  True,  True,  True,\n",
       "        True,  True,  True,  True,  True,  True,  True,  True,  True,\n",
       "        True,  True,  True,  True,  True,  True,  True,  True,  True,\n",
       "        True,  True,  True,  True,  True,  True,  True,  True,  True,\n",
       "        True,  True,  True,  True,  True,  True,  True,  True,  True,\n",
       "        True,  True,  True,  True,  True,  True,  True,  True,  True,\n",
       "        True,  True,  True,  True,  True,  True,  True,  True,  True,\n",
       "        True,  True,  True,  True,  True,  True,  True,  True,  True,\n",
       "        True,  True,  True,  True,  True,  True,  True,  True,  True,\n",
       "        True,  True,  True,  True,  True,  True,  True,  True,  True,\n",
       "        True,  True,  True,  True,  True,  True,  True,  True,  True,\n",
       "        True,  True,  True,  True,  True,  True,  True,  True,  True,\n",
       "        True,  True,  True,  True,  True,  True,  True,  True,  True,\n",
       "        True,  True,  True,  True,  True,  True,  True,  True,  True,\n",
       "        True,  True,  True,  True,  True,  True,  True,  True,  True,\n",
       "        True,  True,  True,  True,  True,  True,  True,  True,  True,\n",
       "        True,  True,  True,  True,  True,  True,  True,  True,  True,\n",
       "        True,  True], dtype=bool)"
      ]
     },
     "execution_count": 17,
     "metadata": {},
     "output_type": "execute_result"
    }
   ],
   "source": [
    "rng.is_month_end"
   ]
  },
  {
   "cell_type": "markdown",
   "metadata": {},
   "source": [
    "## Problem 13\n",
    "<span  style=\"color:green; font-size:16px\">Create a series with the above DatetimeIndex as the index. Fill the index with the cumulative sum of an array of random normal numpy variables</span>"
   ]
  },
  {
   "cell_type": "code",
   "execution_count": 18,
   "metadata": {
    "collapsed": false
   },
   "outputs": [
    {
     "data": {
      "text/plain": [
       "2001-05-31   -0.960336\n",
       "2001-06-29   -0.287942\n",
       "2001-07-31   -0.399516\n",
       "2001-08-31   -0.516934\n",
       "2001-09-28   -2.667929\n",
       "Freq: BM, dtype: float64"
      ]
     },
     "execution_count": 18,
     "metadata": {},
     "output_type": "execute_result"
    }
   ],
   "source": [
    "# your code here\n",
    "s = pd.Series(np.random.randn(len(rng)).cumsum(), index=rng)\n",
    "s.head()"
   ]
  },
  {
   "cell_type": "markdown",
   "metadata": {},
   "source": [
    "## Problem 14\n",
    "<span  style=\"color:green; font-size:16px\">Slice the series from problem 13 from one date to another by 4</span>"
   ]
  },
  {
   "cell_type": "code",
   "execution_count": 19,
   "metadata": {
    "collapsed": false
   },
   "outputs": [
    {
     "data": {
      "text/plain": [
       "2013-03-29   -14.260410\n",
       "2013-07-31   -11.629787\n",
       "2013-11-29   -13.346477\n",
       "2014-03-31   -15.730907\n",
       "2014-07-31   -16.681249\n",
       "2014-11-28   -13.957806\n",
       "2015-03-31    -9.286191\n",
       "2015-07-31   -10.071377\n",
       "2015-11-30    -8.100395\n",
       "Freq: 4BM, dtype: float64"
      ]
     },
     "execution_count": 19,
     "metadata": {},
     "output_type": "execute_result"
    }
   ],
   "source": [
    "# your code here\n",
    "s['2013-03-01':'2015-12-12':4]"
   ]
  },
  {
   "cell_type": "markdown",
   "metadata": {},
   "source": [
    "## Problem 15\n",
    "<span  style=\"color:green; font-size:16px\">Use the `asfreq` method on the series above to sample using a less frequent date offset. If your offset is currently weeks, take a sample of months or two weeks.</span>"
   ]
  },
  {
   "cell_type": "code",
   "execution_count": 20,
   "metadata": {
    "collapsed": false
   },
   "outputs": [
    {
     "data": {
      "text/plain": [
       "2001-05-31    -0.960336\n",
       "2002-01-31    -4.232975\n",
       "2002-09-30    -5.821614\n",
       "2003-05-30    -9.778555\n",
       "2004-01-30    -4.532556\n",
       "2004-09-30    -2.957276\n",
       "2005-05-31    -2.952724\n",
       "2006-01-31    -1.066891\n",
       "2006-09-29    -1.270545\n",
       "2007-05-31    -1.370324\n",
       "2008-01-31    -2.249385\n",
       "2008-09-30    -0.444280\n",
       "2009-05-29    -5.396596\n",
       "2010-01-29   -11.488377\n",
       "2010-09-30   -12.322594\n",
       "2011-05-31   -11.802822\n",
       "2012-01-31   -15.371380\n",
       "2012-09-28   -18.589570\n",
       "2013-05-31   -13.654073\n",
       "2014-01-31   -15.619697\n",
       "2014-09-30   -13.793654\n",
       "2015-05-29   -10.508984\n",
       "2016-01-29    -6.017247\n",
       "2016-09-30    -5.766865\n",
       "2017-05-31    -6.655961\n",
       "Freq: 8BM, dtype: float64"
      ]
     },
     "execution_count": 20,
     "metadata": {},
     "output_type": "execute_result"
    }
   ],
   "source": [
    "# your code here\n",
    "# every 8th business end of month\n",
    "s.asfreq('8BM')"
   ]
  },
  {
   "cell_type": "markdown",
   "metadata": {},
   "source": [
    "## Problem 16\n",
    "<span  style=\"color:green; font-size:16px\">Do the opposite of 16. Use the method `asfreq` to sample a more frequent date offset. Remove the missing values with by utilizing the `pad` argument.</span>"
   ]
  },
  {
   "cell_type": "code",
   "execution_count": 21,
   "metadata": {
    "collapsed": false
   },
   "outputs": [
    {
     "data": {
      "text/plain": [
       "2001-05-31   -0.960336\n",
       "2001-06-05   -0.287942\n",
       "2001-06-08   -0.287942\n",
       "2001-06-13   -0.287942\n",
       "2001-06-18   -0.287942\n",
       "2001-06-21   -0.287942\n",
       "2001-06-26   -0.287942\n",
       "2001-06-29   -0.287942\n",
       "2001-07-04   -0.399516\n",
       "2001-07-09   -0.399516\n",
       "2001-07-12   -0.399516\n",
       "2001-07-17   -0.399516\n",
       "2001-07-20   -0.399516\n",
       "2001-07-25   -0.399516\n",
       "2001-07-30   -0.399516\n",
       "Freq: 3B, dtype: float64"
      ]
     },
     "execution_count": 21,
     "metadata": {},
     "output_type": "execute_result"
    }
   ],
   "source": [
    "# your code here\n",
    "s.asfreq('3B', method='bfill').head(15)"
   ]
  },
  {
   "cell_type": "markdown",
   "metadata": {},
   "source": [
    "## Problem 17\n",
    "<span  style=\"color:green; font-size:16px\">Aggregate your data by using the resample method. Use 5 of your date offsets as the size of your group. Find the median for each group.</span>"
   ]
  },
  {
   "cell_type": "code",
   "execution_count": 22,
   "metadata": {
    "collapsed": false
   },
   "outputs": [
    {
     "data": {
      "text/plain": [
       "2001-05-31    -0.960336\n",
       "2001-10-31    -0.516934\n",
       "2002-03-29    -4.145166\n",
       "2002-08-30    -4.240326\n",
       "2003-01-31    -6.616303\n",
       "2003-06-30    -9.156488\n",
       "2003-11-28    -6.554376\n",
       "2004-04-30    -2.871619\n",
       "2004-09-30    -0.407832\n",
       "2005-02-28    -1.772186\n",
       "2005-07-29    -2.379539\n",
       "2005-12-30    -1.290751\n",
       "2006-05-31    -0.990545\n",
       "2006-10-31    -1.550803\n",
       "2007-03-30     0.200434\n",
       "2007-08-31    -2.075134\n",
       "2008-01-31    -1.808910\n",
       "2008-06-30    -2.125693\n",
       "2008-11-28    -0.850989\n",
       "2009-04-30    -2.203537\n",
       "2009-09-30    -5.474010\n",
       "2010-02-26    -8.776481\n",
       "2010-07-30   -12.174131\n",
       "2010-12-31   -12.322594\n",
       "2011-05-31   -11.802822\n",
       "2011-10-31   -11.399757\n",
       "2012-03-30   -15.371380\n",
       "2012-08-31   -17.594438\n",
       "2013-01-31   -16.089631\n",
       "2013-06-28   -13.822693\n",
       "2013-11-29   -11.913725\n",
       "2014-04-30   -15.619697\n",
       "2014-09-30   -15.577297\n",
       "2015-02-27   -13.497017\n",
       "2015-07-31   -10.020347\n",
       "2015-12-31    -8.100395\n",
       "2016-05-31    -5.812388\n",
       "2016-10-31    -5.876885\n",
       "2017-03-31    -4.804257\n",
       "2017-08-31    -5.243796\n",
       "2018-01-31    -2.250053\n",
       "Freq: 5BM, dtype: float64"
      ]
     },
     "execution_count": 22,
     "metadata": {},
     "output_type": "execute_result"
    }
   ],
   "source": [
    "# your code here\n",
    "s_median = s.resample('5BM').median()\n",
    "s_median"
   ]
  },
  {
   "cell_type": "markdown",
   "metadata": {},
   "source": [
    "## Problem 18\n",
    "<span  style=\"color:green; font-size:16px\">Plot the aggregated data along with the original data on the same plot.</span>"
   ]
  },
  {
   "cell_type": "code",
   "execution_count": 28,
   "metadata": {
    "collapsed": false
   },
   "outputs": [
    {
     "data": {
      "image/png": "[encoded data removed]",
      "text/plain": [
       "<matplotlib.figure.Figure at 0x112fdce80>"
      ]
     },
     "metadata": {},
     "output_type": "display_data"
    }
   ],
   "source": [
    "# your code here\n",
    "s.plot(figsize=(12,10), label=\"Actual\")\n",
    "s_median.plot(label=\"Median\")\n",
    "plt.legend();"
   ]
  },
  {
   "cell_type": "code",
   "execution_count": null,
   "metadata": {
    "collapsed": true
   },
   "outputs": [],
   "source": []
  }
 ],
 "metadata": {
  "anaconda-cloud": {},
  "kernelspec": {
   "display_name": "Python 3",
   "language": "python",
   "name": "python3"
  },
  "language_info": {
   "codemirror_mode": {
    "name": "ipython",
    "version": 3
   },
   "file_extension": ".py",
   "mimetype": "text/x-python",
   "name": "python",
   "nbconvert_exporter": "python",
   "pygments_lexer": "ipython3",
   "version": "3.6.0"
  }
 },
 "nbformat": 4,
 "nbformat_minor": 0
}
