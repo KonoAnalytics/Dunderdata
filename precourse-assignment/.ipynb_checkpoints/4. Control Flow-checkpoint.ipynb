{
 "cells": [
  {
   "cell_type": "markdown",
   "metadata": {},
   "source": [
    "# Control Flow\n",
    "Control flow refers to the order of statements execution. The previous notebooks have all had statements execute one after another in the order that they were written. This notebook will cover **if** statements and iteration, the two most basic categories of how control flow gets manipulated by the programmer.\n",
    "\n",
    "### Indenting and code blocks in Python\n",
    "Python's syntax is so simple that it relies upon indentation (and not curly braces) beneath code blocks to mark their beginning and end. `if, for, while, def, with` are all statements that have indented code blocks underneath them. A block is ended when the indentation for the current line returns to where it was before the indentation began. [PEP8](https://www.python.org/dev/peps/pep-0008/) a popular python style guide suggests 4 spaces (not tabs) for indentation. The notebook defaults to 4 spaces as well and takes care of it for you when you begin a code block that requires indentation."
   ]
  },
  {
   "cell_type": "markdown",
   "metadata": {},
   "source": [
    "### Booleans\n",
    "Python has a boolean type with keyword values **`True`** or **`False`**. All the standard equality comparisons evaluate as True or False. A single equals sign (=) is the assignment operator. Two equal signs (==) test for equality. Inequality is !=."
   ]
  },
  {
   "cell_type": "code",
   "execution_count": 56,
   "metadata": {
    "collapsed": false
   },
   "outputs": [
    {
     "data": {
      "text/plain": [
       "(False, False, True, True, False)"
      ]
     },
     "execution_count": 56,
     "metadata": {},
     "output_type": "execute_result"
    }
   ],
   "source": [
    "# standard comparisons\n",
    "5 > 6, 0 < 0, 0 <= 0, 9 == 9, 10 != 10"
   ]
  },
  {
   "cell_type": "code",
   "execution_count": 28,
   "metadata": {
    "collapsed": false
   },
   "outputs": [
    {
     "data": {
      "text/plain": [
       "False"
      ]
     },
     "execution_count": 28,
     "metadata": {},
     "output_type": "execute_result"
    }
   ],
   "source": [
    "# can also test if a variable is None\n",
    "a = 'asdf'\n",
    "a is None"
   ]
  },
  {
   "cell_type": "code",
   "execution_count": 29,
   "metadata": {
    "collapsed": false
   },
   "outputs": [
    {
     "data": {
      "text/plain": [
       "True"
      ]
     },
     "execution_count": 29,
     "metadata": {},
     "output_type": "execute_result"
    }
   ],
   "source": [
    "# a None variable\n",
    "a = None\n",
    "a is None"
   ]
  },
  {
   "cell_type": "code",
   "execution_count": 30,
   "metadata": {
    "collapsed": false
   },
   "outputs": [
    {
     "data": {
      "text/plain": [
       "True"
      ]
     },
     "execution_count": 30,
     "metadata": {},
     "output_type": "execute_result"
    }
   ],
   "source": [
    "# can test if two variables are pointing to the same object\n",
    "a = [1, 2, 3]\n",
    "b = a\n",
    "a is b"
   ]
  },
  {
   "cell_type": "code",
   "execution_count": 31,
   "metadata": {
    "collapsed": false
   },
   "outputs": [
    {
     "data": {
      "text/plain": [
       "False"
      ]
     },
     "execution_count": 31,
     "metadata": {},
     "output_type": "execute_result"
    }
   ],
   "source": [
    "# same list elements but not same object\n",
    "a = [1, 2, 3]\n",
    "b = [1, 2, 3]\n",
    "a is b"
   ]
  },
  {
   "cell_type": "markdown",
   "metadata": {},
   "source": [
    "### If statements\n",
    "**`if`** statements determine whether the subsequent block of indented code will be executed or not. A boolean expression always follows the `if` keyword. `if` statements use simple syntax with no parentheses or curly braces. Just a colon at the end of the statement and an indentation for all the lines below the `if` statement that get triggered when the condition is true. You can have any number of conditions in your `if` statement. Below is a simple conditional test whether a number is positive and if True then the square root of the number is taken and printed out.\n",
    "\n",
    "Notice the colon at the end of the `if` statement and the indented code block that gets executed if the condition evaluates as true."
   ]
  },
  {
   "cell_type": "code",
   "execution_count": 32,
   "metadata": {
    "collapsed": false
   },
   "outputs": [
    {
     "name": "stdout",
     "output_type": "stream",
     "text": [
      "The square root of 90 is 9.486832980505138\n"
     ]
    }
   ],
   "source": [
    "# take the square root of a number if its non-negative\n",
    "import math # use the math library to get the sqrt function\n",
    "\n",
    "x = 90\n",
    "if x >= 0:\n",
    "    square_root = math.sqrt(x)\n",
    "    print('The square root of {} is {}'.format(x, square_root))"
   ]
  },
  {
   "cell_type": "markdown",
   "metadata": {},
   "source": [
    "### Else statements\n",
    "If the condition in the **`if`** statement evaluates to false, you can have an alternative set of commands execute with the **`else`** statement. Again take notice of the colon and the block indentation and also the return to executing statements in their normal order."
   ]
  },
  {
   "cell_type": "code",
   "execution_count": 3,
   "metadata": {
    "collapsed": false
   },
   "outputs": [
    {
     "name": "stdout",
     "output_type": "stream",
     "text": [
      "Cannot take the square root of a negative number\n",
      "The code block ends after indentation returns to previous spot. This print statement gets executed no matter what\n"
     ]
    }
   ],
   "source": [
    "x = -90\n",
    "if x >= 0:\n",
    "    square_root = math.sqrt(x)\n",
    "    print('The square rot of {} is {}'.format(x, square_root))\n",
    "else:\n",
    "    print('Cannot take the square root of a negative number')\n",
    "    \n",
    "print('The code block ends after indentation returns to previous spot. This print statement gets executed no matter what')"
   ]
  },
  {
   "cell_type": "markdown",
   "metadata": {},
   "source": [
    "### Else if statements\n",
    "It is possible to add another condition along with the `else` statement with the **`elif`** statement. Furthermore, it is possible to have any number of `elif` statements to check any number of specific conditions. The below code checks whether an integer is divisible by several other integers using the modulus (%) operator which returns the remainder from integer division."
   ]
  },
  {
   "cell_type": "code",
   "execution_count": 17,
   "metadata": {
    "collapsed": false
   },
   "outputs": [
    {
     "name": "stdout",
     "output_type": "stream",
     "text": [
      "47 is not divisible by 2,3,5,7,11. It might be prime!\n"
     ]
    }
   ],
   "source": [
    "x = 47\n",
    "\n",
    "if x % 2 == 0:\n",
    "    print('{} is divisible by 2 and not a prime'.format(x))\n",
    "elif x % 3 == 0:\n",
    "    print('{} is divisible by 3 and not a prime'.format(x))\n",
    "elif x % 5 == 0:\n",
    "    print('{} is divisible by 5 and not a prime'.format(x))\n",
    "elif x % 7 == 0:\n",
    "    print('{} is divisible by 7 and not a prime'.format(x))\n",
    "elif x % 11 == 0:\n",
    "    print('{} is divisible by 11 and not a prime'.format(x))\n",
    "else:\n",
    "    print('{} is not divisible by 2,3,5,7,11. It might be prime!'.format(x))"
   ]
  },
  {
   "cell_type": "markdown",
   "metadata": {},
   "source": [
    "### Multiple boolean conditions\n",
    "It is possible to have any number of boolean conditions evaluated in the same expression by continuing with more conditions using the keywords **`and`** and **`or`**. For instance, all the if and elif statements in the above code can be merged into one statement. It's good practice to wrap each condition in parentheses for readability and accuracy."
   ]
  },
  {
   "cell_type": "code",
   "execution_count": 4,
   "metadata": {
    "collapsed": false
   },
   "outputs": [
    {
     "data": {
      "text/plain": [
       "False"
      ]
     },
     "execution_count": 4,
     "metadata": {},
     "output_type": "execute_result"
    }
   ],
   "source": [
    "# multiple conditions\n",
    "x = 47\n",
    "(x % 2 == 0) or (x % 3 == 0) or (x % 5 == 0) or (x % 7 == 0) or (x % 11 == 0)"
   ]
  },
  {
   "cell_type": "code",
   "execution_count": 5,
   "metadata": {
    "collapsed": false
   },
   "outputs": [
    {
     "data": {
      "text/plain": [
       "True"
      ]
     },
     "execution_count": 5,
     "metadata": {},
     "output_type": "execute_result"
    }
   ],
   "source": [
    "# multiple conditions\n",
    "x = 48\n",
    "(x % 2 == 0) or (x % 3 == 0) or (x % 5 == 0) or (x % 7 == 0) or (x % 11 == 0)"
   ]
  },
  {
   "cell_type": "markdown",
   "metadata": {},
   "source": [
    "### `not`  keyword\n",
    "The `not` keyword reverses any boolean expression"
   ]
  },
  {
   "cell_type": "code",
   "execution_count": 35,
   "metadata": {
    "collapsed": false
   },
   "outputs": [
    {
     "data": {
      "text/plain": [
       "False"
      ]
     },
     "execution_count": 35,
     "metadata": {},
     "output_type": "execute_result"
    }
   ],
   "source": [
    "not True"
   ]
  },
  {
   "cell_type": "markdown",
   "metadata": {},
   "source": [
    "### Care with Order of operations\n",
    "expressions in parentheses happen first, followed by `not`, `and`, then `or`. The following examples show how some confusion can arise."
   ]
  },
  {
   "cell_type": "code",
   "execution_count": 47,
   "metadata": {
    "collapsed": false
   },
   "outputs": [
    {
     "data": {
      "text/plain": [
       "True"
      ]
     },
     "execution_count": 47,
     "metadata": {},
     "output_type": "execute_result"
    }
   ],
   "source": [
    "# is 24 divisible by 5 or 3?\n",
    "x = 24\n",
    "(x % 5 == 0) or (x % 3 == 0)"
   ]
  },
  {
   "cell_type": "code",
   "execution_count": 50,
   "metadata": {
    "collapsed": false
   },
   "outputs": [
    {
     "data": {
      "text/plain": [
       "False"
      ]
     },
     "execution_count": 50,
     "metadata": {},
     "output_type": "execute_result"
    }
   ],
   "source": [
    "# reverse the above with not. Wrap entire expression in parentheses first\n",
    "x = 24\n",
    "not ((x % 5 == 0) or (x % 3 == 0))"
   ]
  },
  {
   "cell_type": "code",
   "execution_count": 53,
   "metadata": {
    "collapsed": false
   },
   "outputs": [
    {
     "data": {
      "text/plain": [
       "True"
      ]
     },
     "execution_count": 53,
     "metadata": {},
     "output_type": "execute_result"
    }
   ],
   "source": [
    "# same as above except without outer parentheses\n",
    "x = 24\n",
    "not (x % 5 == 0) or (x % 3 == 0) #parentheses make a big difference!\n",
    "\n",
    "# not was evaluated second instead of last"
   ]
  },
  {
   "cell_type": "code",
   "execution_count": 54,
   "metadata": {
    "collapsed": false
   },
   "outputs": [
    {
     "data": {
      "text/plain": [
       "True"
      ]
     },
     "execution_count": 54,
     "metadata": {},
     "output_type": "execute_result"
    }
   ],
   "source": [
    "### same as what happened above. It is equivalent to the following\n",
    "x = 24\n",
    "(not (x % 5 == 0)) or (x % 3 == 0)"
   ]
  },
  {
   "cell_type": "markdown",
   "metadata": {},
   "source": [
    "### Problem 1\n",
    "<span style=\"color:green\">Create a string that will trigger the second print statement.</span> "
   ]
  },
  {
   "cell_type": "code",
   "execution_count": 9,
   "metadata": {
    "collapsed": true
   },
   "outputs": [],
   "source": [
    "# your code here\n",
    "test_string = 'aaaabbbbbbbk' # change this string so the second print statement below is triggered"
   ]
  },
  {
   "cell_type": "code",
   "execution_count": 10,
   "metadata": {
    "collapsed": false
   },
   "outputs": [
    {
     "name": "stdout",
     "output_type": "stream",
     "text": [
      "The first k occurs after the 11th element\n"
     ]
    }
   ],
   "source": [
    "# trigger the second print statement\n",
    "if test_string.count('a') > 4:\n",
    "    print(\"There are more than 4 a's in your string\")\n",
    "elif test_string.find('k') > 10:\n",
    "    print(\"The first k occurs after the 11th element\")\n",
    "else:\n",
    "    print(\"My super intelligent responses did not find any info on your string. Please change it\")"
   ]
  },
  {
   "cell_type": "markdown",
   "metadata": {},
   "source": [
    "### Problem 2\n",
    "<span style=\"color:green\">Create a different string that will trigger the third print statement from above. </span> "
   ]
  },
  {
   "cell_type": "code",
   "execution_count": 13,
   "metadata": {
    "collapsed": true
   },
   "outputs": [],
   "source": [
    "# your code here\n",
    "test_string = 'I got better' # change this string so the third print statement below is triggered"
   ]
  },
  {
   "cell_type": "code",
   "execution_count": 14,
   "metadata": {
    "collapsed": false
   },
   "outputs": [
    {
     "name": "stdout",
     "output_type": "stream",
     "text": [
      "My super intelligent responses did not find any info on your string. Please change it\n"
     ]
    }
   ],
   "source": [
    "# trigger the third print statement\n",
    "if test_string.count('a') > 4:\n",
    "    print(\"There are more than 4 a's in your string\")\n",
    "elif test_string.find('k') > 10:\n",
    "    print(\"The first k occurs after the 11th element\")\n",
    "else:\n",
    "    print(\"My super intelligent responses did not find any info on your string. Please change it\")"
   ]
  },
  {
   "cell_type": "markdown",
   "metadata": {},
   "source": [
    "### Problem 3\n",
    "<span style=\"color:green\">Write an expression that returns true if an integer is either greater than 10 or divisible by 7.</span> "
   ]
  },
  {
   "cell_type": "code",
   "execution_count": 17,
   "metadata": {
    "collapsed": false
   },
   "outputs": [
    {
     "name": "stdout",
     "output_type": "stream",
     "text": [
      "True\n"
     ]
    }
   ],
   "source": [
    "x = 70\n",
    "print((x > 10) and (x%7 == 0))"
   ]
  },
  {
   "cell_type": "markdown",
   "metadata": {},
   "source": [
    "### Problem 4\n",
    "<span style=\"color:green\">Write an expression that returns true if the last character of a string is not 's'</span> "
   ]
  },
  {
   "cell_type": "code",
   "execution_count": 21,
   "metadata": {
    "collapsed": false
   },
   "outputs": [
    {
     "data": {
      "text/plain": [
       "True"
      ]
     },
     "execution_count": 21,
     "metadata": {},
     "output_type": "execute_result"
    }
   ],
   "source": [
    "test_string = 'asfdaskfjsafl'\n",
    "test_string[-1] is not 's'"
   ]
  },
  {
   "cell_type": "markdown",
   "metadata": {},
   "source": [
    "### Looping\n",
    "There are two types of loops, **`for`** and **`while`** loops. Just as with `if` statements, `for` and `while` statements end in a colon and are followed by indented code blocks. The code block gets continually executed until all elements in the sequence have been iterated through (`for` loop) or until a condition is no longer true (`while` loop).\n",
    "\n",
    "### For Loops\n",
    "Python has a simple looping syntax that is a bit different than other programming languages and potentially confusing at first. You first must have a sequence that you want to iterate. Strings, lists, tuples and range are [sequence types](https://docs.python.org/3/library/stdtypes.html#sequence-types-list-tuple-range). Check the [Python documentation glossary](https://docs.python.org/3/glossary.html#term-sequence) for the formal definition of a sequence.\n",
    "\n",
    "All for loops begin with something similar to the following:\n",
    "```\n",
    ">>> for item in sequence:\n",
    "        do something\n",
    "        in this\n",
    "        code block\n",
    "```\n",
    "\n",
    "The loop executes the code block for every item in the sequence. Lets see the most basic use case for looping through each character in a string"
   ]
  },
  {
   "cell_type": "code",
   "execution_count": 6,
   "metadata": {
    "collapsed": false
   },
   "outputs": [
    {
     "name": "stdout",
     "output_type": "stream",
     "text": [
      "d\n",
      "a\n",
      "t\n",
      "a\n"
     ]
    }
   ],
   "source": [
    "# loop through a string\n",
    "my_string = 'data'\n",
    "\n",
    "for char in my_string:\n",
    "    print(char)"
   ]
  },
  {
   "cell_type": "markdown",
   "metadata": {},
   "source": [
    "### Where is `char` defined?\n",
    "This simple loop above iterates over all 4 characters and prints out each character in its only line in its code block. It is clear how the variable **`my_string`** is defined. But, the variable **`char`** doesn't appear to be defined. `char` implicitly takes on the current value of the sequence during each iteration without explicity being defined with an equal sign."
   ]
  },
  {
   "cell_type": "code",
   "execution_count": 68,
   "metadata": {
    "collapsed": false
   },
   "outputs": [
    {
     "name": "stdout",
     "output_type": "stream",
     "text": [
      "d\n",
      "a\n",
      "t\n",
      "a\n",
      "d\n",
      "a\n",
      "t\n",
      "a\n"
     ]
    }
   ],
   "source": [
    "# you can choose any variable name for the looping variable of your sequence\n",
    "for character in my_string:\n",
    "    print(character)\n",
    "    \n",
    "for c in my_string:\n",
    "    print(c)"
   ]
  },
  {
   "cell_type": "code",
   "execution_count": 70,
   "metadata": {
    "collapsed": false
   },
   "outputs": [
    {
     "name": "stdout",
     "output_type": "stream",
     "text": [
      "1\n",
      "10\n",
      "asf\n",
      "True\n"
     ]
    }
   ],
   "source": [
    "# looping through a list\n",
    "my_list = [1, 10, 'asf', True]\n",
    "\n",
    "for element in my_list:\n",
    "    print(element)"
   ]
  },
  {
   "cell_type": "markdown",
   "metadata": {},
   "source": [
    "### Looping through a range\n",
    "Remember that `range` objects had to be wrapped by the `list` function to return a list. When iterating through `range` objects its not necessary to convert to a list first. A range object differs from a list by generating the next element only when it is needed. A list generates every element and stores the entire object in memory. Range is much more memory efficient."
   ]
  },
  {
   "cell_type": "code",
   "execution_count": 71,
   "metadata": {
    "collapsed": false
   },
   "outputs": [
    {
     "name": "stdout",
     "output_type": "stream",
     "text": [
      "0\n",
      "1\n",
      "2\n",
      "3\n",
      "4\n"
     ]
    }
   ],
   "source": [
    "# can turn range into a list and loop through it\n",
    "my_list = list(range(5))\n",
    "for element in my_list:\n",
    "    print(element)"
   ]
  },
  {
   "cell_type": "code",
   "execution_count": 72,
   "metadata": {
    "collapsed": false
   },
   "outputs": [
    {
     "name": "stdout",
     "output_type": "stream",
     "text": [
      "0\n",
      "1\n",
      "2\n",
      "3\n",
      "4\n"
     ]
    }
   ],
   "source": [
    "# But its not necessary to convert to a list first\n",
    "for element in range(5):\n",
    "    print(element)"
   ]
  },
  {
   "cell_type": "markdown",
   "metadata": {},
   "source": [
    "### More interesting loops\n",
    "Suppose there is a list of numbers that we would like to take the square root of. To do this we would iterate through each element of the list, take the square root and append that value to a new list."
   ]
  },
  {
   "cell_type": "code",
   "execution_count": 7,
   "metadata": {
    "collapsed": false
   },
   "outputs": [
    {
     "name": "stdout",
     "output_type": "stream",
     "text": [
      "[3.1622776601683795, 3.3166247903554, 3.4641016151377544, 3.605551275463989, 3.7416573867739413, 3.872983346207417, 4.0, 4.123105625617661, 4.242640687119285, 4.358898943540674]\n"
     ]
    }
   ],
   "source": [
    "# taking the square root of the numbers between 10 and 20\n",
    "import math\n",
    "list_sqrt = []  # initialize an empty list\n",
    "for x in range(10, 20):\n",
    "    sqrt = math.sqrt(x)\n",
    "    list_sqrt.append(sqrt)\n",
    "print(list_sqrt)"
   ]
  },
  {
   "cell_type": "markdown",
   "metadata": {},
   "source": [
    "## Case Study: Calculating $\\pi$\n",
    "An interesting way to calculate the value of $\\pi$ uses random numbers and the unit circle. But, before we get there, let us draw the unit circle, radius of 1 centered at (0,0), inside of a square with side length of 2 also centered at (0,0). Don't worry about comprehending the plotting code for now."
   ]
  },
  {
   "cell_type": "code",
   "execution_count": 22,
   "metadata": {
    "collapsed": true
   },
   "outputs": [],
   "source": [
    "# setup plotting\n",
    "import matplotlib.pyplot as plt\n",
    "%matplotlib inline"
   ]
  },
  {
   "cell_type": "code",
   "execution_count": 24,
   "metadata": {
    "collapsed": false
   },
   "outputs": [
    {
     "data": {
      "text/plain": [
       "(-1, 1)"
      ]
     },
     "execution_count": 24,
     "metadata": {},
     "output_type": "execute_result"
    },
    {
     "data": {
      "image/png": "[encoded data removed]",
      "text/plain": [
       "<matplotlib.figure.Figure at 0x27fec4277b8>"
      ]
     },
     "metadata": {},
     "output_type": "display_data"
    }
   ],
   "source": [
    "circle1 = plt.Circle((0, 0), 1, color='r', alpha=.2)\n",
    "fig, ax = plt.subplots(figsize=(4,4))\n",
    "\n",
    "ax.add_artist(circle1)\n",
    "\n",
    "ax.set_xlim((-1, 1))\n",
    "ax.set_ylim((-1, 1))"
   ]
  },
  {
   "cell_type": "markdown",
   "metadata": {},
   "source": [
    "### Random Point In Circle\n",
    "Before calculating $\\pi$, let's ask a different question. What is the probability that a point (x,y) with each coordinate randomly in the range of [-1, 1] falls inside the circle.\n",
    "\n",
    "Let's use a loop to plot 100 points in that 2x2 square region from above. We will use the random module to generate a random number from [0, 1]. Since the unit circle is symmetrical on both the x and y axes we will only look at the first quadrant.\n",
    "\n",
    "To determine whether a point is inside the circle we can use the equation for the unit circle, $x^2 + y^2 <= 1$ and keep track of the number of points that meet this criteria."
   ]
  },
  {
   "cell_type": "code",
   "execution_count": 10,
   "metadata": {
    "collapsed": false
   },
   "outputs": [
    {
     "name": "stdout",
     "output_type": "stream",
     "text": [
      "76 out of 100 points land in the circle\n"
     ]
    },
    {
     "data": {
      "image/png": "[encoded data removed]",
      "text/plain": [
       "<matplotlib.figure.Figure at 0x10fe94860>"
      ]
     },
     "metadata": {},
     "output_type": "display_data"
    }
   ],
   "source": [
    "'''\n",
    "A circle will be drawn first but only the upper right quadrant will be shown.\n",
    "100 random points will be generated using a for loop.\n",
    "Both x and y coordinates will be between 0 and 1.\n",
    "An if statement will determine whether the point is within the circle or not\n",
    "and increase a count variable.\n",
    "'''\n",
    "import random # this module provides functionality to generate random numbers\n",
    "\n",
    "circle1 = plt.Circle((0, 0), 1, color='r', alpha=.2)\n",
    "fig, ax = plt.subplots(figsize=(4,4)) \n",
    "\n",
    "ax.add_artist(circle1)\n",
    "ax.set_xlim((0, 1))\n",
    "ax.set_ylim((0, 1))\n",
    "\n",
    "count = 0 # \n",
    "n = 100 # number of points\n",
    "\n",
    "for i in range(n):\n",
    "    x = random.random() # generates a random number between 0 and 1\n",
    "    y = random.random()\n",
    "    \n",
    "    # draw the points in the circle yellow and increase the count, otherwise just draw the point\n",
    "    if x ** 2 + y ** 2 <= 1:\n",
    "        ax.scatter(x, y, color='y')\n",
    "        count += 1\n",
    "    else:\n",
    "        ax.scatter(x, y) \n",
    "print(\"{} out of {} points land in the circle\".format(count, n))"
   ]
  },
  {
   "cell_type": "markdown",
   "metadata": {},
   "source": [
    "### Theoretical probability of being in the circle\n",
    "Instead of simulating the probability of being in the circle we can compute the exact probability since the formula for the area of a circle and square are known. \n",
    "\n",
    "Area of quadrant: $\\pi r^2/4$  \n",
    "Area of square: 1\n",
    "\n",
    "Calculate probability"
   ]
  },
  {
   "cell_type": "code",
   "execution_count": 11,
   "metadata": {
    "collapsed": false
   },
   "outputs": [
    {
     "data": {
      "text/plain": [
       "0.7853981633974483"
      ]
     },
     "execution_count": 11,
     "metadata": {},
     "output_type": "execute_result"
    }
   ],
   "source": [
    "# divide area of quadrant by area of square. Since area of square is 1 and so is the radius\n",
    "# this reduce to just pi / 4\n",
    "math.pi / 4"
   ]
  },
  {
   "cell_type": "markdown",
   "metadata": {},
   "source": [
    "Approximately 78.5% of randomly generated points will be inside the circle. This theoretical probability closely matches what the simulation produced.\n",
    "\n",
    "### Now to calculate $\\pi$\n",
    "If the value of $\\pi$ were not known ahead of time we can use results of the simulation with basic algebra to calculate it. Let $p$ be the probability of a point landing in the circle based on the simulation.\n",
    "\n",
    "$\\pi r^2/4 = p$\n",
    "\n",
    "Since r = 1, solving for $\\pi$ yields $\\pi = 4p$\n",
    "\n",
    "Lets use the results of the first simulation to calculate $\\pi$"
   ]
  },
  {
   "cell_type": "code",
   "execution_count": 12,
   "metadata": {
    "collapsed": false
   },
   "outputs": [
    {
     "data": {
      "text/plain": [
       "3.04"
      ]
     },
     "execution_count": 12,
     "metadata": {},
     "output_type": "execute_result"
    }
   ],
   "source": [
    "# pi from first simulation\n",
    "4 * count / n"
   ]
  },
  {
   "cell_type": "markdown",
   "metadata": {},
   "source": [
    "### Problem 5\n",
    "<span style=\"color:green\">To get higher decimal precision you will need to use more points. Write a loop (without drawing any figures) that calculates the value of $\\pi$ to 2 decimal places using the same simulation technique as above.</span> "
   ]
  },
  {
   "cell_type": "code",
   "execution_count": 37,
   "metadata": {
    "collapsed": false
   },
   "outputs": [
    {
     "name": "stdout",
     "output_type": "stream",
     "text": [
      "785148 out of 1000000 points land in the circle\n",
      "Pi approximation is  3.140592\n"
     ]
    }
   ],
   "source": [
    "import random # this module provides functionality to generate random numbers\n",
    "\n",
    "random.seed(42)\n",
    "count = 0 # \n",
    "n = 1000000 # number of points\n",
    "\n",
    "for i in range(n):\n",
    "    x = random.random() # generates a random number between 0 and 1\n",
    "    y = random.random()\n",
    "    \n",
    "    # draw the points in the circle yellow and increase the count, otherwise just draw the point\n",
    "    if x ** 2 + y ** 2 <= 1:\n",
    "        count += 1\n",
    "print(\"{} out of {} points land in the circle\".format(count, n))\n",
    "print(\"Pi approximation is \",count/n*4)\n",
    "\n"
   ]
  },
  {
   "cell_type": "markdown",
   "metadata": {},
   "source": [
    "### Problem 6\n",
    "<span style=\"color:green\">Use a for loop to iterate over the first 10 positive integers, printing out their squared value</span>"
   ]
  },
  {
   "cell_type": "code",
   "execution_count": 39,
   "metadata": {
    "collapsed": false
   },
   "outputs": [
    {
     "name": "stdout",
     "output_type": "stream",
     "text": [
      "1\n",
      "4\n",
      "9\n",
      "16\n",
      "25\n",
      "36\n",
      "49\n",
      "64\n",
      "81\n",
      "100\n"
     ]
    }
   ],
   "source": [
    "for i in range(10):\n",
    "    print((i+1)**2)"
   ]
  },
  {
   "cell_type": "markdown",
   "metadata": {},
   "source": [
    "### Problem 7\n",
    "<span style=\"color:green\">Use a for loop to iterate over the first 10 positive integers, printing out their squared value only if the value is greater than 50</span>"
   ]
  },
  {
   "cell_type": "code",
   "execution_count": 41,
   "metadata": {
    "collapsed": false
   },
   "outputs": [
    {
     "name": "stdout",
     "output_type": "stream",
     "text": [
      "64\n",
      "81\n",
      "100\n"
     ]
    }
   ],
   "source": [
    "for i in range(10):\n",
    "    square_value = (i+1)**2\n",
    "    if(square_value > 50):\n",
    "        print(square_value)"
   ]
  },
  {
   "cell_type": "markdown",
   "metadata": {},
   "source": [
    "### Problem 8\n",
    "<span style=\"color:green\">Use a for loop to iterate over every sixth integer of the first 1000, appending their squared value to a list. Do not print this result out.</span>"
   ]
  },
  {
   "cell_type": "code",
   "execution_count": 45,
   "metadata": {
    "collapsed": false
   },
   "outputs": [],
   "source": [
    "squared_list = []\n",
    "for i in range(0,1000,6):\n",
    "    squared_list.append((i+1)**2)"
   ]
  },
  {
   "cell_type": "markdown",
   "metadata": {},
   "source": [
    "### While Loops\n",
    "\n",
    "While loops are the other looping construct that Python provides and work with the following syntax. A code block will be continually execute until a boolean condition evaluates to False. The condition is re-checked at the beginning of each iteration.  A while statement ends in a colon and the code block that is repeated is indented.\n",
    "\n",
    "```\n",
    ">>> while condition:\n",
    "        do something in this\n",
    "        code block as long as condition\n",
    "        evaluates as True\n",
    "```\n",
    "\n",
    "Let's see a trivial example below:"
   ]
  },
  {
   "cell_type": "code",
   "execution_count": 3,
   "metadata": {
    "collapsed": false
   },
   "outputs": [
    {
     "name": "stdout",
     "output_type": "stream",
     "text": [
      "5 seconds to launch\n",
      "4 seconds to launch\n",
      "3 seconds to launch\n",
      "2 seconds to launch\n",
      "1 seconds to launch\n",
      "Launch!\n"
     ]
    }
   ],
   "source": [
    "# Countdown from a given x\n",
    "x = 5\n",
    "while x >= 0:\n",
    "    if x == 0:\n",
    "        print(\"Launch!\")\n",
    "    else:\n",
    "        print(\"{} seconds to launch\".format(x))\n",
    "    x -= 1"
   ]
  },
  {
   "cell_type": "markdown",
   "metadata": {},
   "source": [
    "### Pausing execution: Sleep function\n",
    "We can make the code more realistic by pausing for 1 second between iterations. Python comes included with the **time** module, with functionality to pause program execution. The **sleep** function within the time module pauses execution for a given number of seconds."
   ]
  },
  {
   "cell_type": "code",
   "execution_count": 5,
   "metadata": {
    "collapsed": false
   },
   "outputs": [
    {
     "name": "stdout",
     "output_type": "stream",
     "text": [
      "5 seconds to launch\n",
      "4 seconds to launch\n",
      "3 seconds to launch\n",
      "2 seconds to launch\n",
      "1 seconds to launch\n",
      "Launch!\n"
     ]
    }
   ],
   "source": [
    "# Re-run this code.\n",
    "import time\n",
    "\n",
    "x = 5\n",
    "while x >= 0:\n",
    "    if x == 0:\n",
    "        print(\"Launch!\")\n",
    "    else:\n",
    "        print(\"{} seconds to launch\".format(x))\n",
    "    x -= 1\n",
    "    time.sleep(1)"
   ]
  },
  {
   "cell_type": "markdown",
   "metadata": {},
   "source": [
    "### Python: Batteries Included!\n",
    "\n",
    "A common phrase within the Python world is that Python comes with 'Batteries Included'  - a phrase stolen from children's toy advertisements. There are many [standard libraries](https://docs.python.org/3/library/) that are available to Python programmers. There are also many thousands of third-party libraries available as well but the standard libraries are the core libraries that are immediately available to any developer upon installation."
   ]
  },
  {
   "cell_type": "markdown",
   "metadata": {},
   "source": [
    "### Problem 9\n",
    "<span style=\"color:green\">Use a while loop to find the sum of all integers between a given postive integer and 0.</span>"
   ]
  },
  {
   "cell_type": "code",
   "execution_count": 50,
   "metadata": {
    "collapsed": false
   },
   "outputs": [
    {
     "name": "stdout",
     "output_type": "stream",
     "text": [
      "210\n"
     ]
    }
   ],
   "source": [
    "x = 20\n",
    "total = 0\n",
    "i = 1\n",
    "while i <= x:\n",
    "    total += i\n",
    "    i = i + 1\n",
    "print(total)"
   ]
  },
  {
   "cell_type": "markdown",
   "metadata": {},
   "source": [
    "### Problem 10\n",
    "<span style=\"color:green\">Use a while loop to find the sum of all integers between a given integer and its square root. Use math.sqrt to find the square root. </span>"
   ]
  },
  {
   "cell_type": "code",
   "execution_count": 53,
   "metadata": {
    "collapsed": false
   },
   "outputs": [
    {
     "name": "stdout",
     "output_type": "stream",
     "text": [
      "200\n"
     ]
    }
   ],
   "source": [
    "import math\n",
    "x = 20\n",
    "total = 0\n",
    "i = x\n",
    "while i > x**.5:\n",
    "    total += i\n",
    "    i = i - 1\n",
    "print(total)"
   ]
  },
  {
   "cell_type": "markdown",
   "metadata": {},
   "source": [
    "### Problem 11: Advanced\n",
    "<span style=\"color:green\">In this problem you will use a while loop to try and guess a randomly generated integer between 1 and 1000. The only information you will be given is whether your guess is higher or lower than the unknown integer. Your new guess will be updated in an optimal way. The optimal way to update your guess is to choose the next integer exactly half way between your current guess and the lower/upper boundary.\n",
    "\n",
    "Steps:\n",
    "1. Generate random integer\n",
    "2. Generate first guess\n",
    "3. Begin while loop\n",
    "4. Check if guess is correct\n",
    "5. Change lower and upper boundaries of guessing region based on if guess if higher/lower than unknown number\n",
    "6. Keep track of number of guesses\n",
    "7. Print out upper and lower boundary, the current guess and the unknown number at each iteration to track progress\n",
    "8. Print out one last statement outside of the while loop that shows the guess is actually correct and the number of guesses that it took to get there.\n",
    "\n",
    "Tips:\n",
    "1. Make sure to guess an integer. Use `int` function.\n",
    "</span>"
   ]
  },
  {
   "cell_type": "code",
   "execution_count": 62,
   "metadata": {
    "collapsed": false
   },
   "outputs": [
    {
     "name": "stdout",
     "output_type": "stream",
     "text": [
      "1 500 1000 1 655\n",
      "501 750 1000 2\n",
      "501 625 749 3\n",
      "626 687 749 4\n",
      "626 656 686 5\n",
      "626 640 655 6\n",
      "641 648 655 7\n",
      "649 652 655 8\n",
      "653 654 655 9\n",
      "655 655 655 10\n",
      "655 655 10\n"
     ]
    }
   ],
   "source": [
    "upper = 1000\n",
    "lower = 1\n",
    "random.seed(42)\n",
    "unknown = random.randint(1, 1000) #generate unknown random integer\n",
    "guess = int((upper + lower) / 2)\n",
    "num_guesses = 1\n",
    "print(lower, guess, upper, num_guesses, unknown)\n",
    "while guess != unknown:\n",
    "    if guess < unknown:\n",
    "        lower = guess + 1\n",
    "    else:\n",
    "        upper = guess -1\n",
    "    guess = int((upper + lower) / 2)\n",
    "    num_guesses += 1\n",
    "    print(lower, guess, upper, num_guesses)\n",
    "print(unknown, guess, num_guesses)\n"
   ]
  },
  {
   "cell_type": "markdown",
   "metadata": {},
   "source": [
    "### Infinite Loops\n",
    "While loops have the potential to run indefinitely if their condition always evaluates as true. For instance in the countdown example from above, if **`x`** is never decremented then the while loop will never stop. If this happens to you while running code in this notebook, you can try and stop execution by pressing the **`stop`** button in the menu bar above. If that doesn't work you can go to the terminal where you launched the notebook and press **`ctrl + c`** which should always work."
   ]
  },
  {
   "cell_type": "markdown",
   "metadata": {},
   "source": [
    "### More looping control with `continue` and `break`\n",
    "**`continue`** and **`break`** are keywords that can only be used inside the body of a loop. **`continue`** forces execution to return immediately to the top of the loop for the next iteration. **`break`** exits the loop immediately without any other execution."
   ]
  },
  {
   "cell_type": "code",
   "execution_count": 26,
   "metadata": {
    "collapsed": false
   },
   "outputs": [
    {
     "name": "stdout",
     "output_type": "stream",
     "text": [
      "Total is 1633\n"
     ]
    }
   ],
   "source": [
    "# Add up only integers from 1 to 99 that are not divisible by 2 or 3\n",
    "total = 0\n",
    "for i in range(100):\n",
    "    if (i % 2 == 0) or (i % 3 == 0):\n",
    "        continue\n",
    "    total += i\n",
    "\n",
    "print(\"Total is {}\".format(total))"
   ]
  },
  {
   "cell_type": "markdown",
   "metadata": {},
   "source": [
    "### While True then break\n",
    "A somewhat common use of while loops is to always have the condition as True and instead make use of the **`break`** statement to stop loop iteration. This guarantees that at least one iteration will happen similar to do-while loops in other languages.\n",
    "\n",
    "The below code will continue to generate random numbers between 0 and 1 until it a number greater than .999 is reached using the the **`while True`** then **`break`** logic. "
   ]
  },
  {
   "cell_type": "code",
   "execution_count": 29,
   "metadata": {
    "collapsed": true
   },
   "outputs": [],
   "source": [
    "import random"
   ]
  },
  {
   "cell_type": "code",
   "execution_count": 33,
   "metadata": {
    "collapsed": false
   },
   "outputs": [
    {
     "name": "stdout",
     "output_type": "stream",
     "text": [
      "It took 82 iterations to produce number 0.9997886912423367\n"
     ]
    }
   ],
   "source": [
    "# generate random numbers until one is greater than .999\n",
    "n = 0\n",
    "while True:\n",
    "    n += 1\n",
    "    num = random.random()\n",
    "    if num > .999:\n",
    "        break\n",
    "\n",
    "print('It took {} iterations to produce number {}'.format(n, num))"
   ]
  },
  {
   "cell_type": "markdown",
   "metadata": {},
   "source": [
    "### Problem 12\n",
    "<span style=\"color:green\">Use the `while true` logic to continually generate the roll of two 6-sided dice. Stop the loop with a break statement when the total of the current roll is 7 or 11. Use `random.randint(1, 6)` to roll a single die. Print out the number of rolls it took to get a 7 or 11. </span>"
   ]
  },
  {
   "cell_type": "code",
   "execution_count": 76,
   "metadata": {
    "collapsed": false
   },
   "outputs": [
    {
     "name": "stdout",
     "output_type": "stream",
     "text": [
      "It took 6 iterations to produce number 7\n"
     ]
    }
   ],
   "source": [
    "import random\n",
    "\n",
    "#random.seed(42)\n",
    "rolls = 0\n",
    "while True:\n",
    "    rolls = rolls + 1\n",
    "    die1 = random.randint(1, 6)\n",
    "    die2 = random.randint(1, 6)\n",
    "    if die1 + die2 in [7,11]:\n",
    "        break\n",
    "print('It took {} iterations to produce number {}'.format(rolls, die1 + die2))"
   ]
  },
  {
   "cell_type": "markdown",
   "metadata": {},
   "source": [
    "### Problem 13\n",
    "<span style=\"color:green\">Create 100 trials, where each trial is the number of times it takes to roll two dice that sum to 7 or 11. Keep track of the result of each trial in a list. You will need nested loops for this. Then find the average number of rolls it takes using the `sum` and `len` functions on your list</span>"
   ]
  },
  {
   "cell_type": "code",
   "execution_count": 89,
   "metadata": {
    "collapsed": false
   },
   "outputs": [
    {
     "name": "stdout",
     "output_type": "stream",
     "text": [
      "After 100 experiments it took an average of 4.4 rolls to get 7 or 11\n"
     ]
    }
   ],
   "source": [
    "import random\n",
    "\n",
    "numexperiments = 100\n",
    "random.seed(42)\n",
    "experiments = []\n",
    "for i in range(0,numexperiments):\n",
    "    rolls = 0\n",
    "    while True:\n",
    "        rolls = rolls + 1\n",
    "        die1 = random.randint(1, 6)\n",
    "        die2 = random.randint(1, 6)\n",
    "        if die1 + die2 in [7,11]:\n",
    "            break\n",
    "    experiments.append(rolls)\n",
    "print('After {} experiments it took an average of {} rolls to get 7 or 11'.format(numexperiments, sum(experiments)/len(experiments)))"
   ]
  },
  {
   "cell_type": "markdown",
   "metadata": {},
   "source": [
    "### Nested Loops\n",
    "Occasionally it is necessary to execute a loop within a loop. The inner loop is indented further to denote its code block. When the outer loop execution reaches the inner loop, the inner loop will iterate completely before returning execution to the outer loop.\n",
    "\n",
    "Below is a simple example of building a multiplication table with nested loops. Take notice of the print function. Normally, a new line character is printed after each print statement, but the `end` parameter allows you to control which character ends the print statement. Also, the `{:4}` allows 4 spaces for the output so that each number is printed out aligned on the right."
   ]
  },
  {
   "cell_type": "code",
   "execution_count": 42,
   "metadata": {
    "collapsed": false
   },
   "outputs": [
    {
     "name": "stdout",
     "output_type": "stream",
     "text": [
      "   1   2   3   4   5   6   7   8   9  10\n",
      "   2   4   6   8  10  12  14  16  18  20\n",
      "   3   6   9  12  15  18  21  24  27  30\n",
      "   4   8  12  16  20  24  28  32  36  40\n",
      "   5  10  15  20  25  30  35  40  45  50\n",
      "   6  12  18  24  30  36  42  48  54  60\n",
      "   7  14  21  28  35  42  49  56  63  70\n",
      "   8  16  24  32  40  48  56  64  72  80\n",
      "   9  18  27  36  45  54  63  72  81  90\n",
      "  10  20  30  40  50  60  70  80  90 100\n"
     ]
    }
   ],
   "source": [
    "# create a multiplication table\n",
    "for row in range(1,11):\n",
    "    for col in range(1, 11):\n",
    "        print('{:4}'.format(row * col), end='')\n",
    "    print()"
   ]
  },
  {
   "cell_type": "markdown",
   "metadata": {},
   "source": [
    "### Cas Study: Craps\n",
    "Craps is a popular casino game that we will simulate with nested loops. The basic game is as follows: You make a wager and then roll two dice. If the sum is 2, 3 or 12 you lose and if the sum is 7 or 11 you win. If the sum is anything else, a new stage of the game starts where you continue to roll two dice until the sum is 7 in which you lose or until you roll your original number in which case you win. Any other sum is meaningless except your original roll or 7.\n",
    "\n",
    "Condensing the logic, craps looks like this\n",
    "* Let X be the sum of a roll of 2 dice\n",
    "* If X is 2,3,12 (lose) or 7,11 (win) then game ends\n",
    "* Else: Continue rolling dice until sum is X (win) or 7 (lose)"
   ]
  },
  {
   "cell_type": "markdown",
   "metadata": {},
   "source": [
    "### Challenge before looking ahead\n",
    "If you like, you can go ahead and code craps now. The tutorial will continue a step by step process of coding up the game."
   ]
  },
  {
   "cell_type": "markdown",
   "metadata": {},
   "source": [
    "### Simplify Game\n",
    "In order to begin coding this game, we will only consider the first two bullet points from above. Roll two dice and determine if a loss or win occurs."
   ]
  },
  {
   "cell_type": "code",
   "execution_count": 43,
   "metadata": {
    "collapsed": false
   },
   "outputs": [
    {
     "name": "stdout",
     "output_type": "stream",
     "text": [
      "You rolled 6. Unfinished\n"
     ]
    }
   ],
   "source": [
    "# roll dice and determine if win or lose\n",
    "die_1 = random.randint(1, 6)\n",
    "die_2 = random.randint(1, 6)\n",
    "total = die_1 + die_2\n",
    "\n",
    "if total in [2, 3, 12]:\n",
    "    print('You rolled {}. You lose'.format(total))\n",
    "elif total in [7, 11]:\n",
    "    print('You rolled {}. You win'.format(total))\n",
    "else:\n",
    "    print('You rolled {}. Unfinished'.format(total))"
   ]
  },
  {
   "cell_type": "markdown",
   "metadata": {},
   "source": [
    "### Second stage of game\n",
    "If the original roll was not a 2,3,7,11 or 12 a new stage of the game continues until the original roll or 7 is rolled. This is a perfect situation for a while loop."
   ]
  },
  {
   "cell_type": "code",
   "execution_count": 45,
   "metadata": {
    "collapsed": false
   },
   "outputs": [
    {
     "name": "stdout",
     "output_type": "stream",
     "text": [
      "Win with orignal roll 8 and new roll 8\n"
     ]
    }
   ],
   "source": [
    "# Add in second stage of game\n",
    "die_1 = random.randint(1, 6)\n",
    "die_2 = random.randint(1, 6)\n",
    "total = die_1 + die_2\n",
    "\n",
    "if total in [2, 3, 12]:\n",
    "    print('Your first roll was {}. You lose'.format(total))\n",
    "elif total in [7, 11]:\n",
    "    print('Your first roll was {}. You win'.format(total))\n",
    "else:\n",
    "    while True:\n",
    "        die_1 = random.randint(1, 6)\n",
    "        die_2 = random.randint(1, 6)\n",
    "        new_total = die_1 + die_2\n",
    "        if new_total == total:\n",
    "            print('Win with original roll {} and new roll {}'.format(total, new_total))\n",
    "            break\n",
    "        if new_total == 7:\n",
    "            print('Lose with original roll {} and new roll {}'.format(total, new_total))\n",
    "            break"
   ]
  },
  {
   "cell_type": "markdown",
   "metadata": {},
   "source": [
    "### Problem 14: Simulating Craps - Doubling up or going broke?\n",
    "<span style=\"color:green\">Its possible to simulate someone playing craps until a certain criteria is met. Continually play the game of craps until the balance has doubled or until the player is out of money. Use the code from above but modify it in such a way that the print statements are removed and that the balance is updated each game. Keep track of the number of games played and print this number out with the ending balance.</span>"
   ]
  },
  {
   "cell_type": "code",
   "execution_count": 190,
   "metadata": {
    "collapsed": false
   },
   "outputs": [
    {
     "name": "stdout",
     "output_type": "stream",
     "text": [
      "500\n",
      "510\n",
      "520\n",
      "510\n",
      "520\n",
      "530\n",
      "540\n",
      "530\n",
      "520\n",
      "530\n",
      "520\n",
      "510\n",
      "500\n",
      "510\n",
      "500\n",
      "510\n",
      "500\n",
      "510\n",
      "500\n",
      "510\n",
      "500\n",
      "510\n",
      "520\n",
      "530\n",
      "540\n",
      "550\n",
      "560\n",
      "570\n",
      "580\n",
      "570\n",
      "580\n",
      "570\n",
      "580\n",
      "590\n",
      "600\n",
      "590\n",
      "580\n",
      "570\n",
      "580\n",
      "570\n",
      "580\n",
      "590\n",
      "580\n",
      "590\n",
      "580\n",
      "590\n",
      "600\n",
      "610\n",
      "620\n",
      "610\n",
      "620\n",
      "610\n",
      "620\n",
      "610\n",
      "600\n",
      "590\n",
      "600\n",
      "610\n",
      "620\n",
      "630\n",
      "620\n",
      "610\n",
      "620\n",
      "630\n",
      "640\n",
      "650\n",
      "660\n",
      "650\n",
      "640\n",
      "650\n",
      "640\n",
      "650\n",
      "660\n",
      "670\n",
      "660\n",
      "650\n",
      "640\n",
      "630\n",
      "640\n",
      "650\n",
      "660\n",
      "650\n",
      "640\n",
      "650\n",
      "640\n",
      "630\n",
      "620\n",
      "630\n",
      "640\n",
      "650\n",
      "640\n",
      "650\n",
      "660\n",
      "650\n",
      "660\n",
      "670\n",
      "680\n",
      "670\n",
      "680\n",
      "690\n",
      "700\n",
      "710\n",
      "720\n",
      "710\n",
      "700\n",
      "690\n",
      "680\n",
      "690\n",
      "700\n",
      "690\n",
      "700\n",
      "690\n",
      "700\n",
      "690\n",
      "700\n",
      "710\n",
      "700\n",
      "710\n",
      "720\n",
      "710\n",
      "700\n",
      "710\n",
      "720\n",
      "730\n",
      "720\n",
      "730\n",
      "720\n",
      "710\n",
      "700\n",
      "690\n",
      "680\n",
      "690\n",
      "680\n",
      "670\n",
      "680\n",
      "670\n",
      "680\n",
      "670\n",
      "660\n",
      "670\n",
      "680\n",
      "670\n",
      "680\n",
      "670\n",
      "660\n",
      "670\n",
      "680\n",
      "670\n",
      "660\n",
      "650\n",
      "660\n",
      "650\n",
      "660\n",
      "650\n",
      "640\n",
      "650\n",
      "640\n",
      "630\n",
      "620\n",
      "610\n",
      "620\n",
      "610\n",
      "600\n",
      "590\n",
      "580\n",
      "570\n",
      "580\n",
      "590\n",
      "600\n",
      "610\n",
      "600\n",
      "590\n",
      "580\n",
      "590\n",
      "600\n",
      "610\n",
      "600\n",
      "610\n",
      "620\n",
      "630\n",
      "640\n",
      "630\n",
      "620\n",
      "630\n",
      "640\n",
      "650\n",
      "640\n",
      "650\n",
      "660\n",
      "670\n",
      "680\n",
      "670\n",
      "680\n",
      "670\n",
      "680\n",
      "670\n",
      "680\n",
      "670\n",
      "680\n",
      "690\n",
      "700\n",
      "690\n",
      "700\n",
      "690\n",
      "680\n",
      "670\n",
      "680\n",
      "690\n",
      "700\n",
      "710\n",
      "720\n",
      "730\n",
      "740\n",
      "750\n",
      "760\n",
      "750\n",
      "760\n",
      "770\n",
      "780\n",
      "790\n",
      "780\n",
      "790\n",
      "780\n",
      "790\n",
      "800\n",
      "810\n",
      "800\n",
      "790\n",
      "800\n",
      "810\n",
      "800\n",
      "790\n",
      "780\n",
      "790\n",
      "780\n",
      "790\n",
      "800\n",
      "790\n",
      "800\n",
      "810\n",
      "820\n",
      "810\n",
      "800\n",
      "810\n",
      "820\n",
      "830\n",
      "820\n",
      "830\n",
      "820\n",
      "810\n",
      "800\n",
      "810\n",
      "800\n",
      "810\n",
      "820\n",
      "830\n",
      "840\n",
      "830\n",
      "840\n",
      "850\n",
      "840\n",
      "830\n",
      "820\n",
      "830\n",
      "840\n",
      "850\n",
      "860\n",
      "870\n",
      "880\n",
      "870\n",
      "880\n",
      "890\n",
      "880\n",
      "870\n",
      "880\n",
      "890\n",
      "900\n",
      "910\n",
      "920\n",
      "910\n",
      "900\n",
      "890\n",
      "880\n",
      "890\n",
      "900\n",
      "890\n",
      "900\n",
      "890\n",
      "880\n",
      "890\n",
      "900\n",
      "890\n",
      "900\n",
      "910\n",
      "900\n",
      "910\n",
      "900\n",
      "890\n",
      "880\n",
      "870\n",
      "880\n",
      "890\n",
      "900\n",
      "890\n",
      "880\n",
      "890\n",
      "900\n",
      "910\n",
      "920\n",
      "930\n",
      "940\n",
      "950\n",
      "960\n",
      "970\n",
      "960\n",
      "950\n",
      "940\n",
      "950\n",
      "960\n",
      "970\n",
      "980\n",
      "990\n",
      "980\n",
      "970\n",
      "960\n",
      "970\n",
      "980\n",
      "990\n",
      "980\n",
      "970\n",
      "960\n",
      "970\n",
      "980\n",
      "990\n",
      "1000 334\n"
     ]
    }
   ],
   "source": [
    "balance = 500\n",
    "wager = 10\n",
    "games = 0\n",
    "\n",
    "init_balance = balance\n",
    "while balance < init_balance*2 and balance > 0:\n",
    "    print(balance)\n",
    "    # set point\n",
    "    games += 1\n",
    "    die_1 = random.randint(1, 6)\n",
    "    die_2 = random.randint(1, 6)\n",
    "    point = die_1 + die_2\n",
    "    if point in [7,11]:\n",
    "        balance += wager\n",
    "    elif point in [2,3,12]:\n",
    "        balance -= wager\n",
    "    else:\n",
    "        finished = False\n",
    "        while not finished:\n",
    "            roll = 0\n",
    "            while roll not in [point, 7]:\n",
    "                die_1 = random.randint(1, 6)\n",
    "                die_2 = random.randint(1, 6)\n",
    "                roll = die_1 + die_2\n",
    "                if roll == 7:\n",
    "                    balance -= wager\n",
    "                    finished = True\n",
    "                elif roll == point:\n",
    "                    balance += wager\n",
    "                    finished = True\n",
    "print(balance, games)"
   ]
  },
  {
   "cell_type": "markdown",
   "metadata": {},
   "source": [
    "### Problem 15\n",
    "\n",
    "Simulate the scenario in problem 14, 1000 times and determine what percentage of the time you would end up doubling your money. Use a print statement to write out results. Is craps a good investment? (this takes a while to simulate)"
   ]
  },
  {
   "cell_type": "code",
   "execution_count": 194,
   "metadata": {
    "collapsed": false
   },
   "outputs": [
    {
     "name": "stdout",
     "output_type": "stream",
     "text": [
      "After 1000 trials, money was doubled 19.400000000000002 percent of the time\n"
     ]
    }
   ],
   "source": [
    "wager = 10\n",
    "times_doubled = 0\n",
    "num_sims = 1000\n",
    "\n",
    "for i in range(0,num_sims):\n",
    "    balance = 500\n",
    "    init_balance = balance\n",
    "    games = 0\n",
    "    while balance < init_balance*2 and balance > 0:\n",
    "        # set point\n",
    "        games += 1\n",
    "        die_1 = random.randint(1, 6)\n",
    "        die_2 = random.randint(1, 6)\n",
    "        point = die_1 + die_2\n",
    "        if point in [7,11]:\n",
    "            balance += wager\n",
    "        elif point in [2,3,12]:\n",
    "            balance -= wager\n",
    "        else:\n",
    "            finished = False\n",
    "            while not finished:\n",
    "                roll = 0\n",
    "                while roll not in [point, 7]:\n",
    "                    die_1 = random.randint(1, 6)\n",
    "                    die_2 = random.randint(1, 6)\n",
    "                    roll = die_1 + die_2\n",
    "                    if roll == 7:\n",
    "                        balance -= wager\n",
    "                        finished = True\n",
    "                    elif roll == point:\n",
    "                        balance += wager\n",
    "                        finished = True\n",
    "    if balance != 0:\n",
    "        times_doubled += 1\n",
    "print(\"After {} trials, money was doubled {} percent of the time\".format(num_sims, times_doubled/num_sims*100))"
   ]
  },
  {
   "cell_type": "markdown",
   "metadata": {},
   "source": [
    "### List comprehensions\n",
    "A list comprehension is a unique Python construct that iterates through a sequence (string, list, range, etc...) using a for loop and for each element, performs an operation who's result is stored into a list in one single line of code. List comprehensions don't actually provide any more functionality, they only shorten the amount of code written and can provide more readability after they are mastered.  They are better learned through examples. \n",
    "\n",
    "The following code will show a sequence of numbers that are squared and stored into a list using a for loop. The same process will then be generated using a list comprehension."
   ]
  },
  {
   "cell_type": "code",
   "execution_count": 50,
   "metadata": {
    "collapsed": false
   },
   "outputs": [
    {
     "data": {
      "text/plain": [
       "[0, 1, 4, 9, 16, 25, 36, 49, 64, 81]"
      ]
     },
     "execution_count": 50,
     "metadata": {},
     "output_type": "execute_result"
    }
   ],
   "source": [
    "# square numbers 0 to 9 and put in a list\n",
    "squared_nums = []\n",
    "for num in range(10):\n",
    "    squared_nums.append(num ** 2)\n",
    "    \n",
    "squared_nums"
   ]
  },
  {
   "cell_type": "markdown",
   "metadata": {},
   "source": [
    "### List Comprehension of the above\n",
    "No additional functionality is added. Only, shorter and more compact syntax."
   ]
  },
  {
   "cell_type": "code",
   "execution_count": 56,
   "metadata": {
    "collapsed": false
   },
   "outputs": [
    {
     "data": {
      "text/plain": [
       "[0, 1, 4, 9, 16, 25, 36, 49, 64, 81]"
      ]
     },
     "execution_count": 56,
     "metadata": {},
     "output_type": "execute_result"
    }
   ],
   "source": [
    "# Use a list comprehension to do the same thing\n",
    "squared_nums = [num ** 2 for num in range(10)]\n",
    "squared_nums"
   ]
  },
  {
   "cell_type": "markdown",
   "metadata": {},
   "source": [
    "### Reading list comprehensions\n",
    "Understanding list comprehensions is tricky at first since the code is written opposite of how it is with a normal for loop. In basic list comprehensions there are three parts.\n",
    "\n",
    "1. The outer brackets, that denote a list\n",
    "2. The for loop\n",
    "3. Some operation\n",
    "\n",
    "[<span style=\"color:green\">operation</span>      <span style=\"color:red\">for loop</span> ]\n",
    "\n",
    "For each element in the sequence, the output of the operation is appended to the newly created list."
   ]
  },
  {
   "cell_type": "markdown",
   "metadata": {},
   "source": [
    "### Standard mathematical notation\n",
    "List comprehensions resemble standard mathematical notation for sets. We can write the above list comprehension as follows in standard mathematical notation.\n",
    "\n",
    "$$\\{x^2 : x \\in \\{0, 1, ... , 9\\} \\}$$\n",
    "\n",
    "Which is read as the set of all x squared such that x is in the set 0 to 9."
   ]
  },
  {
   "cell_type": "markdown",
   "metadata": {},
   "source": [
    "### List Comprehension Examples\n",
    "Many more simple list comprehension examples will be given below"
   ]
  },
  {
   "cell_type": "code",
   "execution_count": 53,
   "metadata": {
    "collapsed": false
   },
   "outputs": [
    {
     "data": {
      "text/plain": [
       "[11, 12, 13, 14, 15, 16, 17, 18, 19, 20, 21]"
      ]
     },
     "execution_count": 53,
     "metadata": {},
     "output_type": "execute_result"
    }
   ],
   "source": [
    "# add 1 to each number from 10 to 20\n",
    "[x + 1 for x in range(10, 21)]"
   ]
  },
  {
   "cell_type": "code",
   "execution_count": 54,
   "metadata": {
    "collapsed": false
   },
   "outputs": [
    {
     "data": {
      "text/plain": [
       "[True, False, True, False, True, False, True, False, True, False, True]"
      ]
     },
     "execution_count": 54,
     "metadata": {},
     "output_type": "execute_result"
    }
   ],
   "source": [
    "# determine if number from range 10 to 20 is even\n",
    "[x % 2 == 0 for x in range(10, 21)]"
   ]
  },
  {
   "cell_type": "code",
   "execution_count": 55,
   "metadata": {
    "collapsed": false
   },
   "outputs": [
    {
     "data": {
      "text/plain": [
       "['t', 's', 'n', 'e', 'g']"
      ]
     },
     "execution_count": 55,
     "metadata": {},
     "output_type": "execute_result"
    }
   ],
   "source": [
    "# Get the last letter of every string in a list\n",
    "string_list = ['list', 'comprehensions', 'can', 'be', 'confusing']\n",
    "[word[-1] for word in string_list]"
   ]
  },
  {
   "cell_type": "markdown",
   "metadata": {},
   "source": [
    "### Problem 16\n",
    "<span style=\"color:green\">Use a list comprehension to create a list of the square root of the first 10 positive integers</span>"
   ]
  },
  {
   "cell_type": "code",
   "execution_count": 195,
   "metadata": {
    "collapsed": false
   },
   "outputs": [
    {
     "data": {
      "text/plain": [
       "[1.0,\n",
       " 1.4142135623730951,\n",
       " 1.7320508075688772,\n",
       " 2.0,\n",
       " 2.23606797749979,\n",
       " 2.449489742783178,\n",
       " 2.6457513110645907,\n",
       " 2.8284271247461903,\n",
       " 3.0,\n",
       " 3.1622776601683795]"
      ]
     },
     "execution_count": 195,
     "metadata": {},
     "output_type": "execute_result"
    }
   ],
   "source": [
    "[x**.5 for x in range(1,11)]"
   ]
  },
  {
   "cell_type": "markdown",
   "metadata": {},
   "source": [
    "### Problem 17\n",
    "<span style=\"color:green\">Use a list comprehension to create a list of the area of a circle for circles with a radius equal to the first 10 postive integers.</span>"
   ]
  },
  {
   "cell_type": "code",
   "execution_count": 197,
   "metadata": {
    "collapsed": false
   },
   "outputs": [
    {
     "data": {
      "text/plain": [
       "[3.141592653589793,\n",
       " 12.566370614359172,\n",
       " 28.274333882308138,\n",
       " 50.26548245743669,\n",
       " 78.53981633974483,\n",
       " 113.09733552923255,\n",
       " 153.93804002589985,\n",
       " 201.06192982974676,\n",
       " 254.46900494077323,\n",
       " 314.1592653589793]"
      ]
     },
     "execution_count": 197,
     "metadata": {},
     "output_type": "execute_result"
    }
   ],
   "source": [
    "import math\n",
    "\n",
    "[math.pi * x**2 for x in range(1,11)]"
   ]
  },
  {
   "cell_type": "markdown",
   "metadata": {},
   "source": [
    "### Problem 18\n",
    "<span style=\"color:green\">Create a list of strings. Then use a list comprehension to create a list that contains the length of each of these strings.</span>"
   ]
  },
  {
   "cell_type": "code",
   "execution_count": 201,
   "metadata": {
    "collapsed": false
   },
   "outputs": [
    {
     "data": {
      "text/plain": [
       "[4, 5, 5, 6]"
      ]
     },
     "execution_count": 201,
     "metadata": {},
     "output_type": "execute_result"
    }
   ],
   "source": [
    "p18_list = ['well', 'hello', 'there', 'world!']\n",
    "[len(p18_list[x]) for x in range(0,len(p18_list))]\n"
   ]
  },
  {
   "cell_type": "markdown",
   "metadata": {},
   "source": [
    "### Conditional List Comprehensions\n",
    "The basic list comprehension can be extended by adding a conditional statement after the for loop. This condition is evaluated at each iteration in the for loop. The 'operation' of the list comprehension only takes place if the condition is true.\n",
    "\n",
    "Below, we will iterate through the first 10 integers and check if the number is odd and if it is, append its squared value to a list.  We will do this first with a normal for loop and then with a list comprehension."
   ]
  },
  {
   "cell_type": "code",
   "execution_count": 60,
   "metadata": {
    "collapsed": false
   },
   "outputs": [
    {
     "data": {
      "text/plain": [
       "[1, 9, 25, 49, 81]"
      ]
     },
     "execution_count": 60,
     "metadata": {},
     "output_type": "execute_result"
    }
   ],
   "source": [
    "# square numbers 1 to 10 if number is odd and put in a list\n",
    "squared_odd_nums = []\n",
    "for num in range(1, 11):\n",
    "    if num % 2 == 1:\n",
    "        squared_odd_nums.append(num ** 2)\n",
    "    \n",
    "squared_odd_nums"
   ]
  },
  {
   "cell_type": "code",
   "execution_count": 62,
   "metadata": {
    "collapsed": false
   },
   "outputs": [
    {
     "data": {
      "text/plain": [
       "[1, 9, 25, 49, 81]"
      ]
     },
     "execution_count": 62,
     "metadata": {},
     "output_type": "execute_result"
    }
   ],
   "source": [
    "# same as above using a list comprehension\n",
    "squared_odd_nums = [num ** 2 for num in range(1, 11) if num % 2 == 1]\n",
    "squared_odd_nums"
   ]
  },
  {
   "cell_type": "markdown",
   "metadata": {},
   "source": [
    "### Reading Conditional List Comprehensions\n",
    "The conditional (which must return a boolean) is written after the for loop. The operation only occurs if this condition evaluates as True.\n",
    "\n",
    "[<span style=\"color:green\">operation</span> <span style=\"color:red\">for loop</span> <span style=\"color:blue\">condition</span>]\n",
    "\n",
    "In standard mathematical notation\n",
    "\n",
    "$$\\{x^2 : x \\in \\{1, ... , 10\\} \\ and \\ x \\ is \\ odd \\}$$\n",
    "\n",
    "\n",
    "The condition acts as a filter that each element must pass through before being operated on and appeneded to the new list.\n",
    "### Conditional List Comprehension Examples Below"
   ]
  },
  {
   "cell_type": "code",
   "execution_count": 65,
   "metadata": {
    "collapsed": false
   },
   "outputs": [
    {
     "data": {
      "text/plain": [
       "[1681, 1764, 1849, 1936, 2025, 2116, 2209, 2304, 2401]"
      ]
     },
     "execution_count": 65,
     "metadata": {},
     "output_type": "execute_result"
    }
   ],
   "source": [
    "# Square the first 50 integers with the condition that the number be greater than 40\n",
    "[x ** 2 for x in range(50) if x > 40]"
   ]
  },
  {
   "cell_type": "code",
   "execution_count": 69,
   "metadata": {
    "collapsed": false
   },
   "outputs": [
    {
     "data": {
      "text/plain": [
       "['y', 'c', '!']"
      ]
     },
     "execution_count": 69,
     "metadata": {},
     "output_type": "execute_result"
    }
   ],
   "source": [
    "# Get the last character of each string in a list but only if the first letter is a 't'\n",
    "string_list = ['today', 'is', 'terrific', 'and', 'not', 'terrible!']\n",
    "\n",
    "[word[-1] for word in string_list if word[0] == 't']"
   ]
  },
  {
   "cell_type": "markdown",
   "metadata": {},
   "source": [
    "### Problem 19\n",
    "<span style=\"color:green\">Create a list of strings. Then use a list comprehension to create a list that contains only the strings that have length greater than 5.</span>"
   ]
  },
  {
   "cell_type": "code",
   "execution_count": 205,
   "metadata": {
    "collapsed": false
   },
   "outputs": [
    {
     "data": {
      "text/plain": [
       "['fantastic', 'world!']"
      ]
     },
     "execution_count": 205,
     "metadata": {},
     "output_type": "execute_result"
    }
   ],
   "source": [
    "p19_list = ['well', 'a', 'fantastic', 'hello', 'there', 'world!']\n",
    "[p19_list[i] for i in range(0,len(p19_list)) if len(p19_list[i]) > 5]\n"
   ]
  },
  {
   "cell_type": "markdown",
   "metadata": {},
   "source": [
    "### Problem 20\n",
    "<span style=\"color:green\">Create a long string. Use a list comprehension to create a list of only the vowels in that string.</span>"
   ]
  },
  {
   "cell_type": "code",
   "execution_count": 208,
   "metadata": {
    "collapsed": false
   },
   "outputs": [
    {
     "data": {
      "text/plain": [
       "['e', 'a', 'a', 'a', 'i', 'e', 'o', 'e', 'e', 'o']"
      ]
     },
     "execution_count": 208,
     "metadata": {},
     "output_type": "execute_result"
    }
   ],
   "source": [
    "p20_str = 'well a fantastic hello there world!'\n",
    "[p20_str[i] for i in range(1,len(p20_str)) if p20_str[i] in ['a','e','i','o','u']]"
   ]
  },
  {
   "cell_type": "markdown",
   "metadata": {},
   "source": [
    "### Problem 21\n",
    "\n",
    "<span style=\"color:green\">Write a list comprehension that loops through all numbers between 1 and 100 and squares all those that end in 3 or 7 (hint: use modulus operator)</span>"
   ]
  },
  {
   "cell_type": "code",
   "execution_count": 209,
   "metadata": {
    "collapsed": false
   },
   "outputs": [
    {
     "data": {
      "text/plain": [
       "[9,\n",
       " 49,\n",
       " 169,\n",
       " 289,\n",
       " 529,\n",
       " 729,\n",
       " 1089,\n",
       " 1369,\n",
       " 1849,\n",
       " 2209,\n",
       " 2809,\n",
       " 3249,\n",
       " 3969,\n",
       " 4489,\n",
       " 5329,\n",
       " 5929,\n",
       " 6889,\n",
       " 7569,\n",
       " 8649,\n",
       " 9409]"
      ]
     },
     "execution_count": 209,
     "metadata": {},
     "output_type": "execute_result"
    }
   ],
   "source": [
    "[i**2 for i in range(0,100) if i%10 in [3,7]]"
   ]
  },
  {
   "cell_type": "markdown",
   "metadata": {},
   "source": [
    "### Conditional assignments in one line\n",
    "Python has more 'syntactic sugar' (code that is simpler to write, easier to read and thus 'sweeter', but doesn't add functionality) by allowing if/then/else statements in one line. The [ternary operator](https://en.wikipedia.org/wiki/%3F:#Python) is a one line statement that assigns a variable the value of the first expression if a condition is true otherwise it gets assigned the latter value.\n",
    "\n",
    "As was done in list comprehensions above, an example will be done with and without the new syntax."
   ]
  },
  {
   "cell_type": "code",
   "execution_count": 78,
   "metadata": {
    "collapsed": false
   },
   "outputs": [
    {
     "data": {
      "text/plain": [
       "'low'"
      ]
     },
     "execution_count": 78,
     "metadata": {},
     "output_type": "execute_result"
    }
   ],
   "source": [
    "# old syntax. assign a variable as low or high depending on another value\n",
    "x = 5\n",
    "if x < 10:\n",
    "    variable_type = 'low'\n",
    "else:\n",
    "    variable_type = 'high'\n",
    "    \n",
    "variable_type"
   ]
  },
  {
   "cell_type": "code",
   "execution_count": 79,
   "metadata": {
    "collapsed": false
   },
   "outputs": [
    {
     "data": {
      "text/plain": [
       "'low'"
      ]
     },
     "execution_count": 79,
     "metadata": {},
     "output_type": "execute_result"
    }
   ],
   "source": [
    "# The above can be shortened using the following syntax\n",
    "x = 5\n",
    "variable_type = 'low' if x < 10 else 'high'\n",
    "variable_type"
   ]
  },
  {
   "cell_type": "markdown",
   "metadata": {},
   "source": [
    "### More Examples"
   ]
  },
  {
   "cell_type": "code",
   "execution_count": 80,
   "metadata": {
    "collapsed": false
   },
   "outputs": [
    {
     "data": {
      "text/plain": [
       "'odd'"
      ]
     },
     "execution_count": 80,
     "metadata": {},
     "output_type": "execute_result"
    }
   ],
   "source": [
    "# label an integer even or odd\n",
    "x = 11\n",
    "label = 'odd' if x % 2 == 1 else 'even'\n",
    "\n",
    "label"
   ]
  },
  {
   "cell_type": "code",
   "execution_count": 81,
   "metadata": {
    "collapsed": false
   },
   "outputs": [
    {
     "data": {
      "text/plain": [
       "'yes'"
      ]
     },
     "execution_count": 81,
     "metadata": {},
     "output_type": "execute_result"
    }
   ],
   "source": [
    "# is a string a palindrome\n",
    "word = 'racecar'\n",
    "palindrome = 'yes' if word == word[::-1] else 'no'\n",
    "\n",
    "palindrome"
   ]
  },
  {
   "cell_type": "markdown",
   "metadata": {},
   "source": [
    "### Problem 22\n",
    "\n",
    "<span style=\"color:green\">Rewrite the following code using the ternary syntax </span>\n",
    "\n",
    "`>>> x = 100\n",
    "    if x > 99:\n",
    "         label = 'perfect'\n",
    "    else:\n",
    "         label = 'still need work to do'`"
   ]
  },
  {
   "cell_type": "code",
   "execution_count": 212,
   "metadata": {
    "collapsed": false
   },
   "outputs": [
    {
     "name": "stdout",
     "output_type": "stream",
     "text": [
      "perfect\n"
     ]
    }
   ],
   "source": [
    "x = 100\n",
    "label = 'perfect' if x > 99 else 'still need work to do'\n",
    "print(label)"
   ]
  },
  {
   "cell_type": "markdown",
   "metadata": {},
   "source": [
    "### Problem 23\n",
    "\n",
    "<span style=\"color:green\">Use the ternary syntax to square a number if its even and raise it to the third power if its odd </span>"
   ]
  },
  {
   "cell_type": "code",
   "execution_count": 214,
   "metadata": {
    "collapsed": false
   },
   "outputs": [
    {
     "name": "stdout",
     "output_type": "stream",
     "text": [
      "27\n"
     ]
    }
   ],
   "source": [
    "x = 3\n",
    "result =  x**2 if x%2 == 0 else x**3\n",
    "print(result)"
   ]
  },
  {
   "cell_type": "markdown",
   "metadata": {},
   "source": [
    "### Complex List Comprehensions\n",
    "Even though list comprehensions can only be one line long, it is possible to make them complex. Take a look at the following list comprehension with a conditional and a ternary operation all in one."
   ]
  },
  {
   "cell_type": "code",
   "execution_count": 2,
   "metadata": {
    "collapsed": false
   },
   "outputs": [
    {
     "data": {
      "text/plain": [
       "[29791, 1024, 35937, 1156, 42875, 1296, 50653, 1444, 59319]"
      ]
     },
     "execution_count": 2,
     "metadata": {},
     "output_type": "execute_result"
    }
   ],
   "source": [
    "### Using a conditional in a list comprehension\n",
    "squared_nums = [x ** 2 if x % 2 == 0 else x ** 3 for x in range(100) if x > 30 and x < 40]\n",
    "\n",
    "squared_nums"
   ]
  },
  {
   "cell_type": "markdown",
   "metadata": {},
   "source": [
    "### Making List Comprehensions too Complex\n",
    "The above list comprehension iterates through the integers 0 to 99, has a conditional filter for only integers 31 to 49 and then squares the integer if its even and cubes it if its odd. Below is the list comprehension rewritten as a normal for loop.\n",
    "\n",
    "Readability is a very important factor and even though the below uses more lines of code it might be more readable to someone else or future you."
   ]
  },
  {
   "cell_type": "code",
   "execution_count": 5,
   "metadata": {
    "collapsed": false
   },
   "outputs": [
    {
     "data": {
      "text/plain": [
       "[29791, 1024, 35937, 1156, 42875, 1296, 50653, 1444, 59319]"
      ]
     },
     "execution_count": 5,
     "metadata": {},
     "output_type": "execute_result"
    }
   ],
   "source": [
    "# The above is equivalent to this\n",
    "squared_nums = []\n",
    "for x in range(100):\n",
    "    if x > 30 and x < 40:\n",
    "        if x % 2 == 0:\n",
    "            squared_nums.append(x ** 2)\n",
    "        else:\n",
    "            squared_nums.append(x ** 3)\n",
    "\n",
    "squared_nums"
   ]
  },
  {
   "cell_type": "markdown",
   "metadata": {},
   "source": [
    "### Nested for loops inside list comps\n",
    "Just like you can nest for loops, you can nest any number of for loops inside list comps."
   ]
  },
  {
   "cell_type": "code",
   "execution_count": 7,
   "metadata": {
    "collapsed": false
   },
   "outputs": [
    {
     "name": "stdout",
     "output_type": "stream",
     "text": [
      "['bad', 'bat', 'bed', 'bet', 'bid', 'bit', 'mad', 'mat', 'med', 'met', 'mid', 'mit', 'rad', 'rat', 'red', 'ret', 'rid', 'rit']\n"
     ]
    }
   ],
   "source": [
    "create_words = [x + y + z for x in 'bmr' for y in 'aei' for z in 'dt']\n",
    "print(create_words)"
   ]
  },
  {
   "cell_type": "code",
   "execution_count": 8,
   "metadata": {
    "collapsed": false
   },
   "outputs": [
    {
     "name": "stdout",
     "output_type": "stream",
     "text": [
      "['bad', 'bat', 'bed', 'bet', 'bid', 'bit', 'mad', 'mat', 'med', 'met', 'mid', 'mit', 'rad', 'rat', 'red', 'ret', 'rid', 'rit']\n"
     ]
    }
   ],
   "source": [
    "# the above is equivalent to\n",
    "create_words = []\n",
    "for x in 'bmr':\n",
    "    for y in 'aei':\n",
    "        for z in 'dt':\n",
    "            create_words.append(x + y + z)\n",
    "print(create_words)"
   ]
  },
  {
   "cell_type": "markdown",
   "metadata": {},
   "source": [
    "### Problem 24\n",
    "\n",
    "<span style=\"color:green\">Write a list comprehension that uses nested for loops to get the total price of carpeting for all possible house size combinations where there is at least 800 square feet of house. Store values in total_price list</span>"
   ]
  },
  {
   "cell_type": "code",
   "execution_count": 222,
   "metadata": {
    "collapsed": false
   },
   "outputs": [
    {
     "data": {
      "text/plain": [
       "[800,\n",
       " 1400.0,\n",
       " 2000.0,\n",
       " 3904.0,\n",
       " 850,\n",
       " 1487.5,\n",
       " 2125.0,\n",
       " 4148.0,\n",
       " 900,\n",
       " 1575.0,\n",
       " 2250.0,\n",
       " 4392.0,\n",
       " 950,\n",
       " 1662.5,\n",
       " 2375.0,\n",
       " 4636.0]"
      ]
     },
     "execution_count": 222,
     "metadata": {},
     "output_type": "execute_result"
    }
   ],
   "source": [
    "height = range(10, 30, 5)\n",
    "width = range(2,40,2)\n",
    "price_per_square_foot = [1, 1.75, 2.5, 4.88]\n",
    "total_price = [h * w *p for h in height for w in width for p in price_per_square_foot if h*w >= 800]\n",
    "\n",
    "total_price"
   ]
  },
  {
   "cell_type": "markdown",
   "metadata": {},
   "source": [
    "### Advanced: enumerate function\n",
    "`enumerate` is a nice function that is wrapped around the sequence in a for loop and allows you to keep track of the current iteration number. In the example below, the variable `i` is initialized to 0 and gets incremented once for each iteration. The variable `letter` is the current value of the sequence of characters being iterated through."
   ]
  },
  {
   "cell_type": "code",
   "execution_count": 12,
   "metadata": {
    "collapsed": false
   },
   "outputs": [
    {
     "name": "stdout",
     "output_type": "stream",
     "text": [
      "0 a\n",
      "1 b\n",
      "2 c\n",
      "3 d\n",
      "4 e\n",
      "5 f\n"
     ]
    }
   ],
   "source": [
    "letters = 'abcdef'\n",
    "for i, letter in enumerate(letters):\n",
    "    print(i, letter)"
   ]
  },
  {
   "cell_type": "markdown",
   "metadata": {},
   "source": [
    "### A couple equivalent methods to do the same thing\n",
    "`enumerate` is the 'pythonic' way of keeping track of the index of iteration, but if you wish to make your code look uglier you are free to do the following."
   ]
  },
  {
   "cell_type": "code",
   "execution_count": 13,
   "metadata": {
    "collapsed": false
   },
   "outputs": [
    {
     "name": "stdout",
     "output_type": "stream",
     "text": [
      "0 a\n",
      "1 b\n",
      "2 c\n",
      "3 d\n",
      "4 e\n",
      "5 f\n"
     ]
    }
   ],
   "source": [
    "letters = 'abcdef'\n",
    "i = 0\n",
    "for letter in letters:\n",
    "    print(i, letter)\n",
    "    i += 1"
   ]
  },
  {
   "cell_type": "code",
   "execution_count": 17,
   "metadata": {
    "collapsed": false
   },
   "outputs": [
    {
     "name": "stdout",
     "output_type": "stream",
     "text": [
      "0 a\n",
      "1 b\n",
      "2 c\n",
      "3 d\n",
      "4 e\n",
      "5 f\n"
     ]
    }
   ],
   "source": [
    "# also very ugly\n",
    "# create a range object from 0 to length of string - 1\n",
    "letters = 'abcdef'\n",
    "for i in range(len(letters)):\n",
    "    print(i, letters[i])"
   ]
  },
  {
   "cell_type": "markdown",
   "metadata": {},
   "source": [
    "### Problem 25\n",
    "\n",
    "<span style=\"color:green\">Write a for list that uses enumerate to iterate over the total_price list in problem 22 and prints out the message, \"House number i costs x amount of dollars\". Use the format method of string object to interpolate the variables in your message.</span>"
   ]
  },
  {
   "cell_type": "code",
   "execution_count": 224,
   "metadata": {
    "collapsed": false
   },
   "outputs": [
    {
     "name": "stdout",
     "output_type": "stream",
     "text": [
      "House number 1 costs 800 dollars\n",
      "House number 2 costs 1400.0 dollars\n",
      "House number 3 costs 2000.0 dollars\n",
      "House number 4 costs 3904.0 dollars\n",
      "House number 5 costs 850 dollars\n",
      "House number 6 costs 1487.5 dollars\n",
      "House number 7 costs 2125.0 dollars\n",
      "House number 8 costs 4148.0 dollars\n",
      "House number 9 costs 900 dollars\n",
      "House number 10 costs 1575.0 dollars\n",
      "House number 11 costs 2250.0 dollars\n",
      "House number 12 costs 4392.0 dollars\n",
      "House number 13 costs 950 dollars\n",
      "House number 14 costs 1662.5 dollars\n",
      "House number 15 costs 2375.0 dollars\n",
      "House number 16 costs 4636.0 dollars\n"
     ]
    }
   ],
   "source": [
    "height = range(10, 30, 5)\n",
    "width = range(2,40,2)\n",
    "price_per_square_foot = [1, 1.75, 2.5, 4.88]\n",
    "total_price = [h * w *p for h in height for w in width for p in price_per_square_foot if h*w >= 800]\n",
    "\n",
    "for i, price in enumerate(total_price):\n",
    "    print(\"House number {} costs {} dollars\".format(i+1, price))\n",
    "\n"
   ]
  },
  {
   "cell_type": "markdown",
   "metadata": {},
   "source": [
    "# Congrats on completing the 4th notebook!\n",
    "Move on to number 5!"
   ]
  }
 ],
 "metadata": {
  "anaconda-cloud": {},
  "kernelspec": {
   "display_name": "Python 3",
   "language": "python",
   "name": "python3"
  },
  "language_info": {
   "codemirror_mode": {
    "name": "ipython",
    "version": 3
   },
   "file_extension": ".py",
   "mimetype": "text/x-python",
   "name": "python",
   "nbconvert_exporter": "python",
   "pygments_lexer": "ipython3",
   "version": "3.6.0"
  }
 },
 "nbformat": 4,
 "nbformat_minor": 0
}
