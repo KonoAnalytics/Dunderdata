{
 "cells": [
  {
   "cell_type": "markdown",
   "metadata": {},
   "source": [
    "# Introduction to Classes\n",
    "\n",
    "### Objectives\n",
    "After this lesson, you should be able to...\n",
    "1. Understand the difference between an object and a class\n",
    "1. Know the difference between an attribute and a method\n",
    "1. Know the difference between a method and a function\n",
    "1. Access all class functionality with **dot notation**\n",
    "1. Define a class with attributes and methods\n",
    "1. Create an object, an instance of the class\n",
    "1. Use a constructor to initialize an object with the special **`__init__`** method\n",
    "1. Know what the first variable is passed to all class methods\n",
    "1. Know the difference between class attributes and instance attributes\n",
    "1. Use special methods to take advantage of the immense built-in power for classes\n",
    "1. Build and play a Craps game with classes\n",
    "\n",
    "### Resources\n",
    "* Very good playlist of videos on [classes and object-oriented programming by Corey Schafer](https://www.youtube.com/watch?v=ZDa-Z5JzLYM&index=23&list=PL-osiE80TeTt2d9bfVyTiXJA-UTHn6WwU). Check his entire channel out.\n",
    "* [Good blog post](https://jeffknupp.com/blog/2014/06/18/improve-your-python-python-classes-and-object-oriented-programming/) on object oriented programming\n",
    "\n",
    "### Everything is an object\n",
    "Nearly every single thing in Python is an object which makes Python an [object-oriented programming language](https://en.wikipedia.org/wiki/Object-oriented_programming). The only 'things' in Python that are not objects are the keywords and operators that make up the syntax of the language. There is actually a Python module (part of the standard library) that contains a list of all the keywords."
   ]
  },
  {
   "cell_type": "code",
   "execution_count": 12,
   "metadata": {
    "collapsed": false
   },
   "outputs": [
    {
     "name": "stdout",
     "output_type": "stream",
     "text": [
      "['False', 'None', 'True', 'and', 'as', 'assert', 'break', 'class', 'continue', 'def', 'del', 'elif', 'else', 'except', 'finally', 'for', 'from', 'global', 'if', 'import', 'in', 'is', 'lambda', 'nonlocal', 'not', 'or', 'pass', 'raise', 'return', 'try', 'while', 'with', 'yield']\n"
     ]
    }
   ],
   "source": [
    "# False, None and True are also objects, but the others are not\n",
    "import keyword\n",
    "print(keyword.kwlist)"
   ]
  },
  {
   "cell_type": "markdown",
   "metadata": {},
   "source": [
    "If you try and find the type of any of the keywords above you will get a syntax error"
   ]
  },
  {
   "cell_type": "code",
   "execution_count": 13,
   "metadata": {
    "collapsed": false
   },
   "outputs": [
    {
     "ename": "SyntaxError",
     "evalue": "invalid syntax (<ipython-input-13-b2d905235105>, line 1)",
     "output_type": "error",
     "traceback": [
      "\u001b[0;36m  File \u001b[0;32m\"<ipython-input-13-b2d905235105>\"\u001b[0;36m, line \u001b[0;32m1\u001b[0m\n\u001b[0;31m    type(and)\u001b[0m\n\u001b[0m           ^\u001b[0m\n\u001b[0;31mSyntaxError\u001b[0m\u001b[0;31m:\u001b[0m invalid syntax\n"
     ]
    }
   ],
   "source": [
    "type(and)"
   ]
  },
  {
   "cell_type": "markdown",
   "metadata": {},
   "source": [
    "### Attributes and Methods\n",
    "All objects possess their functionality (their power if you will) in attributes and methods. Python utilizes the dot notation to access these attributes and methods. By simply placing a dot after the object name, you give yourself access to all the attributes and methods.\n",
    "\n",
    "An **attribute** is simply a reference to another object, occasionally called 'data attributes'. And that is what they are - data. Just some kind of information immediately retrieved from that object. Names used for attributes are typically nouns or adjectives.\n",
    "\n",
    "A **method** is a function belonging to an object. Some amount of code is executed when a method is called. It is more common to see verbs in method names since an action is taking place. Methods can be defined with any number of parameters just like functions.\n",
    "\n",
    "Methods must be called with parentheses just like functions and any parameters if needed. Attributes on the other hand are retrieved directly from their name - no parentheses are needed.\n",
    "\n",
    "It is easier to understand classes, objects and their methods and attributes with an example. You can actually be an effective programmer without ever creating your own classes. Python has so many built-in and third party libraries that lots of functionality is right at your fingertips. But, if you would like to build your own projects and understand source code then it is imperative to have a thorough understanding of classes and object-oriented programming.\n",
    "\n",
    "### Creating a simple person object\n",
    "Envisioning a physical object as analogous to a Python object makes it easy to learn. The canonical example of an object that many tutorials on classes use is the **`Person`** class. People make good examples of objects because there exists lots of descriptive data that uniquely identifies each person (an **attribute**) and people can execute a variety of different actions (**methods**).\n",
    "\n",
    "In this example we will define a **`Person`** class that creates **`Person`** objects. In Python speak we can say that each **`Person`** object is an **instance** (a member) of the **`Person`** class.\n",
    "\n",
    "### Naming conventions\n",
    "Python has official documentation on how to style code. This document is called [PEP-8](https://www.python.org/dev/peps/pep-0008/). PEP stands for Python enhancement proposals and these are how new features get added to the language. PEP 8 is one of the first proposals and is a living document of how to style code. [PEP-8 gives guidance](https://www.python.org/dev/peps/pep-0008/#prescriptive-naming-conventions) on how to name objects. Please read it for more detail but classes use **CapWords** convention. This is different than nearly all other objects which use **snake_case**.\n",
    "\n",
    "### The simplest class\n",
    "Python uses the keyword **`class`** to define new classes. Just like functions can be defined without any body using the keyword **`pass`**, so can classes. The below class definition is valid Python and will define a class with no attributes and no methods. It does have special attributes and methods, those common to all classes (more on this later)."
   ]
  },
  {
   "cell_type": "code",
   "execution_count": 2,
   "metadata": {
    "collapsed": false
   },
   "outputs": [],
   "source": [
    "# defining the simplest class\n",
    "class Person:\n",
    "    pass"
   ]
  },
  {
   "cell_type": "markdown",
   "metadata": {},
   "source": [
    "### Class instantiation\n",
    "Defining a class like the one above doesn't actually create any objects. Classes are like **blueprints** that give you a neatly defined outline on how to create different objects. To actually create an object you must **instantiate** the class by calling the class name as if it were a function with parentheses. **`Person()`** will instantiate the class and create a **`Person`** object."
   ]
  },
  {
   "cell_type": "code",
   "execution_count": 3,
   "metadata": {
    "collapsed": true
   },
   "outputs": [],
   "source": [
    "# create a Person object with name some_person\n",
    "some_person = Person()"
   ]
  },
  {
   "cell_type": "markdown",
   "metadata": {},
   "source": [
    "### Check the type of object\n",
    "**`some_person`** is now a **`Person`** object and we can verify this by checking it's type with the **`type`** function."
   ]
  },
  {
   "cell_type": "code",
   "execution_count": 12,
   "metadata": {
    "collapsed": false
   },
   "outputs": [
    {
     "data": {
      "text/plain": [
       "__main__.Person"
      ]
     },
     "execution_count": 12,
     "metadata": {},
     "output_type": "execute_result"
    }
   ],
   "source": [
    "type(some_person)"
   ]
  },
  {
   "cell_type": "markdown",
   "metadata": {},
   "source": [
    "### What is that `__main__` doing there?\n",
    "The location of the class definition always precedes the name of the type, except for built in classes. Since the **`Person`** class is defined in the current module (this Jupyter notebook) the location is **`__main__`** See the examples below."
   ]
  },
  {
   "cell_type": "code",
   "execution_count": 17,
   "metadata": {
    "collapsed": false
   },
   "outputs": [
    {
     "data": {
      "text/plain": [
       "list"
      ]
     },
     "execution_count": 17,
     "metadata": {},
     "output_type": "execute_result"
    }
   ],
   "source": [
    "# built-in type\n",
    "a = []\n",
    "type(a)"
   ]
  },
  {
   "cell_type": "code",
   "execution_count": 13,
   "metadata": {
    "collapsed": false
   },
   "outputs": [
    {
     "data": {
      "text/plain": [
       "collections.Counter"
      ]
     },
     "execution_count": 13,
     "metadata": {},
     "output_type": "execute_result"
    }
   ],
   "source": [
    "# standard library\n",
    "from collections import Counter\n",
    "b = Counter()\n",
    "type(b)"
   ]
  },
  {
   "cell_type": "code",
   "execution_count": 7,
   "metadata": {
    "collapsed": false
   },
   "outputs": [
    {
     "data": {
      "text/plain": [
       "pandas.core.frame.DataFrame"
      ]
     },
     "execution_count": 7,
     "metadata": {},
     "output_type": "execute_result"
    }
   ],
   "source": [
    "# third party library\n",
    "import pandas as pd\n",
    "c = pd.DataFrame()\n",
    "type(c)"
   ]
  },
  {
   "cell_type": "markdown",
   "metadata": {},
   "source": [
    "### More on `__name__`\n",
    "**`__name__`** is one of a few special variables that is set when running an entire Python module (any .py file). Entire Python files are run when importing a module, or when running a file from the command line.\n",
    "\n",
    "* The following import statment: **`import pandas as pd`** actually runs the entire **`__init__.py`** file in the pandas home directory\n",
    "* Command line files are run with **`python my_script.py`** \n",
    "\n",
    "**`__name__`** is set to the module name upon import and the string value **`__main__`** when run from the command line or in an interactive session like this one.\n",
    "\n",
    "Check this [stackoverflow answer](http://stackoverflow.com/questions/419163/what-does-if-name-main-do) for more detail."
   ]
  },
  {
   "cell_type": "code",
   "execution_count": 8,
   "metadata": {
    "collapsed": false
   },
   "outputs": [
    {
     "data": {
      "text/plain": [
       "'__main__'"
      ]
     },
     "execution_count": 8,
     "metadata": {},
     "output_type": "execute_result"
    }
   ],
   "source": [
    "# verify that __name__ is actually __main__\n",
    "__name__"
   ]
  },
  {
   "cell_type": "code",
   "execution_count": 9,
   "metadata": {
    "collapsed": false
   },
   "outputs": [
    {
     "data": {
      "text/plain": [
       "'pandas'"
      ]
     },
     "execution_count": 9,
     "metadata": {},
     "output_type": "execute_result"
    }
   ],
   "source": [
    "# verify that __name__ from pandas is pandas\n",
    "pd.__name__"
   ]
  },
  {
   "cell_type": "markdown",
   "metadata": {},
   "source": [
    "### Back to `some_person`\n",
    "The **`Person`** object **`some_person`** was created with no attributes and no methods. It is possible to assign attributes to objects after creation using the dot notation. This is very rarely done as we will see a much better method below.\n",
    "\n",
    "Let's manually add a few attributes to **`some_person`** such as **`first_name`**, **`last_name`** and **`sex`**."
   ]
  },
  {
   "cell_type": "code",
   "execution_count": 10,
   "metadata": {
    "collapsed": false
   },
   "outputs": [],
   "source": [
    "# use the dot notation to manually add attributes\n",
    "some_person.first_name = 'Jane'\n",
    "some_person.last_name = 'Smith'\n",
    "some_person.sex = 'F'"
   ]
  },
  {
   "cell_type": "code",
   "execution_count": 11,
   "metadata": {
    "collapsed": false
   },
   "outputs": [
    {
     "data": {
      "text/plain": [
       "('Jane', 'Smith', 'F')"
      ]
     },
     "execution_count": 11,
     "metadata": {},
     "output_type": "execute_result"
    }
   ],
   "source": [
    "# output attributes. tab completion works!\n",
    "some_person.first_name, some_person.last_name, some_person.sex"
   ]
  },
  {
   "cell_type": "markdown",
   "metadata": {},
   "source": [
    "### Find all attributes and methods\n",
    "Using the **`dir`** function outputs all the methods and attributes. Surprisingly, there are many more attributes and methods that have been defined for us besides the three from above. \n",
    "\n",
    "All classes that you define will be **inherited** from the most base class, **`object`**. **`object`** comes with many special (dunder) methods. Inheritance will be discussed later."
   ]
  },
  {
   "cell_type": "code",
   "execution_count": 24,
   "metadata": {
    "collapsed": false
   },
   "outputs": [
    {
     "data": {
      "text/plain": [
       "['__class__',\n",
       " '__delattr__',\n",
       " '__dict__',\n",
       " '__dir__',\n",
       " '__doc__',\n",
       " '__eq__',\n",
       " '__format__',\n",
       " '__ge__',\n",
       " '__getattribute__',\n",
       " '__gt__',\n",
       " '__hash__',\n",
       " '__init__',\n",
       " '__le__',\n",
       " '__lt__',\n",
       " '__module__',\n",
       " '__ne__',\n",
       " '__new__',\n",
       " '__reduce__',\n",
       " '__reduce_ex__',\n",
       " '__repr__',\n",
       " '__setattr__',\n",
       " '__sizeof__',\n",
       " '__str__',\n",
       " '__subclasshook__',\n",
       " '__weakref__',\n",
       " 'first_name',\n",
       " 'last_name',\n",
       " 'sex']"
      ]
     },
     "execution_count": 24,
     "metadata": {},
     "output_type": "execute_result"
    }
   ],
   "source": [
    "# lots of special methods\n",
    "dir(some_person)"
   ]
  },
  {
   "cell_type": "code",
   "execution_count": 25,
   "metadata": {
    "collapsed": false
   },
   "outputs": [
    {
     "data": {
      "text/plain": [
       "['__class__',\n",
       " '__delattr__',\n",
       " '__dir__',\n",
       " '__doc__',\n",
       " '__eq__',\n",
       " '__format__',\n",
       " '__ge__',\n",
       " '__getattribute__',\n",
       " '__gt__',\n",
       " '__hash__',\n",
       " '__init__',\n",
       " '__le__',\n",
       " '__lt__',\n",
       " '__ne__',\n",
       " '__new__',\n",
       " '__reduce__',\n",
       " '__reduce_ex__',\n",
       " '__repr__',\n",
       " '__setattr__',\n",
       " '__sizeof__',\n",
       " '__str__',\n",
       " '__subclasshook__']"
      ]
     },
     "execution_count": 25,
     "metadata": {},
     "output_type": "execute_result"
    }
   ],
   "source": [
    "# can directly see the special methods of the base class object\n",
    "dir(object)"
   ]
  },
  {
   "cell_type": "markdown",
   "metadata": {},
   "source": [
    "### An easier way to construct objects\n",
    "As was mentioned previously, there is an easier and standard way to add attributes and methods to your object. The **`__init__`** special method allows you to initialize the object however you want. Python automatically will call the **`__init__`** method for you when you create the object.\n",
    "\n",
    "You can pass as many parameters as you need to the **`__init__`**, however Python will force you to pass to the object itself as the first parameter, which you have no control over. You can name this parameter however you like but by convention (from PEP-8), name it **`self`**. The parameter **`self`** is a reference to the the object you are initializing and allows you to add attributes and methods to itself.\n",
    "\n",
    "Let's redefine the same **`Person`** class with an **`__init__`** method so that we can properly initialize it with the desired attributes automatically instead of manually as done before."
   ]
  },
  {
   "cell_type": "code",
   "execution_count": 26,
   "metadata": {
    "collapsed": true
   },
   "outputs": [],
   "source": [
    "# redefine Person in standard Python\n",
    "class Person:\n",
    "    \n",
    "    def __init__(self, first_name, last_name, sex):\n",
    "        self.first_name = first_name\n",
    "        self.last_name = last_name\n",
    "        self.sex = sex"
   ]
  },
  {
   "cell_type": "code",
   "execution_count": 27,
   "metadata": {
    "collapsed": true
   },
   "outputs": [],
   "source": [
    "# create object with new class definition\n",
    "some_person = Person('Jane', 'Smith', 'F')"
   ]
  },
  {
   "cell_type": "markdown",
   "metadata": {},
   "source": [
    "### Explaining `self.attribute = variable`\n",
    "It may be confusing to see **`self.first_name = first_name`** but it is the exact same thing that was happening when we manually assigned the attribute **`first_name`** from above with\n",
    "```\n",
    "some_person.first_name = 'Jane'\n",
    "```\n",
    "\n",
    "Inside **`__init__`**, **`some_person`** is referenced by **`self`** and **`Jane`** is referenced by the passed parameter **`first_name`**"
   ]
  },
  {
   "cell_type": "code",
   "execution_count": 28,
   "metadata": {
    "collapsed": false
   },
   "outputs": [
    {
     "data": {
      "text/plain": [
       "('Jane', 'Smith', 'F')"
      ]
     },
     "execution_count": 28,
     "metadata": {},
     "output_type": "execute_result"
    }
   ],
   "source": [
    "# examine attributes as before\n",
    "some_person.first_name, some_person.last_name, some_person.sex"
   ]
  },
  {
   "cell_type": "markdown",
   "metadata": {},
   "source": [
    "### Technical note on object creation\n",
    "Technically speaking, the **`__new__`** special method is the very first method that is always called when you create an object. **`__new__`** *constructs* your object and then calls **`__init__`** to *initialize* it. **`__new__`** is called implicitly for you and you never have to define it yourself and typically do not have to worry about it. See [this SO](http://stackoverflow.com/questions/674304/pythons-use-of-new-and-init) post for more."
   ]
  },
  {
   "cell_type": "markdown",
   "metadata": {},
   "source": [
    "### Instance Methods\n",
    "So far our instance (our object) has no methods, no non-special methods that is. Methods are functions that are only called by the specific object through dot notation. Methods are defined similarly to functions but are nested with the class definition. Methods can take any number of parameters and must return something even if it is **`None`**. \n",
    "\n",
    "Just like the special method **`__init__`** Python implicitly passes the object that is calling the methods as the first parameter. Convention again is to call this parameter **`self`**. Since methods are executing a group of code they usually represent some kind of object 'ability'. Some 'action' is taking place and it is common to see verbs in method names.\n",
    "\n",
    "Let's redefine our class to have a **`greet`** method."
   ]
  },
  {
   "cell_type": "code",
   "execution_count": 29,
   "metadata": {
    "collapsed": true
   },
   "outputs": [],
   "source": [
    "# redefine Person with greet method\n",
    "class Person:\n",
    "    \n",
    "    def __init__(self, first_name, last_name, sex):\n",
    "        self.first_name = first_name\n",
    "        self.last_name = last_name\n",
    "        self.sex = sex\n",
    "        \n",
    "    def greet(self):\n",
    "        print('Hello, my name is {} {}'.format(self.first_name, self.last_name))"
   ]
  },
  {
   "cell_type": "code",
   "execution_count": 30,
   "metadata": {
    "collapsed": true
   },
   "outputs": [],
   "source": [
    "# instantiate Person again\n",
    "some_person = Person('Jane', 'Smith', 'F')"
   ]
  },
  {
   "cell_type": "code",
   "execution_count": 31,
   "metadata": {
    "collapsed": false
   },
   "outputs": [
    {
     "name": "stdout",
     "output_type": "stream",
     "text": [
      "Hello, my name is Jane Smith\n"
     ]
    }
   ],
   "source": [
    "# greet\n",
    "some_person.greet()"
   ]
  },
  {
   "cell_type": "markdown",
   "metadata": {},
   "source": [
    "### Why does Python pass the object as the first parameter?\n",
    "Most if not all object-oriented programming languages give access to the object itself inside of methods. They do this to allow access to all of the objects data (its attributes and methods). Without having access to the object then the method would just turn into a normal function and their would be no purpose for methods. \n",
    "\n",
    "### Python vs Java: `self` vs `this`\n",
    "Python makes you explicitly label the object (**`self`**) in the method definition. Other languages like Java do not have this explicit parameter in the method definition and instead appropriate the keyword **`this`** to refer to the object. See [this SO post](http://stackoverflow.com/questions/21694901/difference-between-python-self-and-java-this) for more.\n",
    "\n",
    "Looking at the **`greet`** method above, you will notice that it is defined explicitly with a single parameter but called without any explicit parameters. Python implicitly passes the object itself as the first parameter so if you forget to define your method without `self` then you will get an error when it is called. See example below. \n",
    "\n",
    "There is a special way to define a method that does not pass the object (static methods) as the first parameter. More on this in another lesson."
   ]
  },
  {
   "cell_type": "code",
   "execution_count": 26,
   "metadata": {
    "collapsed": true
   },
   "outputs": [],
   "source": [
    "class Person:\n",
    "    \n",
    "    def __init__(self, first_name, last_name, sex):\n",
    "        self.first_name = first_name\n",
    "        self.last_name = last_name\n",
    "        self.sex = sex\n",
    "    \n",
    "    # forgetting implicit self parameter\n",
    "    def greet():\n",
    "        print('Hello, my name is {} {}'.format(self.first_name, self.last_name))"
   ]
  },
  {
   "cell_type": "code",
   "execution_count": 27,
   "metadata": {
    "collapsed": false
   },
   "outputs": [
    {
     "ename": "TypeError",
     "evalue": "greet() takes 0 positional arguments but 1 was given",
     "output_type": "error",
     "traceback": [
      "\u001b[0;31m---------------------------------------------------------------------------\u001b[0m",
      "\u001b[0;31mTypeError\u001b[0m                                 Traceback (most recent call last)",
      "\u001b[0;32m<ipython-input-27-8055f5c0656b>\u001b[0m in \u001b[0;36m<module>\u001b[0;34m()\u001b[0m\n\u001b[1;32m      1\u001b[0m \u001b[0msome_person\u001b[0m \u001b[1;33m=\u001b[0m \u001b[0mPerson\u001b[0m\u001b[1;33m(\u001b[0m\u001b[1;34m'Jane'\u001b[0m\u001b[1;33m,\u001b[0m \u001b[1;34m'Smith'\u001b[0m\u001b[1;33m,\u001b[0m \u001b[1;34m'F'\u001b[0m\u001b[1;33m)\u001b[0m\u001b[1;33m\u001b[0m\u001b[0m\n\u001b[0;32m----> 2\u001b[0;31m \u001b[0msome_person\u001b[0m\u001b[1;33m.\u001b[0m\u001b[0mgreet\u001b[0m\u001b[1;33m(\u001b[0m\u001b[1;33m)\u001b[0m\u001b[1;33m\u001b[0m\u001b[0m\n\u001b[0m",
      "\u001b[0;31mTypeError\u001b[0m: greet() takes 0 positional arguments but 1 was given"
     ]
    }
   ],
   "source": [
    "some_person = Person('Jane', 'Smith', 'F')\n",
    "some_person.greet()"
   ]
  },
  {
   "cell_type": "markdown",
   "metadata": {},
   "source": [
    "### Passing explicit parameters to methods\n",
    "In the **`greet`** method, only the implicit parameter **`self`** is passed. You can of course pass as many parameters as you would like to the method.\n",
    "\n",
    "Let's modify the **`greet`** method so it takes another Person object as a parameter and says hello to that person."
   ]
  },
  {
   "cell_type": "code",
   "execution_count": 34,
   "metadata": {
    "collapsed": true
   },
   "outputs": [],
   "source": [
    "class Person:\n",
    "    \n",
    "    def __init__(self, first_name, last_name, sex):\n",
    "        self.first_name = first_name\n",
    "        self.last_name = last_name\n",
    "        self.sex = sex\n",
    "    \n",
    "    # add additional parameter for other person\n",
    "    def greet(self, other):\n",
    "        print('Hello, my name is {} {}.'.format(self.first_name, self.last_name))\n",
    "        print('Nice to meet you {} {}.'.format(other.first_name, other.last_name))"
   ]
  },
  {
   "cell_type": "code",
   "execution_count": 35,
   "metadata": {
    "collapsed": true
   },
   "outputs": [],
   "source": [
    "# create two instances of Person class\n",
    "jane = Person('Jane', 'Smith', 'F')\n",
    "jeff = Person('Jeff', 'Jones', 'M')"
   ]
  },
  {
   "cell_type": "code",
   "execution_count": 36,
   "metadata": {
    "collapsed": false
   },
   "outputs": [
    {
     "name": "stdout",
     "output_type": "stream",
     "text": [
      "Hello, my name is Jane Smith.\n",
      "Nice to meet you Jeff Jones.\n"
     ]
    }
   ],
   "source": [
    "# have jane greet jeff\n",
    "jane.greet(jeff)"
   ]
  },
  {
   "cell_type": "markdown",
   "metadata": {},
   "source": [
    "### Python vs Java Round 2: Method overloading and default parameters\n",
    "Let's say you want to have two versions of the greet method. One that just says hello and the other that says hello and meets another person. In Java, you can have methods with the exact same name but with different signatures(different parameters). In Python, you cannot have two different methods as the method defined last will *overwrite* any previous method with that name. \n",
    "\n",
    "Python does allow you to default parameter values of methods in the definition which allows you to use one method which can do different tasks based on how it's called. A common pattern is to default optional parameters to **`None`** and then check for their existence with if/else statements in the method body and choose the course of execution based on that.\n",
    "\n",
    "Below, we will default the **`other`** parameter to None and then choose to run the print statement that greets the other person if that other object indeed exists."
   ]
  },
  {
   "cell_type": "code",
   "execution_count": 37,
   "metadata": {
    "collapsed": true
   },
   "outputs": [],
   "source": [
    "class Person:\n",
    "    \n",
    "    def __init__(self, first_name, last_name, sex):\n",
    "        self.first_name = first_name\n",
    "        self.last_name = last_name\n",
    "        self.sex = sex\n",
    "    \n",
    "    # other is not optional\n",
    "    def greet(self, other=None):\n",
    "        print('Hello, my name is {} {}.'.format(self.first_name, self.last_name))\n",
    "        if other:\n",
    "            print('Nice to meet you {} {}.'.format(other.first_name, other.last_name))"
   ]
  },
  {
   "cell_type": "code",
   "execution_count": 38,
   "metadata": {
    "collapsed": true
   },
   "outputs": [],
   "source": [
    "# create two instances of Person class\n",
    "jane = Person('Jane', 'Smith', 'F')\n",
    "jeff = Person('Jeff', 'Jones', 'M')"
   ]
  },
  {
   "cell_type": "code",
   "execution_count": 39,
   "metadata": {
    "collapsed": false
   },
   "outputs": [
    {
     "name": "stdout",
     "output_type": "stream",
     "text": [
      "Hello, my name is Jane Smith.\n",
      "Nice to meet you Jeff Jones.\n"
     ]
    }
   ],
   "source": [
    "# jane says hello and greets jeff\n",
    "jane.greet(jeff)"
   ]
  },
  {
   "cell_type": "code",
   "execution_count": 40,
   "metadata": {
    "collapsed": false
   },
   "outputs": [
    {
     "name": "stdout",
     "output_type": "stream",
     "text": [
      "Hello, my name is Jane Smith.\n"
     ]
    }
   ],
   "source": [
    "# jane only says hello\n",
    "jane.greet()"
   ]
  },
  {
   "cell_type": "markdown",
   "metadata": {},
   "source": [
    "### Getting help on our `Person` class\n",
    "If you try and get help with the Person class you will only get the default help. You can provide detailed help with **docstrings** which are triple quoted strings directly beneath class and method definitions that give instructions on use."
   ]
  },
  {
   "cell_type": "code",
   "execution_count": 41,
   "metadata": {
    "collapsed": false
   },
   "outputs": [
    {
     "name": "stdout",
     "output_type": "stream",
     "text": [
      "Help on class Person in module __main__:\n",
      "\n",
      "class Person(builtins.object)\n",
      " |  Methods defined here:\n",
      " |  \n",
      " |  __init__(self, first_name, last_name, sex)\n",
      " |      Initialize self.  See help(type(self)) for accurate signature.\n",
      " |  \n",
      " |  greet(self, other=None)\n",
      " |      # other is not optional\n",
      " |  \n",
      " |  ----------------------------------------------------------------------\n",
      " |  Data descriptors defined here:\n",
      " |  \n",
      " |  __dict__\n",
      " |      dictionary for instance variables (if defined)\n",
      " |  \n",
      " |  __weakref__\n",
      " |      list of weak references to the object (if defined)\n",
      "\n"
     ]
    }
   ],
   "source": [
    "help(Person)"
   ]
  },
  {
   "cell_type": "code",
   "execution_count": 42,
   "metadata": {
    "collapsed": true
   },
   "outputs": [],
   "source": [
    "# add docstrings\n",
    "class Person:\n",
    "    '''\n",
    "    A generic person that can say hello and greet others\n",
    "    \n",
    "    Parameters\n",
    "    ----------\n",
    "    first_name : first name of person\n",
    "    last_name : last name of person\n",
    "    sex : sex of person\n",
    "    '''\n",
    "    \n",
    "    def __init__(self, first_name, last_name, sex):\n",
    "        self.first_name = first_name\n",
    "        self.last_name = last_name\n",
    "        self.sex = sex\n",
    "    \n",
    "    # other is not optional\n",
    "    def greet(self, other=None):\n",
    "        '''\n",
    "        Says hello and possibly greets another person\n",
    "        \n",
    "        Parameters\n",
    "        ----------\n",
    "        other : a Person object that will be greeted\n",
    "        '''\n",
    "        print('Hello, my name is {} {}.'.format(self.first_name, self.last_name))\n",
    "        if other:\n",
    "            print('Nice to meet you {} {}.'.format(other.first_name, other.last_name))"
   ]
  },
  {
   "cell_type": "code",
   "execution_count": 43,
   "metadata": {
    "collapsed": false
   },
   "outputs": [
    {
     "name": "stdout",
     "output_type": "stream",
     "text": [
      "Help on class Person in module __main__:\n",
      "\n",
      "class Person(builtins.object)\n",
      " |  A generic person that can say hello and greet others\n",
      " |  \n",
      " |  Parameters\n",
      " |  ----------\n",
      " |  first_name : first name of person\n",
      " |  last_name : last name of person\n",
      " |  sex : sex of person\n",
      " |  \n",
      " |  Methods defined here:\n",
      " |  \n",
      " |  __init__(self, first_name, last_name, sex)\n",
      " |      Initialize self.  See help(type(self)) for accurate signature.\n",
      " |  \n",
      " |  greet(self, other=None)\n",
      " |      Says hello and possibly greets another person\n",
      " |      \n",
      " |      Parameters\n",
      " |      ----------\n",
      " |      other : a Person object that will be greeted\n",
      " |  \n",
      " |  ----------------------------------------------------------------------\n",
      " |  Data descriptors defined here:\n",
      " |  \n",
      " |  __dict__\n",
      " |      dictionary for instance variables (if defined)\n",
      " |  \n",
      " |  __weakref__\n",
      " |      list of weak references to the object (if defined)\n",
      "\n"
     ]
    }
   ],
   "source": [
    "# the docstrings have added \n",
    "help(Person)"
   ]
  },
  {
   "cell_type": "code",
   "execution_count": 44,
   "metadata": {
    "collapsed": false
   },
   "outputs": [
    {
     "name": "stdout",
     "output_type": "stream",
     "text": [
      "Help on function greet in module __main__:\n",
      "\n",
      "greet(self, other=None)\n",
      "    Says hello and possibly greets another person\n",
      "    \n",
      "    Parameters\n",
      "    ----------\n",
      "    other : a Person object that will be greeted\n",
      "\n"
     ]
    }
   ],
   "source": [
    "# get help on a specific method\n",
    "help(Person.greet)"
   ]
  },
  {
   "cell_type": "markdown",
   "metadata": {},
   "source": [
    "### More attributes and methods\n",
    "Our **`Person`** class is quite uninteresting as it is. Let's add attributes **`height`**, **`weight`**, **`age`** and **`address`** and methods **`eat`** and **`set_address`**."
   ]
  },
  {
   "cell_type": "code",
   "execution_count": 45,
   "metadata": {
    "collapsed": true
   },
   "outputs": [],
   "source": [
    "# add more attributes and methods\n",
    "class Person:\n",
    "    '''\n",
    "    A generic person that can greet and eat\n",
    "    \n",
    "    Parameters\n",
    "    ----------\n",
    "    first_name : first name of person\n",
    "    last_name : last name of person\n",
    "    sex : sex of person\n",
    "    height : height in inchces\n",
    "    weight : weight in pounds\n",
    "    age : age in years\n",
    "    address : address of residence, optional\n",
    "    '''    \n",
    "    def __init__(self, first_name, last_name, sex, height, weight, age, address=None):\n",
    "        self.first_name = first_name\n",
    "        self.last_name = last_name\n",
    "        self.sex = sex\n",
    "        self.height = height\n",
    "        self.weight = weight\n",
    "        self.age = age\n",
    "        self.address = address\n",
    "    \n",
    "    # other is not optional\n",
    "    def greet(self, other=None):\n",
    "        '''\n",
    "        Says hello and possibly greets another person\n",
    "        \n",
    "        Parameters\n",
    "        ----------\n",
    "        other : a Person object that will be greeted\n",
    "        '''\n",
    "        print('Hello, my name is {} {}.'.format(self.first_name, self.last_name))\n",
    "        if other:\n",
    "            print('Nice to meet you {} {}.'.format(other.first_name, other.last_name))\n",
    "            \n",
    "    def eat(self, calories):\n",
    "        '''\n",
    "        Changes weight based on a 2000 calorie diet\n",
    "        \n",
    "        Parameters\n",
    "        ----------\n",
    "        calories : daily calories consumed\n",
    "        '''\n",
    "        self.weight += (calories - 2000) / 3500\n",
    "        \n",
    "    def set_address(self, address):\n",
    "        '''\n",
    "        Change the address of person\n",
    "        \n",
    "        Parameters\n",
    "        ----------\n",
    "        address : address of person\n",
    "        '''\n",
    "        self.address = address"
   ]
  },
  {
   "cell_type": "code",
   "execution_count": 46,
   "metadata": {
    "collapsed": true
   },
   "outputs": [],
   "source": [
    "# create new class\n",
    "jane = Person(first_name='Jane', \n",
    "              last_name='Smith', \n",
    "              sex='F', \n",
    "              height=66, \n",
    "              weight=140, \n",
    "              age=41, \n",
    "              address='123 Fake Street')"
   ]
  },
  {
   "cell_type": "code",
   "execution_count": 47,
   "metadata": {
    "collapsed": false
   },
   "outputs": [
    {
     "data": {
      "text/plain": [
       "140"
      ]
     },
     "execution_count": 47,
     "metadata": {},
     "output_type": "execute_result"
    }
   ],
   "source": [
    "jane.weight"
   ]
  },
  {
   "cell_type": "code",
   "execution_count": 48,
   "metadata": {
    "collapsed": false
   },
   "outputs": [
    {
     "data": {
      "text/plain": [
       "140.57142857142858"
      ]
     },
     "execution_count": 48,
     "metadata": {},
     "output_type": "execute_result"
    }
   ],
   "source": [
    "# jane eats lots of calories one day\n",
    "jane.eat(4000)\n",
    "jane.weight"
   ]
  },
  {
   "cell_type": "code",
   "execution_count": 49,
   "metadata": {
    "collapsed": false
   },
   "outputs": [
    {
     "data": {
      "text/plain": [
       "'321 Real Street'"
      ]
     },
     "execution_count": 49,
     "metadata": {},
     "output_type": "execute_result"
    }
   ],
   "source": [
    "# change jane's address\n",
    "jane.set_address('321 Real Street')\n",
    "jane.address"
   ]
  },
  {
   "cell_type": "markdown",
   "metadata": {},
   "source": [
    "### Class Variables vs Instance Variables\n",
    "Thus far, all the variable set in the **`__init__`** are particular to only that instance. Each instance can have different values for first name, last name, etc... None of the instances will have the same values for any of these variables unless they just happen to be the same. All of these variable are called **instance variables**.\n",
    "\n",
    "Occasionally, there will be variables, who's value you would like to be the same for each instance of the class. Instead of assigning these variables during initialization, you can create them during class definition outside of any of the methods. These are called **class variables**.\n",
    "\n",
    "Let's create a class variable **`home_planet`** with value of 'Earth' for all the members of the **`Person`** class."
   ]
  },
  {
   "cell_type": "code",
   "execution_count": 28,
   "metadata": {
    "collapsed": true
   },
   "outputs": [],
   "source": [
    "# save space, less attributes and methods to concentrate on home_planet\n",
    "class Person:\n",
    "    \n",
    "    # class variable\n",
    "    home_planet = 'Earth'\n",
    "    \n",
    "    def __init__(self, first_name, last_name, sex):\n",
    "        self.first_name = first_name\n",
    "        self.last_name = last_name\n",
    "        self.sex = sex\n",
    "    \n",
    "    def greet(self):\n",
    "        print('Hello, my name is {} {} and my home planet is {}.' \n",
    "                ' My original planet is {}.'.format(self.first_name, \n",
    "                                                  self.last_name, \n",
    "                                                  self.home_planet,\n",
    "                                                 Person.home_planet))"
   ]
  },
  {
   "cell_type": "code",
   "execution_count": 29,
   "metadata": {
    "collapsed": true
   },
   "outputs": [],
   "source": [
    "jane = Person('Jane', 'Smith', 'F')"
   ]
  },
  {
   "cell_type": "code",
   "execution_count": 30,
   "metadata": {
    "collapsed": false
   },
   "outputs": [
    {
     "data": {
      "text/plain": [
       "'Earth'"
      ]
     },
     "execution_count": 30,
     "metadata": {},
     "output_type": "execute_result"
    }
   ],
   "source": [
    "jane.home_planet"
   ]
  },
  {
   "cell_type": "code",
   "execution_count": 31,
   "metadata": {
    "collapsed": false
   },
   "outputs": [
    {
     "name": "stdout",
     "output_type": "stream",
     "text": [
      "Hello, my name is Jane Smith and my home planet is Earth. My original planet is Earth.\n"
     ]
    }
   ],
   "source": [
    "jane.greet()"
   ]
  },
  {
   "cell_type": "code",
   "execution_count": 54,
   "metadata": {
    "collapsed": false
   },
   "outputs": [
    {
     "data": {
      "text/plain": [
       "'Earth'"
      ]
     },
     "execution_count": 54,
     "metadata": {},
     "output_type": "execute_result"
    }
   ],
   "source": [
    "# directly retrieve the class variable\n",
    "Person.home_planet"
   ]
  },
  {
   "cell_type": "markdown",
   "metadata": {},
   "source": [
    "###  Technical note on how Python resolves attribute `home_planet`\n",
    "All instances of class **`Person`** will by default have an attribute **`home_planet`** with value 'Earth'. To find the value of **`home_planet`**, Python looks through all the attributes of the instance first and then looks through all the attributes of the class. \n",
    "\n",
    "More concretely, all the instance variables can be found directly using the **`__dict__`** special attribute like **`jane.__dict__`** or identically with the **`vars`** built-in function like **`vars(jane)`**"
   ]
  },
  {
   "cell_type": "code",
   "execution_count": 55,
   "metadata": {
    "collapsed": false
   },
   "outputs": [
    {
     "data": {
      "text/plain": [
       "{'first_name': 'Jane', 'last_name': 'Smith', 'sex': 'F'}"
      ]
     },
     "execution_count": 55,
     "metadata": {},
     "output_type": "execute_result"
    }
   ],
   "source": [
    "jane.__dict__"
   ]
  },
  {
   "cell_type": "code",
   "execution_count": 56,
   "metadata": {
    "collapsed": false
   },
   "outputs": [
    {
     "data": {
      "text/plain": [
       "{'first_name': 'Jane', 'last_name': 'Smith', 'sex': 'F'}"
      ]
     },
     "execution_count": 56,
     "metadata": {},
     "output_type": "execute_result"
    }
   ],
   "source": [
    "vars(jane)"
   ]
  },
  {
   "cell_type": "markdown",
   "metadata": {},
   "source": [
    "### Searching one level up the hierarchy\n",
    "**`home_planet`**, as well as any of the methods are not instance variables and this is the dictionary that Python first checks to resolve a variable.\n",
    "\n",
    "Python will then automatically look at the all the variables and methods in the **class** that created the instance. This dictionary can be similarly found with **`__dict__`** or **`vars`**.\n",
    "\n",
    "If the class is inherited from other classes, this search process continues until the variable is found and if not will return an **`AttributeError`**."
   ]
  },
  {
   "cell_type": "code",
   "execution_count": 32,
   "metadata": {
    "collapsed": false
   },
   "outputs": [
    {
     "data": {
      "text/plain": [
       "mappingproxy({'__dict__': <attribute '__dict__' of 'Person' objects>,\n",
       "              '__doc__': None,\n",
       "              '__init__': <function __main__.Person.__init__>,\n",
       "              '__module__': '__main__',\n",
       "              '__weakref__': <attribute '__weakref__' of 'Person' objects>,\n",
       "              'greet': <function __main__.Person.greet>,\n",
       "              'home_planet': 'Earth'})"
      ]
     },
     "execution_count": 32,
     "metadata": {},
     "output_type": "execute_result"
    }
   ],
   "source": [
    "# Check the Person class for home_planet\n",
    "vars(Person)"
   ]
  },
  {
   "cell_type": "code",
   "execution_count": 33,
   "metadata": {
    "collapsed": false
   },
   "outputs": [
    {
     "data": {
      "text/plain": [
       "'Earth'"
      ]
     },
     "execution_count": 33,
     "metadata": {},
     "output_type": "execute_result"
    }
   ],
   "source": [
    "# home_planet is found!\n",
    "# can retrieve manually like this\n",
    "vars(Person)['home_planet']"
   ]
  },
  {
   "cell_type": "markdown",
   "metadata": {},
   "source": [
    "### Using the same name for an instance variable\n",
    "It's possible to change **`jane`**'s **`home_planet`** while not touching the value of the **`Person`** class's **`home_planet`**."
   ]
  },
  {
   "cell_type": "code",
   "execution_count": 59,
   "metadata": {
    "collapsed": true
   },
   "outputs": [],
   "source": [
    "jane.home_planet = 'Mars'"
   ]
  },
  {
   "cell_type": "code",
   "execution_count": 60,
   "metadata": {
    "collapsed": false
   },
   "outputs": [
    {
     "name": "stdout",
     "output_type": "stream",
     "text": [
      "Hello, my name is Jane Smith and my home planet is Mars. My original planet is Earth.\n"
     ]
    }
   ],
   "source": [
    "Person.greet(jane)"
   ]
  },
  {
   "cell_type": "code",
   "execution_count": 61,
   "metadata": {
    "collapsed": false
   },
   "outputs": [
    {
     "data": {
      "text/plain": [
       "{'first_name': 'Jane', 'home_planet': 'Mars', 'last_name': 'Smith', 'sex': 'F'}"
      ]
     },
     "execution_count": 61,
     "metadata": {},
     "output_type": "execute_result"
    }
   ],
   "source": [
    "# home_planet is now an instance variable\n",
    "vars(jane)"
   ]
  },
  {
   "cell_type": "code",
   "execution_count": 62,
   "metadata": {
    "collapsed": false
   },
   "outputs": [
    {
     "data": {
      "text/plain": [
       "mappingproxy({'__dict__': <attribute '__dict__' of 'Person' objects>,\n",
       "              '__doc__': None,\n",
       "              '__init__': <function __main__.Person.__init__>,\n",
       "              '__module__': '__main__',\n",
       "              '__weakref__': <attribute '__weakref__' of 'Person' objects>,\n",
       "              'greet': <function __main__.Person.greet>,\n",
       "              'home_planet': 'Earth'})"
      ]
     },
     "execution_count": 62,
     "metadata": {},
     "output_type": "execute_result"
    }
   ],
   "source": [
    "# home_planet is still a class variable\n",
    "Person.__dict__"
   ]
  },
  {
   "cell_type": "markdown",
   "metadata": {},
   "source": [
    "Notice how there exist both an instance variable and a class variable and they are both different"
   ]
  },
  {
   "cell_type": "code",
   "execution_count": 63,
   "metadata": {
    "collapsed": false
   },
   "outputs": [
    {
     "data": {
      "text/plain": [
       "('Earth', 'Mars')"
      ]
     },
     "execution_count": 63,
     "metadata": {},
     "output_type": "execute_result"
    }
   ],
   "source": [
    "Person.home_planet, jane.home_planet"
   ]
  },
  {
   "cell_type": "markdown",
   "metadata": {},
   "source": [
    "### Calling methods using the class name (non-standard)\n",
    "As was mentioned, none of the methods are part of the dictionary that is returned from **`vars(jane)`**. So technically, all the methods are class attributes as you can verify by looking at the output from **`vars(Person)`**.\n",
    "\n",
    "This means it is possible to call a method directly using the class name. Since the instance isn't calling the method, you will have to explicitly pass the instance.\n",
    "\n",
    "This is almost never done but is possible."
   ]
  },
  {
   "cell_type": "code",
   "execution_count": 64,
   "metadata": {
    "collapsed": true
   },
   "outputs": [],
   "source": [
    "class Person:\n",
    "    \n",
    "    home_planet = 'Earth'\n",
    "    \n",
    "    def __init__(self, first_name, last_name, sex):\n",
    "        self.first_name = first_name\n",
    "        self.last_name = last_name\n",
    "        self.sex = sex\n",
    "    \n",
    "    def greet(self, other):\n",
    "        print('Hello, my name is {} {} and my home planet is {}.' \n",
    "                ' My original planet is {}.'.format(self.first_name, \n",
    "                                                  self.last_name, \n",
    "                                                  self.home_planet,\n",
    "                                                 Person.home_planet))\n",
    "        print('Nice to meet you {} {} from {}.'.format(other.first_name,\n",
    "                                                        other.last_name,\n",
    "                                                        other.home_planet))"
   ]
  },
  {
   "cell_type": "code",
   "execution_count": 65,
   "metadata": {
    "collapsed": true
   },
   "outputs": [],
   "source": [
    "jane = Person('Jane', 'Smith', 'F')\n",
    "jeff = Person('Jeff', 'Jones', 'M')\n",
    "jane.home_planet = 'Mars'"
   ]
  },
  {
   "cell_type": "code",
   "execution_count": 66,
   "metadata": {
    "collapsed": false
   },
   "outputs": [
    {
     "name": "stdout",
     "output_type": "stream",
     "text": [
      "Hello, my name is Jane Smith and my home planet is Mars. My original planet is Earth.\n",
      "Nice to meet you Jeff Jones from Earth.\n"
     ]
    }
   ],
   "source": [
    "# call the greet method in a non standardard manner\n",
    "Person.greet(jane, jeff)"
   ]
  },
  {
   "cell_type": "markdown",
   "metadata": {},
   "source": [
    "# Special methods\n",
    "Special methods are those that begin and end with double underscores (a.k.a dunder methods). We have already been introduced to the special method **`__init__`** which gets implicitly called during object creation. \n",
    "\n",
    "Special methods are called all the time, we just don't usually see their explicit name when they are invoked. Special methods are usually invoked by a built-in function like **`len`**, **`str`** or **`abs`** or by operators and keywords like **`+`**, **`in`** and **`with`**. \n",
    "\n",
    "### Calling special methods vs normal invocation\n",
    "It is not-standard to use special methods to use their abilities which is why you rarely see them in basic Python. They do however appear frequently in source code to enhance custom classes. They are a built-in part of Python. The [Python data model](https://docs.python.org/3/reference/datamodel.html) provides a framework and foundation for all developers to use and standardizes the language. \n",
    "\n",
    "Special methods are invoked using the dot notation just like calls to any other user-defined method. The Python data model linked above has definitions for each and every special method available (around 100).\n",
    "\n",
    "### Using special methods with integers\n",
    "As usual its easier to understand with examples. Below, both the 'normal' and special way of invoking functionality for integers will be seen.\n",
    "\n",
    "For example, the normal method for adding two integers is simple\n",
    "```\n",
    "x + y\n",
    "```\n",
    "This simple procedure actually calls the special method **`__add__`** to add two number together as such\n",
    "```\n",
    "x.__add__(y)\n",
    "```"
   ]
  },
  {
   "cell_type": "code",
   "execution_count": 1,
   "metadata": {
    "collapsed": false
   },
   "outputs": [],
   "source": [
    "# declare to integers\n",
    "x = 5\n",
    "y = -7"
   ]
  },
  {
   "cell_type": "code",
   "execution_count": 2,
   "metadata": {
    "collapsed": false
   },
   "outputs": [
    {
     "data": {
      "text/plain": [
       "-2"
      ]
     },
     "execution_count": 2,
     "metadata": {},
     "output_type": "execute_result"
    }
   ],
   "source": [
    "# normal method add\n",
    "x + y"
   ]
  },
  {
   "cell_type": "code",
   "execution_count": 3,
   "metadata": {
    "collapsed": false
   },
   "outputs": [
    {
     "data": {
      "text/plain": [
       "-2"
      ]
     },
     "execution_count": 3,
     "metadata": {},
     "output_type": "execute_result"
    }
   ],
   "source": [
    "# special method gets called under the hood\n",
    "x.__add__(y)"
   ]
  },
  {
   "cell_type": "code",
   "execution_count": 4,
   "metadata": {
    "collapsed": false
   },
   "outputs": [
    {
     "data": {
      "text/plain": [
       "(12, 12)"
      ]
     },
     "execution_count": 4,
     "metadata": {},
     "output_type": "execute_result"
    }
   ],
   "source": [
    "# same for subtract\n",
    "x - y, x.__sub__(y)"
   ]
  },
  {
   "cell_type": "code",
   "execution_count": 5,
   "metadata": {
    "collapsed": false
   },
   "outputs": [
    {
     "data": {
      "text/plain": [
       "(-0.7142857142857143, -0.7142857142857143)"
      ]
     },
     "execution_count": 5,
     "metadata": {},
     "output_type": "execute_result"
    }
   ],
   "source": [
    "# div\n",
    "x / y, x.__truediv__(y)"
   ]
  },
  {
   "cell_type": "code",
   "execution_count": 6,
   "metadata": {
    "collapsed": false
   },
   "outputs": [
    {
     "data": {
      "text/plain": [
       "(-1, -1)"
      ]
     },
     "execution_count": 6,
     "metadata": {},
     "output_type": "execute_result"
    }
   ],
   "source": [
    "# integer (floor) division\n",
    "x // y, x.__floordiv__(y)"
   ]
  },
  {
   "cell_type": "code",
   "execution_count": 7,
   "metadata": {
    "collapsed": false
   },
   "outputs": [
    {
     "data": {
      "text/plain": [
       "(5.0, 5.0)"
      ]
     },
     "execution_count": 7,
     "metadata": {},
     "output_type": "execute_result"
    }
   ],
   "source": [
    "# convert to float\n",
    "float(x), x.__float__()"
   ]
  },
  {
   "cell_type": "code",
   "execution_count": 8,
   "metadata": {
    "collapsed": false
   },
   "outputs": [
    {
     "data": {
      "text/plain": [
       "(2, 2)"
      ]
     },
     "execution_count": 8,
     "metadata": {},
     "output_type": "execute_result"
    }
   ],
   "source": [
    "# take the absolute value\n",
    "abs(x+y), (x+y).__abs__()"
   ]
  },
  {
   "cell_type": "code",
   "execution_count": 9,
   "metadata": {
    "collapsed": false
   },
   "outputs": [
    {
     "data": {
      "text/plain": [
       "(-5, -5)"
      ]
     },
     "execution_count": 9,
     "metadata": {},
     "output_type": "execute_result"
    }
   ],
   "source": [
    "# unary negative\n",
    "-x, x.__neg__()"
   ]
  },
  {
   "cell_type": "code",
   "execution_count": 10,
   "metadata": {
    "collapsed": false
   },
   "outputs": [
    {
     "data": {
      "text/plain": [
       "('5', '5')"
      ]
     },
     "execution_count": 10,
     "metadata": {},
     "output_type": "execute_result"
    }
   ],
   "source": [
    "# convert to str\n",
    "str(x), x.__str__()"
   ]
  },
  {
   "cell_type": "code",
   "execution_count": 11,
   "metadata": {
    "collapsed": false
   },
   "outputs": [
    {
     "data": {
      "text/plain": [
       "(True, False)"
      ]
     },
     "execution_count": 11,
     "metadata": {},
     "output_type": "execute_result"
    }
   ],
   "source": [
    "# convert to boolean\n",
    "# any non-zero value is True\n",
    "bool(x), (0).__bool__()"
   ]
  },
  {
   "cell_type": "code",
   "execution_count": 12,
   "metadata": {
    "collapsed": false
   },
   "outputs": [
    {
     "data": {
      "text/plain": [
       "(int, int)"
      ]
     },
     "execution_count": 12,
     "metadata": {},
     "output_type": "execute_result"
    }
   ],
   "source": [
    "type(x), x.__class__"
   ]
  },
  {
   "cell_type": "code",
   "execution_count": 13,
   "metadata": {
    "collapsed": false
   },
   "outputs": [
    {
     "data": {
      "text/plain": [
       "(False, False)"
      ]
     },
     "execution_count": 13,
     "metadata": {},
     "output_type": "execute_result"
    }
   ],
   "source": [
    "# equals\n",
    "x == y, x.__eq__(y)"
   ]
  },
  {
   "cell_type": "code",
   "execution_count": 14,
   "metadata": {
    "collapsed": false
   },
   "outputs": [
    {
     "name": "stdout",
     "output_type": "stream",
     "text": [
      "int(x=0) -> integer\n",
      "int(x, base=10) -> integer\n",
      "\n",
      "Convert a number or string to an integer, or return 0 if no arguments\n",
      "are given.  If x is a number, return x.__int__().  For floating point\n",
      "numbers, this truncates towards zero.\n",
      "\n",
      "If x is not a number or if base is given, then x must be a string,\n",
      "bytes, or bytearray instance representing an integer literal in the\n",
      "given base.  The literal can be preceded by '+' or '-' and be surrounded\n",
      "by whitespace.  The base defaults to 10.  Valid bases are 0 and 2-36.\n",
      "Base 0 means to interpret the base from the string as an integer literal.\n",
      ">>> int('0b100', base=0)\n",
      "4\n"
     ]
    }
   ],
   "source": [
    "# you can even get the doc strings, stored as an attribute\n",
    "# this IS the normal way to get the doc\n",
    "x\n",
    "\n",
    "print(x.__doc__)"
   ]
  },
  {
   "cell_type": "markdown",
   "metadata": {},
   "source": [
    "### Implementing special methods in your own class\n",
    "\n",
    "These special methods can be implemented for any custom class that you create. Check the [special names section](https://docs.python.org/3/reference/datamodel.html#special-method-names) of the Python data model docs to learn how to implement each one of them.\n",
    "\n",
    "A couple of the most popular special methods to implement are **`__str__`** and **`__repr__`**. From the docs, **`__str__`** is the output from functions **`print`**, **`str`** and **`format`** and is the 'informal' string representation of the object.\n",
    "\n",
    "**`__repr__`** on the other hand is the output from the **`repr`** function and represents the 'formal' string representation of the object and if possible should look exactly like code that can reproduce that object.\n",
    "\n",
    "Let's implement both in a simple **`Person`** class."
   ]
  },
  {
   "cell_type": "code",
   "execution_count": 81,
   "metadata": {
    "collapsed": true
   },
   "outputs": [],
   "source": [
    "class Person:\n",
    "    \n",
    "    def __init__(self, first_name, last_name, sex):\n",
    "        self.first_name = first_name\n",
    "        self.last_name = last_name\n",
    "        self.sex = sex\n",
    "        \n",
    "    # formal string representation\n",
    "    # Should be able to copy and paste it as code\n",
    "    def __repr__(self):\n",
    "        return \"Person('{}', '{}', '{}')\".format(self.first_name, self.last_name, self.sex)\n",
    "    \n",
    "    # informal string representation\n",
    "    # returns\n",
    "    def __str__(self):\n",
    "        return \"{} {} is a Person\".format(self.first_name, self.last_name)"
   ]
  },
  {
   "cell_type": "code",
   "execution_count": 82,
   "metadata": {
    "collapsed": false
   },
   "outputs": [
    {
     "data": {
      "text/plain": [
       "\"Person('Jane', 'Smith', 'F')\""
      ]
     },
     "execution_count": 82,
     "metadata": {},
     "output_type": "execute_result"
    }
   ],
   "source": [
    "jane = Person('Jane', 'Smith', 'F')\n",
    "repr(jane)"
   ]
  },
  {
   "cell_type": "code",
   "execution_count": 83,
   "metadata": {
    "collapsed": false
   },
   "outputs": [
    {
     "name": "stdout",
     "output_type": "stream",
     "text": [
      "Jane Smith is a Person\n"
     ]
    }
   ],
   "source": [
    "print(jane)"
   ]
  },
  {
   "cell_type": "code",
   "execution_count": 84,
   "metadata": {
    "collapsed": false
   },
   "outputs": [
    {
     "data": {
      "text/plain": [
       "'Jane Smith is a Person'"
      ]
     },
     "execution_count": 84,
     "metadata": {},
     "output_type": "execute_result"
    }
   ],
   "source": [
    "str(jane)"
   ]
  },
  {
   "cell_type": "code",
   "execution_count": 85,
   "metadata": {
    "collapsed": false
   },
   "outputs": [
    {
     "data": {
      "text/plain": [
       "'Jane Smith is a Person'"
      ]
     },
     "execution_count": 85,
     "metadata": {},
     "output_type": "execute_result"
    }
   ],
   "source": [
    "format(jane)"
   ]
  },
  {
   "cell_type": "markdown",
   "metadata": {},
   "source": [
    "### Object Composition\n",
    "It's possible to instantiate a class while inside another class. For instance, during initialization of the **`Person`** class it is possible to set one of the attributes to a dictionary or a list or a pandas DataFrame or to any custom object. Since everything in Python is an object, we are technically doing this already whenever any attribute is assigned any value. But, in this context, we are mainly referring to instantiating a custom class during class initialization.\n",
    "\n",
    "In essence, one of the instance attributes will be it's own unique object with it's own attributes and methods. The dot notation will have to be used twice to get to the attribute or method of a composed attribute.\n",
    "\n",
    "Let's create a simple example where the address of the **`Person`** will be an entire new custom object and not a string."
   ]
  },
  {
   "cell_type": "code",
   "execution_count": 86,
   "metadata": {
    "collapsed": false
   },
   "outputs": [],
   "source": [
    "class Address:\n",
    "    \n",
    "    def __init__(self, street_number, street_name, city, state, zip_code, apt_no=None):\n",
    "        self.street_number = street_number\n",
    "        self.street_name = street_name\n",
    "        self.city = city\n",
    "        self.state = state\n",
    "        self.zip_code = zip_code\n",
    "        self.apt_no = apt_no\n",
    "        \n",
    "    def is_apt(self):\n",
    "        return self.apt_no is None\n",
    "    \n",
    "# composed class    \n",
    "class Person:\n",
    "    \n",
    "    def __init__(self, first_name, last_name, sex, \n",
    "                 street_number, street_name, city, state, zip_code, apt_no=None):\n",
    "        self.first_name = first_name\n",
    "        self.last_name = last_name\n",
    "        self.sex = sex\n",
    "        \n",
    "        #initialize new Address object\n",
    "        self.address = Address(street_number, street_name, city, state, zip_code, apt_no=None)"
   ]
  },
  {
   "cell_type": "code",
   "execution_count": 87,
   "metadata": {
    "collapsed": true
   },
   "outputs": [],
   "source": [
    "person = Person('Jeff', 'Jones', 'M', '123', 'Fake Street', 'Houston', 'TX', '77001', '3221')"
   ]
  },
  {
   "cell_type": "code",
   "execution_count": 88,
   "metadata": {
    "collapsed": false
   },
   "outputs": [
    {
     "data": {
      "text/plain": [
       "'Houston'"
      ]
     },
     "execution_count": 88,
     "metadata": {},
     "output_type": "execute_result"
    }
   ],
   "source": [
    "# use the dot notation twice to get the city \n",
    "# which is an attribute of the address attribute of person\n",
    "person.address.city"
   ]
  },
  {
   "cell_type": "code",
   "execution_count": 89,
   "metadata": {
    "collapsed": false
   },
   "outputs": [
    {
     "data": {
      "text/plain": [
       "True"
      ]
     },
     "execution_count": 89,
     "metadata": {},
     "output_type": "execute_result"
    }
   ],
   "source": [
    "# call a method on the composed object\n",
    "person.address.is_apt()"
   ]
  },
  {
   "cell_type": "markdown",
   "metadata": {},
   "source": [
    "# Conclusion\n",
    "That was a brief introduction to classes and object oriented programming. Understanding how to write your own classes is essential to gain mastery in Python."
   ]
  },
  {
   "cell_type": "markdown",
   "metadata": {},
   "source": [
    "# Exercises\n",
    "\n",
    "### Problem 1\n",
    "<span style=\"color:green\">Define a list with 5 elements in it. Use only special methods to do the following:\n",
    "1. append an item\n",
    "1. grab the third item\n",
    "1. set the last item to -10\n",
    "1. check whether 8 is in the list</span>"
   ]
  },
  {
   "cell_type": "code",
   "execution_count": 20,
   "metadata": {
    "collapsed": false
   },
   "outputs": [
    {
     "name": "stdout",
     "output_type": "stream",
     "text": [
      "four\n",
      "['a', 8, 3, 'four', 5, -10]\n",
      "True\n"
     ]
    }
   ],
   "source": [
    "p1_list = ['a', 8, 3, 'four', 5]\n",
    "p1_list.__iadd__([42])\n",
    "print(p1_list.__getitem__(3))\n",
    "p1_list.__setitem__(-1, -10)\n",
    "print(p1_list)\n",
    "print(p1_list.__contains__(8))\n"
   ]
  },
  {
   "cell_type": "markdown",
   "metadata": {},
   "source": [
    "### Problem 2: Advanced\n",
    "This problem will take quite a while and some parts of it you might not know how to do. Just do as many of the bullet points as you can and then check your answer.\n",
    "\n",
    "\n",
    "<span style=\"color:green\">  Create a class **`Dice`** that has a class variable **`number_of_dice`** equal to 2. It takes one parameter during initialization, **`faces`** which is a list of all possible die outcomes. Each die will have the same possible outcomes. For instance, **`faces`** can take the value `[1,2,3,4,5,6]` but you can also choose any list with any number of faces and any values for each face.\n",
    "\n",
    "During initialization\n",
    "* create an instance attribute named **`total_rolls`** and assign it to an empty list.\n",
    "\n",
    "* create an instance attribute named **`theoretical_probs`** and assign it to a dictionary where the keys are all possible dice sums and the values are the theoretical probability of occurrence of that sum. Create a method named **`_compute_probs`** to do this\n",
    "\n",
    "* create an instance attribute named **`current_roll`** and assign to **`None`**\n",
    "\n",
    "Define the following methods\n",
    "\n",
    "* **`roll`**: Chooses random faces for each of the dice and appends the sum of the roll to the **`total_rolls`** attribute. Give it a boolean parameter **`to_print`** that is defaulted to False and if True prints out the roll. Assign the instance attribute **`current_roll`** a tuple of the roll.\n",
    "\n",
    "* **`find_max`** : Returns the absolute maximum sum attainable by rolling all the dice\n",
    "\n",
    "* **`find_min`** : Returns the absolute minimum sum attainable by rolling all the dice\n",
    "\n",
    "* **`get_actual_count`** : Returns a dictionary where the key is sum of the dice and the value is number of occurrences that have actually happened\n",
    "\n",
    "* **`get_actual_probs`** : Returns a dictionary where the key is the total and the value is the empirical probability of getting that total based on the current rolls\n",
    "\n",
    "* implement special methods so that the functions **`repr`** and **`print`** work nicely\n",
    "\n",
    "* implement a special method so that the **`in`** operator returns True of False based on whether an integer is contained in the **`all_combinations`** attribute\n",
    "\n",
    "* implement a special method so that the **`len`** function returns the total number of rolls\n",
    "\n",
    "Test your class by instantiating it, rolling it several times and then access all its attributes and call all its methods.\n",
    "\n",
    "</span>"
   ]
  },
  {
   "cell_type": "code",
   "execution_count": 24,
   "metadata": {
    "collapsed": true
   },
   "outputs": [],
   "source": [
    "import random\n",
    "class Dice:\n",
    "    number_of_dice = 2\n",
    "    \n",
    "    def __init__(self, faces):\n",
    "        self.faces = faces\n",
    "        self.total_rolls = []\n",
    "        self.theoretical_probs = self._compute_probs()\n",
    "        self.current_roll = None\n",
    "        \n",
    "    def __repr__(self):\n",
    "        return \"Dice({})\".format(self.faces)\n",
    "    \n",
    "    def __str__(self):\n",
    "        return \"This dice object has {} faces with each face\" \\\n",
    "                \" having possible values {}\".format(self.number_of_dice,self.faces)\n",
    "        \n",
    "    def __contains__(self, item):\n",
    "        return item in self.theoretical_probs\n",
    "        \n",
    "    def __len__(self):\n",
    "        return len(self.total_rolls)\n",
    "    \n",
    "    def _compute_probs(self):\n",
    "        all_combinations = [x + y for x in self.faces for y in self.faces]\n",
    "        num_combs = len(all_combinations)\n",
    "        theoretical_probs = {}\n",
    "        for comb in all_combinations:\n",
    "            if comb in theoretical_probs:\n",
    "                theoretical_probs[comb] += 1 / num_combs\n",
    "            else:\n",
    "                theoretical_probs[comb] = 1 / num_combs\n",
    "        return theoretical_probs\n",
    "    \n",
    "    def roll(self, to_print=False):\n",
    "        self.current_roll = random.choice(self.faces), random.choice(self.faces)\n",
    "        total = sum(self.current_roll)\n",
    "        self.total_rolls.append(total)\n",
    "        if to_print:\n",
    "            # this uses tuple unpacking. can also use self.current_roll[0], self.current_roll[1]\n",
    "            print('You rolled {}, {}'.format(*self.current_roll)) \n",
    "        \n",
    "    def find_max(self):\n",
    "        return max(self.theoretical_probs)\n",
    "    \n",
    "    def find_min(self):\n",
    "        return min(self.theoretical_probs)\n",
    "    \n",
    "    def get_actual_count(self):\n",
    "        actual_count = {}\n",
    "        for roll in self.total_rolls:\n",
    "            if roll in actual_count:\n",
    "                actual_count[roll] += 1\n",
    "            else:\n",
    "                actual_count[roll] = 1\n",
    "        return actual_count\n",
    "    \n",
    "    def get_actual_probs(self):\n",
    "        actual_count = self.get_actual_count()\n",
    "        num_rolls = len(self)\n",
    "        return {total : count / num_rolls for total, count in actual_count.items()}"
   ]
  },
  {
   "cell_type": "markdown",
   "metadata": {},
   "source": [
    "### Problem 3\n",
    "<span style=\"color:green\">Write a function, **`compute_prob_diff`**, that accepts a single parameter **`n`**, the number of rolls and returns a  dictionary that contains the absolute difference between the theoretical and actual probabilities. Output the function for 100, 10,000 and 1,000,000 rolls</span>"
   ]
  },
  {
   "cell_type": "code",
   "execution_count": 25,
   "metadata": {
    "collapsed": true
   },
   "outputs": [],
   "source": [
    "def compute_prob_diff(n):\n",
    "    dice = Dice([3,5,6,7,10,12,17,44])\n",
    "    for i in range(n):\n",
    "        dice.roll()\n",
    "\n",
    "    prob_diff = {}\n",
    "    actual_probs = dice.get_actual_probs()\n",
    "    for total, prob in actual_probs.items():\n",
    "        prob_diff[total] = abs(prob - dice.theoretical_probs[total])\n",
    "        \n",
    "    return prob_diff"
   ]
  },
  {
   "cell_type": "code",
   "execution_count": 34,
   "metadata": {
    "collapsed": false
   },
   "outputs": [
    {
     "data": {
      "text/plain": [
       "{6: 0.004375,\n",
       " 8: 0.01125,\n",
       " 9: 0.021249999999999998,\n",
       " 10: 0.026875,\n",
       " 11: 0.00875,\n",
       " 12: 0.006874999999999999,\n",
       " 13: 0.0175,\n",
       " 14: 0.005625,\n",
       " 15: 0.0325,\n",
       " 16: 0.018750000000000003,\n",
       " 17: 0.007500000000000007,\n",
       " 18: 0.0012500000000000011,\n",
       " 19: 0.0012500000000000011,\n",
       " 20: 0.016875,\n",
       " 22: 0.012499999999999997,\n",
       " 23: 0.021249999999999998,\n",
       " 24: 0.016875,\n",
       " 27: 0.0012500000000000011,\n",
       " 29: 0.021249999999999998,\n",
       " 34: 0.024375,\n",
       " 47: 0.0012500000000000011,\n",
       " 49: 0.028749999999999998,\n",
       " 50: 0.01125,\n",
       " 51: 0.028749999999999998,\n",
       " 54: 0.028749999999999998,\n",
       " 56: 0.028749999999999998,\n",
       " 61: 0.018750000000000003,\n",
       " 88: 0.005625}"
      ]
     },
     "execution_count": 34,
     "metadata": {},
     "output_type": "execute_result"
    }
   ],
   "source": [
    "compute_prob_diff(100)"
   ]
  },
  {
   "cell_type": "code",
   "execution_count": 35,
   "metadata": {
    "collapsed": false
   },
   "outputs": [
    {
     "data": {
      "text/plain": [
       "{6: 0.0008750000000000008,\n",
       " 8: 0.0006499999999999978,\n",
       " 9: 0.0010500000000000023,\n",
       " 10: 0.0009749999999999967,\n",
       " 11: 0.0010499999999999989,\n",
       " 12: 0.0008750000000000008,\n",
       " 13: 0.0022999999999999965,\n",
       " 14: 7.499999999999868e-05,\n",
       " 15: 0.00020000000000000573,\n",
       " 16: 0.0016499999999999987,\n",
       " 17: 0.004400000000000001,\n",
       " 18: 0.002349999999999998,\n",
       " 19: 0.003550000000000001,\n",
       " 20: 0.00037500000000000033,\n",
       " 22: 0.000899999999999998,\n",
       " 23: 0.0002500000000000002,\n",
       " 24: 0.002575000000000001,\n",
       " 27: 0.0005500000000000019,\n",
       " 29: 0.0018499999999999975,\n",
       " 34: 0.0012250000000000004,\n",
       " 47: 0.0006500000000000013,\n",
       " 49: 0.0008500000000000001,\n",
       " 50: 0.0011499999999999982,\n",
       " 51: 0.0002500000000000002,\n",
       " 54: 0.00015000000000000083,\n",
       " 56: 0.000449999999999999,\n",
       " 61: 0.0016499999999999987,\n",
       " 88: 0.0009750000000000002}"
      ]
     },
     "execution_count": 35,
     "metadata": {},
     "output_type": "execute_result"
    }
   ],
   "source": [
    "compute_prob_diff(10000)"
   ]
  },
  {
   "cell_type": "code",
   "execution_count": 36,
   "metadata": {
    "collapsed": false
   },
   "outputs": [
    {
     "data": {
      "text/plain": [
       "{6: 0.0001920000000000012,\n",
       " 8: 3.799999999999984e-05,\n",
       " 9: 0.0003039999999999987,\n",
       " 10: 0.00030100000000000265,\n",
       " 11: 0.0001229999999999981,\n",
       " 12: 2.8000000000000247e-05,\n",
       " 13: 0.00013799999999999923,\n",
       " 14: 2.6999999999999247e-05,\n",
       " 15: 0.00026299999999999935,\n",
       " 16: 0.0004400000000000029,\n",
       " 17: 0.00014100000000000223,\n",
       " 18: 0.00011999999999999858,\n",
       " 19: 0.00046900000000000067,\n",
       " 20: 8.000000000001062e-06,\n",
       " 22: 0.00020599999999999785,\n",
       " 23: 0.00016900000000000248,\n",
       " 24: 0.00013900000000000023,\n",
       " 27: 2.2999999999998716e-05,\n",
       " 29: 0.0001810000000000006,\n",
       " 34: 0.00029699999999999865,\n",
       " 47: 0.00017500000000000154,\n",
       " 49: 0.0002260000000000005,\n",
       " 50: 7.999999999999674e-05,\n",
       " 51: 0.00015799999999999842,\n",
       " 54: 2.6999999999999247e-05,\n",
       " 56: 0.00017299999999999954,\n",
       " 61: 8.999999999998592e-06,\n",
       " 88: 1.1000000000000593e-05}"
      ]
     },
     "execution_count": 36,
     "metadata": {},
     "output_type": "execute_result"
    }
   ],
   "source": [
    "compute_prob_diff(1000000)"
   ]
  },
  {
   "cell_type": "markdown",
   "metadata": {},
   "source": [
    "### Problem 4\n",
    "<span style=\"color:green\">Continue with the last **`Person`** class from above and create another attribute **`employer`** that is composed of an **`Employer`** class. Define the **`Employer`** class how you see fit.</span> "
   ]
  },
  {
   "cell_type": "code",
   "execution_count": 26,
   "metadata": {
    "collapsed": true
   },
   "outputs": [],
   "source": [
    "class Employer:\n",
    "    \n",
    "    def __init__(self, name, ticker_symbol, total_employees, CEO):\n",
    "        self.name = name\n",
    "        self.ticker_symbol = ticker_symbol\n",
    "        self.total_employees = total_employees\n",
    "        self.CEO = CEO\n",
    "        \n",
    "        \n",
    "class Address:\n",
    "    \n",
    "    def __init__(self, street_number, street_name, city, state, zip_code, apt_no=None):\n",
    "        self.street_number = street_number\n",
    "        self.street_name = street_name\n",
    "        self.city = city\n",
    "        self.state = state\n",
    "        self.zip_code = zip_code\n",
    "        self.apt_no = apt_no\n",
    "        \n",
    "    def is_apt(self):\n",
    "        return self.apt_no is None\n",
    "    \n",
    "# composed class    \n",
    "class Person:\n",
    "    \n",
    "    def __init__(self, first_name, last_name, sex, \n",
    "                 street_number, street_name, city, state, zip_code, apt_no=None,\n",
    "                 name=None, ticker_symbol=None, total_employees=None, CEO=None):\n",
    "        self.first_name = first_name\n",
    "        self.last_name = last_name\n",
    "        self.sex = sex\n",
    "        \n",
    "        #initialize new Address object\n",
    "        self.address = Address(street_number, street_name, city, state, zip_code, apt_no=None)\n",
    "        \n",
    "        self.employer = Employer(name, ticker_symbol, total_employees, CEO)"
   ]
  },
  {
   "cell_type": "markdown",
   "metadata": {},
   "source": [
    "### Problem 5\n",
    "<span style=\"color:green\">You will create a simplified game of craps using a single Python class. The basic game of craps is as follows:</span> \n",
    "\n",
    "1. There are two stages to the game. \n",
    "1. You make a wager\n",
    "1. If you roll a 2, 3 or 12 you lose and the game ends. If you roll a 7 or 11 you win and the game ends.\n",
    "1. If you roll anything else (4,5,6,8,9,10) then the game continues to the second stage\n",
    "1. You continue rolling until you roll your original number from the first stage or a 7.\n",
    "1. If you roll your original number you win and the game ends. If your roll a 7 you lose and the game ends.\n",
    "\n",
    "<span style=\"color:green\">Write a **`Craps`** class that has attributes for player name, and starting money. Create a method **`play`** that accepts a parameter **`wager`** and plays one complete game of craps (until the wager is won or lost). Print out each roll as it happens and update the starting money at game completion. Do not put all your code in the **`play`** method. Think about using object composition with the **`Dice`** class from above.</span>\n",
    "\n",
    "<span style=\"color:green\">Break up logical pieces of code into their own methods. A broad general rule (not meant to be strictly followed) is to keep methods under 10 lines of code. The solution has 5 methods that each run a very specific piece of logic. You have lots of flexibility to design your class however you want.</span>\n",
    "\n",
    "<span style=\"color:green\">Once you create your Craps class, instantiate it and play it until you double up or go broke.</span>"
   ]
  },
  {
   "cell_type": "code",
   "execution_count": 27,
   "metadata": {
    "collapsed": true
   },
   "outputs": [],
   "source": [
    "class Craps:\n",
    "    \n",
    "    def __init__(self, name, total_money):\n",
    "        self.name = name\n",
    "        self.total_money = total_money\n",
    "        self.dice = Dice([1,2,3,4,5,6])\n",
    "        \n",
    "    def play(self, wager):\n",
    "        self.wager = wager\n",
    "        print('***** Begining Craps: Stage 1 *****')\n",
    "        print('{} wagers {} - starting with {}\\n'.format(self.name, self.wager, self.total_money))\n",
    "    \n",
    "        # check if first roll is 2,3,7,11,12\n",
    "        if self.check_first_stage():\n",
    "            while self.check_second_stage():\n",
    "                pass                    \n",
    "        \n",
    "    def check_first_stage(self):\n",
    "        # roll dice\n",
    "        self.orig_total = self.roll_dice()\n",
    "        \n",
    "        if self.orig_total in [2, 3, 12]:\n",
    "            self.make_outcome('Lose', -1)\n",
    "        elif self.orig_total in [7, 11]:\n",
    "            self.make_outcome('Win')\n",
    "        else:\n",
    "            print('\\n****** Entering stage 2 ******')\n",
    "            print('Continue rolling until you roll a 7 or a {}\\n'.format(self.orig_total))\n",
    "            return True\n",
    "        return False\n",
    "    \n",
    "    def check_second_stage(self):\n",
    "        total = self.roll_dice()\n",
    "        if total == 7:\n",
    "            self.make_outcome('Lose', -1)\n",
    "        elif total == self.orig_total:\n",
    "            self.make_outcome('Win')\n",
    "        else:\n",
    "            return True\n",
    "        return False\n",
    "    \n",
    "    def roll_dice(self):\n",
    "        self.dice.roll()\n",
    "        total = sum(self.dice.current_roll)\n",
    "        print('You rolled a {} and a {} for a total of {}\\n'.format(*self.dice.current_roll, \n",
    "                                                                    total))\n",
    "        return total\n",
    "    \n",
    "    def make_outcome(self, outcome, is_win=1):\n",
    "        self.total_money += self.wager * is_win\n",
    "        print('You {} - You have {} left'.format(outcome, self.total_money))"
   ]
  },
  {
   "cell_type": "code",
   "execution_count": 28,
   "metadata": {
    "collapsed": false
   },
   "outputs": [],
   "source": [
    "craps = Craps('Jonathan', 1000)"
   ]
  },
  {
   "cell_type": "code",
   "execution_count": 29,
   "metadata": {
    "collapsed": false
   },
   "outputs": [
    {
     "name": "stdout",
     "output_type": "stream",
     "text": [
      "***** Begining Craps: Stage 1 *****\n",
      "Jonathan wagers 10 - starting with 1000\n",
      "\n",
      "You rolled a 2 and a 1 for a total of 3\n",
      "\n",
      "You Lose - You have 990 left\n"
     ]
    }
   ],
   "source": [
    "craps.play(10)\n"
   ]
  },
  {
   "cell_type": "code",
   "execution_count": 30,
   "metadata": {
    "collapsed": false
   },
   "outputs": [
    {
     "name": "stdout",
     "output_type": "stream",
     "text": [
      "***** Begining Craps: Stage 1 *****\n",
      "Jonathan wagers 50 - starting with 990\n",
      "\n",
      "You rolled a 4 and a 5 for a total of 9\n",
      "\n",
      "\n",
      "****** Entering stage 2 ******\n",
      "Continue rolling until you roll a 7 or a 9\n",
      "\n",
      "You rolled a 5 and a 1 for a total of 6\n",
      "\n",
      "You rolled a 4 and a 2 for a total of 6\n",
      "\n",
      "You rolled a 6 and a 5 for a total of 11\n",
      "\n",
      "You rolled a 6 and a 2 for a total of 8\n",
      "\n",
      "You rolled a 6 and a 4 for a total of 10\n",
      "\n",
      "You rolled a 4 and a 1 for a total of 5\n",
      "\n",
      "You rolled a 4 and a 3 for a total of 7\n",
      "\n",
      "You Lose - You have 940 left\n"
     ]
    }
   ],
   "source": [
    "craps.play(50)"
   ]
  },
  {
   "cell_type": "code",
   "execution_count": 31,
   "metadata": {
    "collapsed": false
   },
   "outputs": [
    {
     "name": "stdout",
     "output_type": "stream",
     "text": [
      "***** Begining Craps: Stage 1 *****\n",
      "Jonathan wagers 20 - starting with 940\n",
      "\n",
      "You rolled a 2 and a 6 for a total of 8\n",
      "\n",
      "\n",
      "****** Entering stage 2 ******\n",
      "Continue rolling until you roll a 7 or a 8\n",
      "\n",
      "You rolled a 2 and a 4 for a total of 6\n",
      "\n",
      "You rolled a 6 and a 1 for a total of 7\n",
      "\n",
      "You Lose - You have 920 left\n"
     ]
    }
   ],
   "source": [
    "craps.play(20)"
   ]
  },
  {
   "cell_type": "code",
   "execution_count": 32,
   "metadata": {
    "collapsed": false
   },
   "outputs": [
    {
     "name": "stdout",
     "output_type": "stream",
     "text": [
      "***** Begining Craps: Stage 1 *****\n",
      "Jonathan wagers 900 - starting with 920\n",
      "\n",
      "You rolled a 1 and a 5 for a total of 6\n",
      "\n",
      "\n",
      "****** Entering stage 2 ******\n",
      "Continue rolling until you roll a 7 or a 6\n",
      "\n",
      "You rolled a 4 and a 1 for a total of 5\n",
      "\n",
      "You rolled a 1 and a 4 for a total of 5\n",
      "\n",
      "You rolled a 5 and a 4 for a total of 9\n",
      "\n",
      "You rolled a 1 and a 1 for a total of 2\n",
      "\n",
      "You rolled a 1 and a 2 for a total of 3\n",
      "\n",
      "You rolled a 2 and a 6 for a total of 8\n",
      "\n",
      "You rolled a 6 and a 4 for a total of 10\n",
      "\n",
      "You rolled a 3 and a 1 for a total of 4\n",
      "\n",
      "You rolled a 6 and a 1 for a total of 7\n",
      "\n",
      "You Lose - You have 20 left\n"
     ]
    }
   ],
   "source": [
    "craps.play(900)"
   ]
  },
  {
   "cell_type": "code",
   "execution_count": 33,
   "metadata": {
    "collapsed": false
   },
   "outputs": [
    {
     "name": "stdout",
     "output_type": "stream",
     "text": [
      "***** Begining Craps: Stage 1 *****\n",
      "Jonathan wagers 20 - starting with 20\n",
      "\n",
      "You rolled a 1 and a 5 for a total of 6\n",
      "\n",
      "\n",
      "****** Entering stage 2 ******\n",
      "Continue rolling until you roll a 7 or a 6\n",
      "\n",
      "You rolled a 3 and a 5 for a total of 8\n",
      "\n",
      "You rolled a 1 and a 6 for a total of 7\n",
      "\n",
      "You Lose - You have 0 left\n"
     ]
    }
   ],
   "source": [
    "craps.play(20)"
   ]
  },
  {
   "cell_type": "code",
   "execution_count": null,
   "metadata": {
    "collapsed": true
   },
   "outputs": [],
   "source": []
  }
 ],
 "metadata": {
  "kernelspec": {
   "display_name": "Python 3",
   "language": "python",
   "name": "python3"
  },
  "language_info": {
   "codemirror_mode": {
    "name": "ipython",
    "version": 3
   },
   "file_extension": ".py",
   "mimetype": "text/x-python",
   "name": "python",
   "nbconvert_exporter": "python",
   "pygments_lexer": "ipython3",
   "version": "3.6.0"
  }
 },
 "nbformat": 4,
 "nbformat_minor": 2
}
