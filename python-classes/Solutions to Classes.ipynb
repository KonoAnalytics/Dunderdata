{
 "cells": [
  {
   "cell_type": "markdown",
   "metadata": {},
   "source": [
    "# Solutions to Introduction to Classes Notebook"
   ]
  },
  {
   "cell_type": "markdown",
   "metadata": {},
   "source": [
    "### Problem 1\n",
    "<span style=\"color:green\">Define a list with 5 elements in it. Use only special methods to do the following:\n",
    "1. append an item\n",
    "1. grab the third item\n",
    "1. set the last item to -10\n",
    "1. check whether 8 is in the list</span>"
   ]
  },
  {
   "cell_type": "code",
   "execution_count": 31,
   "metadata": {
    "collapsed": false
   },
   "outputs": [
    {
     "name": "stdout",
     "output_type": "stream",
     "text": [
      "[1, 2, 3, 4, 5, 10]\n",
      "4\n",
      "[1, 2, 3, 4, 5, -10]\n",
      "False\n"
     ]
    }
   ],
   "source": [
    "# your code here\n",
    "a = [1, 2, 3, 4, 5]\n",
    "\n",
    "# append an item\n",
    "a.__iadd__([10])\n",
    "print(a)\n",
    "\n",
    "# grab the third item\n",
    "print(a.__getitem__(3))\n",
    "\n",
    "# set the last item to -10\n",
    "a.__setitem__(-1, -10)\n",
    "print(a)\n",
    "\n",
    "print(a.__contains__(8))"
   ]
  },
  {
   "cell_type": "markdown",
   "metadata": {
    "collapsed": true
   },
   "source": [
    "### Problem 2: Advanced\n",
    "This problem will take quite a while and some parts you might not know how to do. That's OK. Just do as many of the bullet points as you can and then check your answer.\n",
    "\n",
    "\n",
    "<span style=\"color:green\">  Create a class **`Dice`** that has a class variable **`number_of_dice`** equal to 2. It takes one parameter during initialization, **`faces`** which is a list of all possible die outcomes. Each die will have the same possible outcomes. For instance, **`faces`** can take the value `[1,2,3,4,5,6]` but you can also choose any list with any number of faces and any values for each face.\n",
    "\n",
    "During initialization\n",
    "* create an instance attribute named **`total_rolls`** and assign it to an empty list.\n",
    "\n",
    "* create an instance attribute named **`theoretical_probs`** and assign it to a dictionary where the keys are all possible dice sums and the values are the theoretical probability of occurrence of that sum. Create a method named **`_compute_probs`** to do this\n",
    "\n",
    "* create an instance attribute named **`current_roll`** and assign to **`None`**\n",
    "\n",
    "Define the following methods\n",
    "\n",
    "* **`roll`**: Chooses random faces for each of the dice and appends the sum of the roll to the **`total_rolls`** attribute. Give it a boolean parameter **`to_print`** that is defaulted to False and if True prints out the roll. Assign the instance attribute **`current_roll`** a tuple of the roll.\n",
    "\n",
    "* **`find_max`** : Returns the absolute maximum sum attainable by rolling all the dice\n",
    "\n",
    "* **`find_min`** : Returns the absolute minimum sum attainable by rolling all the dice\n",
    "\n",
    "* **`get_actual_count`** : Returns a dictionary where the key is sum of the dice and the value is number of occurrences that have actually happened\n",
    "\n",
    "* **`get_actual_probs`** : Returns a dictionary where the key is the total and the value is the empirical probability of getting that total based on the current rolls\n",
    "\n",
    "* implement special methods so that the functions **`repr`** and **`print`** work nicely\n",
    "\n",
    "* implement a special method so that the **`in`** operator returns True of False based on whether an integer is contained in the **`all_combinations`** attribute\n",
    "\n",
    "* implement a special method so that the **`len`** function returns the total number of rolls\n",
    "\n",
    "Test your class by instantiating it, rolling it several times and then access all its attributes and call all its methods.\n",
    "\n",
    "</span>"
   ]
  },
  {
   "cell_type": "code",
   "execution_count": 5,
   "metadata": {
    "collapsed": false
   },
   "outputs": [],
   "source": [
    "import random\n",
    "class Dice:\n",
    "    number_of_dice = 2\n",
    "    \n",
    "    def __init__(self, faces):\n",
    "        self.faces = faces\n",
    "        self.total_rolls = []\n",
    "        self.theoretical_probs = self._compute_probs()\n",
    "        self.current_roll = None\n",
    "        \n",
    "    def __repr__(self):\n",
    "        return \"Dice({})\".format(self.faces)\n",
    "    \n",
    "    def __str__(self):\n",
    "        return \"This dice object has {} faces with each face\" \\\n",
    "                \" having possible values {}\".format(self.number_of_dice,self.faces)\n",
    "        \n",
    "    def __contains__(self, item):\n",
    "        return item in self.theoretical_probs\n",
    "        \n",
    "    def __len__(self):\n",
    "        return len(self.total_rolls)\n",
    "    \n",
    "    def _compute_probs(self):\n",
    "        all_combinations = [x + y for x in self.faces for y in self.faces]\n",
    "        num_combs = len(all_combinations)\n",
    "        theoretical_probs = {}\n",
    "        for comb in all_combinations:\n",
    "            if comb in theoretical_probs:\n",
    "                theoretical_probs[comb] += 1 / num_combs\n",
    "            else:\n",
    "                theoretical_probs[comb] = 1 / num_combs\n",
    "        return theoretical_probs\n",
    "    \n",
    "    def roll(self, to_print=False):\n",
    "        self.current_roll = random.choice(self.faces), random.choice(self.faces)\n",
    "        total = sum(self.current_roll)\n",
    "        self.total_rolls.append(total)\n",
    "        if to_print:\n",
    "            # this uses tuple unpacking. can also use self.current_roll[0], self.current_roll[1]\n",
    "            print('You rolled {}, {}'.format(*self.current_roll)) \n",
    "        \n",
    "    def find_max(self):\n",
    "        return max(self.theoretical_probs)\n",
    "    \n",
    "    def find_min(self):\n",
    "        return min(self.theoretical_probs)\n",
    "    \n",
    "    def get_actual_count(self):\n",
    "        actual_count = {}\n",
    "        for roll in self.total_rolls:\n",
    "            if roll in actual_count:\n",
    "                actual_count[roll] += 1\n",
    "            else:\n",
    "                actual_count[roll] = 1\n",
    "        return actual_count\n",
    "    \n",
    "    def get_actual_probs(self):\n",
    "        actual_count = self.get_actual_count()\n",
    "        num_rolls = len(self)\n",
    "        return {total : count / num_rolls for total, count in actual_count.items()}"
   ]
  },
  {
   "cell_type": "code",
   "execution_count": 6,
   "metadata": {
    "collapsed": true
   },
   "outputs": [],
   "source": [
    "dice = Dice([3,5,6,7,10,12,17,44])"
   ]
  },
  {
   "cell_type": "code",
   "execution_count": 7,
   "metadata": {
    "collapsed": false
   },
   "outputs": [
    {
     "name": "stdout",
     "output_type": "stream",
     "text": [
      "You rolled 5, 6\n",
      "You rolled 3, 12\n",
      "You rolled 10, 44\n",
      "You rolled 5, 5\n",
      "You rolled 3, 10\n",
      "You rolled 10, 12\n",
      "You rolled 7, 44\n",
      "You rolled 3, 7\n",
      "You rolled 12, 5\n",
      "You rolled 10, 12\n",
      "You rolled 17, 12\n",
      "You rolled 7, 7\n",
      "You rolled 6, 17\n",
      "You rolled 44, 3\n",
      "You rolled 6, 12\n",
      "You rolled 7, 7\n",
      "You rolled 6, 10\n",
      "You rolled 12, 6\n",
      "You rolled 44, 3\n",
      "You rolled 10, 3\n"
     ]
    }
   ],
   "source": [
    "for i in range(20):\n",
    "    dice.roll(True)"
   ]
  },
  {
   "cell_type": "code",
   "execution_count": 8,
   "metadata": {
    "collapsed": false
   },
   "outputs": [
    {
     "data": {
      "text/plain": [
       "(10, 3)"
      ]
     },
     "execution_count": 8,
     "metadata": {},
     "output_type": "execute_result"
    }
   ],
   "source": [
    "dice.current_roll"
   ]
  },
  {
   "cell_type": "code",
   "execution_count": 9,
   "metadata": {
    "collapsed": false
   },
   "outputs": [
    {
     "data": {
      "text/plain": [
       "[3, 5, 6, 7, 10, 12, 17, 44]"
      ]
     },
     "execution_count": 9,
     "metadata": {},
     "output_type": "execute_result"
    }
   ],
   "source": [
    "dice.faces"
   ]
  },
  {
   "cell_type": "code",
   "execution_count": 10,
   "metadata": {
    "collapsed": false
   },
   "outputs": [
    {
     "data": {
      "text/plain": [
       "[11,\n",
       " 15,\n",
       " 54,\n",
       " 10,\n",
       " 13,\n",
       " 22,\n",
       " 51,\n",
       " 10,\n",
       " 17,\n",
       " 22,\n",
       " 29,\n",
       " 14,\n",
       " 23,\n",
       " 47,\n",
       " 18,\n",
       " 14,\n",
       " 16,\n",
       " 18,\n",
       " 47,\n",
       " 13]"
      ]
     },
     "execution_count": 10,
     "metadata": {},
     "output_type": "execute_result"
    }
   ],
   "source": [
    "dice.total_rolls"
   ]
  },
  {
   "cell_type": "code",
   "execution_count": 11,
   "metadata": {
    "collapsed": false
   },
   "outputs": [
    {
     "data": {
      "text/plain": [
       "{6: 0.015625,\n",
       " 8: 0.03125,\n",
       " 9: 0.03125,\n",
       " 10: 0.046875,\n",
       " 11: 0.03125,\n",
       " 12: 0.046875,\n",
       " 13: 0.0625,\n",
       " 14: 0.015625,\n",
       " 15: 0.0625,\n",
       " 16: 0.03125,\n",
       " 17: 0.0625,\n",
       " 18: 0.03125,\n",
       " 19: 0.03125,\n",
       " 20: 0.046875,\n",
       " 22: 0.0625,\n",
       " 23: 0.03125,\n",
       " 24: 0.046875,\n",
       " 27: 0.03125,\n",
       " 29: 0.03125,\n",
       " 34: 0.015625,\n",
       " 47: 0.03125,\n",
       " 49: 0.03125,\n",
       " 50: 0.03125,\n",
       " 51: 0.03125,\n",
       " 54: 0.03125,\n",
       " 56: 0.03125,\n",
       " 61: 0.03125,\n",
       " 88: 0.015625}"
      ]
     },
     "execution_count": 11,
     "metadata": {},
     "output_type": "execute_result"
    }
   ],
   "source": [
    "dice.theoretical_probs"
   ]
  },
  {
   "cell_type": "code",
   "execution_count": 12,
   "metadata": {
    "collapsed": false
   },
   "outputs": [
    {
     "data": {
      "text/plain": [
       "'Dice([3, 5, 6, 7, 10, 12, 17, 44])'"
      ]
     },
     "execution_count": 12,
     "metadata": {},
     "output_type": "execute_result"
    }
   ],
   "source": [
    "repr(dice)"
   ]
  },
  {
   "cell_type": "code",
   "execution_count": 13,
   "metadata": {
    "collapsed": false
   },
   "outputs": [
    {
     "name": "stdout",
     "output_type": "stream",
     "text": [
      "This dice object has 2 faces with each face having possible values [3, 5, 6, 7, 10, 12, 17, 44]\n"
     ]
    }
   ],
   "source": [
    "print(dice)"
   ]
  },
  {
   "cell_type": "code",
   "execution_count": 14,
   "metadata": {
    "collapsed": false
   },
   "outputs": [
    {
     "data": {
      "text/plain": [
       "(False, True)"
      ]
     },
     "execution_count": 14,
     "metadata": {},
     "output_type": "execute_result"
    }
   ],
   "source": [
    "40 in dice, 88 in dice"
   ]
  },
  {
   "cell_type": "code",
   "execution_count": 15,
   "metadata": {
    "collapsed": false
   },
   "outputs": [
    {
     "data": {
      "text/plain": [
       "20"
      ]
     },
     "execution_count": 15,
     "metadata": {},
     "output_type": "execute_result"
    }
   ],
   "source": [
    "len(dice)"
   ]
  },
  {
   "cell_type": "code",
   "execution_count": 16,
   "metadata": {
    "collapsed": false
   },
   "outputs": [
    {
     "data": {
      "text/plain": [
       "88"
      ]
     },
     "execution_count": 16,
     "metadata": {},
     "output_type": "execute_result"
    }
   ],
   "source": [
    "dice.find_max()"
   ]
  },
  {
   "cell_type": "code",
   "execution_count": 17,
   "metadata": {
    "collapsed": false
   },
   "outputs": [
    {
     "data": {
      "text/plain": [
       "6"
      ]
     },
     "execution_count": 17,
     "metadata": {},
     "output_type": "execute_result"
    }
   ],
   "source": [
    "dice.find_min()"
   ]
  },
  {
   "cell_type": "code",
   "execution_count": 18,
   "metadata": {
    "collapsed": false
   },
   "outputs": [
    {
     "data": {
      "text/plain": [
       "{10: 2,\n",
       " 11: 1,\n",
       " 13: 2,\n",
       " 14: 2,\n",
       " 15: 1,\n",
       " 16: 1,\n",
       " 17: 1,\n",
       " 18: 2,\n",
       " 22: 2,\n",
       " 23: 1,\n",
       " 29: 1,\n",
       " 47: 2,\n",
       " 51: 1,\n",
       " 54: 1}"
      ]
     },
     "execution_count": 18,
     "metadata": {},
     "output_type": "execute_result"
    }
   ],
   "source": [
    "dice.get_actual_count()"
   ]
  },
  {
   "cell_type": "code",
   "execution_count": 19,
   "metadata": {
    "collapsed": false
   },
   "outputs": [
    {
     "data": {
      "text/plain": [
       "{10: 0.1,\n",
       " 11: 0.05,\n",
       " 13: 0.1,\n",
       " 14: 0.1,\n",
       " 15: 0.05,\n",
       " 16: 0.05,\n",
       " 17: 0.05,\n",
       " 18: 0.1,\n",
       " 22: 0.1,\n",
       " 23: 0.05,\n",
       " 29: 0.05,\n",
       " 47: 0.1,\n",
       " 51: 0.05,\n",
       " 54: 0.05}"
      ]
     },
     "execution_count": 19,
     "metadata": {},
     "output_type": "execute_result"
    }
   ],
   "source": [
    "dice.get_actual_probs()"
   ]
  },
  {
   "cell_type": "markdown",
   "metadata": {},
   "source": [
    "### Problem 3\n",
    "<span style=\"color:green\">Write a function, **`compute_prob_diff`**, that accepts a single parameter **`n`**, the number of rolls and returns a  dictionary that contains the absolute difference between the theoretical and actual probabilities. Output the function for 100, 10,000 and 1,000,000 rolls</span>"
   ]
  },
  {
   "cell_type": "code",
   "execution_count": 183,
   "metadata": {
    "collapsed": false
   },
   "outputs": [],
   "source": [
    "def compute_prob_diff(n):\n",
    "    dice = Dice([3,5,6,7,10,12,17,44])\n",
    "    for i in range(n):\n",
    "        dice.roll()\n",
    "\n",
    "    prob_diff = {}\n",
    "    actual_probs = dice.get_actual_probs()\n",
    "    for total, prob in actual_probs.items():\n",
    "        prob_diff[total] = abs(prob - dice.theoretical_probs[total])\n",
    "        \n",
    "    return prob_diff"
   ]
  },
  {
   "cell_type": "code",
   "execution_count": 184,
   "metadata": {
    "collapsed": false
   },
   "outputs": [
    {
     "data": {
      "text/plain": [
       "{6: 0.024375,\n",
       " 8: 0.0012500000000000011,\n",
       " 9: 0.021249999999999998,\n",
       " 10: 0.016875,\n",
       " 11: 0.028749999999999998,\n",
       " 12: 0.006874999999999999,\n",
       " 13: 0.0175,\n",
       " 15: 0.012499999999999997,\n",
       " 16: 0.0012500000000000011,\n",
       " 17: 0.012499999999999997,\n",
       " 18: 0.0012500000000000011,\n",
       " 19: 0.01125,\n",
       " 20: 0.013124999999999998,\n",
       " 22: 0.0225,\n",
       " 23: 0.028749999999999998,\n",
       " 24: 0.033125,\n",
       " 27: 0.01125,\n",
       " 29: 0.0012500000000000011,\n",
       " 47: 0.0012500000000000011,\n",
       " 49: 0.01125,\n",
       " 50: 0.00875,\n",
       " 51: 0.0012500000000000011,\n",
       " 54: 0.018750000000000003,\n",
       " 56: 0.01125,\n",
       " 61: 0.0012500000000000011,\n",
       " 88: 0.004375}"
      ]
     },
     "execution_count": 184,
     "metadata": {},
     "output_type": "execute_result"
    }
   ],
   "source": [
    "compute_prob_diff(100)"
   ]
  },
  {
   "cell_type": "code",
   "execution_count": 185,
   "metadata": {
    "collapsed": false
   },
   "outputs": [
    {
     "data": {
      "text/plain": [
       "{6: 0.0017250000000000008,\n",
       " 8: 0.0032499999999999994,\n",
       " 9: 0.002050000000000003,\n",
       " 10: 0.001125000000000001,\n",
       " 11: 0.0010499999999999989,\n",
       " 12: 0.0031749999999999973,\n",
       " 13: 0.0017000000000000001,\n",
       " 14: 0.0002249999999999995,\n",
       " 15: 0.0010000000000000009,\n",
       " 16: 0.0015500000000000028,\n",
       " 17: 0.001899999999999999,\n",
       " 18: 0.0003500000000000031,\n",
       " 19: 0.0007500000000000007,\n",
       " 20: 0.0014749999999999971,\n",
       " 22: 0.0013999999999999985,\n",
       " 23: 0.0011499999999999982,\n",
       " 24: 0.0005249999999999977,\n",
       " 27: 0.002450000000000001,\n",
       " 29: 0.0029500000000000012,\n",
       " 34: 0.0014750000000000006,\n",
       " 47: 0.00145,\n",
       " 49: 0.0008499999999999966,\n",
       " 50: 0.003349999999999999,\n",
       " 51: 0.0026499999999999996,\n",
       " 54: 0.0002500000000000002,\n",
       " 56: 0.0016499999999999987,\n",
       " 61: 0.0020499999999999997,\n",
       " 88: 0.001575}"
      ]
     },
     "execution_count": 185,
     "metadata": {},
     "output_type": "execute_result"
    }
   ],
   "source": [
    "compute_prob_diff(10000)"
   ]
  },
  {
   "cell_type": "code",
   "execution_count": 186,
   "metadata": {
    "collapsed": false
   },
   "outputs": [
    {
     "data": {
      "text/plain": [
       "{6: 0.00029799999999999965,\n",
       " 8: 0.00016400000000000095,\n",
       " 9: 0.0001899999999999992,\n",
       " 10: 7.599999999999968e-05,\n",
       " 11: 7.300000000000015e-05,\n",
       " 12: 0.00015600000000000336,\n",
       " 13: 3.199999999999731e-05,\n",
       " 14: 0.0001849999999999994,\n",
       " 15: 0.00010199999999999793,\n",
       " 16: 6.899999999999962e-05,\n",
       " 17: 0.00025799999999999434,\n",
       " 18: 0.00011099999999999999,\n",
       " 19: 0.0005189999999999986,\n",
       " 20: 5.200000000000343e-05,\n",
       " 22: 0.00010500000000000093,\n",
       " 23: 3.900000000000084e-05,\n",
       " 24: 0.0001280000000000031,\n",
       " 27: 7.700000000000068e-05,\n",
       " 29: 0.00015899999999999942,\n",
       " 34: 4.2999999999999636e-05,\n",
       " 47: 0.0002510000000000012,\n",
       " 49: 5.300000000000096e-05,\n",
       " 50: 9.499999999999786e-05,\n",
       " 51: 0.00027699999999999947,\n",
       " 54: 0.00020900000000000085,\n",
       " 56: 7.000000000000062e-06,\n",
       " 61: 1.000000000001e-06,\n",
       " 88: 0.00016099999999999969}"
      ]
     },
     "execution_count": 186,
     "metadata": {},
     "output_type": "execute_result"
    }
   ],
   "source": [
    "compute_prob_diff(1000000)"
   ]
  },
  {
   "cell_type": "markdown",
   "metadata": {},
   "source": [
    "### Problem 4\n",
    "<span style=\"color:green\">Continue with the last **`Person`** class from above and create another attribute **`employer`** that is composed of **`Employer`** class. Define the **`Employer`** class how you see fit.</span> "
   ]
  },
  {
   "cell_type": "code",
   "execution_count": 192,
   "metadata": {
    "collapsed": false
   },
   "outputs": [],
   "source": [
    "class Employer:\n",
    "    \n",
    "    def __init__(self, name, ticker_symbol, total_employees, CEO):\n",
    "        self.name = name\n",
    "        self.ticker_symbol = ticker_symbol\n",
    "        self.total_employees = total_employees\n",
    "        self.CEO = CEO\n",
    "        \n",
    "        \n",
    "class Address:\n",
    "    \n",
    "    def __init__(self, street_number, street_name, city, state, zip_code, apt_no=None):\n",
    "        self.street_number = street_number\n",
    "        self.street_name = street_name\n",
    "        self.city = city\n",
    "        self.state = state\n",
    "        self.zip_code = zip_code\n",
    "        self.apt_no = apt_no\n",
    "        \n",
    "    def is_apt(self):\n",
    "        return self.apt_no is None\n",
    "    \n",
    "# composed class    \n",
    "class Person:\n",
    "    \n",
    "    def __init__(self, first_name, last_name, sex, \n",
    "                 street_number, street_name, city, state, zip_code, apt_no=None,\n",
    "                 name=None, ticker_symbol=None, total_employees=None, CEO=None):\n",
    "        self.first_name = first_name\n",
    "        self.last_name = last_name\n",
    "        self.sex = sex\n",
    "        \n",
    "        #initialize new Address object\n",
    "        self.address = Address(street_number, street_name, city, state, zip_code, apt_no=None)\n",
    "        \n",
    "        self.employer = Employer(name, ticker_symbol, total_employees, CEO)"
   ]
  },
  {
   "cell_type": "markdown",
   "metadata": {},
   "source": [
    "### Problem 5\n",
    "<span style=\"color:green\">You will create a simplified game of craps using a single Python class. The basic game of craps is as follows:</span> \n",
    "\n",
    "1. There are two stages to the game. \n",
    "1. You make a wager\n",
    "1. If you roll a 2, 3 or 12 you lose and the game ends. If you roll a 7 or 11 you win and the game ends.\n",
    "1. If you roll anything else (4,5,6,8,9,10) then the game continues to the second stage\n",
    "1. You continue rolling until you roll your original number from the first stage or a 7.\n",
    "1. If you roll your original number you win and the game ends. If your roll a 7 you lose and the game ends.\n",
    "\n",
    "<span style=\"color:green\">Write a **`Craps`** class that has attributes for player name, and starting money. Create a method **`play`** that accepts a parameter **`wager`** and plays one complete game of craps (until the wager is won or lost). Print out each roll as it happens and update the starting money at game completion. Do not put all your code in the **`play`** method.</span>\n",
    "\n",
    "<span style=\"color:green\">Break up logical pieces of code into their own methods. A broad general rule is to keep methods under 10 lines of code. The solution has 5 methods that each run a very specific piece of logic. You have lots of flexibility to design your class however you want.</span>\n",
    "\n",
    "<span style=\"color:green\">Once you create your Craps class, instantiate it and play it until you double up or go broke</span>"
   ]
  },
  {
   "cell_type": "code",
   "execution_count": 141,
   "metadata": {
    "collapsed": false
   },
   "outputs": [],
   "source": [
    "class Craps:\n",
    "    \n",
    "    def __init__(self, name, total_money):\n",
    "        self.name = name\n",
    "        self.total_money = total_money\n",
    "        self.dice = Dice([1,2,3,4,5,6])\n",
    "        \n",
    "    def play(self, wager):\n",
    "        self.wager = wager\n",
    "        print('***** Begining Craps: Stage 1 *****')\n",
    "        print('{} wagers {} - starting with {}\\n'.format(self.name, self.wager, self.total_money))\n",
    "    \n",
    "        # check if first roll is 2,3,7,11,12\n",
    "        if self.check_first_stage():\n",
    "            while self.check_second_stage():\n",
    "                pass                    \n",
    "        \n",
    "    def check_first_stage(self):\n",
    "        # roll dice\n",
    "        self.orig_total = self.roll_dice()\n",
    "        \n",
    "        if self.orig_total in [2, 3, 12]:\n",
    "            self.make_outcome('Lose', -1)\n",
    "        elif self.orig_total in [7, 11]:\n",
    "            self.make_outcome('Win')\n",
    "        else:\n",
    "            print('\\n****** Entering stage 2 ******')\n",
    "            print('Continue rolling until you roll a 7 or a {}\\n'.format(self.orig_total))\n",
    "            return True\n",
    "        return False\n",
    "    \n",
    "    def check_second_stage(self):\n",
    "        total = self.roll_dice()\n",
    "        if total == 7:\n",
    "            self.make_outcome('Lose', -1)\n",
    "        elif total == self.orig_total:\n",
    "            self.make_outcome('Win')\n",
    "        else:\n",
    "            return True\n",
    "        return False\n",
    "    \n",
    "    def roll_dice(self):\n",
    "        self.dice.roll()\n",
    "        total = sum(self.dice.current_roll)\n",
    "        print('You rolled a {} and a {} for a total of {}\\n'.format(*self.dice.current_roll, \n",
    "                                                                    total))\n",
    "        return total\n",
    "    \n",
    "    def make_outcome(self, outcome, is_win=1):\n",
    "        self.total_money += self.wager * is_win\n",
    "        print('You {} - You have {} left'.format(outcome, self.total_money))"
   ]
  },
  {
   "cell_type": "code",
   "execution_count": 161,
   "metadata": {
    "collapsed": false
   },
   "outputs": [],
   "source": [
    "craps = Craps('Ted', 1000)"
   ]
  },
  {
   "cell_type": "code",
   "execution_count": 162,
   "metadata": {
    "collapsed": false
   },
   "outputs": [
    {
     "name": "stdout",
     "output_type": "stream",
     "text": [
      "***** Begining Craps: Stage 1 *****\n",
      "Ted wagers 10 - starting with 1000\n",
      "\n",
      "You rolled a 4 and a 6 for a total of 10\n",
      "\n",
      "\n",
      "****** Entering stage 2 ******\n",
      "Continue rolling until you roll a 7 or a 10\n",
      "\n",
      "You rolled a 2 and a 5 for a total of 7\n",
      "\n",
      "You Lose - You have 990 left\n"
     ]
    }
   ],
   "source": [
    "craps.play(10)"
   ]
  },
  {
   "cell_type": "code",
   "execution_count": 163,
   "metadata": {
    "collapsed": false
   },
   "outputs": [
    {
     "name": "stdout",
     "output_type": "stream",
     "text": [
      "***** Begining Craps: Stage 1 *****\n",
      "Ted wagers 55 - starting with 990\n",
      "\n",
      "You rolled a 1 and a 6 for a total of 7\n",
      "\n",
      "You Win - You have 1045 left\n"
     ]
    }
   ],
   "source": [
    "craps.play(55)"
   ]
  },
  {
   "cell_type": "code",
   "execution_count": 164,
   "metadata": {
    "collapsed": false
   },
   "outputs": [
    {
     "name": "stdout",
     "output_type": "stream",
     "text": [
      "***** Begining Craps: Stage 1 *****\n",
      "Ted wagers 99 - starting with 1045\n",
      "\n",
      "You rolled a 3 and a 6 for a total of 9\n",
      "\n",
      "\n",
      "****** Entering stage 2 ******\n",
      "Continue rolling until you roll a 7 or a 9\n",
      "\n",
      "You rolled a 3 and a 1 for a total of 4\n",
      "\n",
      "You rolled a 3 and a 5 for a total of 8\n",
      "\n",
      "You rolled a 4 and a 4 for a total of 8\n",
      "\n",
      "You rolled a 6 and a 2 for a total of 8\n",
      "\n",
      "You rolled a 4 and a 1 for a total of 5\n",
      "\n",
      "You rolled a 1 and a 5 for a total of 6\n",
      "\n",
      "You rolled a 4 and a 1 for a total of 5\n",
      "\n",
      "You rolled a 3 and a 4 for a total of 7\n",
      "\n",
      "You Lose - You have 946 left\n"
     ]
    }
   ],
   "source": [
    "craps.play(99)"
   ]
  },
  {
   "cell_type": "code",
   "execution_count": 165,
   "metadata": {
    "collapsed": false
   },
   "outputs": [
    {
     "name": "stdout",
     "output_type": "stream",
     "text": [
      "***** Begining Craps: Stage 1 *****\n",
      "Ted wagers 800 - starting with 946\n",
      "\n",
      "You rolled a 4 and a 6 for a total of 10\n",
      "\n",
      "\n",
      "****** Entering stage 2 ******\n",
      "Continue rolling until you roll a 7 or a 10\n",
      "\n",
      "You rolled a 2 and a 2 for a total of 4\n",
      "\n",
      "You rolled a 6 and a 6 for a total of 12\n",
      "\n",
      "You rolled a 1 and a 2 for a total of 3\n",
      "\n",
      "You rolled a 1 and a 4 for a total of 5\n",
      "\n",
      "You rolled a 3 and a 4 for a total of 7\n",
      "\n",
      "You Lose - You have 146 left\n"
     ]
    }
   ],
   "source": [
    "craps.play(800)"
   ]
  },
  {
   "cell_type": "code",
   "execution_count": 166,
   "metadata": {
    "collapsed": false
   },
   "outputs": [
    {
     "name": "stdout",
     "output_type": "stream",
     "text": [
      "***** Begining Craps: Stage 1 *****\n",
      "Ted wagers 146 - starting with 146\n",
      "\n",
      "You rolled a 5 and a 6 for a total of 11\n",
      "\n",
      "You Win - You have 292 left\n"
     ]
    }
   ],
   "source": [
    "craps.play(146)"
   ]
  },
  {
   "cell_type": "code",
   "execution_count": 167,
   "metadata": {
    "collapsed": false
   },
   "outputs": [
    {
     "name": "stdout",
     "output_type": "stream",
     "text": [
      "***** Begining Craps: Stage 1 *****\n",
      "Ted wagers 292 - starting with 292\n",
      "\n",
      "You rolled a 6 and a 2 for a total of 8\n",
      "\n",
      "\n",
      "****** Entering stage 2 ******\n",
      "Continue rolling until you roll a 7 or a 8\n",
      "\n",
      "You rolled a 5 and a 2 for a total of 7\n",
      "\n",
      "You Lose - You have 0 left\n"
     ]
    }
   ],
   "source": [
    "craps.play(292)"
   ]
  },
  {
   "cell_type": "code",
   "execution_count": null,
   "metadata": {
    "collapsed": true
   },
   "outputs": [],
   "source": []
  }
 ],
 "metadata": {
  "kernelspec": {
   "display_name": "Python 3",
   "language": "python",
   "name": "python3"
  },
  "language_info": {
   "codemirror_mode": {
    "name": "ipython",
    "version": 3
   },
   "file_extension": ".py",
   "mimetype": "text/x-python",
   "name": "python",
   "nbconvert_exporter": "python",
   "pygments_lexer": "ipython3",
   "version": "3.6.0"
  }
 },
 "nbformat": 4,
 "nbformat_minor": 2
}
