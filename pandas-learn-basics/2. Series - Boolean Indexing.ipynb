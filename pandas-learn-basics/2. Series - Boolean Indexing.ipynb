{
 "cells": [
  {
   "cell_type": "markdown",
   "metadata": {},
   "source": [
    "# Boolean Indexing\n",
    "\n",
    "### Objectives\n",
    "After this lesson you should be able to...\n",
    "+ Use the naked brackets **`[]`** for boolean indexing - an exception to the rule of using **`.loc`** or **`.iloc`**\n",
    "+ Create 'criteria' with boolean comparisons\n",
    "+ Create 'criteria' with the index\n",
    "+ Build complex criteria multiple boolean comparisons\n",
    "+ Keywords **`and`**, **`or`** and **`not`** do NOT work in pandas when creating multiple comparison logic. Use **`&, |, ~`** instead.\n",
    "+ Grab stock market data with the **`pandas_datareader`** package\n",
    "+ Use boolean Series as a 0/1 numeric Series to do basic calculations such as **`sum`**, and **`mean`**\n",
    "\n",
    "### Prepare for this lesson by...\n",
    "[ALWAYS READ THE DOCUMENTATION BEFORE A LESSON!](http://pandas.pydata.org/pandas-docs/stable/)\n",
    "+ Read [Boolean indexing](http://pandas.pydata.org/pandas-docs/stable/indexing.html#boolean-indexing)\n",
    "+ Read [Indexing with isin](http://pandas.pydata.org/pandas-docs/stable/indexing.html#indexing-with-isin)\n",
    "\n",
    "### Introduction\n",
    "A common method of extracting the values in a Series is to choose them based on certain criteria. Boolean indexing is done by passing a boolean (only true/false values) array or Series to the **`[ ]`** operator. If a Series is passed, every index in the outer Series must have a true value associated to it in the inner Series. If an array is passed, it must be the same length as the Series."
   ]
  },
  {
   "cell_type": "code",
   "execution_count": 19,
   "metadata": {
    "collapsed": true
   },
   "outputs": [],
   "source": [
    "import pandas as pd\n",
    "import numpy as np"
   ]
  },
  {
   "cell_type": "code",
   "execution_count": 20,
   "metadata": {
    "collapsed": false
   },
   "outputs": [
    {
     "data": {
      "text/plain": [
       "a    0.094119\n",
       "b    0.318688\n",
       "c   -0.944710\n",
       "d   -0.118580\n",
       "e   -1.243051\n",
       "f    0.745785\n",
       "g    0.107881\n",
       "dtype: float64"
      ]
     },
     "execution_count": 20,
     "metadata": {},
     "output_type": "execute_result"
    }
   ],
   "source": [
    "# create a Series of values from a standard normal distribution\n",
    "s = pd.Series(np.random.randn(7), index=list('abcdefg'))\n",
    "s"
   ]
  },
  {
   "cell_type": "markdown",
   "metadata": {},
   "source": [
    "### It's OK to use [ ] with boolean indexing\n",
    "The previous notebook cautioned to use **`.iloc`** or **`.loc`** when accessing elements of a Series. Boolean indexing is an exception to this rule and the True/False sequence can be placed directly inside the bracket operator."
   ]
  },
  {
   "cell_type": "code",
   "execution_count": 21,
   "metadata": {
    "collapsed": true
   },
   "outputs": [],
   "source": [
    "# Create a list of booleans that is the same length of the Series\n",
    "# Can use a numpy array or a Series as well\n",
    "keep = [True, False, True, False, False, True, False]"
   ]
  },
  {
   "cell_type": "code",
   "execution_count": 22,
   "metadata": {
    "collapsed": false
   },
   "outputs": [
    {
     "data": {
      "text/plain": [
       "a    0.094119\n",
       "c   -0.944710\n",
       "f    0.745785\n",
       "dtype: float64"
      ]
     },
     "execution_count": 22,
     "metadata": {},
     "output_type": "execute_result"
    }
   ],
   "source": [
    "# This will keep the first, third and sixth elements (indices where the list is True)\n",
    "s[keep]"
   ]
  },
  {
   "cell_type": "markdown",
   "metadata": {},
   "source": [
    "### Vectorized Comparisons for Series\n",
    "Each element in a Series can be compared to another value with a boolean as the result. All the normal 'rich' comparison operation work: <, >, <=, >=, ==, !="
   ]
  },
  {
   "cell_type": "code",
   "execution_count": 23,
   "metadata": {
    "collapsed": false
   },
   "outputs": [
    {
     "data": {
      "text/plain": [
       "a     True\n",
       "b     True\n",
       "c    False\n",
       "d    False\n",
       "e    False\n",
       "f     True\n",
       "g     True\n",
       "dtype: bool"
      ]
     },
     "execution_count": 23,
     "metadata": {},
     "output_type": "execute_result"
    }
   ],
   "source": [
    "# compare against being > 0\n",
    "s > 0"
   ]
  },
  {
   "cell_type": "markdown",
   "metadata": {},
   "source": [
    "### Create 'criteria' for boolean selection\n",
    "A common thing to do with data is to filter it basd on some criteria. The comparison with 0 in the above code cell returned a Series of booleans. This Series can be passed to the brackets operator to select only those Series elements that have values greater than 0."
   ]
  },
  {
   "cell_type": "code",
   "execution_count": 24,
   "metadata": {
    "collapsed": false
   },
   "outputs": [],
   "source": [
    "# Save criteria of boolean Series\n",
    "criteria = s > 0"
   ]
  },
  {
   "cell_type": "code",
   "execution_count": 25,
   "metadata": {
    "collapsed": false
   },
   "outputs": [
    {
     "data": {
      "text/plain": [
       "a    0.094119\n",
       "b    0.318688\n",
       "f    0.745785\n",
       "g    0.107881\n",
       "dtype: float64"
      ]
     },
     "execution_count": 25,
     "metadata": {},
     "output_type": "execute_result"
    }
   ],
   "source": [
    "# we can now pass this criteria to our original series to get only values above 0\n",
    "s[criteria]"
   ]
  },
  {
   "cell_type": "code",
   "execution_count": 26,
   "metadata": {
    "collapsed": false
   },
   "outputs": [
    {
     "data": {
      "text/plain": [
       "a    0.094119\n",
       "b    0.318688\n",
       "f    0.745785\n",
       "g    0.107881\n",
       "dtype: float64"
      ]
     },
     "execution_count": 26,
     "metadata": {},
     "output_type": "execute_result"
    }
   ],
   "source": [
    "# you can do this all in one step without an intermediate variable\n",
    "s[s > 0]"
   ]
  },
  {
   "cell_type": "markdown",
   "metadata": {},
   "source": [
    "### Using the index as a comparison\n",
    "You can also use a comparison with respect to the index to return boolean values. This is a little strange but shows that similarity of the index to the values of the Series."
   ]
  },
  {
   "cell_type": "code",
   "execution_count": 27,
   "metadata": {
    "collapsed": false
   },
   "outputs": [
    {
     "data": {
      "text/plain": [
       "array([False, False,  True,  True,  True,  True,  True], dtype=bool)"
      ]
     },
     "execution_count": 27,
     "metadata": {},
     "output_type": "execute_result"
    }
   ],
   "source": [
    "# get all indicies that are lexicographically greater than or equal to 'c'\n",
    "criteria = s.index >= 'c'\n",
    "\n",
    "criteria"
   ]
  },
  {
   "cell_type": "code",
   "execution_count": 28,
   "metadata": {
    "collapsed": false
   },
   "outputs": [
    {
     "data": {
      "text/plain": [
       "c   -0.944710\n",
       "d   -0.118580\n",
       "e   -1.243051\n",
       "f    0.745785\n",
       "g    0.107881\n",
       "dtype: float64"
      ]
     },
     "execution_count": 28,
     "metadata": {},
     "output_type": "execute_result"
    }
   ],
   "source": [
    "# boolean select in same way\n",
    "s[criteria]"
   ]
  },
  {
   "cell_type": "markdown",
   "metadata": {},
   "source": [
    "### Using `isin` method to check for multiple equalities\n",
    "Both the Series and the Index objects have the same method **`isin`** (read 'is in') that checks whether each element is a member of a given list."
   ]
  },
  {
   "cell_type": "code",
   "execution_count": 29,
   "metadata": {
    "collapsed": false
   },
   "outputs": [
    {
     "data": {
      "text/plain": [
       "array([ True, False,  True, False, False, False, False], dtype=bool)"
      ]
     },
     "execution_count": 29,
     "metadata": {},
     "output_type": "execute_result"
    }
   ],
   "source": [
    "# Checks whether the index is 'a' or 'c'\n",
    "criteria = s.index.isin(['a','c'])\n",
    "criteria"
   ]
  },
  {
   "cell_type": "code",
   "execution_count": 30,
   "metadata": {
    "collapsed": false
   },
   "outputs": [
    {
     "data": {
      "text/plain": [
       "a    0.094119\n",
       "c   -0.944710\n",
       "dtype: float64"
      ]
     },
     "execution_count": 30,
     "metadata": {},
     "output_type": "execute_result"
    }
   ],
   "source": [
    "# and now display the index b\n",
    "s[criteria]"
   ]
  },
  {
   "cell_type": "code",
   "execution_count": 31,
   "metadata": {
    "collapsed": false
   },
   "outputs": [
    {
     "data": {
      "text/plain": [
       "a    0.094119\n",
       "c   -0.944710\n",
       "dtype: float64"
      ]
     },
     "execution_count": 31,
     "metadata": {},
     "output_type": "execute_result"
    }
   ],
   "source": [
    "# Wait, wasn't that really repetitive?\n",
    "# of course! We could have just used .loc and passed it a list\n",
    "s.loc[['a', 'c']]"
   ]
  },
  {
   "cell_type": "markdown",
   "metadata": {},
   "source": [
    "### More complex boolean slicing\n",
    "Any number of boolean conditions can be strung together to retrieve certain values just as they can in python. The key words **`and`**, **`or`** and **`not`** do not with pandas and numpy. \n",
    "\n",
    "Instead, `and` is replaced with **`&`**, `or` with **`|`** and `not` with **`~`**. Each comparison also must be wrapped in parentheses."
   ]
  },
  {
   "cell_type": "code",
   "execution_count": 32,
   "metadata": {
    "collapsed": false
   },
   "outputs": [],
   "source": [
    "# lets start with a long series of numbers\n",
    "s = pd.Series(np.arange(500))"
   ]
  },
  {
   "cell_type": "code",
   "execution_count": 33,
   "metadata": {
    "collapsed": false
   },
   "outputs": [],
   "source": [
    "#Lets get all the numbers that are divisible by both 2 and 13\n",
    "# or divisible by 100\n",
    "criteria = (s % 2 == 0) & (s % 13 == 0) | (s % 100 == 0)"
   ]
  },
  {
   "cell_type": "code",
   "execution_count": 34,
   "metadata": {
    "collapsed": false
   },
   "outputs": [
    {
     "data": {
      "text/plain": [
       "0     True\n",
       "1    False\n",
       "2    False\n",
       "3    False\n",
       "4    False\n",
       "dtype: bool"
      ]
     },
     "execution_count": 34,
     "metadata": {},
     "output_type": "execute_result"
    }
   ],
   "source": [
    "# inspect criteria\n",
    "criteria.head()"
   ]
  },
  {
   "cell_type": "code",
   "execution_count": 35,
   "metadata": {
    "collapsed": false
   },
   "outputs": [
    {
     "data": {
      "text/plain": [
       "0    False\n",
       "1     True\n",
       "2     True\n",
       "3     True\n",
       "4     True\n",
       "dtype: bool"
      ]
     },
     "execution_count": 35,
     "metadata": {},
     "output_type": "execute_result"
    }
   ],
   "source": [
    "# use the tilde to invert criteria\n",
    "# ~ represents `not`\n",
    "~criteria.head()"
   ]
  },
  {
   "cell_type": "code",
   "execution_count": 36,
   "metadata": {
    "collapsed": false
   },
   "outputs": [
    {
     "data": {
      "text/plain": [
       "0        0\n",
       "26      26\n",
       "52      52\n",
       "78      78\n",
       "100    100\n",
       "104    104\n",
       "130    130\n",
       "156    156\n",
       "182    182\n",
       "200    200\n",
       "208    208\n",
       "234    234\n",
       "260    260\n",
       "286    286\n",
       "300    300\n",
       "312    312\n",
       "338    338\n",
       "364    364\n",
       "390    390\n",
       "400    400\n",
       "416    416\n",
       "442    442\n",
       "468    468\n",
       "494    494\n",
       "dtype: int32"
      ]
     },
     "execution_count": 36,
     "metadata": {},
     "output_type": "execute_result"
    }
   ],
   "source": [
    "# every number here must meet the above criteria\n",
    "s[criteria]"
   ]
  },
  {
   "cell_type": "code",
   "execution_count": 37,
   "metadata": {
    "collapsed": false
   },
   "outputs": [
    {
     "data": {
      "text/plain": [
       "1    1\n",
       "2    2\n",
       "3    3\n",
       "4    4\n",
       "5    5\n",
       "dtype: int32"
      ]
     },
     "execution_count": 37,
     "metadata": {},
     "output_type": "execute_result"
    }
   ],
   "source": [
    "# can reverse the criteria\n",
    "s[~criteria].head()"
   ]
  },
  {
   "cell_type": "markdown",
   "metadata": {},
   "source": [
    "# Case Study: Calculating Normality of Stock Market Returns\n",
    "We will examine the returns of different stocks to determine if their daily returns follow a normal distribution. Before we begin you will have to install the third-party library **`pandas-datareader`**. This library does not come pre-packaged with Anaconda so you will have to install it by opening up a terminal and running the following command:\n",
    "\n",
    "`$ conda install -c anaconda pandas-datareader=0.2.1`\n",
    "\n",
    "You can also use pip\n",
    "\n",
    "`$ pip install pandas-datareader`\n",
    "\n",
    "After installation you should have immediate access to the library from this notebook\n",
    "\n",
    "### Pandas Datareader\n",
    "[Pandas Datareader](http://pandas-datareader.readthedocs.io/en/latest/) is a nice package that retrieves financial data from different online data sources. In this example we will import the **`data`** module and use the **`DataReader`** function to retrieve Amazon stock price data from Google finance from 2010 to present."
   ]
  },
  {
   "cell_type": "code",
   "execution_count": 38,
   "metadata": {
    "collapsed": true
   },
   "outputs": [],
   "source": [
    "# import the data module into the namespace\n",
    "from pandas_datareader import data"
   ]
  },
  {
   "cell_type": "code",
   "execution_count": 39,
   "metadata": {
    "collapsed": false
   },
   "outputs": [],
   "source": [
    "# Use the DataReader function\n",
    "# pass it the stock ticket symbol 'AMZN' and the source of the data: 'google'\n",
    "# the default is to get data from 2010. Can change this to any desired date range\n",
    "amzn = data.DataReader('amzn', 'google')  "
   ]
  },
  {
   "cell_type": "markdown",
   "metadata": {},
   "source": [
    "### Viewing the data\n",
    "The data is returned into a pandas **DataFrame**. This is the first glance into the DataFrame which will be discussed in greater detail in the next section."
   ]
  },
  {
   "cell_type": "code",
   "execution_count": 40,
   "metadata": {
    "collapsed": false
   },
   "outputs": [
    {
     "data": {
      "text/html": [
       "<div>\n",
       "<table border=\"1\" class=\"dataframe\">\n",
       "  <thead>\n",
       "    <tr style=\"text-align: right;\">\n",
       "      <th></th>\n",
       "      <th>Open</th>\n",
       "      <th>High</th>\n",
       "      <th>Low</th>\n",
       "      <th>Close</th>\n",
       "      <th>Volume</th>\n",
       "    </tr>\n",
       "    <tr>\n",
       "      <th>Date</th>\n",
       "      <th></th>\n",
       "      <th></th>\n",
       "      <th></th>\n",
       "      <th></th>\n",
       "      <th></th>\n",
       "    </tr>\n",
       "  </thead>\n",
       "  <tbody>\n",
       "    <tr>\n",
       "      <th>2010-01-04</th>\n",
       "      <td>136.25</td>\n",
       "      <td>136.61</td>\n",
       "      <td>133.14</td>\n",
       "      <td>133.90</td>\n",
       "      <td>7600543</td>\n",
       "    </tr>\n",
       "    <tr>\n",
       "      <th>2010-01-05</th>\n",
       "      <td>133.43</td>\n",
       "      <td>135.48</td>\n",
       "      <td>131.81</td>\n",
       "      <td>134.69</td>\n",
       "      <td>8856456</td>\n",
       "    </tr>\n",
       "    <tr>\n",
       "      <th>2010-01-06</th>\n",
       "      <td>134.60</td>\n",
       "      <td>134.73</td>\n",
       "      <td>131.65</td>\n",
       "      <td>132.25</td>\n",
       "      <td>7180977</td>\n",
       "    </tr>\n",
       "    <tr>\n",
       "      <th>2010-01-07</th>\n",
       "      <td>132.01</td>\n",
       "      <td>132.32</td>\n",
       "      <td>128.80</td>\n",
       "      <td>130.00</td>\n",
       "      <td>11030124</td>\n",
       "    </tr>\n",
       "    <tr>\n",
       "      <th>2010-01-08</th>\n",
       "      <td>130.56</td>\n",
       "      <td>133.68</td>\n",
       "      <td>129.03</td>\n",
       "      <td>133.52</td>\n",
       "      <td>9833829</td>\n",
       "    </tr>\n",
       "    <tr>\n",
       "      <th>2010-01-11</th>\n",
       "      <td>132.62</td>\n",
       "      <td>132.80</td>\n",
       "      <td>129.21</td>\n",
       "      <td>130.31</td>\n",
       "      <td>8786668</td>\n",
       "    </tr>\n",
       "    <tr>\n",
       "      <th>2010-01-12</th>\n",
       "      <td>128.99</td>\n",
       "      <td>129.82</td>\n",
       "      <td>126.55</td>\n",
       "      <td>127.35</td>\n",
       "      <td>9098190</td>\n",
       "    </tr>\n",
       "    <tr>\n",
       "      <th>2010-01-13</th>\n",
       "      <td>127.90</td>\n",
       "      <td>129.71</td>\n",
       "      <td>125.75</td>\n",
       "      <td>129.11</td>\n",
       "      <td>10727856</td>\n",
       "    </tr>\n",
       "    <tr>\n",
       "      <th>2010-01-14</th>\n",
       "      <td>129.14</td>\n",
       "      <td>130.38</td>\n",
       "      <td>126.40</td>\n",
       "      <td>127.35</td>\n",
       "      <td>9788435</td>\n",
       "    </tr>\n",
       "    <tr>\n",
       "      <th>2010-01-15</th>\n",
       "      <td>129.18</td>\n",
       "      <td>129.65</td>\n",
       "      <td>127.06</td>\n",
       "      <td>127.14</td>\n",
       "      <td>15382763</td>\n",
       "    </tr>\n",
       "  </tbody>\n",
       "</table>\n",
       "</div>"
      ],
      "text/plain": [
       "              Open    High     Low   Close    Volume\n",
       "Date                                                \n",
       "2010-01-04  136.25  136.61  133.14  133.90   7600543\n",
       "2010-01-05  133.43  135.48  131.81  134.69   8856456\n",
       "2010-01-06  134.60  134.73  131.65  132.25   7180977\n",
       "2010-01-07  132.01  132.32  128.80  130.00  11030124\n",
       "2010-01-08  130.56  133.68  129.03  133.52   9833829\n",
       "2010-01-11  132.62  132.80  129.21  130.31   8786668\n",
       "2010-01-12  128.99  129.82  126.55  127.35   9098190\n",
       "2010-01-13  127.90  129.71  125.75  129.11  10727856\n",
       "2010-01-14  129.14  130.38  126.40  127.35   9788435\n",
       "2010-01-15  129.18  129.65  127.06  127.14  15382763"
      ]
     },
     "execution_count": 40,
     "metadata": {},
     "output_type": "execute_result"
    }
   ],
   "source": [
    "# view the first 10 trading days\n",
    "amzn.head(10)"
   ]
  },
  {
   "cell_type": "markdown",
   "metadata": {},
   "source": [
    "### Grabbing a single column of data\n",
    "For this problem, we are only interested in the closing price. To get the **Close** column, we pass the column name to the brackets operator. Again this will be explained in greater detail later."
   ]
  },
  {
   "cell_type": "code",
   "execution_count": 41,
   "metadata": {
    "collapsed": false
   },
   "outputs": [
    {
     "data": {
      "text/plain": [
       "Date\n",
       "2010-01-04    133.90\n",
       "2010-01-05    134.69\n",
       "2010-01-06    132.25\n",
       "2010-01-07    130.00\n",
       "2010-01-08    133.52\n",
       "2010-01-11    130.31\n",
       "2010-01-12    127.35\n",
       "2010-01-13    129.11\n",
       "2010-01-14    127.35\n",
       "2010-01-15    127.14\n",
       "Name: Close, dtype: float64"
      ]
     },
     "execution_count": 41,
     "metadata": {},
     "output_type": "execute_result"
    }
   ],
   "source": [
    "# Get closing price\n",
    "close = amzn['Close']\n",
    "\n",
    "close.head(10)"
   ]
  },
  {
   "cell_type": "code",
   "execution_count": 42,
   "metadata": {
    "collapsed": false
   },
   "outputs": [
    {
     "data": {
      "text/plain": [
       "pandas.core.series.Series"
      ]
     },
     "execution_count": 42,
     "metadata": {},
     "output_type": "execute_result"
    }
   ],
   "source": [
    "# we are back to a Series\n",
    "type(close)"
   ]
  },
  {
   "cell_type": "markdown",
   "metadata": {},
   "source": [
    "### Back to a Series\n",
    "Retrieving a single column in a DataFrame returns a pandas Series. This time the index is a date and the values are floats.\n",
    "\n",
    "Pandas Series has a nifty method called **`pct_change`** which returns the percentage difference between the current and previous elements."
   ]
  },
  {
   "cell_type": "code",
   "execution_count": 43,
   "metadata": {
    "collapsed": false
   },
   "outputs": [
    {
     "data": {
      "text/plain": [
       "Date\n",
       "2010-01-04         NaN\n",
       "2010-01-05    0.005900\n",
       "2010-01-06   -0.018116\n",
       "2010-01-07   -0.017013\n",
       "2010-01-08    0.027077\n",
       "2010-01-11   -0.024041\n",
       "2010-01-12   -0.022715\n",
       "2010-01-13    0.013820\n",
       "2010-01-14   -0.013632\n",
       "2010-01-15   -0.001649\n",
       "Name: Close, dtype: float64"
      ]
     },
     "execution_count": 43,
     "metadata": {},
     "output_type": "execute_result"
    }
   ],
   "source": [
    "# calculate percent change\n",
    "close_change = close.pct_change()\n",
    "\n",
    "# inspect top 10 elements\n",
    "close_change.head(10)"
   ]
  },
  {
   "cell_type": "markdown",
   "metadata": {},
   "source": [
    "### Handling Missing Value\n",
    "The first date has a missing value since there was no previous date. The **`dropna`** method can be used to remove any NaN elements."
   ]
  },
  {
   "cell_type": "code",
   "execution_count": 44,
   "metadata": {
    "collapsed": false
   },
   "outputs": [
    {
     "data": {
      "text/plain": [
       "Date\n",
       "2010-01-05    0.005900\n",
       "2010-01-06   -0.018116\n",
       "2010-01-07   -0.017013\n",
       "2010-01-08    0.027077\n",
       "2010-01-11   -0.024041\n",
       "2010-01-12   -0.022715\n",
       "2010-01-13    0.013820\n",
       "2010-01-14   -0.013632\n",
       "2010-01-15   -0.001649\n",
       "2010-01-19    0.003697\n",
       "Name: Close, dtype: float64"
      ]
     },
     "execution_count": 44,
     "metadata": {},
     "output_type": "execute_result"
    }
   ],
   "source": [
    "# remove NaN\n",
    "close_change_drop = close_change.dropna()\n",
    "\n",
    "# inspect new Series\n",
    "close_change_drop.head(10)"
   ]
  },
  {
   "cell_type": "markdown",
   "metadata": {},
   "source": [
    "### Checking for Normality\n",
    "There are formal statistical tests for normality that can be used. Instead we will focus on simple data exploration to give us insight."
   ]
  },
  {
   "cell_type": "markdown",
   "metadata": {},
   "source": [
    "### Plotting the returns\n",
    "The main plotting library in pandas is matplotlib which will be covered in greater detail. To output plots directly into the notebook the magic command **`%matplotlib inline`** must be executed first. \n",
    "\n",
    "Pandas objects have hooks directly into matplotlib so it's not necessary to directly import matplotlib. The **`hist`** Series method will plot a histogram of the Series."
   ]
  },
  {
   "cell_type": "code",
   "execution_count": 45,
   "metadata": {
    "collapsed": true
   },
   "outputs": [],
   "source": [
    "# magic command that must be run in order to have plots embedded into the notebook\n",
    "%matplotlib inline"
   ]
  },
  {
   "cell_type": "code",
   "execution_count": 46,
   "metadata": {
    "collapsed": false
   },
   "outputs": [
    {
     "data": {
      "text/plain": [
       "<matplotlib.axes._subplots.AxesSubplot at 0x19ca7169240>"
      ]
     },
     "execution_count": 46,
     "metadata": {},
     "output_type": "execute_result"
    },
    {
     "data": {
      "image/png": "[encoded data removed]",
      "text/plain": [
       "<matplotlib.figure.Figure at 0x19ca6fcdef0>"
      ]
     },
     "metadata": {},
     "output_type": "display_data"
    }
   ],
   "source": [
    "# Plot a histogram of the returns\n",
    "# change number of bins with bins parameter\n",
    "close_change_drop.hist(bins=20)"
   ]
  },
  {
   "cell_type": "markdown",
   "metadata": {},
   "source": [
    "### Use boolean selection to check for normality\n",
    "The plot above is bell-shaped and could possibly represent a normal distribution. To more formally check for normality we can count the number of observations that are within 1, 2, and 3 standard deviations. The [68-95-99.7 rule](https://en.wikipedia.org/wiki/68%E2%80%9395%E2%80%9399.7_rule) can be used to know if the data is approximately normal.\n",
    "\n",
    "We first need to calculate the mean, standard deviation and get the number of observations."
   ]
  },
  {
   "cell_type": "code",
   "execution_count": 47,
   "metadata": {
    "collapsed": true
   },
   "outputs": [],
   "source": [
    "# use size attribute to get number of observations\n",
    "n_obs = close_change_drop.size\n",
    "mean = close_change_drop.mean()\n",
    "std = close_change_drop.std()"
   ]
  },
  {
   "cell_type": "markdown",
   "metadata": {},
   "source": [
    "### Percentage of observations less than 1 standard deviation\n",
    "Use boolean indexing to filter the Series to those value that are less than 1 standard deviation from the mean."
   ]
  },
  {
   "cell_type": "code",
   "execution_count": 48,
   "metadata": {
    "collapsed": false
   },
   "outputs": [
    {
     "data": {
      "text/plain": [
       "Date\n",
       "2010-01-05    0.005900\n",
       "2010-01-06   -0.018116\n",
       "2010-01-07   -0.017013\n",
       "2010-01-13    0.013820\n",
       "2010-01-14   -0.013632\n",
       "2010-01-15   -0.001649\n",
       "2010-01-19    0.003697\n",
       "2010-01-20   -0.014341\n",
       "2010-01-21    0.006678\n",
       "2010-01-25   -0.009223\n",
       "Name: Close, dtype: float64"
      ]
     },
     "execution_count": 48,
     "metadata": {},
     "output_type": "execute_result"
    }
   ],
   "source": [
    "# make a boolean expression\n",
    "criteria = abs(close_change_drop - mean) / std < 1\n",
    "\n",
    "# do the boolean indexing\n",
    "close_1std = close_change_drop[criteria]\n",
    "\n",
    "# inspect\n",
    "close_1std.head(10)"
   ]
  },
  {
   "cell_type": "code",
   "execution_count": 49,
   "metadata": {
    "collapsed": true
   },
   "outputs": [],
   "source": [
    "# Do the same for 2 and 3 std\n",
    "criteria = abs(close_change_drop - mean) / std < 2\n",
    "close_2std = close_change_drop[criteria]\n",
    "\n",
    "criteria = abs(close_change_drop - mean) / std < 3\n",
    "close_3std = close_change_drop[criteria]"
   ]
  },
  {
   "cell_type": "code",
   "execution_count": 50,
   "metadata": {
    "collapsed": false
   },
   "outputs": [
    {
     "data": {
      "text/plain": [
       "(0.787, 0.957, 0.985)"
      ]
     },
     "execution_count": 50,
     "metadata": {},
     "output_type": "execute_result"
    }
   ],
   "source": [
    "# Get final results and round to 3 decimals\n",
    "pct_within1 = round(close_1std.size / n_obs, 3)\n",
    "pct_within2 = round(close_2std.size / n_obs, 3)\n",
    "pct_within3 = round(close_3std.size / n_obs, 3)\n",
    "\n",
    "pct_within1, pct_within2, pct_within3"
   ]
  },
  {
   "cell_type": "markdown",
   "metadata": {},
   "source": [
    "### Results Discussion\n",
    "The percentages of returns within 1, 2 and 3 standard deviations are fairly far off the 68-95-99.7 rule. Much more of the data was concentrated around 1 standard deviation and 5 times as many returns than expected were greater than 3 standard deviations from the mean. This strongly suggests that a normal distribution would not be a good fit for this type of data."
   ]
  },
  {
   "cell_type": "markdown",
   "metadata": {},
   "source": [
    "### Simple way to count True values in a Series\n",
    "Series that contain only boolean values can be counted using the **`sum`** method since True evaluates to 1 and False to 0. Let's recount the data points within 1 standard deviation using this method."
   ]
  },
  {
   "cell_type": "code",
   "execution_count": 51,
   "metadata": {
    "collapsed": false
   },
   "outputs": [
    {
     "data": {
      "text/plain": [
       "Date\n",
       "2010-01-05     True\n",
       "2010-01-06     True\n",
       "2010-01-07     True\n",
       "2010-01-08    False\n",
       "2010-01-11    False\n",
       "2010-01-12    False\n",
       "2010-01-13     True\n",
       "2010-01-14     True\n",
       "2010-01-15     True\n",
       "2010-01-19     True\n",
       "Name: Close, dtype: bool"
      ]
     },
     "execution_count": 51,
     "metadata": {},
     "output_type": "execute_result"
    }
   ],
   "source": [
    "# use same criteria as before\n",
    "criteria = abs(close_change_drop - mean) / std < 1\n",
    "\n",
    "# inspect\n",
    "criteria.head(10)"
   ]
  },
  {
   "cell_type": "code",
   "execution_count": 52,
   "metadata": {
    "collapsed": false
   },
   "outputs": [
    {
     "data": {
      "text/plain": [
       "1423"
      ]
     },
     "execution_count": 52,
     "metadata": {},
     "output_type": "execute_result"
    }
   ],
   "source": [
    "# Use sum method to count True values\n",
    "criteria.sum()"
   ]
  },
  {
   "cell_type": "code",
   "execution_count": 53,
   "metadata": {
    "collapsed": false
   },
   "outputs": [
    {
     "data": {
      "text/plain": [
       "1423"
      ]
     },
     "execution_count": 53,
     "metadata": {},
     "output_type": "execute_result"
    }
   ],
   "source": [
    "# this is the same as\n",
    "close_1std.size"
   ]
  },
  {
   "cell_type": "code",
   "execution_count": 54,
   "metadata": {
    "collapsed": false
   },
   "outputs": [
    {
     "data": {
      "text/plain": [
       "1423"
      ]
     },
     "execution_count": 54,
     "metadata": {},
     "output_type": "execute_result"
    }
   ],
   "source": [
    "# can sum up everything in one line by wrapping expression in parentheses\n",
    "(abs(close_change_drop - mean) / std < 1).sum()"
   ]
  },
  {
   "cell_type": "markdown",
   "metadata": {},
   "source": [
    "### What you should know\n",
    "* Use .iloc and .loc to access elements in a Series\n",
    "* Use [ ] when using boolean indexing\n",
    "* Can create a 'criteria' variable or just pass the boolean expression into the [ ]\n",
    "* Use &, |, ~ instead of and, or, not in pandas for boolean operations\n",
    "* Wrap each boolean expression in parentheses\n",
    "* Use .head to shorten Series output\n",
    "* Know how to use Series methods \n",
    "* Assignment of one series to another (**`s = s1`**) does not create a new object.\n",
    "\n",
    "We have only touched upon a small number of the methods in the Series data structure. If you suffer from FOMOOM (fear of missing out on methods) go here and use each method at least once - http://pandas.pydata.org/pandas-docs/stable/api.html#series"
   ]
  },
  {
   "cell_type": "markdown",
   "metadata": {},
   "source": [
    "### Problem 1\n",
    "<span  style=\"color:green; font-size:16px\">Create a function that accepts a stock ticket symbol (amzn for example) and returns the percentage of prices within 1, 2, and 3 standard deviations from the mean. Use your function to return results for different stocks (tsla, fb, slb, gm, etc...)</span>"
   ]
  },
  {
   "cell_type": "code",
   "execution_count": 55,
   "metadata": {
    "collapsed": false
   },
   "outputs": [
    {
     "data": {
      "text/plain": [
       "(0.71515486725663713, 0.9209070796460177, 1.0)"
      ]
     },
     "execution_count": 55,
     "metadata": {},
     "output_type": "execute_result"
    }
   ],
   "source": [
    "from pandas_datareader import data\n",
    "\n",
    "def StockVariance(ticker, datasource='google'):\n",
    "    try:\n",
    "        series_close = data.DataReader(ticker,datasource)['Close']\n",
    "    except:\n",
    "        return('No Close data for stock {} using {}'.format(ticker, datasource))\n",
    "    \n",
    "    p1 = getbetween(series_close, -1, 1)\n",
    "    p2 = getbetween(series_close, -2, 2)\n",
    "    p3 = getbetween(series_close, -3, 3)\n",
    "    \n",
    "    return p1, p2, p3\n",
    "\n",
    "    \n",
    "def getbetween(s, lowersd=-1, uppersd=1):\n",
    "    std = s.std()\n",
    "    mean = s.mean()\n",
    "    return ((s <= (mean + uppersd*std)) & (s >= (mean + lowersd*std))).sum()/ s.count() \n",
    "    \n",
    "\n",
    "StockVariance(\"amzn\")\n",
    "    "
   ]
  },
  {
   "cell_type": "markdown",
   "metadata": {},
   "source": [
    "### How to check the entire series for truth\n",
    "Lets say we wanted to check if all the stock price returns were within 4 standard deviations from the mean. The **`all`** and **`any`** methods can be used to check Series of all boolean values."
   ]
  },
  {
   "cell_type": "code",
   "execution_count": 56,
   "metadata": {
    "collapsed": false
   },
   "outputs": [
    {
     "data": {
      "text/plain": [
       "Date\n",
       "2010-01-05    True\n",
       "2010-01-06    True\n",
       "2010-01-07    True\n",
       "2010-01-08    True\n",
       "2010-01-11    True\n",
       "2010-01-12    True\n",
       "2010-01-13    True\n",
       "2010-01-14    True\n",
       "2010-01-15    True\n",
       "2010-01-19    True\n",
       "Name: Close, dtype: bool"
      ]
     },
     "execution_count": 56,
     "metadata": {},
     "output_type": "execute_result"
    }
   ],
   "source": [
    "# create a boolean Series checking values to be within 4 standard deviations\n",
    "criteria = abs(close_change_drop - mean) / std < 4\n",
    "\n",
    "# inspect criteria - the first 10 are true\n",
    "criteria.head(10)"
   ]
  },
  {
   "cell_type": "code",
   "execution_count": 57,
   "metadata": {
    "collapsed": false
   },
   "outputs": [
    {
     "data": {
      "text/plain": [
       "False"
      ]
     },
     "execution_count": 57,
     "metadata": {},
     "output_type": "execute_result"
    }
   ],
   "source": [
    "# now use all to check if they are all true. Looks like is at least one False\n",
    "criteria.all()"
   ]
  },
  {
   "cell_type": "code",
   "execution_count": 40,
   "metadata": {
    "collapsed": false
   },
   "outputs": [
    {
     "data": {
      "text/plain": [
       "True"
      ]
     },
     "execution_count": 40,
     "metadata": {},
     "output_type": "execute_result"
    }
   ],
   "source": [
    "# could do the same thing with 'any' method\n",
    "# change criteria to be more than 4 std\n",
    "criteria = abs(close_change_drop - mean) / std >= 4\n",
    "\n",
    "criteria.any()"
   ]
  },
  {
   "cell_type": "markdown",
   "metadata": {},
   "source": [
    "### Problem 2\n",
    "<span  style=\"color:green; font-size:16px\">Write a one line expression that returns the maximum number of standard deviations from the mean for any one day return.</span>"
   ]
  },
  {
   "cell_type": "code",
   "execution_count": 75,
   "metadata": {
    "collapsed": false
   },
   "outputs": [
    {
     "data": {
      "text/plain": [
       "1.4420544014309509"
      ]
     },
     "execution_count": 75,
     "metadata": {},
     "output_type": "execute_result"
    }
   ],
   "source": [
    "series_close = data.DataReader(\"amzn\",\"google\")['Close']\n",
    "((series_close - series_close.mean()).abs()/series_close.mean()).max()"
   ]
  },
  {
   "cell_type": "markdown",
   "metadata": {},
   "source": [
    "# More Series Questions \n",
    "How to get help: Stackoverflow is no doubt the best resource to quickly find help to solve your pandas problems but you should be asking - how do the people who answer Stackoverflow questions know the answers? Are they just born with these magical powers? Perhaps, but more likely they look in the documentation. The pandas documentation is quite thorough with hundreds of examples and I encourage you to look through all of it if you get the chance - http://pandas.pydata.org/pandas-docs/stable/index.html"
   ]
  },
  {
   "cell_type": "markdown",
   "metadata": {},
   "source": [
    "### Problem 3\n",
    "<span  style=\"color:green; font-size:16px\">Create a Series, **`tsla`**, by getting the closing price of Tesla motors (symbol TSLA) using the **`pandas_datareader`** library. Series  **`tsla`** will be continually referred to for the rest of the problems. Output the first 10 values.</span>"
   ]
  },
  {
   "cell_type": "code",
   "execution_count": 78,
   "metadata": {
    "collapsed": false
   },
   "outputs": [
    {
     "data": {
      "text/plain": [
       "Date\n",
       "2010-06-29    23.89\n",
       "2010-06-30    23.83\n",
       "2010-07-01    21.96\n",
       "2010-07-02    19.20\n",
       "2010-07-06    16.11\n",
       "2010-07-07    15.80\n",
       "2010-07-08    17.46\n",
       "2010-07-09    17.40\n",
       "2010-07-12    17.05\n",
       "2010-07-13    18.14\n",
       "Name: Close, dtype: float64"
      ]
     },
     "execution_count": 78,
     "metadata": {},
     "output_type": "execute_result"
    }
   ],
   "source": [
    "series_close = data.DataReader(\"tsla\",\"google\")['Close']\n",
    "series_close.iloc[:10]"
   ]
  },
  {
   "cell_type": "markdown",
   "metadata": {},
   "source": [
    "### Problem 4\n",
    "<span  style=\"color:green; font-size:16px\">There are many dozens of Series methods and attributes. Use the following methods correctly with variable **tsla** : **`rank, cummax, sample, describe, quantile, idxmax, empty`**. Make sure to read the documentation for correct usage. Use a new code cell for each command and remember to use the **`head`** method to restrict long output.</span>"
   ]
  },
  {
   "cell_type": "code",
   "execution_count": 90,
   "metadata": {
    "collapsed": false
   },
   "outputs": [
    {
     "data": {
      "text/plain": [
       "False"
      ]
     },
     "execution_count": 90,
     "metadata": {},
     "output_type": "execute_result"
    }
   ],
   "source": [
    "s = data.DataReader(\"tsla\",\"google\")['Close']\n",
    "s.rank()\n",
    "s.cummax()\n",
    "s.sample()\n",
    "s.describe()\n",
    "s.quantile()\n",
    "s.idxmax()\n",
    "s.empty"
   ]
  },
  {
   "cell_type": "markdown",
   "metadata": {},
   "source": [
    "### Problem 5\n",
    "<span  style=\"color:green; font-size:16px\"> Sort **`tsla`** by descending values and save it to variable **`tsla1`**. Output the first 10 values to check that the sort happened correctly.</span>"
   ]
  },
  {
   "cell_type": "code",
   "execution_count": 101,
   "metadata": {
    "collapsed": false
   },
   "outputs": [
    {
     "data": {
      "text/plain": [
       "Date\n",
       "2014-09-04    286.04\n",
       "2014-09-02    284.12\n",
       "2015-07-20    282.26\n",
       "2014-09-08    282.11\n",
       "2014-09-03    281.19\n",
       "2014-09-10    281.10\n",
       "2017-02-14    280.98\n",
       "2017-02-13    280.60\n",
       "2014-09-11    280.31\n",
       "2015-07-02    280.02\n",
       "Name: Close, dtype: float64"
      ]
     },
     "execution_count": 101,
     "metadata": {},
     "output_type": "execute_result"
    }
   ],
   "source": [
    "tsla = data.DataReader(\"tsla\",\"google\")['Close']\n",
    "tsla1 = tsla.sort_values(ascending=False)\n",
    "tsla1.head(10)"
   ]
  },
  {
   "cell_type": "markdown",
   "metadata": {},
   "source": [
    "### Problem 6\n",
    "<span  style=\"color:green; font-size:16px\">Use the **`sort_index`** method to re-sort **`tsla1`** back to its original ordering. Store this Series to **`tsla2`**. Use the **`equals`** method to check that **`tsla2`** does in fact equal **`tsla`**.</span>"
   ]
  },
  {
   "cell_type": "code",
   "execution_count": 102,
   "metadata": {
    "collapsed": false
   },
   "outputs": [
    {
     "data": {
      "text/plain": [
       "True"
      ]
     },
     "execution_count": 102,
     "metadata": {},
     "output_type": "execute_result"
    }
   ],
   "source": [
    "tsla2 = tsla1.sort_index()\n",
    "tsla2.equals(tsla)"
   ]
  },
  {
   "cell_type": "markdown",
   "metadata": {},
   "source": [
    "### Problem 7\n",
    "<span  style=\"color:green; font-size:16px\">Instead of using the **`equals`** method, test equality between **`tsla`** and **`tsla2`** by using the comparison operator **`==`** and the **`all`** method.</span>"
   ]
  },
  {
   "cell_type": "code",
   "execution_count": 104,
   "metadata": {
    "collapsed": false
   },
   "outputs": [
    {
     "data": {
      "text/plain": [
       "True"
      ]
     },
     "execution_count": 104,
     "metadata": {},
     "output_type": "execute_result"
    }
   ],
   "source": [
    "all(tsla == tsla2)"
   ]
  },
  {
   "cell_type": "markdown",
   "metadata": {},
   "source": [
    "### Problem 8\n",
    "<span  style=\"color:green; font-size:16px\">Slicing! Using iloc, slice series **`tsla`**:<ol><li>Retrieve the first 6 elements</li><li>Retrieve every 18th element</li><li>Reverse the series</li><li>Write two ways to get every 4th element starting from the 993rd element to the 593rd</li><li>Chain your slicing multiple times by getting every other element, then every third element, then every 4th element, then every 5th element</li></ol>\n",
    "</span>\n",
    "\n",
    "Use **`head`** method to shorten long output."
   ]
  },
  {
   "cell_type": "code",
   "execution_count": 111,
   "metadata": {
    "collapsed": false
   },
   "outputs": [
    {
     "data": {
      "text/plain": [
       "Date\n",
       "2010-06-29     23.89\n",
       "2010-12-17     31.36\n",
       "2011-06-10     27.86\n",
       "2011-11-30     32.74\n",
       "2012-05-23     31.02\n",
       "2012-11-14     31.38\n",
       "2013-05-09     69.40\n",
       "2013-10-29    164.47\n",
       "2014-04-23    207.99\n",
       "2014-10-13    224.59\n",
       "2015-04-07    203.25\n",
       "2015-09-25    256.91\n",
       "2016-03-18    232.74\n",
       "2016-09-08    197.36\n",
       "2017-03-02    250.48\n",
       "Name: Close, dtype: float64"
      ]
     },
     "execution_count": 111,
     "metadata": {},
     "output_type": "execute_result"
    }
   ],
   "source": [
    "tsla.iloc[:6]\n",
    "tsla.iloc[::18]\n",
    "tsla.iloc[::-1]\n",
    "tsla.iloc[993:592:-1]\n",
    "tsla.iloc[::2][::3][::4][::5]"
   ]
  },
  {
   "cell_type": "markdown",
   "metadata": {},
   "source": [
    "### Problem 9\n",
    "<span  style=\"color:green; font-size:16px\"> How many days did Tesla close above 100 and below 150?</span>"
   ]
  },
  {
   "cell_type": "code",
   "execution_count": 126,
   "metadata": {
    "collapsed": false
   },
   "outputs": [
    {
     "data": {
      "text/plain": [
       "90"
      ]
     },
     "execution_count": 126,
     "metadata": {},
     "output_type": "execute_result"
    }
   ],
   "source": [
    "above = tsla > 100\n",
    "below = tsla < 150\n",
    "((tsla > 100) & (tsla < 150)).sum()\n"
   ]
  },
  {
   "cell_type": "markdown",
   "metadata": {},
   "source": [
    "### Problem 10\n",
    "<span  style=\"color:green; font-size:16px\"> How many days did Tesla close below 50 or above 200?</span>"
   ]
  },
  {
   "cell_type": "code",
   "execution_count": 127,
   "metadata": {
    "collapsed": false
   },
   "outputs": [
    {
     "data": {
      "text/plain": [
       "1390"
      ]
     },
     "execution_count": 127,
     "metadata": {},
     "output_type": "execute_result"
    }
   ],
   "source": [
    "((tsla < 100) | (tsla > 200)).sum()"
   ]
  },
  {
   "cell_type": "markdown",
   "metadata": {},
   "source": [
    "### Problem 11\n",
    "<span  style=\"color:green; font-size:16px\"> Lookup the definition for interquartile range and smartly slice your way from series s until you are left with the IQR </span>"
   ]
  },
  {
   "cell_type": "code",
   "execution_count": 135,
   "metadata": {
    "collapsed": false
   },
   "outputs": [
    {
     "data": {
      "text/plain": [
       "Date\n",
       "2010-11-24     35.47\n",
       "2010-11-26     35.32\n",
       "2010-11-30     35.33\n",
       "2012-03-12     36.01\n",
       "2012-03-13     36.09\n",
       "2012-03-14     35.29\n",
       "2012-03-16     35.32\n",
       "2012-03-26     37.40\n",
       "2012-03-27     37.94\n",
       "2012-03-28     37.85\n",
       "2012-03-29     37.33\n",
       "2012-03-30     37.24\n",
       "2012-04-02     36.58\n",
       "2012-04-03     38.01\n",
       "2012-07-16     35.96\n",
       "2012-12-11     35.28\n",
       "2012-12-12     35.26\n",
       "2013-01-02     35.36\n",
       "2013-01-22     35.19\n",
       "2013-01-23     36.00\n",
       "2013-01-24     36.99\n",
       "2013-01-25     36.98\n",
       "2013-01-28     38.03\n",
       "2013-01-29     37.95\n",
       "2013-01-30     37.52\n",
       "2013-01-31     37.51\n",
       "2013-02-01     38.30\n",
       "2013-02-04     37.74\n",
       "2013-02-05     38.13\n",
       "2013-02-06     39.17\n",
       "               ...  \n",
       "2016-11-03    187.42\n",
       "2016-11-04    190.56\n",
       "2016-11-07    193.21\n",
       "2016-11-08    194.94\n",
       "2016-11-09    190.06\n",
       "2016-11-10    185.35\n",
       "2016-11-11    188.56\n",
       "2016-11-14    181.45\n",
       "2016-11-15    183.77\n",
       "2016-11-16    183.93\n",
       "2016-11-17    188.66\n",
       "2016-11-18    185.02\n",
       "2016-11-21    184.52\n",
       "2016-11-22    191.17\n",
       "2016-11-23    193.14\n",
       "2016-11-25    196.65\n",
       "2016-11-28    196.12\n",
       "2016-11-29    189.57\n",
       "2016-11-30    189.40\n",
       "2016-12-01    181.88\n",
       "2016-12-02    181.47\n",
       "2016-12-05    186.80\n",
       "2016-12-06    185.85\n",
       "2016-12-07    193.15\n",
       "2016-12-08    192.29\n",
       "2016-12-09    192.18\n",
       "2016-12-12    192.43\n",
       "2016-12-13    198.15\n",
       "2016-12-14    198.69\n",
       "2016-12-15    197.58\n",
       "Name: Close, dtype: float64"
      ]
     },
     "execution_count": 135,
     "metadata": {},
     "output_type": "execute_result"
    }
   ],
   "source": [
    "tsla[(tsla > tsla.quantile(.5-.25/2)) & (tsla < tsla.quantile(.5+.25/2))]"
   ]
  },
  {
   "cell_type": "markdown",
   "metadata": {},
   "source": [
    "### Problem 12\n",
    "<span  style=\"color:green; font-size:16px\">Use the **`idxmax`** method to find the index labeled position of the highest closing price. Find out how many trading days it has been since tsla recorded it highest closing price.</span>"
   ]
  },
  {
   "cell_type": "code",
   "execution_count": 145,
   "metadata": {
    "collapsed": false
   },
   "outputs": [
    {
     "data": {
      "text/plain": [
       "634"
      ]
     },
     "execution_count": 145,
     "metadata": {},
     "output_type": "execute_result"
    }
   ],
   "source": [
    "tsla.loc[tsla.idxmax():].size"
   ]
  },
  {
   "cell_type": "markdown",
   "metadata": {},
   "source": [
    "### Problem 13\n",
    "<span  style=\"color:green; font-size:16px\">Assign Series tsla to tsla3 **`tsla3 = tsla`** and then change the value of the 0th element of tsla3 to 100. What has happened to tsla? We didn't talk about series assignment, but does it work as you would expect?</span>"
   ]
  },
  {
   "cell_type": "code",
   "execution_count": 147,
   "metadata": {
    "collapsed": false
   },
   "outputs": [
    {
     "data": {
      "text/plain": [
       "100.0"
      ]
     },
     "execution_count": 147,
     "metadata": {},
     "output_type": "execute_result"
    }
   ],
   "source": [
    "tsla3 = tsla\n",
    "tsla3.iloc[0] = 100\n",
    "tsla.iloc[0]"
   ]
  },
  {
   "cell_type": "markdown",
   "metadata": {},
   "source": [
    "### Problem 14\n",
    "<span  style=\"color:green; font-size:16px\">Assign every 2nd element of **`tsla3`** the mean of **`tsla3`**. What happened to **`tsla`**? Is it the same size? Now assign elements 100 to 900 of **`tsla`** the variance of **`tsla`**. How much has each Series changed?</span>"
   ]
  },
  {
   "cell_type": "code",
   "execution_count": 148,
   "metadata": {
    "collapsed": false
   },
   "outputs": [
    {
     "data": {
      "text/plain": [
       "Date\n",
       "2010-06-29    132.105311\n",
       "2010-06-30     23.830000\n",
       "2010-07-01    132.105311\n",
       "2010-07-02     19.200000\n",
       "2010-07-06    132.105311\n",
       "2010-07-07     15.800000\n",
       "2010-07-08    132.105311\n",
       "2010-07-09     17.400000\n",
       "2010-07-12    132.105311\n",
       "2010-07-13     18.140000\n",
       "Name: Close, dtype: float64"
      ]
     },
     "execution_count": 148,
     "metadata": {},
     "output_type": "execute_result"
    }
   ],
   "source": [
    "tsla3.iloc[0::2] = tsla3.mean()\n",
    "tsla.head(10)"
   ]
  },
  {
   "cell_type": "markdown",
   "metadata": {},
   "source": [
    "### Problem 15\n",
    "<span  style=\"color:green; font-size:16px\">Get the original **`tsla`** dataset back by running code in Problem 3 again. Now redo problem 13 except assign **`tsla3`** a be copy of **`tsla`** using the **`copy`** Series method.</span>"
   ]
  },
  {
   "cell_type": "code",
   "execution_count": 155,
   "metadata": {
    "collapsed": false
   },
   "outputs": [
    {
     "name": "stdout",
     "output_type": "stream",
     "text": [
      "True\n",
      "False\n"
     ]
    }
   ],
   "source": [
    "tsla = data.DataReader(\"tsla\",\"google\")['Close']\n",
    "tsla.head()\n",
    "tsla3 = tsla.copy()\n",
    "print(tsla3.equals(tsla))\n",
    "tsla3.iloc[0] = 100\n",
    "tsla.iloc[0]\n",
    "tsla3.iloc[0]\n",
    "print(tsla3.equals(tsla))"
   ]
  },
  {
   "cell_type": "markdown",
   "metadata": {},
   "source": [
    "### Problem 16\n",
    "<span  style=\"color:green; font-size:16px\">Using the inversion operator, the tilde (**`~`**) ouput a Series of all **`tsla`** values greater than 270.</span>"
   ]
  },
  {
   "cell_type": "code",
   "execution_count": 161,
   "metadata": {
    "collapsed": false
   },
   "outputs": [
    {
     "data": {
      "text/plain": [
       "Date\n",
       "2014-09-02    284.12\n",
       "2014-09-03    281.19\n",
       "2014-09-04    286.04\n",
       "2014-09-05    277.39\n",
       "2014-09-08    282.11\n",
       "2014-09-09    278.48\n",
       "2014-09-10    281.10\n",
       "2014-09-11    280.31\n",
       "2014-09-12    279.20\n",
       "2015-07-02    280.02\n",
       "2015-07-06    279.72\n",
       "2015-07-17    274.66\n",
       "2015-07-20    282.26\n",
       "2015-08-05    270.13\n",
       "2017-02-13    280.60\n",
       "2017-02-14    280.98\n",
       "2017-02-15    279.76\n",
       "2017-02-17    272.23\n",
       "2017-02-21    277.39\n",
       "2017-02-22    273.51\n",
       "Name: Close, dtype: float64"
      ]
     },
     "execution_count": 161,
     "metadata": {},
     "output_type": "execute_result"
    }
   ],
   "source": [
    "tsla[~(tsla<270)]"
   ]
  },
  {
   "cell_type": "markdown",
   "metadata": {},
   "source": [
    "### Problem 17\n",
    "<span  style=\"color:green; font-size:16px\">Read the documentation on the **`where`** Series method and use it with **`tsla`** to change all values less than 100 to 0.</span>"
   ]
  },
  {
   "cell_type": "code",
   "execution_count": 174,
   "metadata": {
    "collapsed": false
   },
   "outputs": [
    {
     "data": {
      "text/plain": [
       "Date\n",
       "2010-06-29      0.00\n",
       "2010-06-30      0.00\n",
       "2010-07-01      0.00\n",
       "2010-07-02      0.00\n",
       "2010-07-06      0.00\n",
       "2010-07-07      0.00\n",
       "2010-07-08      0.00\n",
       "2010-07-09      0.00\n",
       "2010-07-12      0.00\n",
       "2010-07-13      0.00\n",
       "2010-07-14      0.00\n",
       "2010-07-15      0.00\n",
       "2010-07-16      0.00\n",
       "2010-07-19      0.00\n",
       "2010-07-20      0.00\n",
       "2010-07-21      0.00\n",
       "2010-07-22      0.00\n",
       "2010-07-23      0.00\n",
       "2010-07-26      0.00\n",
       "2010-07-27      0.00\n",
       "2010-07-28      0.00\n",
       "2010-07-29      0.00\n",
       "2010-07-30      0.00\n",
       "2010-08-02      0.00\n",
       "2010-08-03      0.00\n",
       "2010-08-04      0.00\n",
       "2010-08-05      0.00\n",
       "2010-08-06      0.00\n",
       "2010-08-09      0.00\n",
       "2010-08-10      0.00\n",
       "               ...  \n",
       "2017-01-27    252.95\n",
       "2017-01-30    250.63\n",
       "2017-01-31    251.93\n",
       "2017-02-01    249.24\n",
       "2017-02-02    251.55\n",
       "2017-02-03    251.33\n",
       "2017-02-06    257.77\n",
       "2017-02-07    257.48\n",
       "2017-02-08    262.08\n",
       "2017-02-09    269.20\n",
       "2017-02-10    269.23\n",
       "2017-02-13    280.60\n",
       "2017-02-14    280.98\n",
       "2017-02-15    279.76\n",
       "2017-02-16    268.95\n",
       "2017-02-17    272.23\n",
       "2017-02-21    277.39\n",
       "2017-02-22    273.51\n",
       "2017-02-23    255.99\n",
       "2017-02-24    257.00\n",
       "2017-02-27    246.23\n",
       "2017-02-28    249.99\n",
       "2017-03-01    250.02\n",
       "2017-03-02    250.48\n",
       "2017-03-03    251.57\n",
       "2017-03-06    251.21\n",
       "2017-03-07    248.59\n",
       "2017-03-08    246.87\n",
       "2017-03-09    244.90\n",
       "2017-03-10    243.69\n",
       "Name: Close, dtype: float64"
      ]
     },
     "execution_count": 174,
     "metadata": {},
     "output_type": "execute_result"
    }
   ],
   "source": [
    "tsla.where(tsla > 100, 0)"
   ]
  },
  {
   "cell_type": "markdown",
   "metadata": {},
   "source": [
    "### Problem 18\n",
    "<span  style=\"color:green; font-size:16px\">Read the documentation on the **`mask`** Series method and use it with **`tsla`** to change all values greater than or equal to 100 to 0.</span>"
   ]
  },
  {
   "cell_type": "code",
   "execution_count": 177,
   "metadata": {
    "collapsed": false
   },
   "outputs": [
    {
     "data": {
      "text/plain": [
       "Date\n",
       "2010-06-29    23.89\n",
       "2010-06-30    23.83\n",
       "2010-07-01    21.96\n",
       "2010-07-02    19.20\n",
       "2010-07-06    16.11\n",
       "2010-07-07    15.80\n",
       "2010-07-08    17.46\n",
       "2010-07-09    17.40\n",
       "2010-07-12    17.05\n",
       "2010-07-13    18.14\n",
       "2010-07-14    19.84\n",
       "2010-07-15    19.89\n",
       "2010-07-16    20.64\n",
       "2010-07-19    21.91\n",
       "2010-07-20    20.30\n",
       "2010-07-21    20.22\n",
       "2010-07-22    21.00\n",
       "2010-07-23    21.29\n",
       "2010-07-26    20.95\n",
       "2010-07-27    20.55\n",
       "2010-07-28    20.72\n",
       "2010-07-29    20.35\n",
       "2010-07-30    19.94\n",
       "2010-08-02    20.92\n",
       "2010-08-03    21.95\n",
       "2010-08-04    21.26\n",
       "2010-08-05    20.45\n",
       "2010-08-06    19.59\n",
       "2010-08-09    19.60\n",
       "2010-08-10    19.03\n",
       "              ...  \n",
       "2017-01-27     0.00\n",
       "2017-01-30     0.00\n",
       "2017-01-31     0.00\n",
       "2017-02-01     0.00\n",
       "2017-02-02     0.00\n",
       "2017-02-03     0.00\n",
       "2017-02-06     0.00\n",
       "2017-02-07     0.00\n",
       "2017-02-08     0.00\n",
       "2017-02-09     0.00\n",
       "2017-02-10     0.00\n",
       "2017-02-13     0.00\n",
       "2017-02-14     0.00\n",
       "2017-02-15     0.00\n",
       "2017-02-16     0.00\n",
       "2017-02-17     0.00\n",
       "2017-02-21     0.00\n",
       "2017-02-22     0.00\n",
       "2017-02-23     0.00\n",
       "2017-02-24     0.00\n",
       "2017-02-27     0.00\n",
       "2017-02-28     0.00\n",
       "2017-03-01     0.00\n",
       "2017-03-02     0.00\n",
       "2017-03-03     0.00\n",
       "2017-03-06     0.00\n",
       "2017-03-07     0.00\n",
       "2017-03-08     0.00\n",
       "2017-03-09     0.00\n",
       "2017-03-10     0.00\n",
       "Name: Close, dtype: float64"
      ]
     },
     "execution_count": 177,
     "metadata": {},
     "output_type": "execute_result"
    }
   ],
   "source": [
    "tsla.mask(tsla > 100, 0)"
   ]
  }
 ],
 "metadata": {
  "anaconda-cloud": {},
  "kernelspec": {
   "display_name": "Python 3",
   "language": "python",
   "name": "python3"
  },
  "language_info": {
   "codemirror_mode": {
    "name": "ipython",
    "version": 3
   },
   "file_extension": ".py",
   "mimetype": "text/x-python",
   "name": "python",
   "nbconvert_exporter": "python",
   "pygments_lexer": "ipython3",
   "version": "3.6.0"
  }
 },
 "nbformat": 4,
 "nbformat_minor": 0
}
