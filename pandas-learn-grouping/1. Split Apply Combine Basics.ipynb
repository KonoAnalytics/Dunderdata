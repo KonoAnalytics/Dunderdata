{
 "cells": [
  {
   "cell_type": "markdown",
   "metadata": {},
   "source": [
    "# Split-Apply-Combine\n",
    "\n",
    "### Objectives\n",
    "After this lesson you should be able to...\n",
    "+ Define split, apply, combine and why it is useful for data analysis\n",
    "+ Know the definition of an aggregation\n",
    "+ Group on a single and multiple keys\n",
    "+ Know multiple different syntax for performing an aggregation\n",
    "+ Perform a group by aggregation on a subset of the DataFrame columns\n",
    "+ Perform a group by with multiple aggregation columns\n",
    "+ Perform a group by with different aggregations for different columns\n",
    "### Prepare for this lesson by\n",
    "+ Read intro to Hadley Wickham's paper on [split-apply-combine](http://vita.had.co.nz/papers/plyr.pdf) and skim the rest as it is heavy on R.\n",
    "+ Read the pandas [split apply combine documentation](http://pandas.pydata.org/pandas-docs/stable/groupby.html) stopping at 'transformation'.\n",
    "\n",
    "### Introduction\n",
    "Split-apply-combine is a pattern of investigating data that has been around for a long time. The term was only recently coined by perhaps the most famous data scientist ever to have lived in Houston, Hadley Wickham. Hadley Wickham has developed many similar tools for the R dataframe as Wes McKinney did for the pandas DataFrame.\n",
    "\n",
    "* **Split** - Instead of calculating a statistic on the entirety of the data, the data is split into groups based on each member meeting a certain criteria\n",
    "* **Apply** - Apply a function to each group independently\n",
    "* **Combine** - Combine the results of the function applied to each group back together to form a single dataset again\n",
    "\n",
    "![SAC](./images/sac.png)"
   ]
  },
  {
   "cell_type": "code",
   "execution_count": 210,
   "metadata": {
    "collapsed": true
   },
   "outputs": [],
   "source": [
    "import pandas as pd\n",
    "import numpy as np"
   ]
  },
  {
   "cell_type": "markdown",
   "metadata": {},
   "source": [
    "### A manual split, apply, combine\n",
    "Lets use for loops to split then apply then combine."
   ]
  },
  {
   "cell_type": "code",
   "execution_count": 211,
   "metadata": {
    "collapsed": false
   },
   "outputs": [
    {
     "data": {
      "text/html": [
       "<div>\n",
       "<table border=\"1\" class=\"dataframe\">\n",
       "  <thead>\n",
       "    <tr style=\"text-align: right;\">\n",
       "      <th></th>\n",
       "      <th>key</th>\n",
       "      <th>data</th>\n",
       "    </tr>\n",
       "  </thead>\n",
       "  <tbody>\n",
       "    <tr>\n",
       "      <th>0</th>\n",
       "      <td>a</td>\n",
       "      <td>1</td>\n",
       "    </tr>\n",
       "    <tr>\n",
       "      <th>1</th>\n",
       "      <td>b</td>\n",
       "      <td>2</td>\n",
       "    </tr>\n",
       "    <tr>\n",
       "      <th>2</th>\n",
       "      <td>c</td>\n",
       "      <td>3</td>\n",
       "    </tr>\n",
       "    <tr>\n",
       "      <th>3</th>\n",
       "      <td>a</td>\n",
       "      <td>4</td>\n",
       "    </tr>\n",
       "    <tr>\n",
       "      <th>4</th>\n",
       "      <td>b</td>\n",
       "      <td>5</td>\n",
       "    </tr>\n",
       "    <tr>\n",
       "      <th>5</th>\n",
       "      <td>c</td>\n",
       "      <td>6</td>\n",
       "    </tr>\n",
       "  </tbody>\n",
       "</table>\n",
       "</div>"
      ],
      "text/plain": [
       "  key  data\n",
       "0   a     1\n",
       "1   b     2\n",
       "2   c     3\n",
       "3   a     4\n",
       "4   b     5\n",
       "5   c     6"
      ]
     },
     "execution_count": 211,
     "metadata": {},
     "output_type": "execute_result"
    }
   ],
   "source": [
    "# lets recreate the data from the image above\n",
    "df = pd.DataFrame({'key': list('abc') * 2, 'data': range(1,7)}, columns=['key', 'data'])\n",
    "df"
   ]
  },
  {
   "cell_type": "markdown",
   "metadata": {},
   "source": [
    "### Split\n",
    "The data will be split into a dictionary that maps each key to all of it's data from the DataFrame. A **`defaultdict`** from the very useful [collections module](https://docs.python.org/3/library/collections.html) will store the data. A **`defaultdict`** differs from a normal **`dict`** by having a default object returned even if the key doesn't exist.\n",
    "\n",
    "Looping through DataFrames is seldomly done and a sign you are doing something wrong but necessary for this demonstration.  There are a few ways to loop through a DataFrame, one of which is the **`itertuples`** method which returns a [namedtuple](https://docs.python.org/3/library/collections.html#namedtuple-factory-function-for-tuples-with-named-fields), another object from the collections module, that is just like a normal tuple except with reference names for each element in the tuple. The references in this instance happen to be the column names."
   ]
  },
  {
   "cell_type": "code",
   "execution_count": 212,
   "metadata": {
    "collapsed": true
   },
   "outputs": [],
   "source": [
    "from collections import defaultdict"
   ]
  },
  {
   "cell_type": "code",
   "execution_count": 213,
   "metadata": {
    "collapsed": false
   },
   "outputs": [
    {
     "data": {
      "text/plain": [
       "defaultdict(list, {'a': [1, 4], 'b': [2, 5], 'c': [3, 6]})"
      ]
     },
     "execution_count": 213,
     "metadata": {},
     "output_type": "execute_result"
    }
   ],
   "source": [
    "# create a defaultdict with an empty list as its default\n",
    "keys_dict = defaultdict(list)\n",
    "\n",
    "# loop through DataFrame and use namedtuple to store values in a defaultdict\n",
    "for tup in df.itertuples():\n",
    "    keys_dict[tup.key].append(tup.data)\n",
    "    \n",
    "# output the defaultdict\n",
    "keys_dict"
   ]
  },
  {
   "cell_type": "code",
   "execution_count": 214,
   "metadata": {
    "collapsed": false
   },
   "outputs": [
    {
     "data": {
      "text/html": [
       "<div>\n",
       "<table border=\"1\" class=\"dataframe\">\n",
       "  <thead>\n",
       "    <tr style=\"text-align: right;\">\n",
       "      <th></th>\n",
       "      <th>a</th>\n",
       "      <th>b</th>\n",
       "      <th>c</th>\n",
       "    </tr>\n",
       "  </thead>\n",
       "  <tbody>\n",
       "    <tr>\n",
       "      <th>0</th>\n",
       "      <td>1</td>\n",
       "      <td>2</td>\n",
       "      <td>3</td>\n",
       "    </tr>\n",
       "    <tr>\n",
       "      <th>1</th>\n",
       "      <td>4</td>\n",
       "      <td>5</td>\n",
       "      <td>6</td>\n",
       "    </tr>\n",
       "  </tbody>\n",
       "</table>\n",
       "</div>"
      ],
      "text/plain": [
       "   a  b  c\n",
       "0  1  2  3\n",
       "1  4  5  6"
      ]
     },
     "execution_count": 214,
     "metadata": {},
     "output_type": "execute_result"
    }
   ],
   "source": [
    "# Turn the default dict into a DataFrame\n",
    "split_data = pd.DataFrame(keys_dict)\n",
    "\n",
    "split_data"
   ]
  },
  {
   "cell_type": "markdown",
   "metadata": {},
   "source": [
    "### Apply\n",
    "Sum up all the all columns"
   ]
  },
  {
   "cell_type": "code",
   "execution_count": 215,
   "metadata": {
    "collapsed": false
   },
   "outputs": [
    {
     "data": {
      "text/plain": [
       "a    5\n",
       "b    7\n",
       "c    9\n",
       "dtype: int64"
      ]
     },
     "execution_count": 215,
     "metadata": {},
     "output_type": "execute_result"
    }
   ],
   "source": [
    "sum_dict = split_data.sum()\n",
    "\n",
    "sum_dict"
   ]
  },
  {
   "cell_type": "markdown",
   "metadata": {},
   "source": [
    "### Combine\n",
    "The data is already combined but we can turn it into a DataFrame by creating a new column out of the index. The **`reset_index`** will accomplish this. Then the columns will be renamed and the task complete."
   ]
  },
  {
   "cell_type": "code",
   "execution_count": 770,
   "metadata": {
    "collapsed": false
   },
   "outputs": [
    {
     "data": {
      "text/html": [
       "<div>\n",
       "<table border=\"1\" class=\"dataframe\">\n",
       "  <thead>\n",
       "    <tr style=\"text-align: right;\">\n",
       "      <th></th>\n",
       "      <th>Key</th>\n",
       "      <th>Data</th>\n",
       "    </tr>\n",
       "  </thead>\n",
       "  <tbody>\n",
       "    <tr>\n",
       "      <th>0</th>\n",
       "      <td>a</td>\n",
       "      <td>5</td>\n",
       "    </tr>\n",
       "    <tr>\n",
       "      <th>1</th>\n",
       "      <td>b</td>\n",
       "      <td>7</td>\n",
       "    </tr>\n",
       "    <tr>\n",
       "      <th>2</th>\n",
       "      <td>c</td>\n",
       "      <td>9</td>\n",
       "    </tr>\n",
       "  </tbody>\n",
       "</table>\n",
       "</div>"
      ],
      "text/plain": [
       "  Key  Data\n",
       "0   a     5\n",
       "1   b     7\n",
       "2   c     9"
      ]
     },
     "execution_count": 770,
     "metadata": {},
     "output_type": "execute_result"
    }
   ],
   "source": [
    "df_combined = pd.Series(sum_dict).reset_index()\n",
    "df_combined.columns = ['Key', 'Data']\n",
    "df_combined"
   ]
  },
  {
   "cell_type": "markdown",
   "metadata": {},
   "source": [
    "### That was about 100 lines too many\n",
    "Lets do this the Python way in one line.\n",
    "* Use the **`groupby`** method to split your data\n",
    "* Use the **`agg`** method on the resulting `groupby` object to apply an aggregating function to the groups.\n",
    "* Pandas combines everything for you back together again"
   ]
  },
  {
   "cell_type": "code",
   "execution_count": 97,
   "metadata": {
    "collapsed": false
   },
   "outputs": [
    {
     "data": {
      "text/html": [
       "<div>\n",
       "<table border=\"1\" class=\"dataframe\">\n",
       "  <thead>\n",
       "    <tr style=\"text-align: right;\">\n",
       "      <th></th>\n",
       "      <th>data</th>\n",
       "    </tr>\n",
       "    <tr>\n",
       "      <th>key</th>\n",
       "      <th></th>\n",
       "    </tr>\n",
       "  </thead>\n",
       "  <tbody>\n",
       "    <tr>\n",
       "      <th>a</th>\n",
       "      <td>5</td>\n",
       "    </tr>\n",
       "    <tr>\n",
       "      <th>b</th>\n",
       "      <td>7</td>\n",
       "    </tr>\n",
       "    <tr>\n",
       "      <th>c</th>\n",
       "      <td>9</td>\n",
       "    </tr>\n",
       "  </tbody>\n",
       "</table>\n",
       "</div>"
      ],
      "text/plain": [
       "     data\n",
       "key      \n",
       "a       5\n",
       "b       7\n",
       "c       9"
      ]
     },
     "execution_count": 97,
     "metadata": {},
     "output_type": "execute_result"
    }
   ],
   "source": [
    "# pass in the column you are grouping by and the function you would\n",
    "df.groupby('key').agg(np.sum)"
   ]
  },
  {
   "cell_type": "markdown",
   "metadata": {},
   "source": [
    "### Alternative ways to get same result\n",
    "Like many operations in pandas there are many ways to achieve the same result. Some of the aggregation functions have string aliases that can be passed to the **`agg`** method."
   ]
  },
  {
   "cell_type": "code",
   "execution_count": 203,
   "metadata": {
    "collapsed": false
   },
   "outputs": [
    {
     "data": {
      "text/html": [
       "<div>\n",
       "<table border=\"1\" class=\"dataframe\">\n",
       "  <thead>\n",
       "    <tr style=\"text-align: right;\">\n",
       "      <th></th>\n",
       "      <th>data</th>\n",
       "    </tr>\n",
       "    <tr>\n",
       "      <th>key</th>\n",
       "      <th></th>\n",
       "    </tr>\n",
       "  </thead>\n",
       "  <tbody>\n",
       "    <tr>\n",
       "      <th>a</th>\n",
       "      <td>5</td>\n",
       "    </tr>\n",
       "    <tr>\n",
       "      <th>b</th>\n",
       "      <td>7</td>\n",
       "    </tr>\n",
       "    <tr>\n",
       "      <th>c</th>\n",
       "      <td>9</td>\n",
       "    </tr>\n",
       "  </tbody>\n",
       "</table>\n",
       "</div>"
      ],
      "text/plain": [
       "     data\n",
       "key      \n",
       "a       5\n",
       "b       7\n",
       "c       9"
      ]
     },
     "execution_count": 203,
     "metadata": {},
     "output_type": "execute_result"
    }
   ],
   "source": [
    "# most functions have string aliases\n",
    "df.groupby('key').agg('sum') "
   ]
  },
  {
   "cell_type": "code",
   "execution_count": 99,
   "metadata": {
    "collapsed": false
   },
   "outputs": [
    {
     "data": {
      "text/html": [
       "<div>\n",
       "<table border=\"1\" class=\"dataframe\">\n",
       "  <thead>\n",
       "    <tr style=\"text-align: right;\">\n",
       "      <th></th>\n",
       "      <th>data</th>\n",
       "    </tr>\n",
       "    <tr>\n",
       "      <th>key</th>\n",
       "      <th></th>\n",
       "    </tr>\n",
       "  </thead>\n",
       "  <tbody>\n",
       "    <tr>\n",
       "      <th>a</th>\n",
       "      <td>5</td>\n",
       "    </tr>\n",
       "    <tr>\n",
       "      <th>b</th>\n",
       "      <td>7</td>\n",
       "    </tr>\n",
       "    <tr>\n",
       "      <th>c</th>\n",
       "      <td>9</td>\n",
       "    </tr>\n",
       "  </tbody>\n",
       "</table>\n",
       "</div>"
      ],
      "text/plain": [
       "     data\n",
       "key      \n",
       "a       5\n",
       "b       7\n",
       "c       9"
      ]
     },
     "execution_count": 99,
     "metadata": {},
     "output_type": "execute_result"
    }
   ],
   "source": [
    "# can use the builtin python Functions\n",
    "df.groupby('key').agg(sum) "
   ]
  },
  {
   "cell_type": "markdown",
   "metadata": {},
   "source": [
    "It's possible and actually preferable to bypass the **`agg`** method altogether and directly call the aggregate function."
   ]
  },
  {
   "cell_type": "code",
   "execution_count": 190,
   "metadata": {
    "collapsed": false
   },
   "outputs": [
    {
     "data": {
      "text/html": [
       "<div>\n",
       "<table border=\"1\" class=\"dataframe\">\n",
       "  <thead>\n",
       "    <tr style=\"text-align: right;\">\n",
       "      <th></th>\n",
       "      <th>data</th>\n",
       "    </tr>\n",
       "    <tr>\n",
       "      <th>key</th>\n",
       "      <th></th>\n",
       "    </tr>\n",
       "  </thead>\n",
       "  <tbody>\n",
       "    <tr>\n",
       "      <th>a</th>\n",
       "      <td>5</td>\n",
       "    </tr>\n",
       "    <tr>\n",
       "      <th>b</th>\n",
       "      <td>7</td>\n",
       "    </tr>\n",
       "    <tr>\n",
       "      <th>c</th>\n",
       "      <td>9</td>\n",
       "    </tr>\n",
       "  </tbody>\n",
       "</table>\n",
       "</div>"
      ],
      "text/plain": [
       "     data\n",
       "key      \n",
       "a       5\n",
       "b       7\n",
       "c       9"
      ]
     },
     "execution_count": 190,
     "metadata": {},
     "output_type": "execute_result"
    }
   ],
   "source": [
    "# you can actually bypass the agg method all together for quite a few aggregate functions\n",
    "df.groupby('key').sum()"
   ]
  },
  {
   "cell_type": "markdown",
   "metadata": {},
   "source": [
    "[Check the docs as usual](http://pandas.pydata.org/pandas-docs/stable/groupby.html) for all the groupby powers (all the methods you can call after df.groupby('key).`<insert method>`"
   ]
  },
  {
   "cell_type": "markdown",
   "metadata": {},
   "source": [
    "### Aliases\n",
    "**`agg`** is an alias for **`aggregate`**. An alias just means another name for a Python construct that does the exact same thing. Aliases happen when importing Python modules and reference them with another name. For instance, **`import numpy as np`** allows access to all the **`numpy`** names with the alias **`np`**. This alias adds no additional functionality just shortens the amount of code needed to access the underlying functionality."
   ]
  },
  {
   "cell_type": "code",
   "execution_count": 100,
   "metadata": {
    "collapsed": false
   },
   "outputs": [
    {
     "data": {
      "text/html": [
       "<div>\n",
       "<table border=\"1\" class=\"dataframe\">\n",
       "  <thead>\n",
       "    <tr style=\"text-align: right;\">\n",
       "      <th></th>\n",
       "      <th>data</th>\n",
       "    </tr>\n",
       "    <tr>\n",
       "      <th>key</th>\n",
       "      <th></th>\n",
       "    </tr>\n",
       "  </thead>\n",
       "  <tbody>\n",
       "    <tr>\n",
       "      <th>a</th>\n",
       "      <td>5</td>\n",
       "    </tr>\n",
       "    <tr>\n",
       "      <th>b</th>\n",
       "      <td>7</td>\n",
       "    </tr>\n",
       "    <tr>\n",
       "      <th>c</th>\n",
       "      <td>9</td>\n",
       "    </tr>\n",
       "  </tbody>\n",
       "</table>\n",
       "</div>"
      ],
      "text/plain": [
       "     data\n",
       "key      \n",
       "a       5\n",
       "b       7\n",
       "c       9"
      ]
     },
     "execution_count": 100,
     "metadata": {},
     "output_type": "execute_result"
    }
   ],
   "source": [
    "# if you like being verbose you can use aggregate - aliased as agg\n",
    "df.groupby('key').aggregate(np.sum)"
   ]
  },
  {
   "cell_type": "markdown",
   "metadata": {},
   "source": [
    "### Removing the key from the index\n",
    "The default behavior of a groupby operation is to put the key in the index of the resulting object. This may be undesirable so you can change the **`as_index`** argument to **False**. It is defaulted to **True**."
   ]
  },
  {
   "cell_type": "code",
   "execution_count": 101,
   "metadata": {
    "collapsed": false
   },
   "outputs": [
    {
     "data": {
      "text/html": [
       "<div>\n",
       "<table border=\"1\" class=\"dataframe\">\n",
       "  <thead>\n",
       "    <tr style=\"text-align: right;\">\n",
       "      <th></th>\n",
       "      <th>key</th>\n",
       "      <th>data</th>\n",
       "    </tr>\n",
       "  </thead>\n",
       "  <tbody>\n",
       "    <tr>\n",
       "      <th>0</th>\n",
       "      <td>a</td>\n",
       "      <td>5</td>\n",
       "    </tr>\n",
       "    <tr>\n",
       "      <th>1</th>\n",
       "      <td>b</td>\n",
       "      <td>7</td>\n",
       "    </tr>\n",
       "    <tr>\n",
       "      <th>2</th>\n",
       "      <td>c</td>\n",
       "      <td>9</td>\n",
       "    </tr>\n",
       "  </tbody>\n",
       "</table>\n",
       "</div>"
      ],
      "text/plain": [
       "  key  data\n",
       "0   a     5\n",
       "1   b     7\n",
       "2   c     9"
      ]
     },
     "execution_count": 101,
     "metadata": {},
     "output_type": "execute_result"
    }
   ],
   "source": [
    "# if you want to move the index out use the as_index = False parameter \n",
    "df.groupby('key', as_index=False).aggregate(np.sum)"
   ]
  },
  {
   "cell_type": "markdown",
   "metadata": {},
   "source": [
    "Alternatively, you can chain the **`reset_index`** method to the result to have the key remain a column."
   ]
  },
  {
   "cell_type": "code",
   "execution_count": 102,
   "metadata": {
    "collapsed": false
   },
   "outputs": [
    {
     "data": {
      "text/html": [
       "<div>\n",
       "<table border=\"1\" class=\"dataframe\">\n",
       "  <thead>\n",
       "    <tr style=\"text-align: right;\">\n",
       "      <th></th>\n",
       "      <th>key</th>\n",
       "      <th>data</th>\n",
       "    </tr>\n",
       "  </thead>\n",
       "  <tbody>\n",
       "    <tr>\n",
       "      <th>0</th>\n",
       "      <td>a</td>\n",
       "      <td>5</td>\n",
       "    </tr>\n",
       "    <tr>\n",
       "      <th>1</th>\n",
       "      <td>b</td>\n",
       "      <td>7</td>\n",
       "    </tr>\n",
       "    <tr>\n",
       "      <th>2</th>\n",
       "      <td>c</td>\n",
       "      <td>9</td>\n",
       "    </tr>\n",
       "  </tbody>\n",
       "</table>\n",
       "</div>"
      ],
      "text/plain": [
       "  key  data\n",
       "0   a     5\n",
       "1   b     7\n",
       "2   c     9"
      ]
     },
     "execution_count": 102,
     "metadata": {},
     "output_type": "execute_result"
    }
   ],
   "source": [
    "df.groupby('key').aggregate('sum').reset_index()"
   ]
  },
  {
   "cell_type": "markdown",
   "metadata": {},
   "source": [
    "### Definition of Aggregation\n",
    "The term aggregation has been tossed around quite liberally in this notebook and it is important that it's definition is clear. An [**aggregation**](https://en.wikipedia.org/wiki/Aggregate_function) produces a single result for each group. A single summary statistic is returned after an aggregation. Examples include, max, min, sum, average, variance, count, count missing, etc... Not every function used with **`.agg`** produces a single result but almost all do."
   ]
  },
  {
   "cell_type": "markdown",
   "metadata": {},
   "source": [
    "### The groupby object\n",
    "Occasionally, you will want to inspect the groups by hand. All the examples above have implicitly used the **`groupby`** object by chaining a method directly after creating it. Here we will save and inspect it."
   ]
  },
  {
   "cell_type": "code",
   "execution_count": 162,
   "metadata": {
    "collapsed": true
   },
   "outputs": [],
   "source": [
    "# save groupby object\n",
    "grouped = df.groupby('key')"
   ]
  },
  {
   "cell_type": "code",
   "execution_count": 163,
   "metadata": {
    "collapsed": false
   },
   "outputs": [
    {
     "data": {
      "text/plain": [
       "pandas.core.groupby.DataFrameGroupBy"
      ]
     },
     "execution_count": 163,
     "metadata": {},
     "output_type": "execute_result"
    }
   ],
   "source": [
    "# verify it is a groupby object\n",
    "type(grouped)"
   ]
  },
  {
   "cell_type": "markdown",
   "metadata": {},
   "source": [
    "The groupby object is an iterable (can be placed directly in a for loop) and all groups can be iterated through one by one."
   ]
  },
  {
   "cell_type": "code",
   "execution_count": 167,
   "metadata": {
    "collapsed": false
   },
   "outputs": [
    {
     "name": "stdout",
     "output_type": "stream",
     "text": [
      "a\n",
      "  key  data\n",
      "0   a     1\n",
      "3   a     4\n",
      "\n",
      "b\n",
      "  key  data\n",
      "1   b     2\n",
      "4   b     5\n",
      "\n",
      "c\n",
      "  key  data\n",
      "2   c     3\n",
      "5   c     6\n",
      "\n"
     ]
    }
   ],
   "source": [
    "# grouped is actually an iterable and can be iterated over \n",
    "# its rare to ever do this but occasionally you will need to inspect by hand\n",
    "for name, group in grouped:\n",
    "    print(name, group, sep=\"\\n\", end=\"\\n\\n\")"
   ]
  },
  {
   "cell_type": "code",
   "execution_count": 169,
   "metadata": {
    "collapsed": false
   },
   "outputs": [
    {
     "name": "stdout",
     "output_type": "stream",
     "text": [
      "['agg', 'aggregate', 'all', 'any', 'apply', 'backfill', 'bfill', 'boxplot', 'corr', 'corrwith', 'count', 'cov', 'cumcount', 'cummax', 'cummin', 'cumprod', 'cumsum', 'data', 'describe', 'diff', 'dtypes', 'expanding', 'ffill', 'fillna', 'filter', 'first', 'get_group', 'groups', 'head', 'hist', 'idxmax', 'idxmin', 'indices', 'irow', 'key', 'last', 'mad', 'max', 'mean', 'median', 'min', 'name', 'ndim', 'ngroups', 'nth', 'ohlc', 'pad', 'pct_change', 'plot', 'prod', 'quantile', 'rank', 'resample', 'rolling', 'sem', 'shift', 'size', 'skew', 'std', 'sum', 'tail', 'take', 'transform', 'tshift', 'var']\n"
     ]
    }
   ],
   "source": [
    "# print all the public methods\n",
    "print([g for g in dir(grouped) if g[0] != '_'])"
   ]
  },
  {
   "cell_type": "markdown",
   "metadata": {},
   "source": [
    "### Exploring the methods and attributes of a groupby object\n",
    "Most of the methods and attributes are straightfoward."
   ]
  },
  {
   "cell_type": "code",
   "execution_count": 175,
   "metadata": {
    "collapsed": false
   },
   "outputs": [
    {
     "data": {
      "text/plain": [
       "3"
      ]
     },
     "execution_count": 175,
     "metadata": {},
     "output_type": "execute_result"
    }
   ],
   "source": [
    "# get the number of groups\n",
    "grouped.ngroups"
   ]
  },
  {
   "cell_type": "code",
   "execution_count": 184,
   "metadata": {
    "collapsed": false
   },
   "outputs": [
    {
     "data": {
      "text/plain": [
       "{'a': Int64Index([0, 3], dtype='int64'),\n",
       " 'b': Int64Index([1, 4], dtype='int64'),\n",
       " 'c': Int64Index([2, 5], dtype='int64')}"
      ]
     },
     "execution_count": 184,
     "metadata": {},
     "output_type": "execute_result"
    }
   ],
   "source": [
    "# see all the groups and their indices\n",
    "grouped.groups"
   ]
  },
  {
   "cell_type": "code",
   "execution_count": 188,
   "metadata": {
    "collapsed": false
   },
   "outputs": [
    {
     "data": {
      "text/html": [
       "<div>\n",
       "<table border=\"1\" class=\"dataframe\">\n",
       "  <thead>\n",
       "    <tr style=\"text-align: right;\">\n",
       "      <th></th>\n",
       "      <th>data</th>\n",
       "    </tr>\n",
       "    <tr>\n",
       "      <th>key</th>\n",
       "      <th></th>\n",
       "    </tr>\n",
       "  </thead>\n",
       "  <tbody>\n",
       "    <tr>\n",
       "      <th>a</th>\n",
       "      <td>1</td>\n",
       "    </tr>\n",
       "    <tr>\n",
       "      <th>b</th>\n",
       "      <td>2</td>\n",
       "    </tr>\n",
       "    <tr>\n",
       "      <th>c</th>\n",
       "      <td>3</td>\n",
       "    </tr>\n",
       "  </tbody>\n",
       "</table>\n",
       "</div>"
      ],
      "text/plain": [
       "     data\n",
       "key      \n",
       "a       1\n",
       "b       2\n",
       "c       3"
      ]
     },
     "execution_count": 188,
     "metadata": {},
     "output_type": "execute_result"
    }
   ],
   "source": [
    "# get first value of every group - an aggregation\n",
    "grouped.first()"
   ]
  },
  {
   "cell_type": "code",
   "execution_count": 189,
   "metadata": {
    "collapsed": false
   },
   "outputs": [
    {
     "data": {
      "text/html": [
       "<div>\n",
       "<table border=\"1\" class=\"dataframe\">\n",
       "  <thead>\n",
       "    <tr style=\"text-align: right;\">\n",
       "      <th></th>\n",
       "      <th>data</th>\n",
       "    </tr>\n",
       "    <tr>\n",
       "      <th>key</th>\n",
       "      <th></th>\n",
       "    </tr>\n",
       "  </thead>\n",
       "  <tbody>\n",
       "    <tr>\n",
       "      <th>a</th>\n",
       "      <td>2</td>\n",
       "    </tr>\n",
       "    <tr>\n",
       "      <th>b</th>\n",
       "      <td>2</td>\n",
       "    </tr>\n",
       "    <tr>\n",
       "      <th>c</th>\n",
       "      <td>2</td>\n",
       "    </tr>\n",
       "  </tbody>\n",
       "</table>\n",
       "</div>"
      ],
      "text/plain": [
       "     data\n",
       "key      \n",
       "a       2\n",
       "b       2\n",
       "c       2"
      ]
     },
     "execution_count": 189,
     "metadata": {},
     "output_type": "execute_result"
    }
   ],
   "source": [
    "# count the non-missing values in each group\n",
    "grouped.count()"
   ]
  },
  {
   "cell_type": "code",
   "execution_count": 191,
   "metadata": {
    "collapsed": false
   },
   "outputs": [
    {
     "data": {
      "text/html": [
       "<div>\n",
       "<table border=\"1\" class=\"dataframe\">\n",
       "  <thead>\n",
       "    <tr style=\"text-align: right;\">\n",
       "      <th></th>\n",
       "      <th>data</th>\n",
       "    </tr>\n",
       "    <tr>\n",
       "      <th>key</th>\n",
       "      <th></th>\n",
       "    </tr>\n",
       "  </thead>\n",
       "  <tbody>\n",
       "    <tr>\n",
       "      <th>a</th>\n",
       "      <td>3</td>\n",
       "    </tr>\n",
       "    <tr>\n",
       "      <th>b</th>\n",
       "      <td>4</td>\n",
       "    </tr>\n",
       "    <tr>\n",
       "      <th>c</th>\n",
       "      <td>5</td>\n",
       "    </tr>\n",
       "  </tbody>\n",
       "</table>\n",
       "</div>"
      ],
      "text/plain": [
       "     data\n",
       "key      \n",
       "a       3\n",
       "b       4\n",
       "c       5"
      ]
     },
     "execution_count": 191,
     "metadata": {},
     "output_type": "execute_result"
    }
   ],
   "source": [
    "# get the index of the max value for each group\n",
    "grouped.idxmax()"
   ]
  },
  {
   "cell_type": "code",
   "execution_count": 195,
   "metadata": {
    "collapsed": false
   },
   "outputs": [
    {
     "data": {
      "text/html": [
       "<div>\n",
       "<table border=\"1\" class=\"dataframe\">\n",
       "  <thead>\n",
       "    <tr style=\"text-align: right;\">\n",
       "      <th></th>\n",
       "      <th>data</th>\n",
       "    </tr>\n",
       "  </thead>\n",
       "  <tbody>\n",
       "    <tr>\n",
       "      <th>0</th>\n",
       "      <td>4.0</td>\n",
       "    </tr>\n",
       "    <tr>\n",
       "      <th>1</th>\n",
       "      <td>5.0</td>\n",
       "    </tr>\n",
       "    <tr>\n",
       "      <th>2</th>\n",
       "      <td>6.0</td>\n",
       "    </tr>\n",
       "    <tr>\n",
       "      <th>3</th>\n",
       "      <td>NaN</td>\n",
       "    </tr>\n",
       "    <tr>\n",
       "      <th>4</th>\n",
       "      <td>NaN</td>\n",
       "    </tr>\n",
       "    <tr>\n",
       "      <th>5</th>\n",
       "      <td>NaN</td>\n",
       "    </tr>\n",
       "  </tbody>\n",
       "</table>\n",
       "</div>"
      ],
      "text/plain": [
       "   data\n",
       "0   4.0\n",
       "1   5.0\n",
       "2   6.0\n",
       "3   NaN\n",
       "4   NaN\n",
       "5   NaN"
      ]
     },
     "execution_count": 195,
     "metadata": {},
     "output_type": "execute_result"
    }
   ],
   "source": [
    "# shift each element in each group down 1\n",
    "grouped.shift(-1)"
   ]
  },
  {
   "cell_type": "code",
   "execution_count": 196,
   "metadata": {
    "collapsed": false
   },
   "outputs": [
    {
     "data": {
      "text/html": [
       "<div>\n",
       "<table border=\"1\" class=\"dataframe\">\n",
       "  <thead>\n",
       "    <tr style=\"text-align: right;\">\n",
       "      <th></th>\n",
       "      <th></th>\n",
       "      <th>data</th>\n",
       "    </tr>\n",
       "    <tr>\n",
       "      <th>key</th>\n",
       "      <th></th>\n",
       "      <th></th>\n",
       "    </tr>\n",
       "  </thead>\n",
       "  <tbody>\n",
       "    <tr>\n",
       "      <th rowspan=\"8\" valign=\"top\">a</th>\n",
       "      <th>count</th>\n",
       "      <td>2.00000</td>\n",
       "    </tr>\n",
       "    <tr>\n",
       "      <th>mean</th>\n",
       "      <td>2.50000</td>\n",
       "    </tr>\n",
       "    <tr>\n",
       "      <th>std</th>\n",
       "      <td>2.12132</td>\n",
       "    </tr>\n",
       "    <tr>\n",
       "      <th>min</th>\n",
       "      <td>1.00000</td>\n",
       "    </tr>\n",
       "    <tr>\n",
       "      <th>25%</th>\n",
       "      <td>1.75000</td>\n",
       "    </tr>\n",
       "    <tr>\n",
       "      <th>50%</th>\n",
       "      <td>2.50000</td>\n",
       "    </tr>\n",
       "    <tr>\n",
       "      <th>75%</th>\n",
       "      <td>3.25000</td>\n",
       "    </tr>\n",
       "    <tr>\n",
       "      <th>max</th>\n",
       "      <td>4.00000</td>\n",
       "    </tr>\n",
       "    <tr>\n",
       "      <th rowspan=\"8\" valign=\"top\">b</th>\n",
       "      <th>count</th>\n",
       "      <td>2.00000</td>\n",
       "    </tr>\n",
       "    <tr>\n",
       "      <th>mean</th>\n",
       "      <td>3.50000</td>\n",
       "    </tr>\n",
       "    <tr>\n",
       "      <th>std</th>\n",
       "      <td>2.12132</td>\n",
       "    </tr>\n",
       "    <tr>\n",
       "      <th>min</th>\n",
       "      <td>2.00000</td>\n",
       "    </tr>\n",
       "    <tr>\n",
       "      <th>25%</th>\n",
       "      <td>2.75000</td>\n",
       "    </tr>\n",
       "    <tr>\n",
       "      <th>50%</th>\n",
       "      <td>3.50000</td>\n",
       "    </tr>\n",
       "    <tr>\n",
       "      <th>75%</th>\n",
       "      <td>4.25000</td>\n",
       "    </tr>\n",
       "    <tr>\n",
       "      <th>max</th>\n",
       "      <td>5.00000</td>\n",
       "    </tr>\n",
       "    <tr>\n",
       "      <th rowspan=\"8\" valign=\"top\">c</th>\n",
       "      <th>count</th>\n",
       "      <td>2.00000</td>\n",
       "    </tr>\n",
       "    <tr>\n",
       "      <th>mean</th>\n",
       "      <td>4.50000</td>\n",
       "    </tr>\n",
       "    <tr>\n",
       "      <th>std</th>\n",
       "      <td>2.12132</td>\n",
       "    </tr>\n",
       "    <tr>\n",
       "      <th>min</th>\n",
       "      <td>3.00000</td>\n",
       "    </tr>\n",
       "    <tr>\n",
       "      <th>25%</th>\n",
       "      <td>3.75000</td>\n",
       "    </tr>\n",
       "    <tr>\n",
       "      <th>50%</th>\n",
       "      <td>4.50000</td>\n",
       "    </tr>\n",
       "    <tr>\n",
       "      <th>75%</th>\n",
       "      <td>5.25000</td>\n",
       "    </tr>\n",
       "    <tr>\n",
       "      <th>max</th>\n",
       "      <td>6.00000</td>\n",
       "    </tr>\n",
       "  </tbody>\n",
       "</table>\n",
       "</div>"
      ],
      "text/plain": [
       "              data\n",
       "key               \n",
       "a   count  2.00000\n",
       "    mean   2.50000\n",
       "    std    2.12132\n",
       "    min    1.00000\n",
       "    25%    1.75000\n",
       "    50%    2.50000\n",
       "    75%    3.25000\n",
       "    max    4.00000\n",
       "b   count  2.00000\n",
       "    mean   3.50000\n",
       "    std    2.12132\n",
       "    min    2.00000\n",
       "    25%    2.75000\n",
       "    50%    3.50000\n",
       "    75%    4.25000\n",
       "    max    5.00000\n",
       "c   count  2.00000\n",
       "    mean   4.50000\n",
       "    std    2.12132\n",
       "    min    3.00000\n",
       "    25%    3.75000\n",
       "    50%    4.50000\n",
       "    75%    5.25000\n",
       "    max    6.00000"
      ]
     },
     "execution_count": 196,
     "metadata": {},
     "output_type": "execute_result"
    }
   ],
   "source": [
    "# one of the methods that returns many aggregations all at once for each group\n",
    "grouped.describe()"
   ]
  },
  {
   "cell_type": "code",
   "execution_count": 197,
   "metadata": {
    "collapsed": false
   },
   "outputs": [
    {
     "data": {
      "text/plain": [
       "key\n",
       "a    2\n",
       "b    2\n",
       "c    2\n",
       "dtype: int64"
      ]
     },
     "execution_count": 197,
     "metadata": {},
     "output_type": "execute_result"
    }
   ],
   "source": [
    "# gets total number of elements regardless if missing or not\n",
    "df.groupby('key').size()"
   ]
  },
  {
   "cell_type": "markdown",
   "metadata": {},
   "source": [
    "### More than one aggregate function\n",
    "You can apply more than one aggregate function to each group. Use a comma separated list of functions that you would like to apply to each group in the **`agg`** method."
   ]
  },
  {
   "cell_type": "code",
   "execution_count": 204,
   "metadata": {
    "collapsed": false
   },
   "outputs": [
    {
     "data": {
      "text/html": [
       "<div>\n",
       "<table border=\"1\" class=\"dataframe\">\n",
       "  <thead>\n",
       "    <tr>\n",
       "      <th></th>\n",
       "      <th colspan=\"3\" halign=\"left\">data</th>\n",
       "    </tr>\n",
       "    <tr>\n",
       "      <th></th>\n",
       "      <th>amax</th>\n",
       "      <th>median</th>\n",
       "      <th>size</th>\n",
       "    </tr>\n",
       "    <tr>\n",
       "      <th>key</th>\n",
       "      <th></th>\n",
       "      <th></th>\n",
       "      <th></th>\n",
       "    </tr>\n",
       "  </thead>\n",
       "  <tbody>\n",
       "    <tr>\n",
       "      <th>a</th>\n",
       "      <td>4</td>\n",
       "      <td>2.5</td>\n",
       "      <td>2</td>\n",
       "    </tr>\n",
       "    <tr>\n",
       "      <th>b</th>\n",
       "      <td>5</td>\n",
       "      <td>3.5</td>\n",
       "      <td>2</td>\n",
       "    </tr>\n",
       "    <tr>\n",
       "      <th>c</th>\n",
       "      <td>6</td>\n",
       "      <td>4.5</td>\n",
       "      <td>2</td>\n",
       "    </tr>\n",
       "  </tbody>\n",
       "</table>\n",
       "</div>"
      ],
      "text/plain": [
       "    data            \n",
       "    amax median size\n",
       "key                 \n",
       "a      4    2.5    2\n",
       "b      5    3.5    2\n",
       "c      6    4.5    2"
      ]
     },
     "execution_count": 204,
     "metadata": {},
     "output_type": "execute_result"
    }
   ],
   "source": [
    "# lets keep using our grouped by object\n",
    "grouped.agg([np.max, np.median, np.size])"
   ]
  },
  {
   "cell_type": "code",
   "execution_count": 205,
   "metadata": {
    "collapsed": false
   },
   "outputs": [
    {
     "data": {
      "text/html": [
       "<div>\n",
       "<table border=\"1\" class=\"dataframe\">\n",
       "  <thead>\n",
       "    <tr>\n",
       "      <th></th>\n",
       "      <th colspan=\"3\" halign=\"left\">data</th>\n",
       "    </tr>\n",
       "    <tr>\n",
       "      <th></th>\n",
       "      <th>max</th>\n",
       "      <th>median</th>\n",
       "      <th>size</th>\n",
       "    </tr>\n",
       "    <tr>\n",
       "      <th>key</th>\n",
       "      <th></th>\n",
       "      <th></th>\n",
       "      <th></th>\n",
       "    </tr>\n",
       "  </thead>\n",
       "  <tbody>\n",
       "    <tr>\n",
       "      <th>a</th>\n",
       "      <td>4</td>\n",
       "      <td>2.5</td>\n",
       "      <td>2</td>\n",
       "    </tr>\n",
       "    <tr>\n",
       "      <th>b</th>\n",
       "      <td>5</td>\n",
       "      <td>3.5</td>\n",
       "      <td>2</td>\n",
       "    </tr>\n",
       "    <tr>\n",
       "      <th>c</th>\n",
       "      <td>6</td>\n",
       "      <td>4.5</td>\n",
       "      <td>2</td>\n",
       "    </tr>\n",
       "  </tbody>\n",
       "</table>\n",
       "</div>"
      ],
      "text/plain": [
       "    data            \n",
       "     max median size\n",
       "key                 \n",
       "a      4    2.5    2\n",
       "b      5    3.5    2\n",
       "c      6    4.5    2"
      ]
     },
     "execution_count": 205,
     "metadata": {},
     "output_type": "execute_result"
    }
   ],
   "source": [
    "# can use strings of the same name\n",
    "grouped.agg(['max', 'median', 'size'])"
   ]
  },
  {
   "cell_type": "markdown",
   "metadata": {},
   "source": [
    "### Renaming Columns\n",
    "The **`agg`** groupby method can accept a dictionary of dictionaries that map column names to aggregation functions. The format works as such. \n",
    "\n",
    "**`{aggregated_column : {'new column name': agg function, 'new column name2' : agg function 2}} `**"
   ]
  },
  {
   "cell_type": "code",
   "execution_count": 214,
   "metadata": {
    "collapsed": false
   },
   "outputs": [
    {
     "data": {
      "text/html": [
       "<div>\n",
       "<table border=\"1\" class=\"dataframe\">\n",
       "  <thead>\n",
       "    <tr>\n",
       "      <th></th>\n",
       "      <th colspan=\"3\" halign=\"left\">data</th>\n",
       "    </tr>\n",
       "    <tr>\n",
       "      <th></th>\n",
       "      <th>CT</th>\n",
       "      <th>MAX</th>\n",
       "      <th>MEDIAN!</th>\n",
       "    </tr>\n",
       "    <tr>\n",
       "      <th>key</th>\n",
       "      <th></th>\n",
       "      <th></th>\n",
       "      <th></th>\n",
       "    </tr>\n",
       "  </thead>\n",
       "  <tbody>\n",
       "    <tr>\n",
       "      <th>a</th>\n",
       "      <td>2</td>\n",
       "      <td>4</td>\n",
       "      <td>2.5</td>\n",
       "    </tr>\n",
       "    <tr>\n",
       "      <th>b</th>\n",
       "      <td>2</td>\n",
       "      <td>5</td>\n",
       "      <td>3.5</td>\n",
       "    </tr>\n",
       "    <tr>\n",
       "      <th>c</th>\n",
       "      <td>2</td>\n",
       "      <td>6</td>\n",
       "      <td>4.5</td>\n",
       "    </tr>\n",
       "  </tbody>\n",
       "</table>\n",
       "</div>"
      ],
      "text/plain": [
       "    data            \n",
       "      CT MAX MEDIAN!\n",
       "key                 \n",
       "a      2   4     2.5\n",
       "b      2   5     3.5\n",
       "c      2   6     4.5"
      ]
     },
     "execution_count": 214,
     "metadata": {},
     "output_type": "execute_result"
    }
   ],
   "source": [
    "# rename columns with dictionary of dictionary\n",
    "grouped.agg({'data' : {'MAX': 'max', 'MEDIAN!': np.median, 'CT':'size'}})"
   ]
  },
  {
   "cell_type": "markdown",
   "metadata": {},
   "source": [
    "### An index with multiple levels - a hierarchical index\n",
    "\n",
    "The code cell above produced a DataFrame that has not been covered before. The column index has two levels. This is called a **hierarchical index** and allows for selection of data at different levels. Hierarchical indexes are represented by **`MultiIndex`** pandas objects."
   ]
  },
  {
   "cell_type": "code",
   "execution_count": 218,
   "metadata": {
    "collapsed": false
   },
   "outputs": [
    {
     "data": {
      "text/plain": [
       "MultiIndex(levels=[['data'], ['CT', 'MAX', 'MEDIAN!']],\n",
       "           labels=[[0, 0, 0], [0, 1, 2]])"
      ]
     },
     "execution_count": 218,
     "metadata": {},
     "output_type": "execute_result"
    }
   ],
   "source": [
    "# store above DataFrame into a variable\n",
    "df1 = grouped.agg({'data' : {'MAX': 'max', 'MEDIAN!': np.median, 'CT':'size'}})\n",
    "\n",
    "# a multiindex is produced\n",
    "df1.columns"
   ]
  },
  {
   "cell_type": "code",
   "execution_count": 215,
   "metadata": {
    "collapsed": false
   },
   "outputs": [
    {
     "data": {
      "text/html": [
       "<div>\n",
       "<table border=\"1\" class=\"dataframe\">\n",
       "  <thead>\n",
       "    <tr style=\"text-align: right;\">\n",
       "      <th></th>\n",
       "      <th>CT</th>\n",
       "      <th>MAX</th>\n",
       "      <th>MEDIAN!</th>\n",
       "    </tr>\n",
       "    <tr>\n",
       "      <th>key</th>\n",
       "      <th></th>\n",
       "      <th></th>\n",
       "      <th></th>\n",
       "    </tr>\n",
       "  </thead>\n",
       "  <tbody>\n",
       "    <tr>\n",
       "      <th>a</th>\n",
       "      <td>2</td>\n",
       "      <td>4</td>\n",
       "      <td>2.5</td>\n",
       "    </tr>\n",
       "    <tr>\n",
       "      <th>b</th>\n",
       "      <td>2</td>\n",
       "      <td>5</td>\n",
       "      <td>3.5</td>\n",
       "    </tr>\n",
       "    <tr>\n",
       "      <th>c</th>\n",
       "      <td>2</td>\n",
       "      <td>6</td>\n",
       "      <td>4.5</td>\n",
       "    </tr>\n",
       "  </tbody>\n",
       "</table>\n",
       "</div>"
      ],
      "text/plain": [
       "     CT  MAX  MEDIAN!\n",
       "key                  \n",
       "a     2    4      2.5\n",
       "b     2    5      3.5\n",
       "c     2    6      4.5"
      ]
     },
     "execution_count": 215,
     "metadata": {},
     "output_type": "execute_result"
    }
   ],
   "source": [
    "# alternate syntax\n",
    "# can specify in brackets the column name that is being aggregated first\n",
    "# now there is no need for a nested dictionary. A single dictionary will suffice\n",
    "\n",
    "# no hierarchical index is produced\n",
    "grouped['data'].agg({'MAX': 'max', 'MEDIAN!': np.median, 'CT':'size'})"
   ]
  },
  {
   "cell_type": "markdown",
   "metadata": {},
   "source": [
    "### Data with more than 2 columns\n",
    "The simple DataFrame used thus far has only two columns, one being the grouping column and the other being the aggregated column. It is possible to have larger datasets. The **`college`** dataset will now be used."
   ]
  },
  {
   "cell_type": "code",
   "execution_count": 4,
   "metadata": {
    "collapsed": true
   },
   "outputs": [],
   "source": [
    "college = pd.read_csv('data/college.csv')"
   ]
  },
  {
   "cell_type": "code",
   "execution_count": 5,
   "metadata": {
    "collapsed": true
   },
   "outputs": [],
   "source": [
    "# make all columns visible\n",
    "pd.options.display.max_columns = 40"
   ]
  },
  {
   "cell_type": "code",
   "execution_count": 6,
   "metadata": {
    "collapsed": false
   },
   "outputs": [
    {
     "data": {
      "text/html": [
       "<div>\n",
       "<table border=\"1\" class=\"dataframe\">\n",
       "  <thead>\n",
       "    <tr style=\"text-align: right;\">\n",
       "      <th></th>\n",
       "      <th>INSTNM</th>\n",
       "      <th>CITY</th>\n",
       "      <th>STABBR</th>\n",
       "      <th>HBCU</th>\n",
       "      <th>MENONLY</th>\n",
       "      <th>WOMENONLY</th>\n",
       "      <th>RELAFFIL</th>\n",
       "      <th>SATVRMID</th>\n",
       "      <th>SATMTMID</th>\n",
       "      <th>DISTANCEONLY</th>\n",
       "      <th>UGDS</th>\n",
       "      <th>UGDS_WHITE</th>\n",
       "      <th>UGDS_BLACK</th>\n",
       "      <th>UGDS_HISP</th>\n",
       "      <th>UGDS_ASIAN</th>\n",
       "      <th>UGDS_AIAN</th>\n",
       "      <th>UGDS_NHPI</th>\n",
       "      <th>UGDS_2MOR</th>\n",
       "      <th>UGDS_NRA</th>\n",
       "      <th>UGDS_UNKN</th>\n",
       "      <th>PPTUG_EF</th>\n",
       "      <th>CURROPER</th>\n",
       "      <th>PCTPELL</th>\n",
       "      <th>PCTFLOAN</th>\n",
       "      <th>UG25ABV</th>\n",
       "      <th>MD_EARN_WNE_P10</th>\n",
       "      <th>GRAD_DEBT_MDN_SUPP</th>\n",
       "    </tr>\n",
       "  </thead>\n",
       "  <tbody>\n",
       "    <tr>\n",
       "      <th>0</th>\n",
       "      <td>Alabama A &amp; M University</td>\n",
       "      <td>Normal</td>\n",
       "      <td>AL</td>\n",
       "      <td>1.0</td>\n",
       "      <td>0.0</td>\n",
       "      <td>0.0</td>\n",
       "      <td>0</td>\n",
       "      <td>424.0</td>\n",
       "      <td>420.0</td>\n",
       "      <td>0.0</td>\n",
       "      <td>4206.0</td>\n",
       "      <td>0.0333</td>\n",
       "      <td>0.9353</td>\n",
       "      <td>0.0055</td>\n",
       "      <td>0.0019</td>\n",
       "      <td>0.0024</td>\n",
       "      <td>0.0019</td>\n",
       "      <td>0.0000</td>\n",
       "      <td>0.0059</td>\n",
       "      <td>0.0138</td>\n",
       "      <td>0.0656</td>\n",
       "      <td>1</td>\n",
       "      <td>0.7356</td>\n",
       "      <td>0.8284</td>\n",
       "      <td>0.1049</td>\n",
       "      <td>30300</td>\n",
       "      <td>33888</td>\n",
       "    </tr>\n",
       "    <tr>\n",
       "      <th>1</th>\n",
       "      <td>University of Alabama at Birmingham</td>\n",
       "      <td>Birmingham</td>\n",
       "      <td>AL</td>\n",
       "      <td>0.0</td>\n",
       "      <td>0.0</td>\n",
       "      <td>0.0</td>\n",
       "      <td>0</td>\n",
       "      <td>570.0</td>\n",
       "      <td>565.0</td>\n",
       "      <td>0.0</td>\n",
       "      <td>11383.0</td>\n",
       "      <td>0.5922</td>\n",
       "      <td>0.2600</td>\n",
       "      <td>0.0283</td>\n",
       "      <td>0.0518</td>\n",
       "      <td>0.0022</td>\n",
       "      <td>0.0007</td>\n",
       "      <td>0.0368</td>\n",
       "      <td>0.0179</td>\n",
       "      <td>0.0100</td>\n",
       "      <td>0.2607</td>\n",
       "      <td>1</td>\n",
       "      <td>0.3460</td>\n",
       "      <td>0.5214</td>\n",
       "      <td>0.2422</td>\n",
       "      <td>39700</td>\n",
       "      <td>21941.5</td>\n",
       "    </tr>\n",
       "    <tr>\n",
       "      <th>2</th>\n",
       "      <td>Amridge University</td>\n",
       "      <td>Montgomery</td>\n",
       "      <td>AL</td>\n",
       "      <td>0.0</td>\n",
       "      <td>0.0</td>\n",
       "      <td>0.0</td>\n",
       "      <td>1</td>\n",
       "      <td>NaN</td>\n",
       "      <td>NaN</td>\n",
       "      <td>1.0</td>\n",
       "      <td>291.0</td>\n",
       "      <td>0.2990</td>\n",
       "      <td>0.4192</td>\n",
       "      <td>0.0069</td>\n",
       "      <td>0.0034</td>\n",
       "      <td>0.0000</td>\n",
       "      <td>0.0000</td>\n",
       "      <td>0.0000</td>\n",
       "      <td>0.0000</td>\n",
       "      <td>0.2715</td>\n",
       "      <td>0.4536</td>\n",
       "      <td>1</td>\n",
       "      <td>0.6801</td>\n",
       "      <td>0.7795</td>\n",
       "      <td>0.8540</td>\n",
       "      <td>40100</td>\n",
       "      <td>23370</td>\n",
       "    </tr>\n",
       "    <tr>\n",
       "      <th>3</th>\n",
       "      <td>University of Alabama in Huntsville</td>\n",
       "      <td>Huntsville</td>\n",
       "      <td>AL</td>\n",
       "      <td>0.0</td>\n",
       "      <td>0.0</td>\n",
       "      <td>0.0</td>\n",
       "      <td>0</td>\n",
       "      <td>595.0</td>\n",
       "      <td>590.0</td>\n",
       "      <td>0.0</td>\n",
       "      <td>5451.0</td>\n",
       "      <td>0.6988</td>\n",
       "      <td>0.1255</td>\n",
       "      <td>0.0382</td>\n",
       "      <td>0.0376</td>\n",
       "      <td>0.0143</td>\n",
       "      <td>0.0002</td>\n",
       "      <td>0.0172</td>\n",
       "      <td>0.0332</td>\n",
       "      <td>0.0350</td>\n",
       "      <td>0.2146</td>\n",
       "      <td>1</td>\n",
       "      <td>0.3072</td>\n",
       "      <td>0.4596</td>\n",
       "      <td>0.2640</td>\n",
       "      <td>45500</td>\n",
       "      <td>24097</td>\n",
       "    </tr>\n",
       "    <tr>\n",
       "      <th>4</th>\n",
       "      <td>Alabama State University</td>\n",
       "      <td>Montgomery</td>\n",
       "      <td>AL</td>\n",
       "      <td>1.0</td>\n",
       "      <td>0.0</td>\n",
       "      <td>0.0</td>\n",
       "      <td>0</td>\n",
       "      <td>425.0</td>\n",
       "      <td>430.0</td>\n",
       "      <td>0.0</td>\n",
       "      <td>4811.0</td>\n",
       "      <td>0.0158</td>\n",
       "      <td>0.9208</td>\n",
       "      <td>0.0121</td>\n",
       "      <td>0.0019</td>\n",
       "      <td>0.0010</td>\n",
       "      <td>0.0006</td>\n",
       "      <td>0.0098</td>\n",
       "      <td>0.0243</td>\n",
       "      <td>0.0137</td>\n",
       "      <td>0.0892</td>\n",
       "      <td>1</td>\n",
       "      <td>0.7347</td>\n",
       "      <td>0.7554</td>\n",
       "      <td>0.1270</td>\n",
       "      <td>26600</td>\n",
       "      <td>33118.5</td>\n",
       "    </tr>\n",
       "  </tbody>\n",
       "</table>\n",
       "</div>"
      ],
      "text/plain": [
       "                                INSTNM        CITY STABBR  HBCU  MENONLY  \\\n",
       "0             Alabama A & M University      Normal     AL   1.0      0.0   \n",
       "1  University of Alabama at Birmingham  Birmingham     AL   0.0      0.0   \n",
       "2                   Amridge University  Montgomery     AL   0.0      0.0   \n",
       "3  University of Alabama in Huntsville  Huntsville     AL   0.0      0.0   \n",
       "4             Alabama State University  Montgomery     AL   1.0      0.0   \n",
       "\n",
       "   WOMENONLY  RELAFFIL  SATVRMID  SATMTMID  DISTANCEONLY     UGDS  UGDS_WHITE  \\\n",
       "0        0.0         0     424.0     420.0           0.0   4206.0      0.0333   \n",
       "1        0.0         0     570.0     565.0           0.0  11383.0      0.5922   \n",
       "2        0.0         1       NaN       NaN           1.0    291.0      0.2990   \n",
       "3        0.0         0     595.0     590.0           0.0   5451.0      0.6988   \n",
       "4        0.0         0     425.0     430.0           0.0   4811.0      0.0158   \n",
       "\n",
       "   UGDS_BLACK  UGDS_HISP  UGDS_ASIAN  UGDS_AIAN  UGDS_NHPI  UGDS_2MOR  \\\n",
       "0      0.9353     0.0055      0.0019     0.0024     0.0019     0.0000   \n",
       "1      0.2600     0.0283      0.0518     0.0022     0.0007     0.0368   \n",
       "2      0.4192     0.0069      0.0034     0.0000     0.0000     0.0000   \n",
       "3      0.1255     0.0382      0.0376     0.0143     0.0002     0.0172   \n",
       "4      0.9208     0.0121      0.0019     0.0010     0.0006     0.0098   \n",
       "\n",
       "   UGDS_NRA  UGDS_UNKN  PPTUG_EF  CURROPER  PCTPELL  PCTFLOAN  UG25ABV  \\\n",
       "0    0.0059     0.0138    0.0656         1   0.7356    0.8284   0.1049   \n",
       "1    0.0179     0.0100    0.2607         1   0.3460    0.5214   0.2422   \n",
       "2    0.0000     0.2715    0.4536         1   0.6801    0.7795   0.8540   \n",
       "3    0.0332     0.0350    0.2146         1   0.3072    0.4596   0.2640   \n",
       "4    0.0243     0.0137    0.0892         1   0.7347    0.7554   0.1270   \n",
       "\n",
       "  MD_EARN_WNE_P10 GRAD_DEBT_MDN_SUPP  \n",
       "0           30300              33888  \n",
       "1           39700            21941.5  \n",
       "2           40100              23370  \n",
       "3           45500              24097  \n",
       "4           26600            33118.5  "
      ]
     },
     "execution_count": 6,
     "metadata": {},
     "output_type": "execute_result"
    }
   ],
   "source": [
    "# inspect the top 5 rows\n",
    "college.head()"
   ]
  },
  {
   "cell_type": "markdown",
   "metadata": {},
   "source": [
    "### Groupby a single variable again\n",
    "The college DataFrame has many more columns than the simple one above. The basic groupby works nearly the same for these frames with more than 2 columns but most of the operations require that the column being aggregated be specified."
   ]
  },
  {
   "cell_type": "code",
   "execution_count": 7,
   "metadata": {
    "collapsed": false
   },
   "outputs": [
    {
     "data": {
      "text/plain": [
       "STABBR\n",
       "AK     10\n",
       "AL     96\n",
       "AR     86\n",
       "AS      1\n",
       "AZ    133\n",
       "CA    773\n",
       "CO    125\n",
       "CT    102\n",
       "DC     26\n",
       "DE     19\n",
       "dtype: int64"
      ]
     },
     "execution_count": 7,
     "metadata": {},
     "output_type": "execute_result"
    }
   ],
   "source": [
    "# Find the states that have the most colleges \n",
    "# groupby STABBR and then aggregate using the size method\n",
    "# no aggregation column specified\n",
    "\n",
    "college.groupby('STABBR').size().head(10)"
   ]
  },
  {
   "cell_type": "markdown",
   "metadata": {},
   "source": [
    "The **`size`** groupby method is one of the few where the aggregation column does not need to be specified. In fact this method does nothing more than **`value_counts`**."
   ]
  },
  {
   "cell_type": "code",
   "execution_count": 8,
   "metadata": {
    "collapsed": false
   },
   "outputs": [
    {
     "data": {
      "text/plain": [
       "CA    773\n",
       "TX    472\n",
       "NY    459\n",
       "FL    436\n",
       "PA    394\n",
       "OH    352\n",
       "IL    300\n",
       "MI    207\n",
       "NC    204\n",
       "MA    194\n",
       "Name: STABBR, dtype: int64"
      ]
     },
     "execution_count": 8,
     "metadata": {},
     "output_type": "execute_result"
    }
   ],
   "source": [
    "# value_counts does the same thing but also sorts\n",
    "college['STABBR'].value_counts().head(10)"
   ]
  },
  {
   "cell_type": "markdown",
   "metadata": {},
   "source": [
    "### Issues with not specifying the aggregating columns\n",
    "When doing a groupby and then an aggregation, two different sets of columns are being used - the columns being grouped and the columns being aggregated. The grouping columns are necessary. The aggregation columns on the other hand are not. If no aggregation columns are given, then the aggregation method will be applied to all of the non-grouped columns.\n",
    "\n",
    "Most code thus far has specified the aggregation column but since the simple DataFrame only had one non-grouped columnm, the aggregation was applied on just that column."
   ]
  },
  {
   "cell_type": "code",
   "execution_count": 9,
   "metadata": {
    "collapsed": false
   },
   "outputs": [
    {
     "data": {
      "text/html": [
       "<div>\n",
       "<table border=\"1\" class=\"dataframe\">\n",
       "  <thead>\n",
       "    <tr style=\"text-align: right;\">\n",
       "      <th></th>\n",
       "      <th>HBCU</th>\n",
       "      <th>MENONLY</th>\n",
       "      <th>WOMENONLY</th>\n",
       "      <th>RELAFFIL</th>\n",
       "      <th>SATVRMID</th>\n",
       "      <th>SATMTMID</th>\n",
       "      <th>DISTANCEONLY</th>\n",
       "      <th>UGDS</th>\n",
       "      <th>UGDS_WHITE</th>\n",
       "      <th>UGDS_BLACK</th>\n",
       "      <th>UGDS_HISP</th>\n",
       "      <th>UGDS_ASIAN</th>\n",
       "      <th>UGDS_AIAN</th>\n",
       "      <th>UGDS_NHPI</th>\n",
       "      <th>UGDS_2MOR</th>\n",
       "      <th>UGDS_NRA</th>\n",
       "      <th>UGDS_UNKN</th>\n",
       "      <th>PPTUG_EF</th>\n",
       "      <th>CURROPER</th>\n",
       "      <th>PCTPELL</th>\n",
       "      <th>PCTFLOAN</th>\n",
       "      <th>UG25ABV</th>\n",
       "    </tr>\n",
       "    <tr>\n",
       "      <th>STABBR</th>\n",
       "      <th></th>\n",
       "      <th></th>\n",
       "      <th></th>\n",
       "      <th></th>\n",
       "      <th></th>\n",
       "      <th></th>\n",
       "      <th></th>\n",
       "      <th></th>\n",
       "      <th></th>\n",
       "      <th></th>\n",
       "      <th></th>\n",
       "      <th></th>\n",
       "      <th></th>\n",
       "      <th></th>\n",
       "      <th></th>\n",
       "      <th></th>\n",
       "      <th></th>\n",
       "      <th></th>\n",
       "      <th></th>\n",
       "      <th></th>\n",
       "      <th></th>\n",
       "      <th></th>\n",
       "    </tr>\n",
       "  </thead>\n",
       "  <tbody>\n",
       "    <tr>\n",
       "      <th>AK</th>\n",
       "      <td>0.000000</td>\n",
       "      <td>0.000000</td>\n",
       "      <td>0.000000</td>\n",
       "      <td>0.300000</td>\n",
       "      <td>555.000000</td>\n",
       "      <td>503.000000</td>\n",
       "      <td>0.000000</td>\n",
       "      <td>2493.200000</td>\n",
       "      <td>0.441070</td>\n",
       "      <td>0.028320</td>\n",
       "      <td>0.074010</td>\n",
       "      <td>0.046050</td>\n",
       "      <td>0.242540</td>\n",
       "      <td>0.016010</td>\n",
       "      <td>0.048280</td>\n",
       "      <td>0.005230</td>\n",
       "      <td>0.098470</td>\n",
       "      <td>0.325550</td>\n",
       "      <td>1.000000</td>\n",
       "      <td>0.394530</td>\n",
       "      <td>0.381660</td>\n",
       "      <td>0.506240</td>\n",
       "    </tr>\n",
       "    <tr>\n",
       "      <th>AL</th>\n",
       "      <td>0.166667</td>\n",
       "      <td>0.000000</td>\n",
       "      <td>0.011111</td>\n",
       "      <td>0.250000</td>\n",
       "      <td>508.476190</td>\n",
       "      <td>504.285714</td>\n",
       "      <td>0.011111</td>\n",
       "      <td>2789.865169</td>\n",
       "      <td>0.477513</td>\n",
       "      <td>0.422081</td>\n",
       "      <td>0.023597</td>\n",
       "      <td>0.009043</td>\n",
       "      <td>0.006187</td>\n",
       "      <td>0.001679</td>\n",
       "      <td>0.012596</td>\n",
       "      <td>0.008462</td>\n",
       "      <td>0.038836</td>\n",
       "      <td>0.247658</td>\n",
       "      <td>0.937500</td>\n",
       "      <td>0.603621</td>\n",
       "      <td>0.509734</td>\n",
       "      <td>0.387039</td>\n",
       "    </tr>\n",
       "    <tr>\n",
       "      <th>AR</th>\n",
       "      <td>0.048780</td>\n",
       "      <td>0.000000</td>\n",
       "      <td>0.000000</td>\n",
       "      <td>0.209302</td>\n",
       "      <td>491.875000</td>\n",
       "      <td>515.937500</td>\n",
       "      <td>0.000000</td>\n",
       "      <td>1644.146341</td>\n",
       "      <td>0.593701</td>\n",
       "      <td>0.291888</td>\n",
       "      <td>0.052059</td>\n",
       "      <td>0.009322</td>\n",
       "      <td>0.009121</td>\n",
       "      <td>0.001143</td>\n",
       "      <td>0.018289</td>\n",
       "      <td>0.010313</td>\n",
       "      <td>0.014157</td>\n",
       "      <td>0.190789</td>\n",
       "      <td>0.965116</td>\n",
       "      <td>0.581470</td>\n",
       "      <td>0.505556</td>\n",
       "      <td>0.356059</td>\n",
       "    </tr>\n",
       "    <tr>\n",
       "      <th>AS</th>\n",
       "      <td>0.000000</td>\n",
       "      <td>0.000000</td>\n",
       "      <td>0.000000</td>\n",
       "      <td>0.000000</td>\n",
       "      <td>NaN</td>\n",
       "      <td>NaN</td>\n",
       "      <td>0.000000</td>\n",
       "      <td>1276.000000</td>\n",
       "      <td>0.001600</td>\n",
       "      <td>0.000000</td>\n",
       "      <td>0.000000</td>\n",
       "      <td>0.004700</td>\n",
       "      <td>0.000000</td>\n",
       "      <td>0.919300</td>\n",
       "      <td>0.000000</td>\n",
       "      <td>0.072100</td>\n",
       "      <td>0.002400</td>\n",
       "      <td>0.438900</td>\n",
       "      <td>1.000000</td>\n",
       "      <td>0.724500</td>\n",
       "      <td>0.000000</td>\n",
       "      <td>0.177400</td>\n",
       "    </tr>\n",
       "    <tr>\n",
       "      <th>AZ</th>\n",
       "      <td>0.000000</td>\n",
       "      <td>0.000000</td>\n",
       "      <td>0.000000</td>\n",
       "      <td>0.067669</td>\n",
       "      <td>538.333333</td>\n",
       "      <td>536.666667</td>\n",
       "      <td>0.030075</td>\n",
       "      <td>4130.468254</td>\n",
       "      <td>0.439933</td>\n",
       "      <td>0.079717</td>\n",
       "      <td>0.270277</td>\n",
       "      <td>0.019196</td>\n",
       "      <td>0.062446</td>\n",
       "      <td>0.005358</td>\n",
       "      <td>0.029239</td>\n",
       "      <td>0.006382</td>\n",
       "      <td>0.087448</td>\n",
       "      <td>0.259733</td>\n",
       "      <td>0.879699</td>\n",
       "      <td>0.549792</td>\n",
       "      <td>0.543702</td>\n",
       "      <td>0.480859</td>\n",
       "    </tr>\n",
       "    <tr>\n",
       "      <th>CA</th>\n",
       "      <td>0.001429</td>\n",
       "      <td>0.001429</td>\n",
       "      <td>0.004286</td>\n",
       "      <td>0.212160</td>\n",
       "      <td>549.083333</td>\n",
       "      <td>562.902778</td>\n",
       "      <td>0.002857</td>\n",
       "      <td>3518.308397</td>\n",
       "      <td>0.285552</td>\n",
       "      <td>0.093199</td>\n",
       "      <td>0.377686</td>\n",
       "      <td>0.109572</td>\n",
       "      <td>0.006368</td>\n",
       "      <td>0.008625</td>\n",
       "      <td>0.032323</td>\n",
       "      <td>0.027345</td>\n",
       "      <td>0.057802</td>\n",
       "      <td>0.249757</td>\n",
       "      <td>0.860285</td>\n",
       "      <td>0.518089</td>\n",
       "      <td>0.446283</td>\n",
       "      <td>0.429779</td>\n",
       "    </tr>\n",
       "    <tr>\n",
       "      <th>CO</th>\n",
       "      <td>0.000000</td>\n",
       "      <td>0.000000</td>\n",
       "      <td>0.000000</td>\n",
       "      <td>0.056000</td>\n",
       "      <td>537.714286</td>\n",
       "      <td>540.214286</td>\n",
       "      <td>0.040323</td>\n",
       "      <td>2324.880342</td>\n",
       "      <td>0.549994</td>\n",
       "      <td>0.072085</td>\n",
       "      <td>0.181465</td>\n",
       "      <td>0.027321</td>\n",
       "      <td>0.012725</td>\n",
       "      <td>0.004146</td>\n",
       "      <td>0.039187</td>\n",
       "      <td>0.017256</td>\n",
       "      <td>0.078726</td>\n",
       "      <td>0.289150</td>\n",
       "      <td>0.904000</td>\n",
       "      <td>0.479792</td>\n",
       "      <td>0.547177</td>\n",
       "      <td>0.505041</td>\n",
       "    </tr>\n",
       "    <tr>\n",
       "      <th>CT</th>\n",
       "      <td>0.000000</td>\n",
       "      <td>0.000000</td>\n",
       "      <td>0.010870</td>\n",
       "      <td>0.166667</td>\n",
       "      <td>517.857143</td>\n",
       "      <td>522.500000</td>\n",
       "      <td>0.010870</td>\n",
       "      <td>1873.550562</td>\n",
       "      <td>0.524426</td>\n",
       "      <td>0.158501</td>\n",
       "      <td>0.179922</td>\n",
       "      <td>0.028096</td>\n",
       "      <td>0.002631</td>\n",
       "      <td>0.000835</td>\n",
       "      <td>0.024175</td>\n",
       "      <td>0.016624</td>\n",
       "      <td>0.053537</td>\n",
       "      <td>0.281913</td>\n",
       "      <td>0.882353</td>\n",
       "      <td>0.496229</td>\n",
       "      <td>0.490740</td>\n",
       "      <td>0.419941</td>\n",
       "    </tr>\n",
       "    <tr>\n",
       "      <th>DC</th>\n",
       "      <td>0.083333</td>\n",
       "      <td>0.000000</td>\n",
       "      <td>0.041667</td>\n",
       "      <td>0.346154</td>\n",
       "      <td>589.166667</td>\n",
       "      <td>588.333333</td>\n",
       "      <td>0.000000</td>\n",
       "      <td>2645.277778</td>\n",
       "      <td>0.256667</td>\n",
       "      <td>0.518117</td>\n",
       "      <td>0.068989</td>\n",
       "      <td>0.027639</td>\n",
       "      <td>0.002283</td>\n",
       "      <td>0.001694</td>\n",
       "      <td>0.033928</td>\n",
       "      <td>0.030394</td>\n",
       "      <td>0.060306</td>\n",
       "      <td>0.247194</td>\n",
       "      <td>0.961538</td>\n",
       "      <td>0.467861</td>\n",
       "      <td>0.573283</td>\n",
       "      <td>0.420782</td>\n",
       "    </tr>\n",
       "    <tr>\n",
       "      <th>DE</th>\n",
       "      <td>0.052632</td>\n",
       "      <td>0.000000</td>\n",
       "      <td>0.000000</td>\n",
       "      <td>0.157895</td>\n",
       "      <td>486.666667</td>\n",
       "      <td>495.000000</td>\n",
       "      <td>0.000000</td>\n",
       "      <td>2491.052632</td>\n",
       "      <td>0.522147</td>\n",
       "      <td>0.311711</td>\n",
       "      <td>0.066089</td>\n",
       "      <td>0.019105</td>\n",
       "      <td>0.003611</td>\n",
       "      <td>0.001026</td>\n",
       "      <td>0.037542</td>\n",
       "      <td>0.016953</td>\n",
       "      <td>0.021805</td>\n",
       "      <td>0.331932</td>\n",
       "      <td>1.000000</td>\n",
       "      <td>0.484211</td>\n",
       "      <td>0.551926</td>\n",
       "      <td>0.422658</td>\n",
       "    </tr>\n",
       "  </tbody>\n",
       "</table>\n",
       "</div>"
      ],
      "text/plain": [
       "            HBCU   MENONLY  WOMENONLY  RELAFFIL    SATVRMID    SATMTMID  \\\n",
       "STABBR                                                                    \n",
       "AK      0.000000  0.000000   0.000000  0.300000  555.000000  503.000000   \n",
       "AL      0.166667  0.000000   0.011111  0.250000  508.476190  504.285714   \n",
       "AR      0.048780  0.000000   0.000000  0.209302  491.875000  515.937500   \n",
       "AS      0.000000  0.000000   0.000000  0.000000         NaN         NaN   \n",
       "AZ      0.000000  0.000000   0.000000  0.067669  538.333333  536.666667   \n",
       "CA      0.001429  0.001429   0.004286  0.212160  549.083333  562.902778   \n",
       "CO      0.000000  0.000000   0.000000  0.056000  537.714286  540.214286   \n",
       "CT      0.000000  0.000000   0.010870  0.166667  517.857143  522.500000   \n",
       "DC      0.083333  0.000000   0.041667  0.346154  589.166667  588.333333   \n",
       "DE      0.052632  0.000000   0.000000  0.157895  486.666667  495.000000   \n",
       "\n",
       "        DISTANCEONLY         UGDS  UGDS_WHITE  UGDS_BLACK  UGDS_HISP  \\\n",
       "STABBR                                                                 \n",
       "AK          0.000000  2493.200000    0.441070    0.028320   0.074010   \n",
       "AL          0.011111  2789.865169    0.477513    0.422081   0.023597   \n",
       "AR          0.000000  1644.146341    0.593701    0.291888   0.052059   \n",
       "AS          0.000000  1276.000000    0.001600    0.000000   0.000000   \n",
       "AZ          0.030075  4130.468254    0.439933    0.079717   0.270277   \n",
       "CA          0.002857  3518.308397    0.285552    0.093199   0.377686   \n",
       "CO          0.040323  2324.880342    0.549994    0.072085   0.181465   \n",
       "CT          0.010870  1873.550562    0.524426    0.158501   0.179922   \n",
       "DC          0.000000  2645.277778    0.256667    0.518117   0.068989   \n",
       "DE          0.000000  2491.052632    0.522147    0.311711   0.066089   \n",
       "\n",
       "        UGDS_ASIAN  UGDS_AIAN  UGDS_NHPI  UGDS_2MOR  UGDS_NRA  UGDS_UNKN  \\\n",
       "STABBR                                                                     \n",
       "AK        0.046050   0.242540   0.016010   0.048280  0.005230   0.098470   \n",
       "AL        0.009043   0.006187   0.001679   0.012596  0.008462   0.038836   \n",
       "AR        0.009322   0.009121   0.001143   0.018289  0.010313   0.014157   \n",
       "AS        0.004700   0.000000   0.919300   0.000000  0.072100   0.002400   \n",
       "AZ        0.019196   0.062446   0.005358   0.029239  0.006382   0.087448   \n",
       "CA        0.109572   0.006368   0.008625   0.032323  0.027345   0.057802   \n",
       "CO        0.027321   0.012725   0.004146   0.039187  0.017256   0.078726   \n",
       "CT        0.028096   0.002631   0.000835   0.024175  0.016624   0.053537   \n",
       "DC        0.027639   0.002283   0.001694   0.033928  0.030394   0.060306   \n",
       "DE        0.019105   0.003611   0.001026   0.037542  0.016953   0.021805   \n",
       "\n",
       "        PPTUG_EF  CURROPER   PCTPELL  PCTFLOAN   UG25ABV  \n",
       "STABBR                                                    \n",
       "AK      0.325550  1.000000  0.394530  0.381660  0.506240  \n",
       "AL      0.247658  0.937500  0.603621  0.509734  0.387039  \n",
       "AR      0.190789  0.965116  0.581470  0.505556  0.356059  \n",
       "AS      0.438900  1.000000  0.724500  0.000000  0.177400  \n",
       "AZ      0.259733  0.879699  0.549792  0.543702  0.480859  \n",
       "CA      0.249757  0.860285  0.518089  0.446283  0.429779  \n",
       "CO      0.289150  0.904000  0.479792  0.547177  0.505041  \n",
       "CT      0.281913  0.882353  0.496229  0.490740  0.419941  \n",
       "DC      0.247194  0.961538  0.467861  0.573283  0.420782  \n",
       "DE      0.331932  1.000000  0.484211  0.551926  0.422658  "
      ]
     },
     "execution_count": 9,
     "metadata": {},
     "output_type": "execute_result"
    }
   ],
   "source": [
    "# The aggregation will be applied to all non-grouped columns\n",
    "# No aggregation column is specified\n",
    "# All non-grouped columns get aggregated - the mean is found in this case\n",
    "\n",
    "college.groupby('STABBR').mean().head(10)"
   ]
  },
  {
   "cell_type": "markdown",
   "metadata": {},
   "source": [
    "Since no aggregation columns were specified the mean of all the numeric columns were returned. The non-numeric columns were silently dropped."
   ]
  },
  {
   "cell_type": "markdown",
   "metadata": {},
   "source": [
    "### Easy syntax to specify aggregation column\n",
    "Aggregation columns are selected with the brackets after the groupby method. A list of columns can be used to aggregate multiple columns."
   ]
  },
  {
   "cell_type": "code",
   "execution_count": 10,
   "metadata": {
    "collapsed": false
   },
   "outputs": [
    {
     "data": {
      "text/plain": [
       "STABBR\n",
       "AK    0.000000\n",
       "AL    0.166667\n",
       "AR    0.048780\n",
       "AS    0.000000\n",
       "AZ    0.000000\n",
       "CA    0.001429\n",
       "CO    0.000000\n",
       "CT    0.000000\n",
       "DC    0.083333\n",
       "DE    0.052632\n",
       "Name: HBCU, dtype: float64"
      ]
     },
     "execution_count": 10,
     "metadata": {},
     "output_type": "execute_result"
    }
   ],
   "source": [
    "# Aggregate just a single column\n",
    "# Same syntax as selecting columns from a DataFrame\n",
    "\n",
    "college.groupby('STABBR')['HBCU'].mean().head(10)"
   ]
  },
  {
   "cell_type": "code",
   "execution_count": 11,
   "metadata": {
    "collapsed": false
   },
   "outputs": [
    {
     "data": {
      "text/html": [
       "<div>\n",
       "<table border=\"1\" class=\"dataframe\">\n",
       "  <thead>\n",
       "    <tr style=\"text-align: right;\">\n",
       "      <th></th>\n",
       "      <th>HBCU</th>\n",
       "      <th>UGDS</th>\n",
       "    </tr>\n",
       "    <tr>\n",
       "      <th>STABBR</th>\n",
       "      <th></th>\n",
       "      <th></th>\n",
       "    </tr>\n",
       "  </thead>\n",
       "  <tbody>\n",
       "    <tr>\n",
       "      <th>AK</th>\n",
       "      <td>0.000000</td>\n",
       "      <td>2493.200000</td>\n",
       "    </tr>\n",
       "    <tr>\n",
       "      <th>AL</th>\n",
       "      <td>0.166667</td>\n",
       "      <td>2789.865169</td>\n",
       "    </tr>\n",
       "    <tr>\n",
       "      <th>AR</th>\n",
       "      <td>0.048780</td>\n",
       "      <td>1644.146341</td>\n",
       "    </tr>\n",
       "    <tr>\n",
       "      <th>AS</th>\n",
       "      <td>0.000000</td>\n",
       "      <td>1276.000000</td>\n",
       "    </tr>\n",
       "    <tr>\n",
       "      <th>AZ</th>\n",
       "      <td>0.000000</td>\n",
       "      <td>4130.468254</td>\n",
       "    </tr>\n",
       "    <tr>\n",
       "      <th>CA</th>\n",
       "      <td>0.001429</td>\n",
       "      <td>3518.308397</td>\n",
       "    </tr>\n",
       "    <tr>\n",
       "      <th>CO</th>\n",
       "      <td>0.000000</td>\n",
       "      <td>2324.880342</td>\n",
       "    </tr>\n",
       "    <tr>\n",
       "      <th>CT</th>\n",
       "      <td>0.000000</td>\n",
       "      <td>1873.550562</td>\n",
       "    </tr>\n",
       "    <tr>\n",
       "      <th>DC</th>\n",
       "      <td>0.083333</td>\n",
       "      <td>2645.277778</td>\n",
       "    </tr>\n",
       "    <tr>\n",
       "      <th>DE</th>\n",
       "      <td>0.052632</td>\n",
       "      <td>2491.052632</td>\n",
       "    </tr>\n",
       "  </tbody>\n",
       "</table>\n",
       "</div>"
      ],
      "text/plain": [
       "            HBCU         UGDS\n",
       "STABBR                       \n",
       "AK      0.000000  2493.200000\n",
       "AL      0.166667  2789.865169\n",
       "AR      0.048780  1644.146341\n",
       "AS      0.000000  1276.000000\n",
       "AZ      0.000000  4130.468254\n",
       "CA      0.001429  3518.308397\n",
       "CO      0.000000  2324.880342\n",
       "CT      0.000000  1873.550562\n",
       "DC      0.083333  2645.277778\n",
       "DE      0.052632  2491.052632"
      ]
     },
     "execution_count": 11,
     "metadata": {},
     "output_type": "execute_result"
    }
   ],
   "source": [
    "# select more than 1 column to aggregate \n",
    "\n",
    "college.groupby('STABBR')['HBCU', 'UGDS'].mean().head(10)"
   ]
  },
  {
   "cell_type": "markdown",
   "metadata": {},
   "source": [
    "### Flexible use of dictionaries on aggregation\n",
    "\n",
    "A **single dictionary** can be used to perform different aggregations on different columns.\n",
    "\n",
    "A **dictionary of dictionaries** can be used to do the same thing but gives you the ability to rename the columns."
   ]
  },
  {
   "cell_type": "code",
   "execution_count": 35,
   "metadata": {
    "collapsed": false
   },
   "outputs": [
    {
     "data": {
      "text/html": [
       "<div>\n",
       "<table border=\"1\" class=\"dataframe\">\n",
       "  <thead>\n",
       "    <tr style=\"text-align: right;\">\n",
       "      <th></th>\n",
       "      <th>UGDS</th>\n",
       "      <th>HBCU</th>\n",
       "    </tr>\n",
       "    <tr>\n",
       "      <th>STABBR</th>\n",
       "      <th></th>\n",
       "      <th></th>\n",
       "    </tr>\n",
       "  </thead>\n",
       "  <tbody>\n",
       "    <tr>\n",
       "      <th>AK</th>\n",
       "      <td>12865.0</td>\n",
       "      <td>0.000000</td>\n",
       "    </tr>\n",
       "    <tr>\n",
       "      <th>AL</th>\n",
       "      <td>29851.0</td>\n",
       "      <td>0.166667</td>\n",
       "    </tr>\n",
       "    <tr>\n",
       "      <th>AR</th>\n",
       "      <td>21405.0</td>\n",
       "      <td>0.048780</td>\n",
       "    </tr>\n",
       "    <tr>\n",
       "      <th>AS</th>\n",
       "      <td>1276.0</td>\n",
       "      <td>0.000000</td>\n",
       "    </tr>\n",
       "    <tr>\n",
       "      <th>AZ</th>\n",
       "      <td>151558.0</td>\n",
       "      <td>0.000000</td>\n",
       "    </tr>\n",
       "    <tr>\n",
       "      <th>CA</th>\n",
       "      <td>44744.0</td>\n",
       "      <td>0.001429</td>\n",
       "    </tr>\n",
       "    <tr>\n",
       "      <th>CO</th>\n",
       "      <td>25873.0</td>\n",
       "      <td>0.000000</td>\n",
       "    </tr>\n",
       "    <tr>\n",
       "      <th>CT</th>\n",
       "      <td>18016.0</td>\n",
       "      <td>0.000000</td>\n",
       "    </tr>\n",
       "    <tr>\n",
       "      <th>DC</th>\n",
       "      <td>10433.0</td>\n",
       "      <td>0.083333</td>\n",
       "    </tr>\n",
       "    <tr>\n",
       "      <th>DE</th>\n",
       "      <td>18222.0</td>\n",
       "      <td>0.052632</td>\n",
       "    </tr>\n",
       "  </tbody>\n",
       "</table>\n",
       "</div>"
      ],
      "text/plain": [
       "            UGDS      HBCU\n",
       "STABBR                    \n",
       "AK       12865.0  0.000000\n",
       "AL       29851.0  0.166667\n",
       "AR       21405.0  0.048780\n",
       "AS        1276.0  0.000000\n",
       "AZ      151558.0  0.000000\n",
       "CA       44744.0  0.001429\n",
       "CO       25873.0  0.000000\n",
       "CT       18016.0  0.000000\n",
       "DC       10433.0  0.083333\n",
       "DE       18222.0  0.052632"
      ]
     },
     "execution_count": 35,
     "metadata": {},
     "output_type": "execute_result"
    }
   ],
   "source": [
    "# can also use a single dictionary to perform different aggregations on different columns\n",
    "college.groupby('STABBR').agg({'HBCU':'mean', 'UGDS':'max'}).head(10)"
   ]
  },
  {
   "cell_type": "markdown",
   "metadata": {},
   "source": [
    "### Use lists of functions to perform different aggregations on the same column\n",
    "\n",
    "Many times, different aggregations will need to be performed on the same column. Use a list of functions in the dictionary to accomplish this."
   ]
  },
  {
   "cell_type": "code",
   "execution_count": 45,
   "metadata": {
    "collapsed": false
   },
   "outputs": [
    {
     "data": {
      "text/html": [
       "<div>\n",
       "<table border=\"1\" class=\"dataframe\">\n",
       "  <thead>\n",
       "    <tr>\n",
       "      <th></th>\n",
       "      <th colspan=\"3\" halign=\"left\">UGDS</th>\n",
       "      <th>HBCU</th>\n",
       "      <th colspan=\"2\" halign=\"left\">UG25ABV</th>\n",
       "    </tr>\n",
       "    <tr>\n",
       "      <th></th>\n",
       "      <th>min</th>\n",
       "      <th>mean</th>\n",
       "      <th>max</th>\n",
       "      <th>mean</th>\n",
       "      <th>median</th>\n",
       "      <th>std</th>\n",
       "    </tr>\n",
       "    <tr>\n",
       "      <th>STABBR</th>\n",
       "      <th></th>\n",
       "      <th></th>\n",
       "      <th></th>\n",
       "      <th></th>\n",
       "      <th></th>\n",
       "      <th></th>\n",
       "    </tr>\n",
       "  </thead>\n",
       "  <tbody>\n",
       "    <tr>\n",
       "      <th>AK</th>\n",
       "      <td>27.0</td>\n",
       "      <td>2493.200000</td>\n",
       "      <td>12865.0</td>\n",
       "      <td>0.000000</td>\n",
       "      <td>0.51910</td>\n",
       "      <td>0.134334</td>\n",
       "    </tr>\n",
       "    <tr>\n",
       "      <th>AL</th>\n",
       "      <td>12.0</td>\n",
       "      <td>2789.865169</td>\n",
       "      <td>29851.0</td>\n",
       "      <td>0.166667</td>\n",
       "      <td>0.36795</td>\n",
       "      <td>0.223052</td>\n",
       "    </tr>\n",
       "    <tr>\n",
       "      <th>AR</th>\n",
       "      <td>18.0</td>\n",
       "      <td>1644.146341</td>\n",
       "      <td>21405.0</td>\n",
       "      <td>0.048780</td>\n",
       "      <td>0.35800</td>\n",
       "      <td>0.184185</td>\n",
       "    </tr>\n",
       "    <tr>\n",
       "      <th>AS</th>\n",
       "      <td>1276.0</td>\n",
       "      <td>1276.000000</td>\n",
       "      <td>1276.0</td>\n",
       "      <td>0.000000</td>\n",
       "      <td>0.17740</td>\n",
       "      <td>NaN</td>\n",
       "    </tr>\n",
       "    <tr>\n",
       "      <th>AZ</th>\n",
       "      <td>1.0</td>\n",
       "      <td>4130.468254</td>\n",
       "      <td>151558.0</td>\n",
       "      <td>0.000000</td>\n",
       "      <td>0.46840</td>\n",
       "      <td>0.204215</td>\n",
       "    </tr>\n",
       "  </tbody>\n",
       "</table>\n",
       "</div>"
      ],
      "text/plain": [
       "          UGDS                             HBCU  UG25ABV          \n",
       "           min         mean       max      mean   median       std\n",
       "STABBR                                                            \n",
       "AK        27.0  2493.200000   12865.0  0.000000  0.51910  0.134334\n",
       "AL        12.0  2789.865169   29851.0  0.166667  0.36795  0.223052\n",
       "AR        18.0  1644.146341   21405.0  0.048780  0.35800  0.184185\n",
       "AS      1276.0  1276.000000    1276.0  0.000000  0.17740       NaN\n",
       "AZ         1.0  4130.468254  151558.0  0.000000  0.46840  0.204215"
      ]
     },
     "execution_count": 45,
     "metadata": {},
     "output_type": "execute_result"
    }
   ],
   "source": [
    "# to make it easier to read use multiple lines for each column\n",
    "\n",
    "college.groupby('STABBR').agg({'HBCU':'mean', \n",
    "                               'UGDS':['min', 'mean', 'max'],\n",
    "                               'UG25ABV':['median', 'std']}).head()"
   ]
  },
  {
   "cell_type": "markdown",
   "metadata": {},
   "source": [
    "### Use a dictionary of dictionaries to rename aggregated columns\n",
    "\n",
    "The syntax for this was covered above but here it is again. Look at [this stackoverflow answer](http://stackoverflow.com/a/40962126/3707607) as well\n",
    "\n",
    "**`{aggregated_column : {'new column name': agg function, 'new column name2' : agg function 2},\n",
    "   aggregated_column2 : {'new column name3': agg function, 'new column name4' : agg function 3}} `**"
   ]
  },
  {
   "cell_type": "code",
   "execution_count": 251,
   "metadata": {
    "collapsed": false
   },
   "outputs": [
    {
     "data": {
      "text/html": [
       "<div>\n",
       "<table border=\"1\" class=\"dataframe\">\n",
       "  <thead>\n",
       "    <tr>\n",
       "      <th></th>\n",
       "      <th colspan=\"3\" halign=\"left\">UGDS</th>\n",
       "      <th>HBCU</th>\n",
       "      <th colspan=\"2\" halign=\"left\">UG25ABV</th>\n",
       "    </tr>\n",
       "    <tr>\n",
       "      <th></th>\n",
       "      <th>UGDS_mean</th>\n",
       "      <th>UGDS_max</th>\n",
       "      <th>UGDS_min</th>\n",
       "      <th>HBCU_mean</th>\n",
       "      <th>UG25ABV_median</th>\n",
       "      <th>UG25ABV_std</th>\n",
       "    </tr>\n",
       "    <tr>\n",
       "      <th>STABBR</th>\n",
       "      <th></th>\n",
       "      <th></th>\n",
       "      <th></th>\n",
       "      <th></th>\n",
       "      <th></th>\n",
       "      <th></th>\n",
       "    </tr>\n",
       "  </thead>\n",
       "  <tbody>\n",
       "    <tr>\n",
       "      <th>AK</th>\n",
       "      <td>2493.200000</td>\n",
       "      <td>12865.0</td>\n",
       "      <td>27.0</td>\n",
       "      <td>0.000000</td>\n",
       "      <td>0.51910</td>\n",
       "      <td>0.134334</td>\n",
       "    </tr>\n",
       "    <tr>\n",
       "      <th>AL</th>\n",
       "      <td>2789.865169</td>\n",
       "      <td>29851.0</td>\n",
       "      <td>12.0</td>\n",
       "      <td>0.166667</td>\n",
       "      <td>0.36795</td>\n",
       "      <td>0.223052</td>\n",
       "    </tr>\n",
       "    <tr>\n",
       "      <th>AR</th>\n",
       "      <td>1644.146341</td>\n",
       "      <td>21405.0</td>\n",
       "      <td>18.0</td>\n",
       "      <td>0.048780</td>\n",
       "      <td>0.35800</td>\n",
       "      <td>0.184185</td>\n",
       "    </tr>\n",
       "    <tr>\n",
       "      <th>AS</th>\n",
       "      <td>1276.000000</td>\n",
       "      <td>1276.0</td>\n",
       "      <td>1276.0</td>\n",
       "      <td>0.000000</td>\n",
       "      <td>0.17740</td>\n",
       "      <td>NaN</td>\n",
       "    </tr>\n",
       "    <tr>\n",
       "      <th>AZ</th>\n",
       "      <td>4130.468254</td>\n",
       "      <td>151558.0</td>\n",
       "      <td>1.0</td>\n",
       "      <td>0.000000</td>\n",
       "      <td>0.46840</td>\n",
       "      <td>0.204215</td>\n",
       "    </tr>\n",
       "    <tr>\n",
       "      <th>CA</th>\n",
       "      <td>3518.308397</td>\n",
       "      <td>44744.0</td>\n",
       "      <td>0.0</td>\n",
       "      <td>0.001429</td>\n",
       "      <td>0.40430</td>\n",
       "      <td>0.206506</td>\n",
       "    </tr>\n",
       "    <tr>\n",
       "      <th>CO</th>\n",
       "      <td>2324.880342</td>\n",
       "      <td>25873.0</td>\n",
       "      <td>0.0</td>\n",
       "      <td>0.000000</td>\n",
       "      <td>0.48555</td>\n",
       "      <td>0.229806</td>\n",
       "    </tr>\n",
       "    <tr>\n",
       "      <th>CT</th>\n",
       "      <td>1873.550562</td>\n",
       "      <td>18016.0</td>\n",
       "      <td>0.0</td>\n",
       "      <td>0.000000</td>\n",
       "      <td>0.42490</td>\n",
       "      <td>0.245002</td>\n",
       "    </tr>\n",
       "    <tr>\n",
       "      <th>DC</th>\n",
       "      <td>2645.277778</td>\n",
       "      <td>10433.0</td>\n",
       "      <td>22.0</td>\n",
       "      <td>0.083333</td>\n",
       "      <td>0.39180</td>\n",
       "      <td>0.309858</td>\n",
       "    </tr>\n",
       "    <tr>\n",
       "      <th>DE</th>\n",
       "      <td>2491.052632</td>\n",
       "      <td>18222.0</td>\n",
       "      <td>42.0</td>\n",
       "      <td>0.052632</td>\n",
       "      <td>0.38750</td>\n",
       "      <td>0.246804</td>\n",
       "    </tr>\n",
       "  </tbody>\n",
       "</table>\n",
       "</div>"
      ],
      "text/plain": [
       "               UGDS                         HBCU        UG25ABV            \n",
       "          UGDS_mean  UGDS_max UGDS_min HBCU_mean UG25ABV_median UG25ABV_std\n",
       "STABBR                                                                     \n",
       "AK      2493.200000   12865.0     27.0  0.000000        0.51910    0.134334\n",
       "AL      2789.865169   29851.0     12.0  0.166667        0.36795    0.223052\n",
       "AR      1644.146341   21405.0     18.0  0.048780        0.35800    0.184185\n",
       "AS      1276.000000    1276.0   1276.0  0.000000        0.17740         NaN\n",
       "AZ      4130.468254  151558.0      1.0  0.000000        0.46840    0.204215\n",
       "CA      3518.308397   44744.0      0.0  0.001429        0.40430    0.206506\n",
       "CO      2324.880342   25873.0      0.0  0.000000        0.48555    0.229806\n",
       "CT      1873.550562   18016.0      0.0  0.000000        0.42490    0.245002\n",
       "DC      2645.277778   10433.0     22.0  0.083333        0.39180    0.309858\n",
       "DE      2491.052632   18222.0     42.0  0.052632        0.38750    0.246804"
      ]
     },
     "execution_count": 251,
     "metadata": {},
     "output_type": "execute_result"
    }
   ],
   "source": [
    "# to make it easier to read use multiple lines for each column\n",
    "\n",
    "college_1 = college.groupby('STABBR').agg({'HBCU': {'HBCU_mean':'mean'}, \n",
    "                               'UGDS':{'UGDS_min':'min', 'UGDS_mean':'mean', 'UGDS_max':'max'},\n",
    "                               'UG25ABV':{'UG25ABV_median':'median', 'UG25ABV_std': 'std'}})\n",
    "\n",
    "college_1.head(10)"
   ]
  },
  {
   "cell_type": "markdown",
   "metadata": {},
   "source": [
    "### Removing level of column index\n",
    "\n",
    "Now that the columns have been renamed, the top **level** of the DataFrame columns above is not needed. The **`droplevel`** index method will remove one of the levels. Each level is 0-indexed starting from the top. Pass the level number to **`droplevel`** in order to drop it."
   ]
  },
  {
   "cell_type": "code",
   "execution_count": 252,
   "metadata": {
    "collapsed": false
   },
   "outputs": [
    {
     "data": {
      "text/html": [
       "<div>\n",
       "<table border=\"1\" class=\"dataframe\">\n",
       "  <thead>\n",
       "    <tr style=\"text-align: right;\">\n",
       "      <th></th>\n",
       "      <th>UGDS_mean</th>\n",
       "      <th>UGDS_max</th>\n",
       "      <th>UGDS_min</th>\n",
       "      <th>HBCU_mean</th>\n",
       "      <th>UG25ABV_median</th>\n",
       "      <th>UG25ABV_std</th>\n",
       "    </tr>\n",
       "    <tr>\n",
       "      <th>STABBR</th>\n",
       "      <th></th>\n",
       "      <th></th>\n",
       "      <th></th>\n",
       "      <th></th>\n",
       "      <th></th>\n",
       "      <th></th>\n",
       "    </tr>\n",
       "  </thead>\n",
       "  <tbody>\n",
       "    <tr>\n",
       "      <th>AK</th>\n",
       "      <td>2493.200000</td>\n",
       "      <td>12865.0</td>\n",
       "      <td>27.0</td>\n",
       "      <td>0.000000</td>\n",
       "      <td>0.51910</td>\n",
       "      <td>0.134334</td>\n",
       "    </tr>\n",
       "    <tr>\n",
       "      <th>AL</th>\n",
       "      <td>2789.865169</td>\n",
       "      <td>29851.0</td>\n",
       "      <td>12.0</td>\n",
       "      <td>0.166667</td>\n",
       "      <td>0.36795</td>\n",
       "      <td>0.223052</td>\n",
       "    </tr>\n",
       "    <tr>\n",
       "      <th>AR</th>\n",
       "      <td>1644.146341</td>\n",
       "      <td>21405.0</td>\n",
       "      <td>18.0</td>\n",
       "      <td>0.048780</td>\n",
       "      <td>0.35800</td>\n",
       "      <td>0.184185</td>\n",
       "    </tr>\n",
       "    <tr>\n",
       "      <th>AS</th>\n",
       "      <td>1276.000000</td>\n",
       "      <td>1276.0</td>\n",
       "      <td>1276.0</td>\n",
       "      <td>0.000000</td>\n",
       "      <td>0.17740</td>\n",
       "      <td>NaN</td>\n",
       "    </tr>\n",
       "    <tr>\n",
       "      <th>AZ</th>\n",
       "      <td>4130.468254</td>\n",
       "      <td>151558.0</td>\n",
       "      <td>1.0</td>\n",
       "      <td>0.000000</td>\n",
       "      <td>0.46840</td>\n",
       "      <td>0.204215</td>\n",
       "    </tr>\n",
       "  </tbody>\n",
       "</table>\n",
       "</div>"
      ],
      "text/plain": [
       "          UGDS_mean  UGDS_max  UGDS_min  HBCU_mean  UG25ABV_median  \\\n",
       "STABBR                                                               \n",
       "AK      2493.200000   12865.0      27.0   0.000000         0.51910   \n",
       "AL      2789.865169   29851.0      12.0   0.166667         0.36795   \n",
       "AR      1644.146341   21405.0      18.0   0.048780         0.35800   \n",
       "AS      1276.000000    1276.0    1276.0   0.000000         0.17740   \n",
       "AZ      4130.468254  151558.0       1.0   0.000000         0.46840   \n",
       "\n",
       "        UG25ABV_std  \n",
       "STABBR               \n",
       "AK         0.134334  \n",
       "AL         0.223052  \n",
       "AR         0.184185  \n",
       "AS              NaN  \n",
       "AZ         0.204215  "
      ]
     },
     "execution_count": 252,
     "metadata": {},
     "output_type": "execute_result"
    }
   ],
   "source": [
    "# drop a level and store result as new columns\n",
    "college_1.columns = college_1.columns.droplevel(0)\n",
    "\n",
    "# unnecessary column level removed\n",
    "college_1.head()"
   ]
  },
  {
   "cell_type": "markdown",
   "metadata": {},
   "source": [
    "### Grouping multiple columns\n",
    "\n",
    "Thus far, all examples have formed groups from a single column. Any number of columns can be used to form groups. Simply pass all the columns in a list into the **`groupby`** function. All grouped columns will be forced into the index."
   ]
  },
  {
   "cell_type": "code",
   "execution_count": 92,
   "metadata": {
    "collapsed": false
   },
   "outputs": [
    {
     "data": {
      "text/plain": [
       "STABBR  RELAFFIL\n",
       "AK      0           3508.857143\n",
       "        1            123.333333\n",
       "AL      0           3248.774648\n",
       "        1            979.722222\n",
       "AR      0           1793.691176\n",
       "        1            917.785714\n",
       "AS      0           1276.000000\n",
       "AZ      0           4363.533898\n",
       "        1            692.750000\n",
       "CA      0           3802.089810\n",
       "Name: UGDS, dtype: float64"
      ]
     },
     "execution_count": 92,
     "metadata": {},
     "output_type": "execute_result"
    }
   ],
   "source": [
    "# Group by state and religious affiliation\n",
    "# find average undergraduate populate by state and religious affiliation\n",
    "# returns a series since its aggregating one column\n",
    "\n",
    "college.groupby(['STABBR', 'RELAFFIL'])['UGDS'].mean().head(10)"
   ]
  },
  {
   "cell_type": "code",
   "execution_count": 98,
   "metadata": {
    "collapsed": false
   },
   "outputs": [
    {
     "data": {
      "text/html": [
       "<div>\n",
       "<table border=\"1\" class=\"dataframe\">\n",
       "  <thead>\n",
       "    <tr style=\"text-align: right;\">\n",
       "      <th></th>\n",
       "      <th></th>\n",
       "      <th>size</th>\n",
       "      <th>min</th>\n",
       "      <th>max</th>\n",
       "    </tr>\n",
       "    <tr>\n",
       "      <th>STABBR</th>\n",
       "      <th>RELAFFIL</th>\n",
       "      <th></th>\n",
       "      <th></th>\n",
       "      <th></th>\n",
       "    </tr>\n",
       "  </thead>\n",
       "  <tbody>\n",
       "    <tr>\n",
       "      <th rowspan=\"2\" valign=\"top\">AK</th>\n",
       "      <th>0</th>\n",
       "      <td>7</td>\n",
       "      <td>109.0</td>\n",
       "      <td>12865.0</td>\n",
       "    </tr>\n",
       "    <tr>\n",
       "      <th>1</th>\n",
       "      <td>3</td>\n",
       "      <td>27.0</td>\n",
       "      <td>275.0</td>\n",
       "    </tr>\n",
       "    <tr>\n",
       "      <th rowspan=\"2\" valign=\"top\">AL</th>\n",
       "      <th>0</th>\n",
       "      <td>72</td>\n",
       "      <td>12.0</td>\n",
       "      <td>29851.0</td>\n",
       "    </tr>\n",
       "    <tr>\n",
       "      <th>1</th>\n",
       "      <td>24</td>\n",
       "      <td>13.0</td>\n",
       "      <td>3033.0</td>\n",
       "    </tr>\n",
       "    <tr>\n",
       "      <th rowspan=\"2\" valign=\"top\">AR</th>\n",
       "      <th>0</th>\n",
       "      <td>68</td>\n",
       "      <td>18.0</td>\n",
       "      <td>21405.0</td>\n",
       "    </tr>\n",
       "    <tr>\n",
       "      <th>1</th>\n",
       "      <td>18</td>\n",
       "      <td>20.0</td>\n",
       "      <td>4485.0</td>\n",
       "    </tr>\n",
       "    <tr>\n",
       "      <th>AS</th>\n",
       "      <th>0</th>\n",
       "      <td>1</td>\n",
       "      <td>1276.0</td>\n",
       "      <td>1276.0</td>\n",
       "    </tr>\n",
       "    <tr>\n",
       "      <th rowspan=\"2\" valign=\"top\">AZ</th>\n",
       "      <th>0</th>\n",
       "      <td>124</td>\n",
       "      <td>1.0</td>\n",
       "      <td>151558.0</td>\n",
       "    </tr>\n",
       "    <tr>\n",
       "      <th>1</th>\n",
       "      <td>9</td>\n",
       "      <td>25.0</td>\n",
       "      <td>4102.0</td>\n",
       "    </tr>\n",
       "    <tr>\n",
       "      <th rowspan=\"2\" valign=\"top\">CA</th>\n",
       "      <th>0</th>\n",
       "      <td>609</td>\n",
       "      <td>0.0</td>\n",
       "      <td>44744.0</td>\n",
       "    </tr>\n",
       "    <tr>\n",
       "      <th>1</th>\n",
       "      <td>164</td>\n",
       "      <td>8.0</td>\n",
       "      <td>6745.0</td>\n",
       "    </tr>\n",
       "    <tr>\n",
       "      <th>CO</th>\n",
       "      <th>0</th>\n",
       "      <td>118</td>\n",
       "      <td>0.0</td>\n",
       "      <td>25873.0</td>\n",
       "    </tr>\n",
       "  </tbody>\n",
       "</table>\n",
       "</div>"
      ],
      "text/plain": [
       "                 size     min       max\n",
       "STABBR RELAFFIL                        \n",
       "AK     0            7   109.0   12865.0\n",
       "       1            3    27.0     275.0\n",
       "AL     0           72    12.0   29851.0\n",
       "       1           24    13.0    3033.0\n",
       "AR     0           68    18.0   21405.0\n",
       "       1           18    20.0    4485.0\n",
       "AS     0            1  1276.0    1276.0\n",
       "AZ     0          124     1.0  151558.0\n",
       "       1            9    25.0    4102.0\n",
       "CA     0          609     0.0   44744.0\n",
       "       1          164     8.0    6745.0\n",
       "CO     0          118     0.0   25873.0"
      ]
     },
     "execution_count": 98,
     "metadata": {},
     "output_type": "execute_result"
    }
   ],
   "source": [
    "# multiple aggregation functions\n",
    "\n",
    "college.groupby(['STABBR', 'RELAFFIL'])['UGDS'].agg(['size', 'min', 'max']).head(12)"
   ]
  },
  {
   "cell_type": "code",
   "execution_count": 170,
   "metadata": {
    "collapsed": false
   },
   "outputs": [
    {
     "data": {
      "text/html": [
       "<div>\n",
       "<table border=\"1\" class=\"dataframe\">\n",
       "  <thead>\n",
       "    <tr>\n",
       "      <th></th>\n",
       "      <th></th>\n",
       "      <th colspan=\"3\" halign=\"left\">UGDS</th>\n",
       "      <th colspan=\"3\" halign=\"left\">SATMTMID</th>\n",
       "    </tr>\n",
       "    <tr>\n",
       "      <th></th>\n",
       "      <th></th>\n",
       "      <th>size</th>\n",
       "      <th>min</th>\n",
       "      <th>max</th>\n",
       "      <th>size</th>\n",
       "      <th>min</th>\n",
       "      <th>max</th>\n",
       "    </tr>\n",
       "    <tr>\n",
       "      <th>STABBR</th>\n",
       "      <th>RELAFFIL</th>\n",
       "      <th></th>\n",
       "      <th></th>\n",
       "      <th></th>\n",
       "      <th></th>\n",
       "      <th></th>\n",
       "      <th></th>\n",
       "    </tr>\n",
       "  </thead>\n",
       "  <tbody>\n",
       "    <tr>\n",
       "      <th rowspan=\"2\" valign=\"top\">AK</th>\n",
       "      <th>0</th>\n",
       "      <td>7</td>\n",
       "      <td>109.0</td>\n",
       "      <td>12865.0</td>\n",
       "      <td>7</td>\n",
       "      <td>NaN</td>\n",
       "      <td>NaN</td>\n",
       "    </tr>\n",
       "    <tr>\n",
       "      <th>1</th>\n",
       "      <td>3</td>\n",
       "      <td>27.0</td>\n",
       "      <td>275.0</td>\n",
       "      <td>3</td>\n",
       "      <td>503.0</td>\n",
       "      <td>503.0</td>\n",
       "    </tr>\n",
       "    <tr>\n",
       "      <th rowspan=\"2\" valign=\"top\">AL</th>\n",
       "      <th>0</th>\n",
       "      <td>72</td>\n",
       "      <td>12.0</td>\n",
       "      <td>29851.0</td>\n",
       "      <td>72</td>\n",
       "      <td>420.0</td>\n",
       "      <td>590.0</td>\n",
       "    </tr>\n",
       "    <tr>\n",
       "      <th>1</th>\n",
       "      <td>24</td>\n",
       "      <td>13.0</td>\n",
       "      <td>3033.0</td>\n",
       "      <td>24</td>\n",
       "      <td>400.0</td>\n",
       "      <td>560.0</td>\n",
       "    </tr>\n",
       "    <tr>\n",
       "      <th rowspan=\"2\" valign=\"top\">AR</th>\n",
       "      <th>0</th>\n",
       "      <td>68</td>\n",
       "      <td>18.0</td>\n",
       "      <td>21405.0</td>\n",
       "      <td>68</td>\n",
       "      <td>427.0</td>\n",
       "      <td>565.0</td>\n",
       "    </tr>\n",
       "    <tr>\n",
       "      <th>1</th>\n",
       "      <td>18</td>\n",
       "      <td>20.0</td>\n",
       "      <td>4485.0</td>\n",
       "      <td>18</td>\n",
       "      <td>495.0</td>\n",
       "      <td>600.0</td>\n",
       "    </tr>\n",
       "    <tr>\n",
       "      <th>AS</th>\n",
       "      <th>0</th>\n",
       "      <td>1</td>\n",
       "      <td>1276.0</td>\n",
       "      <td>1276.0</td>\n",
       "      <td>1</td>\n",
       "      <td>NaN</td>\n",
       "      <td>NaN</td>\n",
       "    </tr>\n",
       "    <tr>\n",
       "      <th rowspan=\"2\" valign=\"top\">AZ</th>\n",
       "      <th>0</th>\n",
       "      <td>124</td>\n",
       "      <td>1.0</td>\n",
       "      <td>151558.0</td>\n",
       "      <td>124</td>\n",
       "      <td>503.0</td>\n",
       "      <td>580.0</td>\n",
       "    </tr>\n",
       "    <tr>\n",
       "      <th>1</th>\n",
       "      <td>9</td>\n",
       "      <td>25.0</td>\n",
       "      <td>4102.0</td>\n",
       "      <td>9</td>\n",
       "      <td>480.0</td>\n",
       "      <td>480.0</td>\n",
       "    </tr>\n",
       "    <tr>\n",
       "      <th rowspan=\"2\" valign=\"top\">CA</th>\n",
       "      <th>0</th>\n",
       "      <td>609</td>\n",
       "      <td>0.0</td>\n",
       "      <td>44744.0</td>\n",
       "      <td>609</td>\n",
       "      <td>445.0</td>\n",
       "      <td>785.0</td>\n",
       "    </tr>\n",
       "    <tr>\n",
       "      <th>1</th>\n",
       "      <td>164</td>\n",
       "      <td>8.0</td>\n",
       "      <td>6745.0</td>\n",
       "      <td>164</td>\n",
       "      <td>441.0</td>\n",
       "      <td>665.0</td>\n",
       "    </tr>\n",
       "    <tr>\n",
       "      <th>CO</th>\n",
       "      <th>0</th>\n",
       "      <td>118</td>\n",
       "      <td>0.0</td>\n",
       "      <td>25873.0</td>\n",
       "      <td>118</td>\n",
       "      <td>424.0</td>\n",
       "      <td>680.0</td>\n",
       "    </tr>\n",
       "  </tbody>\n",
       "</table>\n",
       "</div>"
      ],
      "text/plain": [
       "                UGDS                   SATMTMID              \n",
       "                size     min       max     size    min    max\n",
       "STABBR RELAFFIL                                              \n",
       "AK     0           7   109.0   12865.0        7    NaN    NaN\n",
       "       1           3    27.0     275.0        3  503.0  503.0\n",
       "AL     0          72    12.0   29851.0       72  420.0  590.0\n",
       "       1          24    13.0    3033.0       24  400.0  560.0\n",
       "AR     0          68    18.0   21405.0       68  427.0  565.0\n",
       "       1          18    20.0    4485.0       18  495.0  600.0\n",
       "AS     0           1  1276.0    1276.0        1    NaN    NaN\n",
       "AZ     0         124     1.0  151558.0      124  503.0  580.0\n",
       "       1           9    25.0    4102.0        9  480.0  480.0\n",
       "CA     0         609     0.0   44744.0      609  445.0  785.0\n",
       "       1         164     8.0    6745.0      164  441.0  665.0\n",
       "CO     0         118     0.0   25873.0      118  424.0  680.0"
      ]
     },
     "execution_count": 170,
     "metadata": {},
     "output_type": "execute_result"
    }
   ],
   "source": [
    "# multiple grouping columns, multiple aggregated columns and multiple aggregation functions\n",
    "\n",
    "college.groupby(['STABBR', 'RELAFFIL'])['UGDS', 'SATMTMID'].agg(['size', 'min', 'max']).head(12)"
   ]
  },
  {
   "cell_type": "markdown",
   "metadata": {},
   "source": [
    "### Multiple levels for index and columns\n",
    "Both the **`index`** and the **`columns`** have multiple levels and are officially **`MultiIndex`** objects. More will be said on MultiIndex objects in another notebook.\n",
    "\n",
    "### Reset index\n",
    "\n",
    "All grouping columns are pushed into the index unless the argument **as_index** is False (although I've found this doesn't always work.) You can always use **`reset_index`** to convert the index to a column."
   ]
  },
  {
   "cell_type": "code",
   "execution_count": 912,
   "metadata": {
    "collapsed": false
   },
   "outputs": [
    {
     "data": {
      "text/plain": [
       "MultiIndex(levels=[['AK', 'AL', 'AR', 'AS', 'AZ', 'CA', 'CO', 'CT', 'DC', 'DE', 'FL', 'FM', 'GA', 'GU', 'HI', 'IA', 'ID', 'IL', 'IN', 'KS', 'KY', 'LA', 'MA', 'MD', 'ME', 'MH', 'MI', 'MN', 'MO', 'MP', 'MS', 'MT', 'NC', 'ND', 'NE', 'NH', 'NJ', 'NM', 'NV', 'NY', 'OH', 'OK', 'OR', 'PA', 'PR', 'PW', 'RI', 'SC', 'SD', 'TN', 'TX', 'UT', 'VA', 'VI', 'VT', 'WA', 'WI', 'WV', 'WY'], [0, 1]],\n",
       "           labels=[[0, 0, 1, 1, 2, 2, 3, 4, 4, 5, 5, 6], [0, 1, 0, 1, 0, 1, 0, 0, 1, 0, 1, 0]],\n",
       "           names=['STABBR', 'RELAFFIL'])"
      ]
     },
     "execution_count": 912,
     "metadata": {},
     "output_type": "execute_result"
    }
   ],
   "source": [
    "# save DataFrame from above\n",
    "temp = college.groupby(['STABBR', 'RELAFFIL'])['UGDS', 'SATMTMID'].agg(['size', 'min', 'max']).head(12)\n",
    "\n",
    "# inspect index\n",
    "temp.index"
   ]
  },
  {
   "cell_type": "code",
   "execution_count": 913,
   "metadata": {
    "collapsed": false
   },
   "outputs": [
    {
     "data": {
      "text/html": [
       "<div>\n",
       "<table border=\"1\" class=\"dataframe\">\n",
       "  <thead>\n",
       "    <tr>\n",
       "      <th></th>\n",
       "      <th>STABBR</th>\n",
       "      <th>RELAFFIL</th>\n",
       "      <th colspan=\"3\" halign=\"left\">UGDS</th>\n",
       "      <th colspan=\"3\" halign=\"left\">SATMTMID</th>\n",
       "    </tr>\n",
       "    <tr>\n",
       "      <th></th>\n",
       "      <th></th>\n",
       "      <th></th>\n",
       "      <th>size</th>\n",
       "      <th>min</th>\n",
       "      <th>max</th>\n",
       "      <th>size</th>\n",
       "      <th>min</th>\n",
       "      <th>max</th>\n",
       "    </tr>\n",
       "  </thead>\n",
       "  <tbody>\n",
       "    <tr>\n",
       "      <th>0</th>\n",
       "      <td>AK</td>\n",
       "      <td>0</td>\n",
       "      <td>7</td>\n",
       "      <td>109.0</td>\n",
       "      <td>12865.0</td>\n",
       "      <td>7</td>\n",
       "      <td>NaN</td>\n",
       "      <td>NaN</td>\n",
       "    </tr>\n",
       "    <tr>\n",
       "      <th>1</th>\n",
       "      <td>AK</td>\n",
       "      <td>1</td>\n",
       "      <td>3</td>\n",
       "      <td>27.0</td>\n",
       "      <td>275.0</td>\n",
       "      <td>3</td>\n",
       "      <td>503.0</td>\n",
       "      <td>503.0</td>\n",
       "    </tr>\n",
       "    <tr>\n",
       "      <th>2</th>\n",
       "      <td>AL</td>\n",
       "      <td>0</td>\n",
       "      <td>72</td>\n",
       "      <td>12.0</td>\n",
       "      <td>29851.0</td>\n",
       "      <td>72</td>\n",
       "      <td>420.0</td>\n",
       "      <td>590.0</td>\n",
       "    </tr>\n",
       "    <tr>\n",
       "      <th>3</th>\n",
       "      <td>AL</td>\n",
       "      <td>1</td>\n",
       "      <td>24</td>\n",
       "      <td>13.0</td>\n",
       "      <td>3033.0</td>\n",
       "      <td>24</td>\n",
       "      <td>400.0</td>\n",
       "      <td>560.0</td>\n",
       "    </tr>\n",
       "    <tr>\n",
       "      <th>4</th>\n",
       "      <td>AR</td>\n",
       "      <td>0</td>\n",
       "      <td>68</td>\n",
       "      <td>18.0</td>\n",
       "      <td>21405.0</td>\n",
       "      <td>68</td>\n",
       "      <td>427.0</td>\n",
       "      <td>565.0</td>\n",
       "    </tr>\n",
       "    <tr>\n",
       "      <th>5</th>\n",
       "      <td>AR</td>\n",
       "      <td>1</td>\n",
       "      <td>18</td>\n",
       "      <td>20.0</td>\n",
       "      <td>4485.0</td>\n",
       "      <td>18</td>\n",
       "      <td>495.0</td>\n",
       "      <td>600.0</td>\n",
       "    </tr>\n",
       "    <tr>\n",
       "      <th>6</th>\n",
       "      <td>AS</td>\n",
       "      <td>0</td>\n",
       "      <td>1</td>\n",
       "      <td>1276.0</td>\n",
       "      <td>1276.0</td>\n",
       "      <td>1</td>\n",
       "      <td>NaN</td>\n",
       "      <td>NaN</td>\n",
       "    </tr>\n",
       "    <tr>\n",
       "      <th>7</th>\n",
       "      <td>AZ</td>\n",
       "      <td>0</td>\n",
       "      <td>124</td>\n",
       "      <td>1.0</td>\n",
       "      <td>151558.0</td>\n",
       "      <td>124</td>\n",
       "      <td>503.0</td>\n",
       "      <td>580.0</td>\n",
       "    </tr>\n",
       "    <tr>\n",
       "      <th>8</th>\n",
       "      <td>AZ</td>\n",
       "      <td>1</td>\n",
       "      <td>9</td>\n",
       "      <td>25.0</td>\n",
       "      <td>4102.0</td>\n",
       "      <td>9</td>\n",
       "      <td>480.0</td>\n",
       "      <td>480.0</td>\n",
       "    </tr>\n",
       "    <tr>\n",
       "      <th>9</th>\n",
       "      <td>CA</td>\n",
       "      <td>0</td>\n",
       "      <td>609</td>\n",
       "      <td>0.0</td>\n",
       "      <td>44744.0</td>\n",
       "      <td>609</td>\n",
       "      <td>445.0</td>\n",
       "      <td>785.0</td>\n",
       "    </tr>\n",
       "    <tr>\n",
       "      <th>10</th>\n",
       "      <td>CA</td>\n",
       "      <td>1</td>\n",
       "      <td>164</td>\n",
       "      <td>8.0</td>\n",
       "      <td>6745.0</td>\n",
       "      <td>164</td>\n",
       "      <td>441.0</td>\n",
       "      <td>665.0</td>\n",
       "    </tr>\n",
       "    <tr>\n",
       "      <th>11</th>\n",
       "      <td>CO</td>\n",
       "      <td>0</td>\n",
       "      <td>118</td>\n",
       "      <td>0.0</td>\n",
       "      <td>25873.0</td>\n",
       "      <td>118</td>\n",
       "      <td>424.0</td>\n",
       "      <td>680.0</td>\n",
       "    </tr>\n",
       "  </tbody>\n",
       "</table>\n",
       "</div>"
      ],
      "text/plain": [
       "   STABBR RELAFFIL UGDS                   SATMTMID              \n",
       "                   size     min       max     size    min    max\n",
       "0      AK        0    7   109.0   12865.0        7    NaN    NaN\n",
       "1      AK        1    3    27.0     275.0        3  503.0  503.0\n",
       "2      AL        0   72    12.0   29851.0       72  420.0  590.0\n",
       "3      AL        1   24    13.0    3033.0       24  400.0  560.0\n",
       "4      AR        0   68    18.0   21405.0       68  427.0  565.0\n",
       "5      AR        1   18    20.0    4485.0       18  495.0  600.0\n",
       "6      AS        0    1  1276.0    1276.0        1    NaN    NaN\n",
       "7      AZ        0  124     1.0  151558.0      124  503.0  580.0\n",
       "8      AZ        1    9    25.0    4102.0        9  480.0  480.0\n",
       "9      CA        0  609     0.0   44744.0      609  445.0  785.0\n",
       "10     CA        1  164     8.0    6745.0      164  441.0  665.0\n",
       "11     CO        0  118     0.0   25873.0      118  424.0  680.0"
      ]
     },
     "execution_count": 913,
     "metadata": {},
     "output_type": "execute_result"
    }
   ],
   "source": [
    "# move the index back out as columns\n",
    "temp.reset_index()"
   ]
  },
  {
   "cell_type": "markdown",
   "metadata": {},
   "source": [
    "# End of Section Summary\n",
    "\n",
    "1. Be familiar with the split-apply-combine methodology\n",
    "2. Know that a groupby object is returned from the groupby function\n",
    "3. The most common thing to do is aggregate after a groupby\n",
    "4. Aggregate means to return a single value\n",
    "5. It's possible to aggregate with **`.agg`** alias as **`.aggregate`** or just directly using the method name\n",
    "6. When using **`.agg`** the name of the aggregating function can be in quotes\n",
    "7. Use multiple aggregate functions with a list or a dictionary\n",
    "8. Use multiple grouping columns with a list\n",
    "9. Use a dictionary of dictionaries to specify different aggregation functions and rename result\n",
    "10. Use **`droplevel`** method to remove a level of a hierarchical index"
   ]
  },
  {
   "cell_type": "code",
   "execution_count": 48,
   "metadata": {
    "collapsed": false
   },
   "outputs": [
    {
     "data": {
      "text/plain": [
       "Index(['CITY', 'HBCU', 'DISTANCEONLY', 'UGDS_BLACK', 'CURROPER', 'PCTPELL',\n",
       "       'PCTFLOAN'],\n",
       "      dtype='object')"
      ]
     },
     "execution_count": 48,
     "metadata": {},
     "output_type": "execute_result"
    }
   ],
   "source": [
    "college = pd.read_csv('data/college.csv')\n",
    "college.columns[college.columns.str.contains('C')]"
   ]
  },
  {
   "cell_type": "markdown",
   "metadata": {},
   "source": [
    "### Problem 1\n",
    "<span  style=\"color:green; font-size:16px\">In the **`college`** DataFrame without using a groupby, which city name appears the most frequently?</span>"
   ]
  },
  {
   "cell_type": "code",
   "execution_count": 15,
   "metadata": {
    "collapsed": false
   },
   "outputs": [
    {
     "data": {
      "text/plain": [
       "'New York'"
      ]
     },
     "execution_count": 15,
     "metadata": {},
     "output_type": "execute_result"
    }
   ],
   "source": [
    "import pandas as pd\n",
    "import numpy as np\n",
    "\n",
    "college = pd.read_csv('data/college.csv')\n",
    "college['CITY'].value_counts().index[0]\n"
   ]
  },
  {
   "cell_type": "markdown",
   "metadata": {},
   "source": [
    "### Problem 2\n",
    "<span  style=\"color:green; font-size:16px\">Does the city **`Houston`** only appear in the state of **`Texas`**?</span>"
   ]
  },
  {
   "cell_type": "code",
   "execution_count": 23,
   "metadata": {
    "collapsed": false
   },
   "outputs": [
    {
     "data": {
      "text/plain": [
       "array(['TX', 'MO'], dtype=object)"
      ]
     },
     "execution_count": 23,
     "metadata": {},
     "output_type": "execute_result"
    }
   ],
   "source": [
    "college.loc[college.CITY == \"Houston\",\"STABBR\"].unique()"
   ]
  },
  {
   "cell_type": "markdown",
   "metadata": {},
   "source": [
    "### Problem 3\n",
    "<span  style=\"color:green; font-size:16px\">Find the maximum undergraduate population for each state?</span>"
   ]
  },
  {
   "cell_type": "code",
   "execution_count": 26,
   "metadata": {
    "collapsed": false
   },
   "outputs": [
    {
     "data": {
      "text/html": [
       "<div>\n",
       "<table border=\"1\" class=\"dataframe\">\n",
       "  <thead>\n",
       "    <tr style=\"text-align: right;\">\n",
       "      <th></th>\n",
       "      <th>amax</th>\n",
       "    </tr>\n",
       "    <tr>\n",
       "      <th>STABBR</th>\n",
       "      <th></th>\n",
       "    </tr>\n",
       "  </thead>\n",
       "  <tbody>\n",
       "    <tr>\n",
       "      <th>AK</th>\n",
       "      <td>12865.0</td>\n",
       "    </tr>\n",
       "    <tr>\n",
       "      <th>AL</th>\n",
       "      <td>29851.0</td>\n",
       "    </tr>\n",
       "    <tr>\n",
       "      <th>AR</th>\n",
       "      <td>21405.0</td>\n",
       "    </tr>\n",
       "    <tr>\n",
       "      <th>AS</th>\n",
       "      <td>1276.0</td>\n",
       "    </tr>\n",
       "    <tr>\n",
       "      <th>AZ</th>\n",
       "      <td>151558.0</td>\n",
       "    </tr>\n",
       "  </tbody>\n",
       "</table>\n",
       "</div>"
      ],
      "text/plain": [
       "            amax\n",
       "STABBR          \n",
       "AK       12865.0\n",
       "AL       29851.0\n",
       "AR       21405.0\n",
       "AS        1276.0\n",
       "AZ      151558.0"
      ]
     },
     "execution_count": 26,
     "metadata": {},
     "output_type": "execute_result"
    }
   ],
   "source": [
    "college.groupby('STABBR')['UGDS'].agg([np.max]).head(5)"
   ]
  },
  {
   "cell_type": "markdown",
   "metadata": {},
   "source": [
    "### Problem 4\n",
    "<span  style=\"color:green; font-size:16px\">Among colleges that have the largest undergrad population for each state, what is the difference between the most and least populous college?</span>"
   ]
  },
  {
   "cell_type": "code",
   "execution_count": 68,
   "metadata": {
    "collapsed": false
   },
   "outputs": [
    {
     "data": {
      "text/plain": [
       "amax    602.0\n",
       "dtype: float64"
      ]
     },
     "execution_count": 68,
     "metadata": {},
     "output_type": "execute_result"
    }
   ],
   "source": [
    "totaldiff = college.groupby('STABBR')['UGDS'].agg([np.max]).max() - college.groupby('STABBR')['UGDS'].agg([np.max]).min()\n",
    "totaldiff"
   ]
  },
  {
   "cell_type": "markdown",
   "metadata": {},
   "source": [
    "### Problem 5: Advanced\n",
    "<span  style=\"color:green; font-size:16px\">Find the name and population of the largest college per state.</span>"
   ]
  },
  {
   "cell_type": "code",
   "execution_count": 73,
   "metadata": {
    "collapsed": false
   },
   "outputs": [
    {
     "data": {
      "text/html": [
       "<div>\n",
       "<table border=\"1\" class=\"dataframe\">\n",
       "  <thead>\n",
       "    <tr style=\"text-align: right;\">\n",
       "      <th></th>\n",
       "      <th>INSTNM</th>\n",
       "      <th>UGDS</th>\n",
       "    </tr>\n",
       "  </thead>\n",
       "  <tbody>\n",
       "    <tr>\n",
       "      <th>60</th>\n",
       "      <td>University of Alaska Anchorage</td>\n",
       "      <td>12865.0</td>\n",
       "    </tr>\n",
       "    <tr>\n",
       "      <th>5</th>\n",
       "      <td>The University of Alabama</td>\n",
       "      <td>29851.0</td>\n",
       "    </tr>\n",
       "    <tr>\n",
       "      <th>137</th>\n",
       "      <td>University of Arkansas</td>\n",
       "      <td>21405.0</td>\n",
       "    </tr>\n",
       "    <tr>\n",
       "      <th>4138</th>\n",
       "      <td>American Samoa Community College</td>\n",
       "      <td>1276.0</td>\n",
       "    </tr>\n",
       "    <tr>\n",
       "      <th>7116</th>\n",
       "      <td>University of Phoenix-Arizona</td>\n",
       "      <td>151558.0</td>\n",
       "    </tr>\n",
       "  </tbody>\n",
       "</table>\n",
       "</div>"
      ],
      "text/plain": [
       "                                INSTNM      UGDS\n",
       "60      University of Alaska Anchorage   12865.0\n",
       "5            The University of Alabama   29851.0\n",
       "137             University of Arkansas   21405.0\n",
       "4138  American Samoa Community College    1276.0\n",
       "7116     University of Phoenix-Arizona  151558.0"
      ]
     },
     "execution_count": 73,
     "metadata": {},
     "output_type": "execute_result"
    }
   ],
   "source": [
    "# first way\n",
    "group = college.groupby('STABBR')['UGDS']\n",
    "s = group.nlargest(1)\n",
    "college.loc[s.index.get_level_values(1),['INSTNM','UGDS']].head(5)\n"
   ]
  },
  {
   "cell_type": "code",
   "execution_count": 72,
   "metadata": {
    "collapsed": false
   },
   "outputs": [
    {
     "data": {
      "text/html": [
       "<div>\n",
       "<table border=\"1\" class=\"dataframe\">\n",
       "  <thead>\n",
       "    <tr style=\"text-align: right;\">\n",
       "      <th></th>\n",
       "      <th>STABBR</th>\n",
       "      <th>UGDS</th>\n",
       "    </tr>\n",
       "    <tr>\n",
       "      <th>INSTNM</th>\n",
       "      <th></th>\n",
       "      <th></th>\n",
       "    </tr>\n",
       "  </thead>\n",
       "  <tbody>\n",
       "    <tr>\n",
       "      <th>University of Alaska Anchorage</th>\n",
       "      <td>AK</td>\n",
       "      <td>12865.0</td>\n",
       "    </tr>\n",
       "    <tr>\n",
       "      <th>The University of Alabama</th>\n",
       "      <td>AL</td>\n",
       "      <td>29851.0</td>\n",
       "    </tr>\n",
       "    <tr>\n",
       "      <th>University of Arkansas</th>\n",
       "      <td>AR</td>\n",
       "      <td>21405.0</td>\n",
       "    </tr>\n",
       "    <tr>\n",
       "      <th>American Samoa Community College</th>\n",
       "      <td>AS</td>\n",
       "      <td>1276.0</td>\n",
       "    </tr>\n",
       "    <tr>\n",
       "      <th>University of Phoenix-Arizona</th>\n",
       "      <td>AZ</td>\n",
       "      <td>151558.0</td>\n",
       "    </tr>\n",
       "  </tbody>\n",
       "</table>\n",
       "</div>"
      ],
      "text/plain": [
       "                                 STABBR      UGDS\n",
       "INSTNM                                           \n",
       "University of Alaska Anchorage       AK   12865.0\n",
       "The University of Alabama            AL   29851.0\n",
       "University of Arkansas               AR   21405.0\n",
       "American Samoa Community College     AS    1276.0\n",
       "University of Phoenix-Arizona        AZ  151558.0"
      ]
     },
     "execution_count": 72,
     "metadata": {},
     "output_type": "execute_result"
    }
   ],
   "source": [
    "# second way\n",
    "college_instm = college.set_index('INSTNM')[['STABBR', 'UGDS']]\n",
    "max_colleges = college_instm.groupby('STABBR')['UGDS'].idxmax()\n",
    "college_instm.loc[max_colleges].head(5)"
   ]
  },
  {
   "cell_type": "markdown",
   "metadata": {},
   "source": [
    "### Problem 6\n",
    "<span  style=\"color:green; font-size:16px\">Do distance only schools tend to have more or less student population than non-distance-only schools?</span>"
   ]
  },
  {
   "cell_type": "code",
   "execution_count": 83,
   "metadata": {
    "collapsed": false
   },
   "outputs": [
    {
     "data": {
      "text/html": [
       "<div>\n",
       "<table border=\"1\" class=\"dataframe\">\n",
       "  <thead>\n",
       "    <tr style=\"text-align: right;\">\n",
       "      <th></th>\n",
       "      <th>mean</th>\n",
       "    </tr>\n",
       "    <tr>\n",
       "      <th>DISTANCEONLY</th>\n",
       "      <th></th>\n",
       "    </tr>\n",
       "  </thead>\n",
       "  <tbody>\n",
       "    <tr>\n",
       "      <th>0.0</th>\n",
       "      <td>2334.648135</td>\n",
       "    </tr>\n",
       "    <tr>\n",
       "      <th>1.0</th>\n",
       "      <td>6245.743590</td>\n",
       "    </tr>\n",
       "  </tbody>\n",
       "</table>\n",
       "</div>"
      ],
      "text/plain": [
       "                     mean\n",
       "DISTANCEONLY             \n",
       "0.0           2334.648135\n",
       "1.0           6245.743590"
      ]
     },
     "execution_count": 83,
     "metadata": {},
     "output_type": "execute_result"
    }
   ],
   "source": [
    "college.columns[college.columns.str.contains('REL')]\n",
    "college.groupby(['DISTANCEONLY'])['UGDS'].agg([np.mean])"
   ]
  },
  {
   "cell_type": "markdown",
   "metadata": {},
   "source": [
    "### Problem 7\n",
    "<span  style=\"color:green; font-size:16px\">Do distance only schools tend to be more or less religously affiliated than non-distance-only schools?</span>"
   ]
  },
  {
   "cell_type": "code",
   "execution_count": 85,
   "metadata": {
    "collapsed": false
   },
   "outputs": [
    {
     "data": {
      "text/html": [
       "<div>\n",
       "<table border=\"1\" class=\"dataframe\">\n",
       "  <thead>\n",
       "    <tr style=\"text-align: right;\">\n",
       "      <th></th>\n",
       "      <th>mean</th>\n",
       "    </tr>\n",
       "    <tr>\n",
       "      <th>DISTANCEONLY</th>\n",
       "      <th></th>\n",
       "    </tr>\n",
       "  </thead>\n",
       "  <tbody>\n",
       "    <tr>\n",
       "      <th>0.0</th>\n",
       "      <td>0.149635</td>\n",
       "    </tr>\n",
       "    <tr>\n",
       "      <th>1.0</th>\n",
       "      <td>0.050000</td>\n",
       "    </tr>\n",
       "  </tbody>\n",
       "</table>\n",
       "</div>"
      ],
      "text/plain": [
       "                  mean\n",
       "DISTANCEONLY          \n",
       "0.0           0.149635\n",
       "1.0           0.050000"
      ]
     },
     "execution_count": 85,
     "metadata": {},
     "output_type": "execute_result"
    }
   ],
   "source": [
    "college.columns[college.columns.str.contains('REL')]\n",
    "college.groupby(['DISTANCEONLY'])['RELAFFIL'].agg([np.mean])"
   ]
  },
  {
   "cell_type": "markdown",
   "metadata": {},
   "source": [
    "### Problem 8\n",
    "<span  style=\"color:green; font-size:16px\">What state has the highest percentage of currently operating schools of those that have religious affiliation?</span>"
   ]
  },
  {
   "cell_type": "code",
   "execution_count": 127,
   "metadata": {
    "collapsed": false
   },
   "outputs": [
    {
     "data": {
      "text/plain": [
       "STABBR\n",
       "VI    0.500000\n",
       "IN    0.406667\n",
       "GU    0.333333\n",
       "DC    0.320000\n",
       "IA    0.314607\n",
       "Name: RELAFFIL, dtype: float64"
      ]
     },
     "execution_count": 127,
     "metadata": {},
     "output_type": "execute_result"
    }
   ],
   "source": [
    "# your code here\n",
    "cr = college[college['CURROPER'] == 1]\n",
    "\n",
    "# Utah. Answer makes sense.\n",
    "cr.groupby(['STABBR'])['RELAFFIL'].mean().sort_values(ascending = False).head(5)\n"
   ]
  },
  {
   "cell_type": "markdown",
   "metadata": {},
   "source": [
    "### Problem 9: Advanced\n",
    "<span  style=\"color:green; font-size:16px\">Trim the **`college`** DataFrame to only the 'race' columns - those beginning with **`UGDS_`**. Create a new column called **`UGDS_OTHER`** that is the sum of any race column that averages under 4% for the entire dataset.</span>"
   ]
  },
  {
   "cell_type": "code",
   "execution_count": 192,
   "metadata": {
    "collapsed": false
   },
   "outputs": [],
   "source": [
    "ctrim = college.loc[:, college.columns[college.columns.str.contains('UGDS_')]]"
   ]
  },
  {
   "cell_type": "code",
   "execution_count": 193,
   "metadata": {
    "collapsed": false
   },
   "outputs": [
    {
     "data": {
      "text/plain": [
       "Index(['UGDS_ASIAN', 'UGDS_AIAN', 'UGDS_NHPI', 'UGDS_2MOR', 'UGDS_NRA'], dtype='object')"
      ]
     },
     "execution_count": 193,
     "metadata": {},
     "output_type": "execute_result"
    }
   ],
   "source": [
    "minoritycols = ctrim.columns[ctrim.mean() < .04]\n",
    "minoritycols"
   ]
  },
  {
   "cell_type": "code",
   "execution_count": 194,
   "metadata": {
    "collapsed": false
   },
   "outputs": [
    {
     "data": {
      "text/html": [
       "<div>\n",
       "<table border=\"1\" class=\"dataframe\">\n",
       "  <thead>\n",
       "    <tr style=\"text-align: right;\">\n",
       "      <th></th>\n",
       "      <th>UGDS_WHITE</th>\n",
       "      <th>UGDS_BLACK</th>\n",
       "      <th>UGDS_HISP</th>\n",
       "      <th>UGDS_ASIAN</th>\n",
       "      <th>UGDS_AIAN</th>\n",
       "      <th>UGDS_NHPI</th>\n",
       "      <th>UGDS_2MOR</th>\n",
       "      <th>UGDS_NRA</th>\n",
       "      <th>UGDS_UNKN</th>\n",
       "      <th>UGDS_OTHER</th>\n",
       "    </tr>\n",
       "  </thead>\n",
       "  <tbody>\n",
       "    <tr>\n",
       "      <th>0</th>\n",
       "      <td>0.0333</td>\n",
       "      <td>0.9353</td>\n",
       "      <td>0.0055</td>\n",
       "      <td>0.0019</td>\n",
       "      <td>0.0024</td>\n",
       "      <td>0.0019</td>\n",
       "      <td>0.0000</td>\n",
       "      <td>0.0059</td>\n",
       "      <td>0.0138</td>\n",
       "      <td>0.0121</td>\n",
       "    </tr>\n",
       "    <tr>\n",
       "      <th>1</th>\n",
       "      <td>0.5922</td>\n",
       "      <td>0.2600</td>\n",
       "      <td>0.0283</td>\n",
       "      <td>0.0518</td>\n",
       "      <td>0.0022</td>\n",
       "      <td>0.0007</td>\n",
       "      <td>0.0368</td>\n",
       "      <td>0.0179</td>\n",
       "      <td>0.0100</td>\n",
       "      <td>0.1094</td>\n",
       "    </tr>\n",
       "    <tr>\n",
       "      <th>2</th>\n",
       "      <td>0.2990</td>\n",
       "      <td>0.4192</td>\n",
       "      <td>0.0069</td>\n",
       "      <td>0.0034</td>\n",
       "      <td>0.0000</td>\n",
       "      <td>0.0000</td>\n",
       "      <td>0.0000</td>\n",
       "      <td>0.0000</td>\n",
       "      <td>0.2715</td>\n",
       "      <td>0.0034</td>\n",
       "    </tr>\n",
       "    <tr>\n",
       "      <th>3</th>\n",
       "      <td>0.6988</td>\n",
       "      <td>0.1255</td>\n",
       "      <td>0.0382</td>\n",
       "      <td>0.0376</td>\n",
       "      <td>0.0143</td>\n",
       "      <td>0.0002</td>\n",
       "      <td>0.0172</td>\n",
       "      <td>0.0332</td>\n",
       "      <td>0.0350</td>\n",
       "      <td>0.1025</td>\n",
       "    </tr>\n",
       "    <tr>\n",
       "      <th>4</th>\n",
       "      <td>0.0158</td>\n",
       "      <td>0.9208</td>\n",
       "      <td>0.0121</td>\n",
       "      <td>0.0019</td>\n",
       "      <td>0.0010</td>\n",
       "      <td>0.0006</td>\n",
       "      <td>0.0098</td>\n",
       "      <td>0.0243</td>\n",
       "      <td>0.0137</td>\n",
       "      <td>0.0376</td>\n",
       "    </tr>\n",
       "    <tr>\n",
       "      <th>5</th>\n",
       "      <td>0.7825</td>\n",
       "      <td>0.1119</td>\n",
       "      <td>0.0348</td>\n",
       "      <td>0.0106</td>\n",
       "      <td>0.0038</td>\n",
       "      <td>0.0009</td>\n",
       "      <td>0.0261</td>\n",
       "      <td>0.0268</td>\n",
       "      <td>0.0026</td>\n",
       "      <td>0.0682</td>\n",
       "    </tr>\n",
       "    <tr>\n",
       "      <th>6</th>\n",
       "      <td>0.7255</td>\n",
       "      <td>0.2613</td>\n",
       "      <td>0.0044</td>\n",
       "      <td>0.0025</td>\n",
       "      <td>0.0044</td>\n",
       "      <td>0.0000</td>\n",
       "      <td>0.0000</td>\n",
       "      <td>0.0000</td>\n",
       "      <td>0.0019</td>\n",
       "      <td>0.0069</td>\n",
       "    </tr>\n",
       "    <tr>\n",
       "      <th>7</th>\n",
       "      <td>0.7823</td>\n",
       "      <td>0.1200</td>\n",
       "      <td>0.0191</td>\n",
       "      <td>0.0053</td>\n",
       "      <td>0.0157</td>\n",
       "      <td>0.0010</td>\n",
       "      <td>0.0174</td>\n",
       "      <td>0.0057</td>\n",
       "      <td>0.0334</td>\n",
       "      <td>0.0451</td>\n",
       "    </tr>\n",
       "    <tr>\n",
       "      <th>8</th>\n",
       "      <td>0.5328</td>\n",
       "      <td>0.3376</td>\n",
       "      <td>0.0074</td>\n",
       "      <td>0.0221</td>\n",
       "      <td>0.0044</td>\n",
       "      <td>0.0016</td>\n",
       "      <td>0.0297</td>\n",
       "      <td>0.0397</td>\n",
       "      <td>0.0246</td>\n",
       "      <td>0.0975</td>\n",
       "    </tr>\n",
       "    <tr>\n",
       "      <th>9</th>\n",
       "      <td>0.8507</td>\n",
       "      <td>0.0704</td>\n",
       "      <td>0.0248</td>\n",
       "      <td>0.0227</td>\n",
       "      <td>0.0074</td>\n",
       "      <td>0.0000</td>\n",
       "      <td>0.0000</td>\n",
       "      <td>0.0100</td>\n",
       "      <td>0.0140</td>\n",
       "      <td>0.0401</td>\n",
       "    </tr>\n",
       "  </tbody>\n",
       "</table>\n",
       "</div>"
      ],
      "text/plain": [
       "   UGDS_WHITE  UGDS_BLACK  UGDS_HISP  UGDS_ASIAN  UGDS_AIAN  UGDS_NHPI  \\\n",
       "0      0.0333      0.9353     0.0055      0.0019     0.0024     0.0019   \n",
       "1      0.5922      0.2600     0.0283      0.0518     0.0022     0.0007   \n",
       "2      0.2990      0.4192     0.0069      0.0034     0.0000     0.0000   \n",
       "3      0.6988      0.1255     0.0382      0.0376     0.0143     0.0002   \n",
       "4      0.0158      0.9208     0.0121      0.0019     0.0010     0.0006   \n",
       "5      0.7825      0.1119     0.0348      0.0106     0.0038     0.0009   \n",
       "6      0.7255      0.2613     0.0044      0.0025     0.0044     0.0000   \n",
       "7      0.7823      0.1200     0.0191      0.0053     0.0157     0.0010   \n",
       "8      0.5328      0.3376     0.0074      0.0221     0.0044     0.0016   \n",
       "9      0.8507      0.0704     0.0248      0.0227     0.0074     0.0000   \n",
       "\n",
       "   UGDS_2MOR  UGDS_NRA  UGDS_UNKN  UGDS_OTHER  \n",
       "0     0.0000    0.0059     0.0138      0.0121  \n",
       "1     0.0368    0.0179     0.0100      0.1094  \n",
       "2     0.0000    0.0000     0.2715      0.0034  \n",
       "3     0.0172    0.0332     0.0350      0.1025  \n",
       "4     0.0098    0.0243     0.0137      0.0376  \n",
       "5     0.0261    0.0268     0.0026      0.0682  \n",
       "6     0.0000    0.0000     0.0019      0.0069  \n",
       "7     0.0174    0.0057     0.0334      0.0451  \n",
       "8     0.0297    0.0397     0.0246      0.0975  \n",
       "9     0.0000    0.0100     0.0140      0.0401  "
      ]
     },
     "execution_count": 194,
     "metadata": {},
     "output_type": "execute_result"
    }
   ],
   "source": [
    "ctrim['UGDS_OTHER'] = ctrim[minoritycols].sum(axis=1)\n",
    "ctrim.head(10)"
   ]
  },
  {
   "cell_type": "markdown",
   "metadata": {},
   "source": [
    "### Problem 10\n",
    "<span  style=\"color:green; font-size:16px\">Use the column **`UG25ABV`** and the **`quantile`** Series function to get 5 evenly spaced quantiles (use 6 numbers). Use this output to create a categorical variable using the **`cut`** function and label the bins Youngest, Young, Average, Old, Oldest and assign it to the **`AGEGROUP`** column.\n",
    "\n",
    "Then find the average SAT math scores by AGEGROUP. Any surprising result?</span>"
   ]
  },
  {
   "cell_type": "code",
   "execution_count": 208,
   "metadata": {
    "collapsed": false
   },
   "outputs": [
    {
     "data": {
      "text/plain": [
       "0       0.1049\n",
       "1       0.2422\n",
       "2       0.8540\n",
       "3       0.2640\n",
       "4       0.1270\n",
       "5       0.0853\n",
       "6       0.3153\n",
       "7       0.6410\n",
       "8       0.2930\n",
       "9       0.0415\n",
       "10      0.0152\n",
       "11      0.3876\n",
       "12      0.2367\n",
       "13      0.5726\n",
       "14      0.3399\n",
       "15      0.2909\n",
       "16      0.4589\n",
       "17      0.3733\n",
       "18      0.3933\n",
       "19      0.3920\n",
       "20      0.3229\n",
       "21      0.3318\n",
       "22      0.7813\n",
       "23      0.1937\n",
       "24      0.5942\n",
       "25      0.4555\n",
       "26      0.2200\n",
       "27      0.4060\n",
       "28      0.3671\n",
       "29      0.3688\n",
       "         ...  \n",
       "7505       NaN\n",
       "7506       NaN\n",
       "7507       NaN\n",
       "7508       NaN\n",
       "7509       NaN\n",
       "7510       NaN\n",
       "7511       NaN\n",
       "7512       NaN\n",
       "7513       NaN\n",
       "7514       NaN\n",
       "7515       NaN\n",
       "7516       NaN\n",
       "7517       NaN\n",
       "7518       NaN\n",
       "7519       NaN\n",
       "7520       NaN\n",
       "7521       NaN\n",
       "7522       NaN\n",
       "7523       NaN\n",
       "7524       NaN\n",
       "7525       NaN\n",
       "7526       NaN\n",
       "7527       NaN\n",
       "7528       NaN\n",
       "7529       NaN\n",
       "7530       NaN\n",
       "7531       NaN\n",
       "7532       NaN\n",
       "7533       NaN\n",
       "7534       NaN\n",
       "Name: UG25ABV, dtype: float64"
      ]
     },
     "execution_count": 208,
     "metadata": {},
     "output_type": "execute_result"
    }
   ],
   "source": [
    "quants = college.UG25ABV.quantile([0, .2, .4, .6, .8, 1])\n",
    "college['AGEGROUP'] = pd.cut(college.UG25ABV, quants, labels=['Youngest', 'Young', 'Average', 'Old', 'Oldest'])\n",
    "college.groupby('AGEGROUP')['SATMTMID'].mean()"
   ]
  },
  {
   "cell_type": "markdown",
   "metadata": {},
   "source": [
    "### Problem 11\n",
    "<span  style=\"color:green; font-size:16px\">Which are top 5 historically black colleges that have the highest white percentage?</span>"
   ]
  },
  {
   "cell_type": "code",
   "execution_count": 197,
   "metadata": {
    "collapsed": false
   },
   "outputs": [
    {
     "data": {
      "text/html": [
       "<div>\n",
       "<table border=\"1\" class=\"dataframe\">\n",
       "  <thead>\n",
       "    <tr style=\"text-align: right;\">\n",
       "      <th></th>\n",
       "      <th>INSTNM</th>\n",
       "      <th>UGDS_WHITE</th>\n",
       "    </tr>\n",
       "  </thead>\n",
       "  <tbody>\n",
       "    <tr>\n",
       "      <th>4021</th>\n",
       "      <td>Bluefield State College</td>\n",
       "      <td>0.8437</td>\n",
       "    </tr>\n",
       "    <tr>\n",
       "      <th>17</th>\n",
       "      <td>Gadsden State Community College</td>\n",
       "      <td>0.6921</td>\n",
       "    </tr>\n",
       "    <tr>\n",
       "      <th>4050</th>\n",
       "      <td>West Virginia State University</td>\n",
       "      <td>0.5816</td>\n",
       "    </tr>\n",
       "    <tr>\n",
       "      <th>48</th>\n",
       "      <td>Shelton State Community College</td>\n",
       "      <td>0.5613</td>\n",
       "    </tr>\n",
       "    <tr>\n",
       "      <th>55</th>\n",
       "      <td>H Councill Trenholm State Community College</td>\n",
       "      <td>0.3951</td>\n",
       "    </tr>\n",
       "  </tbody>\n",
       "</table>\n",
       "</div>"
      ],
      "text/plain": [
       "                                           INSTNM  UGDS_WHITE\n",
       "4021                      Bluefield State College      0.8437\n",
       "17                Gadsden State Community College      0.6921\n",
       "4050               West Virginia State University      0.5816\n",
       "48                Shelton State Community College      0.5613\n",
       "55    H Councill Trenholm State Community College      0.3951"
      ]
     },
     "execution_count": 197,
     "metadata": {},
     "output_type": "execute_result"
    }
   ],
   "source": [
    "college.loc[college.HBCU == 1, ['INSTNM', 'UGDS_WHITE']].sort_values('UGDS_WHITE', ascending=False).head()"
   ]
  },
  {
   "cell_type": "markdown",
   "metadata": {},
   "source": [
    "### Problem 12: Advanced\n",
    "<span  style=\"color:green; font-size:16px\">Again make a DataFrame of all the race percentage columns. Read the documentation on the **`mul`** DataFrame method and use it to multiply the race percentage DataFrame to get an actual population of each race.</span>"
   ]
  },
  {
   "cell_type": "code",
   "execution_count": 205,
   "metadata": {
    "collapsed": false
   },
   "outputs": [
    {
     "data": {
      "text/html": [
       "<div>\n",
       "<table border=\"1\" class=\"dataframe\">\n",
       "  <thead>\n",
       "    <tr style=\"text-align: right;\">\n",
       "      <th></th>\n",
       "      <th>UGDS_WHITE</th>\n",
       "      <th>UGDS_BLACK</th>\n",
       "      <th>UGDS_HISP</th>\n",
       "      <th>UGDS_ASIAN</th>\n",
       "      <th>UGDS_AIAN</th>\n",
       "      <th>UGDS_NHPI</th>\n",
       "      <th>UGDS_2MOR</th>\n",
       "      <th>UGDS_NRA</th>\n",
       "      <th>UGDS_UNKN</th>\n",
       "    </tr>\n",
       "  </thead>\n",
       "  <tbody>\n",
       "    <tr>\n",
       "      <th>0</th>\n",
       "      <td>140.0</td>\n",
       "      <td>3934.0</td>\n",
       "      <td>23.0</td>\n",
       "      <td>8.0</td>\n",
       "      <td>10.0</td>\n",
       "      <td>8.0</td>\n",
       "      <td>0.0</td>\n",
       "      <td>25.0</td>\n",
       "      <td>58.0</td>\n",
       "    </tr>\n",
       "    <tr>\n",
       "      <th>1</th>\n",
       "      <td>6741.0</td>\n",
       "      <td>2960.0</td>\n",
       "      <td>322.0</td>\n",
       "      <td>590.0</td>\n",
       "      <td>25.0</td>\n",
       "      <td>8.0</td>\n",
       "      <td>419.0</td>\n",
       "      <td>204.0</td>\n",
       "      <td>114.0</td>\n",
       "    </tr>\n",
       "    <tr>\n",
       "      <th>2</th>\n",
       "      <td>87.0</td>\n",
       "      <td>122.0</td>\n",
       "      <td>2.0</td>\n",
       "      <td>1.0</td>\n",
       "      <td>0.0</td>\n",
       "      <td>0.0</td>\n",
       "      <td>0.0</td>\n",
       "      <td>0.0</td>\n",
       "      <td>79.0</td>\n",
       "    </tr>\n",
       "    <tr>\n",
       "      <th>3</th>\n",
       "      <td>3809.0</td>\n",
       "      <td>684.0</td>\n",
       "      <td>208.0</td>\n",
       "      <td>205.0</td>\n",
       "      <td>78.0</td>\n",
       "      <td>1.0</td>\n",
       "      <td>94.0</td>\n",
       "      <td>181.0</td>\n",
       "      <td>191.0</td>\n",
       "    </tr>\n",
       "    <tr>\n",
       "      <th>4</th>\n",
       "      <td>76.0</td>\n",
       "      <td>4430.0</td>\n",
       "      <td>58.0</td>\n",
       "      <td>9.0</td>\n",
       "      <td>5.0</td>\n",
       "      <td>3.0</td>\n",
       "      <td>47.0</td>\n",
       "      <td>117.0</td>\n",
       "      <td>66.0</td>\n",
       "    </tr>\n",
       "  </tbody>\n",
       "</table>\n",
       "</div>"
      ],
      "text/plain": [
       "   UGDS_WHITE  UGDS_BLACK  UGDS_HISP  UGDS_ASIAN  UGDS_AIAN  UGDS_NHPI  \\\n",
       "0       140.0      3934.0       23.0         8.0       10.0        8.0   \n",
       "1      6741.0      2960.0      322.0       590.0       25.0        8.0   \n",
       "2        87.0       122.0        2.0         1.0        0.0        0.0   \n",
       "3      3809.0       684.0      208.0       205.0       78.0        1.0   \n",
       "4        76.0      4430.0       58.0         9.0        5.0        3.0   \n",
       "\n",
       "   UGDS_2MOR  UGDS_NRA  UGDS_UNKN  \n",
       "0        0.0      25.0       58.0  \n",
       "1      419.0     204.0      114.0  \n",
       "2        0.0       0.0       79.0  \n",
       "3       94.0     181.0      191.0  \n",
       "4       47.0     117.0       66.0  "
      ]
     },
     "execution_count": 205,
     "metadata": {},
     "output_type": "execute_result"
    }
   ],
   "source": [
    "df_race = college.filter(like='UGDS_')\n",
    "df_race.mul(college['UGDS'], axis=0).round(0).head(5) # not in place\n"
   ]
  },
  {
   "cell_type": "code",
   "execution_count": null,
   "metadata": {
    "collapsed": true
   },
   "outputs": [],
   "source": []
  }
 ],
 "metadata": {
  "anaconda-cloud": {},
  "kernelspec": {
   "display_name": "Python 3",
   "language": "python",
   "name": "python3"
  },
  "language_info": {
   "codemirror_mode": {
    "name": "ipython",
    "version": 3
   },
   "file_extension": ".py",
   "mimetype": "text/x-python",
   "name": "python",
   "nbconvert_exporter": "python",
   "pygments_lexer": "ipython3",
   "version": "3.6.0"
  }
 },
 "nbformat": 4,
 "nbformat_minor": 0
}
